{
  "cells": [
    {
      "cell_type": "code",
      "metadata": {
        "tags": [],
        "cell_id": "00000-e1ffc2fe-4194-498d-b7bf-68006947d6c4",
        "deepnote_to_be_reexecuted": false,
        "source_hash": "d535ac71",
        "execution_millis": 41,
        "execution_start": 1615384675945,
        "deepnote_cell_type": "code"
      },
      "source": "\nimport matplotlib.pyplot as plt\nimport numpy as np\nimport pandas as pd\nimport torch\nimport torch.nn.functional as F\nfrom sklearn.linear_model import LogisticRegression\nfrom sklearn.model_selection import train_test_split\n\n# Turn warnings off for notebook publication\nimport warnings\nwarnings.filterwarnings(\"ignore\")\n\n\ndata = 'https://raw.githubusercontent.com/trojrobert/Classification-of-heart-disease-uci-data-/master/heart.csv'\ndf = pd.read_csv(data)",
      "execution_count": null,
      "outputs": []
    },
    {
      "cell_type": "code",
      "metadata": {
        "tags": [],
        "cell_id": "00001-95cf99ac-bd98-4d5f-b4f9-6e8d459c4ce5",
        "deepnote_to_be_reexecuted": false,
        "source_hash": "c085b6ba",
        "execution_millis": 55,
        "execution_start": 1615384676654,
        "deepnote_cell_type": "code"
      },
      "source": "df.head()",
      "execution_count": null,
      "outputs": [
        {
          "output_type": "execute_result",
          "execution_count": 85,
          "data": {
            "application/vnd.deepnote.dataframe.v2+json": {
              "row_count": 5,
              "column_count": 14,
              "columns": [
                {
                  "name": "age",
                  "dtype": "int64",
                  "stats": {
                    "unique_count": 5,
                    "nan_count": 0,
                    "min": 37,
                    "max": 63,
                    "histogram": [
                      {
                        "bin_start": 37,
                        "bin_end": 39.6,
                        "count": 1
                      },
                      {
                        "bin_start": 39.6,
                        "bin_end": 42.2,
                        "count": 1
                      },
                      {
                        "bin_start": 42.2,
                        "bin_end": 44.8,
                        "count": 0
                      },
                      {
                        "bin_start": 44.8,
                        "bin_end": 47.4,
                        "count": 0
                      },
                      {
                        "bin_start": 47.4,
                        "bin_end": 50,
                        "count": 0
                      },
                      {
                        "bin_start": 50,
                        "bin_end": 52.6,
                        "count": 0
                      },
                      {
                        "bin_start": 52.6,
                        "bin_end": 55.2,
                        "count": 0
                      },
                      {
                        "bin_start": 55.2,
                        "bin_end": 57.8,
                        "count": 2
                      },
                      {
                        "bin_start": 57.8,
                        "bin_end": 60.400000000000006,
                        "count": 0
                      },
                      {
                        "bin_start": 60.400000000000006,
                        "bin_end": 63,
                        "count": 1
                      }
                    ]
                  }
                },
                {
                  "name": "sex",
                  "dtype": "int64",
                  "stats": {
                    "unique_count": 2,
                    "nan_count": 0,
                    "min": 0,
                    "max": 1,
                    "histogram": [
                      {
                        "bin_start": 0,
                        "bin_end": 0.1,
                        "count": 2
                      },
                      {
                        "bin_start": 0.1,
                        "bin_end": 0.2,
                        "count": 0
                      },
                      {
                        "bin_start": 0.2,
                        "bin_end": 0.30000000000000004,
                        "count": 0
                      },
                      {
                        "bin_start": 0.30000000000000004,
                        "bin_end": 0.4,
                        "count": 0
                      },
                      {
                        "bin_start": 0.4,
                        "bin_end": 0.5,
                        "count": 0
                      },
                      {
                        "bin_start": 0.5,
                        "bin_end": 0.6000000000000001,
                        "count": 0
                      },
                      {
                        "bin_start": 0.6000000000000001,
                        "bin_end": 0.7000000000000001,
                        "count": 0
                      },
                      {
                        "bin_start": 0.7000000000000001,
                        "bin_end": 0.8,
                        "count": 0
                      },
                      {
                        "bin_start": 0.8,
                        "bin_end": 0.9,
                        "count": 0
                      },
                      {
                        "bin_start": 0.9,
                        "bin_end": 1,
                        "count": 3
                      }
                    ]
                  }
                },
                {
                  "name": "cp",
                  "dtype": "int64",
                  "stats": {
                    "unique_count": 4,
                    "nan_count": 0,
                    "min": 0,
                    "max": 3,
                    "histogram": [
                      {
                        "bin_start": 0,
                        "bin_end": 0.3,
                        "count": 1
                      },
                      {
                        "bin_start": 0.3,
                        "bin_end": 0.6,
                        "count": 0
                      },
                      {
                        "bin_start": 0.6,
                        "bin_end": 0.8999999999999999,
                        "count": 0
                      },
                      {
                        "bin_start": 0.8999999999999999,
                        "bin_end": 1.2,
                        "count": 2
                      },
                      {
                        "bin_start": 1.2,
                        "bin_end": 1.5,
                        "count": 0
                      },
                      {
                        "bin_start": 1.5,
                        "bin_end": 1.7999999999999998,
                        "count": 0
                      },
                      {
                        "bin_start": 1.7999999999999998,
                        "bin_end": 2.1,
                        "count": 1
                      },
                      {
                        "bin_start": 2.1,
                        "bin_end": 2.4,
                        "count": 0
                      },
                      {
                        "bin_start": 2.4,
                        "bin_end": 2.6999999999999997,
                        "count": 0
                      },
                      {
                        "bin_start": 2.6999999999999997,
                        "bin_end": 3,
                        "count": 1
                      }
                    ]
                  }
                },
                {
                  "name": "trestbps",
                  "dtype": "int64",
                  "stats": {
                    "unique_count": 3,
                    "nan_count": 0,
                    "min": 120,
                    "max": 145,
                    "histogram": [
                      {
                        "bin_start": 120,
                        "bin_end": 122.5,
                        "count": 2
                      },
                      {
                        "bin_start": 122.5,
                        "bin_end": 125,
                        "count": 0
                      },
                      {
                        "bin_start": 125,
                        "bin_end": 127.5,
                        "count": 0
                      },
                      {
                        "bin_start": 127.5,
                        "bin_end": 130,
                        "count": 0
                      },
                      {
                        "bin_start": 130,
                        "bin_end": 132.5,
                        "count": 2
                      },
                      {
                        "bin_start": 132.5,
                        "bin_end": 135,
                        "count": 0
                      },
                      {
                        "bin_start": 135,
                        "bin_end": 137.5,
                        "count": 0
                      },
                      {
                        "bin_start": 137.5,
                        "bin_end": 140,
                        "count": 0
                      },
                      {
                        "bin_start": 140,
                        "bin_end": 142.5,
                        "count": 0
                      },
                      {
                        "bin_start": 142.5,
                        "bin_end": 145,
                        "count": 1
                      }
                    ]
                  }
                },
                {
                  "name": "chol",
                  "dtype": "int64",
                  "stats": {
                    "unique_count": 5,
                    "nan_count": 0,
                    "min": 204,
                    "max": 354,
                    "histogram": [
                      {
                        "bin_start": 204,
                        "bin_end": 219,
                        "count": 1
                      },
                      {
                        "bin_start": 219,
                        "bin_end": 234,
                        "count": 1
                      },
                      {
                        "bin_start": 234,
                        "bin_end": 249,
                        "count": 1
                      },
                      {
                        "bin_start": 249,
                        "bin_end": 264,
                        "count": 1
                      },
                      {
                        "bin_start": 264,
                        "bin_end": 279,
                        "count": 0
                      },
                      {
                        "bin_start": 279,
                        "bin_end": 294,
                        "count": 0
                      },
                      {
                        "bin_start": 294,
                        "bin_end": 309,
                        "count": 0
                      },
                      {
                        "bin_start": 309,
                        "bin_end": 324,
                        "count": 0
                      },
                      {
                        "bin_start": 324,
                        "bin_end": 339,
                        "count": 0
                      },
                      {
                        "bin_start": 339,
                        "bin_end": 354,
                        "count": 1
                      }
                    ]
                  }
                },
                {
                  "name": "fbs",
                  "dtype": "int64",
                  "stats": {
                    "unique_count": 2,
                    "nan_count": 0,
                    "min": 0,
                    "max": 1,
                    "histogram": [
                      {
                        "bin_start": 0,
                        "bin_end": 0.1,
                        "count": 4
                      },
                      {
                        "bin_start": 0.1,
                        "bin_end": 0.2,
                        "count": 0
                      },
                      {
                        "bin_start": 0.2,
                        "bin_end": 0.30000000000000004,
                        "count": 0
                      },
                      {
                        "bin_start": 0.30000000000000004,
                        "bin_end": 0.4,
                        "count": 0
                      },
                      {
                        "bin_start": 0.4,
                        "bin_end": 0.5,
                        "count": 0
                      },
                      {
                        "bin_start": 0.5,
                        "bin_end": 0.6000000000000001,
                        "count": 0
                      },
                      {
                        "bin_start": 0.6000000000000001,
                        "bin_end": 0.7000000000000001,
                        "count": 0
                      },
                      {
                        "bin_start": 0.7000000000000001,
                        "bin_end": 0.8,
                        "count": 0
                      },
                      {
                        "bin_start": 0.8,
                        "bin_end": 0.9,
                        "count": 0
                      },
                      {
                        "bin_start": 0.9,
                        "bin_end": 1,
                        "count": 1
                      }
                    ]
                  }
                },
                {
                  "name": "restecg",
                  "dtype": "int64",
                  "stats": {
                    "unique_count": 2,
                    "nan_count": 0,
                    "min": 0,
                    "max": 1,
                    "histogram": [
                      {
                        "bin_start": 0,
                        "bin_end": 0.1,
                        "count": 2
                      },
                      {
                        "bin_start": 0.1,
                        "bin_end": 0.2,
                        "count": 0
                      },
                      {
                        "bin_start": 0.2,
                        "bin_end": 0.30000000000000004,
                        "count": 0
                      },
                      {
                        "bin_start": 0.30000000000000004,
                        "bin_end": 0.4,
                        "count": 0
                      },
                      {
                        "bin_start": 0.4,
                        "bin_end": 0.5,
                        "count": 0
                      },
                      {
                        "bin_start": 0.5,
                        "bin_end": 0.6000000000000001,
                        "count": 0
                      },
                      {
                        "bin_start": 0.6000000000000001,
                        "bin_end": 0.7000000000000001,
                        "count": 0
                      },
                      {
                        "bin_start": 0.7000000000000001,
                        "bin_end": 0.8,
                        "count": 0
                      },
                      {
                        "bin_start": 0.8,
                        "bin_end": 0.9,
                        "count": 0
                      },
                      {
                        "bin_start": 0.9,
                        "bin_end": 1,
                        "count": 3
                      }
                    ]
                  }
                },
                {
                  "name": "thalach",
                  "dtype": "int64",
                  "stats": {
                    "unique_count": 5,
                    "nan_count": 0,
                    "min": 150,
                    "max": 187,
                    "histogram": [
                      {
                        "bin_start": 150,
                        "bin_end": 153.7,
                        "count": 1
                      },
                      {
                        "bin_start": 153.7,
                        "bin_end": 157.4,
                        "count": 0
                      },
                      {
                        "bin_start": 157.4,
                        "bin_end": 161.1,
                        "count": 0
                      },
                      {
                        "bin_start": 161.1,
                        "bin_end": 164.8,
                        "count": 1
                      },
                      {
                        "bin_start": 164.8,
                        "bin_end": 168.5,
                        "count": 0
                      },
                      {
                        "bin_start": 168.5,
                        "bin_end": 172.2,
                        "count": 1
                      },
                      {
                        "bin_start": 172.2,
                        "bin_end": 175.9,
                        "count": 0
                      },
                      {
                        "bin_start": 175.9,
                        "bin_end": 179.6,
                        "count": 1
                      },
                      {
                        "bin_start": 179.6,
                        "bin_end": 183.3,
                        "count": 0
                      },
                      {
                        "bin_start": 183.3,
                        "bin_end": 187,
                        "count": 1
                      }
                    ]
                  }
                },
                {
                  "name": "exang",
                  "dtype": "int64",
                  "stats": {
                    "unique_count": 2,
                    "nan_count": 0,
                    "min": 0,
                    "max": 1,
                    "histogram": [
                      {
                        "bin_start": 0,
                        "bin_end": 0.1,
                        "count": 4
                      },
                      {
                        "bin_start": 0.1,
                        "bin_end": 0.2,
                        "count": 0
                      },
                      {
                        "bin_start": 0.2,
                        "bin_end": 0.30000000000000004,
                        "count": 0
                      },
                      {
                        "bin_start": 0.30000000000000004,
                        "bin_end": 0.4,
                        "count": 0
                      },
                      {
                        "bin_start": 0.4,
                        "bin_end": 0.5,
                        "count": 0
                      },
                      {
                        "bin_start": 0.5,
                        "bin_end": 0.6000000000000001,
                        "count": 0
                      },
                      {
                        "bin_start": 0.6000000000000001,
                        "bin_end": 0.7000000000000001,
                        "count": 0
                      },
                      {
                        "bin_start": 0.7000000000000001,
                        "bin_end": 0.8,
                        "count": 0
                      },
                      {
                        "bin_start": 0.8,
                        "bin_end": 0.9,
                        "count": 0
                      },
                      {
                        "bin_start": 0.9,
                        "bin_end": 1,
                        "count": 1
                      }
                    ]
                  }
                },
                {
                  "name": "oldpeak",
                  "dtype": "float64",
                  "stats": {
                    "unique_count": 5,
                    "nan_count": 0,
                    "min": 0.6,
                    "max": 3.5,
                    "histogram": [
                      {
                        "bin_start": 0.6,
                        "bin_end": 0.8899999999999999,
                        "count": 2
                      },
                      {
                        "bin_start": 0.8899999999999999,
                        "bin_end": 1.18,
                        "count": 0
                      },
                      {
                        "bin_start": 1.18,
                        "bin_end": 1.4699999999999998,
                        "count": 1
                      },
                      {
                        "bin_start": 1.4699999999999998,
                        "bin_end": 1.7599999999999998,
                        "count": 0
                      },
                      {
                        "bin_start": 1.7599999999999998,
                        "bin_end": 2.05,
                        "count": 0
                      },
                      {
                        "bin_start": 2.05,
                        "bin_end": 2.34,
                        "count": 1
                      },
                      {
                        "bin_start": 2.34,
                        "bin_end": 2.63,
                        "count": 0
                      },
                      {
                        "bin_start": 2.63,
                        "bin_end": 2.92,
                        "count": 0
                      },
                      {
                        "bin_start": 2.92,
                        "bin_end": 3.21,
                        "count": 0
                      },
                      {
                        "bin_start": 3.21,
                        "bin_end": 3.5,
                        "count": 1
                      }
                    ]
                  }
                },
                {
                  "name": "slope",
                  "dtype": "int64",
                  "stats": {
                    "unique_count": 2,
                    "nan_count": 0,
                    "min": 0,
                    "max": 2,
                    "histogram": [
                      {
                        "bin_start": 0,
                        "bin_end": 0.2,
                        "count": 2
                      },
                      {
                        "bin_start": 0.2,
                        "bin_end": 0.4,
                        "count": 0
                      },
                      {
                        "bin_start": 0.4,
                        "bin_end": 0.6000000000000001,
                        "count": 0
                      },
                      {
                        "bin_start": 0.6000000000000001,
                        "bin_end": 0.8,
                        "count": 0
                      },
                      {
                        "bin_start": 0.8,
                        "bin_end": 1,
                        "count": 0
                      },
                      {
                        "bin_start": 1,
                        "bin_end": 1.2000000000000002,
                        "count": 0
                      },
                      {
                        "bin_start": 1.2000000000000002,
                        "bin_end": 1.4000000000000001,
                        "count": 0
                      },
                      {
                        "bin_start": 1.4000000000000001,
                        "bin_end": 1.6,
                        "count": 0
                      },
                      {
                        "bin_start": 1.6,
                        "bin_end": 1.8,
                        "count": 0
                      },
                      {
                        "bin_start": 1.8,
                        "bin_end": 2,
                        "count": 3
                      }
                    ]
                  }
                },
                {
                  "name": "ca",
                  "dtype": "int64",
                  "stats": {
                    "unique_count": 1,
                    "nan_count": 0,
                    "min": 0,
                    "max": 0,
                    "histogram": [
                      {
                        "bin_start": -0.5,
                        "bin_end": -0.4,
                        "count": 0
                      },
                      {
                        "bin_start": -0.4,
                        "bin_end": -0.3,
                        "count": 0
                      },
                      {
                        "bin_start": -0.3,
                        "bin_end": -0.19999999999999996,
                        "count": 0
                      },
                      {
                        "bin_start": -0.19999999999999996,
                        "bin_end": -0.09999999999999998,
                        "count": 0
                      },
                      {
                        "bin_start": -0.09999999999999998,
                        "bin_end": 0,
                        "count": 0
                      },
                      {
                        "bin_start": 0,
                        "bin_end": 0.10000000000000009,
                        "count": 5
                      },
                      {
                        "bin_start": 0.10000000000000009,
                        "bin_end": 0.20000000000000007,
                        "count": 0
                      },
                      {
                        "bin_start": 0.20000000000000007,
                        "bin_end": 0.30000000000000004,
                        "count": 0
                      },
                      {
                        "bin_start": 0.30000000000000004,
                        "bin_end": 0.4,
                        "count": 0
                      },
                      {
                        "bin_start": 0.4,
                        "bin_end": 0.5,
                        "count": 0
                      }
                    ]
                  }
                },
                {
                  "name": "thal",
                  "dtype": "int64",
                  "stats": {
                    "unique_count": 2,
                    "nan_count": 0,
                    "min": 1,
                    "max": 2,
                    "histogram": [
                      {
                        "bin_start": 1,
                        "bin_end": 1.1,
                        "count": 1
                      },
                      {
                        "bin_start": 1.1,
                        "bin_end": 1.2,
                        "count": 0
                      },
                      {
                        "bin_start": 1.2,
                        "bin_end": 1.3,
                        "count": 0
                      },
                      {
                        "bin_start": 1.3,
                        "bin_end": 1.4,
                        "count": 0
                      },
                      {
                        "bin_start": 1.4,
                        "bin_end": 1.5,
                        "count": 0
                      },
                      {
                        "bin_start": 1.5,
                        "bin_end": 1.6,
                        "count": 0
                      },
                      {
                        "bin_start": 1.6,
                        "bin_end": 1.7000000000000002,
                        "count": 0
                      },
                      {
                        "bin_start": 1.7000000000000002,
                        "bin_end": 1.8,
                        "count": 0
                      },
                      {
                        "bin_start": 1.8,
                        "bin_end": 1.9,
                        "count": 0
                      },
                      {
                        "bin_start": 1.9,
                        "bin_end": 2,
                        "count": 4
                      }
                    ]
                  }
                },
                {
                  "name": "target",
                  "dtype": "int64",
                  "stats": {
                    "unique_count": 1,
                    "nan_count": 0,
                    "min": 1,
                    "max": 1,
                    "histogram": [
                      {
                        "bin_start": 0.5,
                        "bin_end": 0.6,
                        "count": 0
                      },
                      {
                        "bin_start": 0.6,
                        "bin_end": 0.7,
                        "count": 0
                      },
                      {
                        "bin_start": 0.7,
                        "bin_end": 0.8,
                        "count": 0
                      },
                      {
                        "bin_start": 0.8,
                        "bin_end": 0.9,
                        "count": 0
                      },
                      {
                        "bin_start": 0.9,
                        "bin_end": 1,
                        "count": 0
                      },
                      {
                        "bin_start": 1,
                        "bin_end": 1.1,
                        "count": 5
                      },
                      {
                        "bin_start": 1.1,
                        "bin_end": 1.2000000000000002,
                        "count": 0
                      },
                      {
                        "bin_start": 1.2000000000000002,
                        "bin_end": 1.3,
                        "count": 0
                      },
                      {
                        "bin_start": 1.3,
                        "bin_end": 1.4,
                        "count": 0
                      },
                      {
                        "bin_start": 1.4,
                        "bin_end": 1.5,
                        "count": 0
                      }
                    ]
                  }
                },
                {
                  "name": "_deepnote_index_column",
                  "dtype": "int64"
                }
              ],
              "rows_top": [
                {
                  "age": 63,
                  "sex": 1,
                  "cp": 3,
                  "trestbps": 145,
                  "chol": 233,
                  "fbs": 1,
                  "restecg": 0,
                  "thalach": 150,
                  "exang": 0,
                  "oldpeak": 2.3,
                  "slope": 0,
                  "ca": 0,
                  "thal": 1,
                  "target": 1,
                  "_deepnote_index_column": 0
                },
                {
                  "age": 37,
                  "sex": 1,
                  "cp": 2,
                  "trestbps": 130,
                  "chol": 250,
                  "fbs": 0,
                  "restecg": 1,
                  "thalach": 187,
                  "exang": 0,
                  "oldpeak": 3.5,
                  "slope": 0,
                  "ca": 0,
                  "thal": 2,
                  "target": 1,
                  "_deepnote_index_column": 1
                },
                {
                  "age": 41,
                  "sex": 0,
                  "cp": 1,
                  "trestbps": 130,
                  "chol": 204,
                  "fbs": 0,
                  "restecg": 0,
                  "thalach": 172,
                  "exang": 0,
                  "oldpeak": 1.4,
                  "slope": 2,
                  "ca": 0,
                  "thal": 2,
                  "target": 1,
                  "_deepnote_index_column": 2
                },
                {
                  "age": 56,
                  "sex": 1,
                  "cp": 1,
                  "trestbps": 120,
                  "chol": 236,
                  "fbs": 0,
                  "restecg": 1,
                  "thalach": 178,
                  "exang": 0,
                  "oldpeak": 0.8,
                  "slope": 2,
                  "ca": 0,
                  "thal": 2,
                  "target": 1,
                  "_deepnote_index_column": 3
                },
                {
                  "age": 57,
                  "sex": 0,
                  "cp": 0,
                  "trestbps": 120,
                  "chol": 354,
                  "fbs": 0,
                  "restecg": 1,
                  "thalach": 163,
                  "exang": 1,
                  "oldpeak": 0.6,
                  "slope": 2,
                  "ca": 0,
                  "thal": 2,
                  "target": 1,
                  "_deepnote_index_column": 4
                }
              ],
              "rows_bottom": null
            },
            "text/plain": "   age  sex  cp  trestbps  chol  fbs  restecg  thalach  exang  oldpeak  slope  \\\n0   63    1   3       145   233    1        0      150      0      2.3      0   \n1   37    1   2       130   250    0        1      187      0      3.5      0   \n2   41    0   1       130   204    0        0      172      0      1.4      2   \n3   56    1   1       120   236    0        1      178      0      0.8      2   \n4   57    0   0       120   354    0        1      163      1      0.6      2   \n\n   ca  thal  target  \n0   0     1       1  \n1   0     2       1  \n2   0     2       1  \n3   0     2       1  \n4   0     2       1  ",
            "text/html": "<div>\n<style scoped>\n    .dataframe tbody tr th:only-of-type {\n        vertical-align: middle;\n    }\n\n    .dataframe tbody tr th {\n        vertical-align: top;\n    }\n\n    .dataframe thead th {\n        text-align: right;\n    }\n</style>\n<table border=\"1\" class=\"dataframe\">\n  <thead>\n    <tr style=\"text-align: right;\">\n      <th></th>\n      <th>age</th>\n      <th>sex</th>\n      <th>cp</th>\n      <th>trestbps</th>\n      <th>chol</th>\n      <th>fbs</th>\n      <th>restecg</th>\n      <th>thalach</th>\n      <th>exang</th>\n      <th>oldpeak</th>\n      <th>slope</th>\n      <th>ca</th>\n      <th>thal</th>\n      <th>target</th>\n    </tr>\n  </thead>\n  <tbody>\n    <tr>\n      <th>0</th>\n      <td>63</td>\n      <td>1</td>\n      <td>3</td>\n      <td>145</td>\n      <td>233</td>\n      <td>1</td>\n      <td>0</td>\n      <td>150</td>\n      <td>0</td>\n      <td>2.3</td>\n      <td>0</td>\n      <td>0</td>\n      <td>1</td>\n      <td>1</td>\n    </tr>\n    <tr>\n      <th>1</th>\n      <td>37</td>\n      <td>1</td>\n      <td>2</td>\n      <td>130</td>\n      <td>250</td>\n      <td>0</td>\n      <td>1</td>\n      <td>187</td>\n      <td>0</td>\n      <td>3.5</td>\n      <td>0</td>\n      <td>0</td>\n      <td>2</td>\n      <td>1</td>\n    </tr>\n    <tr>\n      <th>2</th>\n      <td>41</td>\n      <td>0</td>\n      <td>1</td>\n      <td>130</td>\n      <td>204</td>\n      <td>0</td>\n      <td>0</td>\n      <td>172</td>\n      <td>0</td>\n      <td>1.4</td>\n      <td>2</td>\n      <td>0</td>\n      <td>2</td>\n      <td>1</td>\n    </tr>\n    <tr>\n      <th>3</th>\n      <td>56</td>\n      <td>1</td>\n      <td>1</td>\n      <td>120</td>\n      <td>236</td>\n      <td>0</td>\n      <td>1</td>\n      <td>178</td>\n      <td>0</td>\n      <td>0.8</td>\n      <td>2</td>\n      <td>0</td>\n      <td>2</td>\n      <td>1</td>\n    </tr>\n    <tr>\n      <th>4</th>\n      <td>57</td>\n      <td>0</td>\n      <td>0</td>\n      <td>120</td>\n      <td>354</td>\n      <td>0</td>\n      <td>1</td>\n      <td>163</td>\n      <td>1</td>\n      <td>0.6</td>\n      <td>2</td>\n      <td>0</td>\n      <td>2</td>\n      <td>1</td>\n    </tr>\n  </tbody>\n</table>\n</div>"
          },
          "metadata": {}
        }
      ]
    },
    {
      "cell_type": "code",
      "metadata": {
        "tags": [],
        "cell_id": "00002-db90d965-49fd-4518-b0ca-9dc3522ece73",
        "deepnote_to_be_reexecuted": false,
        "source_hash": "e5f8aaed",
        "execution_millis": 81,
        "execution_start": 1615384677287,
        "deepnote_cell_type": "code"
      },
      "source": "#one hot encoding\n#obj_cols = ['cp', 'restecg', 'slope', 'ca', 'thal']\nobj_cols = ['cp', 'restecg', 'slope', 'ca']\nfor col in obj_cols:\n    #df[col]=df[col].apply(lambda x: 1 if  x != 0 else 0)\n    df = pd.get_dummies(df, columns=[col], prefix = [col])\ndf.head()",
      "execution_count": null,
      "outputs": [
        {
          "output_type": "execute_result",
          "execution_count": 86,
          "data": {
            "application/vnd.deepnote.dataframe.v2+json": {
              "row_count": 5,
              "column_count": 25,
              "columns": [
                {
                  "name": "age",
                  "dtype": "int64",
                  "stats": {
                    "unique_count": 5,
                    "nan_count": 0,
                    "min": 37,
                    "max": 63,
                    "histogram": [
                      {
                        "bin_start": 37,
                        "bin_end": 39.6,
                        "count": 1
                      },
                      {
                        "bin_start": 39.6,
                        "bin_end": 42.2,
                        "count": 1
                      },
                      {
                        "bin_start": 42.2,
                        "bin_end": 44.8,
                        "count": 0
                      },
                      {
                        "bin_start": 44.8,
                        "bin_end": 47.4,
                        "count": 0
                      },
                      {
                        "bin_start": 47.4,
                        "bin_end": 50,
                        "count": 0
                      },
                      {
                        "bin_start": 50,
                        "bin_end": 52.6,
                        "count": 0
                      },
                      {
                        "bin_start": 52.6,
                        "bin_end": 55.2,
                        "count": 0
                      },
                      {
                        "bin_start": 55.2,
                        "bin_end": 57.8,
                        "count": 2
                      },
                      {
                        "bin_start": 57.8,
                        "bin_end": 60.400000000000006,
                        "count": 0
                      },
                      {
                        "bin_start": 60.400000000000006,
                        "bin_end": 63,
                        "count": 1
                      }
                    ]
                  }
                },
                {
                  "name": "sex",
                  "dtype": "int64",
                  "stats": {
                    "unique_count": 2,
                    "nan_count": 0,
                    "min": 0,
                    "max": 1,
                    "histogram": [
                      {
                        "bin_start": 0,
                        "bin_end": 0.1,
                        "count": 2
                      },
                      {
                        "bin_start": 0.1,
                        "bin_end": 0.2,
                        "count": 0
                      },
                      {
                        "bin_start": 0.2,
                        "bin_end": 0.30000000000000004,
                        "count": 0
                      },
                      {
                        "bin_start": 0.30000000000000004,
                        "bin_end": 0.4,
                        "count": 0
                      },
                      {
                        "bin_start": 0.4,
                        "bin_end": 0.5,
                        "count": 0
                      },
                      {
                        "bin_start": 0.5,
                        "bin_end": 0.6000000000000001,
                        "count": 0
                      },
                      {
                        "bin_start": 0.6000000000000001,
                        "bin_end": 0.7000000000000001,
                        "count": 0
                      },
                      {
                        "bin_start": 0.7000000000000001,
                        "bin_end": 0.8,
                        "count": 0
                      },
                      {
                        "bin_start": 0.8,
                        "bin_end": 0.9,
                        "count": 0
                      },
                      {
                        "bin_start": 0.9,
                        "bin_end": 1,
                        "count": 3
                      }
                    ]
                  }
                },
                {
                  "name": "trestbps",
                  "dtype": "int64",
                  "stats": {
                    "unique_count": 3,
                    "nan_count": 0,
                    "min": 120,
                    "max": 145,
                    "histogram": [
                      {
                        "bin_start": 120,
                        "bin_end": 122.5,
                        "count": 2
                      },
                      {
                        "bin_start": 122.5,
                        "bin_end": 125,
                        "count": 0
                      },
                      {
                        "bin_start": 125,
                        "bin_end": 127.5,
                        "count": 0
                      },
                      {
                        "bin_start": 127.5,
                        "bin_end": 130,
                        "count": 0
                      },
                      {
                        "bin_start": 130,
                        "bin_end": 132.5,
                        "count": 2
                      },
                      {
                        "bin_start": 132.5,
                        "bin_end": 135,
                        "count": 0
                      },
                      {
                        "bin_start": 135,
                        "bin_end": 137.5,
                        "count": 0
                      },
                      {
                        "bin_start": 137.5,
                        "bin_end": 140,
                        "count": 0
                      },
                      {
                        "bin_start": 140,
                        "bin_end": 142.5,
                        "count": 0
                      },
                      {
                        "bin_start": 142.5,
                        "bin_end": 145,
                        "count": 1
                      }
                    ]
                  }
                },
                {
                  "name": "chol",
                  "dtype": "int64",
                  "stats": {
                    "unique_count": 5,
                    "nan_count": 0,
                    "min": 204,
                    "max": 354,
                    "histogram": [
                      {
                        "bin_start": 204,
                        "bin_end": 219,
                        "count": 1
                      },
                      {
                        "bin_start": 219,
                        "bin_end": 234,
                        "count": 1
                      },
                      {
                        "bin_start": 234,
                        "bin_end": 249,
                        "count": 1
                      },
                      {
                        "bin_start": 249,
                        "bin_end": 264,
                        "count": 1
                      },
                      {
                        "bin_start": 264,
                        "bin_end": 279,
                        "count": 0
                      },
                      {
                        "bin_start": 279,
                        "bin_end": 294,
                        "count": 0
                      },
                      {
                        "bin_start": 294,
                        "bin_end": 309,
                        "count": 0
                      },
                      {
                        "bin_start": 309,
                        "bin_end": 324,
                        "count": 0
                      },
                      {
                        "bin_start": 324,
                        "bin_end": 339,
                        "count": 0
                      },
                      {
                        "bin_start": 339,
                        "bin_end": 354,
                        "count": 1
                      }
                    ]
                  }
                },
                {
                  "name": "fbs",
                  "dtype": "int64",
                  "stats": {
                    "unique_count": 2,
                    "nan_count": 0,
                    "min": 0,
                    "max": 1,
                    "histogram": [
                      {
                        "bin_start": 0,
                        "bin_end": 0.1,
                        "count": 4
                      },
                      {
                        "bin_start": 0.1,
                        "bin_end": 0.2,
                        "count": 0
                      },
                      {
                        "bin_start": 0.2,
                        "bin_end": 0.30000000000000004,
                        "count": 0
                      },
                      {
                        "bin_start": 0.30000000000000004,
                        "bin_end": 0.4,
                        "count": 0
                      },
                      {
                        "bin_start": 0.4,
                        "bin_end": 0.5,
                        "count": 0
                      },
                      {
                        "bin_start": 0.5,
                        "bin_end": 0.6000000000000001,
                        "count": 0
                      },
                      {
                        "bin_start": 0.6000000000000001,
                        "bin_end": 0.7000000000000001,
                        "count": 0
                      },
                      {
                        "bin_start": 0.7000000000000001,
                        "bin_end": 0.8,
                        "count": 0
                      },
                      {
                        "bin_start": 0.8,
                        "bin_end": 0.9,
                        "count": 0
                      },
                      {
                        "bin_start": 0.9,
                        "bin_end": 1,
                        "count": 1
                      }
                    ]
                  }
                },
                {
                  "name": "thalach",
                  "dtype": "int64",
                  "stats": {
                    "unique_count": 5,
                    "nan_count": 0,
                    "min": 150,
                    "max": 187,
                    "histogram": [
                      {
                        "bin_start": 150,
                        "bin_end": 153.7,
                        "count": 1
                      },
                      {
                        "bin_start": 153.7,
                        "bin_end": 157.4,
                        "count": 0
                      },
                      {
                        "bin_start": 157.4,
                        "bin_end": 161.1,
                        "count": 0
                      },
                      {
                        "bin_start": 161.1,
                        "bin_end": 164.8,
                        "count": 1
                      },
                      {
                        "bin_start": 164.8,
                        "bin_end": 168.5,
                        "count": 0
                      },
                      {
                        "bin_start": 168.5,
                        "bin_end": 172.2,
                        "count": 1
                      },
                      {
                        "bin_start": 172.2,
                        "bin_end": 175.9,
                        "count": 0
                      },
                      {
                        "bin_start": 175.9,
                        "bin_end": 179.6,
                        "count": 1
                      },
                      {
                        "bin_start": 179.6,
                        "bin_end": 183.3,
                        "count": 0
                      },
                      {
                        "bin_start": 183.3,
                        "bin_end": 187,
                        "count": 1
                      }
                    ]
                  }
                },
                {
                  "name": "exang",
                  "dtype": "int64",
                  "stats": {
                    "unique_count": 2,
                    "nan_count": 0,
                    "min": 0,
                    "max": 1,
                    "histogram": [
                      {
                        "bin_start": 0,
                        "bin_end": 0.1,
                        "count": 4
                      },
                      {
                        "bin_start": 0.1,
                        "bin_end": 0.2,
                        "count": 0
                      },
                      {
                        "bin_start": 0.2,
                        "bin_end": 0.30000000000000004,
                        "count": 0
                      },
                      {
                        "bin_start": 0.30000000000000004,
                        "bin_end": 0.4,
                        "count": 0
                      },
                      {
                        "bin_start": 0.4,
                        "bin_end": 0.5,
                        "count": 0
                      },
                      {
                        "bin_start": 0.5,
                        "bin_end": 0.6000000000000001,
                        "count": 0
                      },
                      {
                        "bin_start": 0.6000000000000001,
                        "bin_end": 0.7000000000000001,
                        "count": 0
                      },
                      {
                        "bin_start": 0.7000000000000001,
                        "bin_end": 0.8,
                        "count": 0
                      },
                      {
                        "bin_start": 0.8,
                        "bin_end": 0.9,
                        "count": 0
                      },
                      {
                        "bin_start": 0.9,
                        "bin_end": 1,
                        "count": 1
                      }
                    ]
                  }
                },
                {
                  "name": "oldpeak",
                  "dtype": "float64",
                  "stats": {
                    "unique_count": 5,
                    "nan_count": 0,
                    "min": 0.6,
                    "max": 3.5,
                    "histogram": [
                      {
                        "bin_start": 0.6,
                        "bin_end": 0.8899999999999999,
                        "count": 2
                      },
                      {
                        "bin_start": 0.8899999999999999,
                        "bin_end": 1.18,
                        "count": 0
                      },
                      {
                        "bin_start": 1.18,
                        "bin_end": 1.4699999999999998,
                        "count": 1
                      },
                      {
                        "bin_start": 1.4699999999999998,
                        "bin_end": 1.7599999999999998,
                        "count": 0
                      },
                      {
                        "bin_start": 1.7599999999999998,
                        "bin_end": 2.05,
                        "count": 0
                      },
                      {
                        "bin_start": 2.05,
                        "bin_end": 2.34,
                        "count": 1
                      },
                      {
                        "bin_start": 2.34,
                        "bin_end": 2.63,
                        "count": 0
                      },
                      {
                        "bin_start": 2.63,
                        "bin_end": 2.92,
                        "count": 0
                      },
                      {
                        "bin_start": 2.92,
                        "bin_end": 3.21,
                        "count": 0
                      },
                      {
                        "bin_start": 3.21,
                        "bin_end": 3.5,
                        "count": 1
                      }
                    ]
                  }
                },
                {
                  "name": "thal",
                  "dtype": "int64",
                  "stats": {
                    "unique_count": 2,
                    "nan_count": 0,
                    "min": 1,
                    "max": 2,
                    "histogram": [
                      {
                        "bin_start": 1,
                        "bin_end": 1.1,
                        "count": 1
                      },
                      {
                        "bin_start": 1.1,
                        "bin_end": 1.2,
                        "count": 0
                      },
                      {
                        "bin_start": 1.2,
                        "bin_end": 1.3,
                        "count": 0
                      },
                      {
                        "bin_start": 1.3,
                        "bin_end": 1.4,
                        "count": 0
                      },
                      {
                        "bin_start": 1.4,
                        "bin_end": 1.5,
                        "count": 0
                      },
                      {
                        "bin_start": 1.5,
                        "bin_end": 1.6,
                        "count": 0
                      },
                      {
                        "bin_start": 1.6,
                        "bin_end": 1.7000000000000002,
                        "count": 0
                      },
                      {
                        "bin_start": 1.7000000000000002,
                        "bin_end": 1.8,
                        "count": 0
                      },
                      {
                        "bin_start": 1.8,
                        "bin_end": 1.9,
                        "count": 0
                      },
                      {
                        "bin_start": 1.9,
                        "bin_end": 2,
                        "count": 4
                      }
                    ]
                  }
                },
                {
                  "name": "target",
                  "dtype": "int64",
                  "stats": {
                    "unique_count": 1,
                    "nan_count": 0,
                    "min": 1,
                    "max": 1,
                    "histogram": [
                      {
                        "bin_start": 0.5,
                        "bin_end": 0.6,
                        "count": 0
                      },
                      {
                        "bin_start": 0.6,
                        "bin_end": 0.7,
                        "count": 0
                      },
                      {
                        "bin_start": 0.7,
                        "bin_end": 0.8,
                        "count": 0
                      },
                      {
                        "bin_start": 0.8,
                        "bin_end": 0.9,
                        "count": 0
                      },
                      {
                        "bin_start": 0.9,
                        "bin_end": 1,
                        "count": 0
                      },
                      {
                        "bin_start": 1,
                        "bin_end": 1.1,
                        "count": 5
                      },
                      {
                        "bin_start": 1.1,
                        "bin_end": 1.2000000000000002,
                        "count": 0
                      },
                      {
                        "bin_start": 1.2000000000000002,
                        "bin_end": 1.3,
                        "count": 0
                      },
                      {
                        "bin_start": 1.3,
                        "bin_end": 1.4,
                        "count": 0
                      },
                      {
                        "bin_start": 1.4,
                        "bin_end": 1.5,
                        "count": 0
                      }
                    ]
                  }
                },
                {
                  "name": "cp_0",
                  "dtype": "uint8",
                  "stats": {
                    "unique_count": 2,
                    "nan_count": 0,
                    "min": 0,
                    "max": 1,
                    "histogram": [
                      {
                        "bin_start": 0,
                        "bin_end": 0.1,
                        "count": 4
                      },
                      {
                        "bin_start": 0.1,
                        "bin_end": 0.2,
                        "count": 0
                      },
                      {
                        "bin_start": 0.2,
                        "bin_end": 0.30000000000000004,
                        "count": 0
                      },
                      {
                        "bin_start": 0.30000000000000004,
                        "bin_end": 0.4,
                        "count": 0
                      },
                      {
                        "bin_start": 0.4,
                        "bin_end": 0.5,
                        "count": 0
                      },
                      {
                        "bin_start": 0.5,
                        "bin_end": 0.6000000000000001,
                        "count": 0
                      },
                      {
                        "bin_start": 0.6000000000000001,
                        "bin_end": 0.7000000000000001,
                        "count": 0
                      },
                      {
                        "bin_start": 0.7000000000000001,
                        "bin_end": 0.8,
                        "count": 0
                      },
                      {
                        "bin_start": 0.8,
                        "bin_end": 0.9,
                        "count": 0
                      },
                      {
                        "bin_start": 0.9,
                        "bin_end": 1,
                        "count": 1
                      }
                    ]
                  }
                },
                {
                  "name": "cp_1",
                  "dtype": "uint8",
                  "stats": {
                    "unique_count": 2,
                    "nan_count": 0,
                    "min": 0,
                    "max": 1,
                    "histogram": [
                      {
                        "bin_start": 0,
                        "bin_end": 0.1,
                        "count": 3
                      },
                      {
                        "bin_start": 0.1,
                        "bin_end": 0.2,
                        "count": 0
                      },
                      {
                        "bin_start": 0.2,
                        "bin_end": 0.30000000000000004,
                        "count": 0
                      },
                      {
                        "bin_start": 0.30000000000000004,
                        "bin_end": 0.4,
                        "count": 0
                      },
                      {
                        "bin_start": 0.4,
                        "bin_end": 0.5,
                        "count": 0
                      },
                      {
                        "bin_start": 0.5,
                        "bin_end": 0.6000000000000001,
                        "count": 0
                      },
                      {
                        "bin_start": 0.6000000000000001,
                        "bin_end": 0.7000000000000001,
                        "count": 0
                      },
                      {
                        "bin_start": 0.7000000000000001,
                        "bin_end": 0.8,
                        "count": 0
                      },
                      {
                        "bin_start": 0.8,
                        "bin_end": 0.9,
                        "count": 0
                      },
                      {
                        "bin_start": 0.9,
                        "bin_end": 1,
                        "count": 2
                      }
                    ]
                  }
                },
                {
                  "name": "cp_2",
                  "dtype": "uint8",
                  "stats": {
                    "unique_count": 2,
                    "nan_count": 0,
                    "min": 0,
                    "max": 1,
                    "histogram": [
                      {
                        "bin_start": 0,
                        "bin_end": 0.1,
                        "count": 4
                      },
                      {
                        "bin_start": 0.1,
                        "bin_end": 0.2,
                        "count": 0
                      },
                      {
                        "bin_start": 0.2,
                        "bin_end": 0.30000000000000004,
                        "count": 0
                      },
                      {
                        "bin_start": 0.30000000000000004,
                        "bin_end": 0.4,
                        "count": 0
                      },
                      {
                        "bin_start": 0.4,
                        "bin_end": 0.5,
                        "count": 0
                      },
                      {
                        "bin_start": 0.5,
                        "bin_end": 0.6000000000000001,
                        "count": 0
                      },
                      {
                        "bin_start": 0.6000000000000001,
                        "bin_end": 0.7000000000000001,
                        "count": 0
                      },
                      {
                        "bin_start": 0.7000000000000001,
                        "bin_end": 0.8,
                        "count": 0
                      },
                      {
                        "bin_start": 0.8,
                        "bin_end": 0.9,
                        "count": 0
                      },
                      {
                        "bin_start": 0.9,
                        "bin_end": 1,
                        "count": 1
                      }
                    ]
                  }
                },
                {
                  "name": "cp_3",
                  "dtype": "uint8",
                  "stats": {
                    "unique_count": 2,
                    "nan_count": 0,
                    "min": 0,
                    "max": 1,
                    "histogram": [
                      {
                        "bin_start": 0,
                        "bin_end": 0.1,
                        "count": 4
                      },
                      {
                        "bin_start": 0.1,
                        "bin_end": 0.2,
                        "count": 0
                      },
                      {
                        "bin_start": 0.2,
                        "bin_end": 0.30000000000000004,
                        "count": 0
                      },
                      {
                        "bin_start": 0.30000000000000004,
                        "bin_end": 0.4,
                        "count": 0
                      },
                      {
                        "bin_start": 0.4,
                        "bin_end": 0.5,
                        "count": 0
                      },
                      {
                        "bin_start": 0.5,
                        "bin_end": 0.6000000000000001,
                        "count": 0
                      },
                      {
                        "bin_start": 0.6000000000000001,
                        "bin_end": 0.7000000000000001,
                        "count": 0
                      },
                      {
                        "bin_start": 0.7000000000000001,
                        "bin_end": 0.8,
                        "count": 0
                      },
                      {
                        "bin_start": 0.8,
                        "bin_end": 0.9,
                        "count": 0
                      },
                      {
                        "bin_start": 0.9,
                        "bin_end": 1,
                        "count": 1
                      }
                    ]
                  }
                },
                {
                  "name": "restecg_0",
                  "dtype": "uint8",
                  "stats": {
                    "unique_count": 2,
                    "nan_count": 0,
                    "min": 0,
                    "max": 1,
                    "histogram": [
                      {
                        "bin_start": 0,
                        "bin_end": 0.1,
                        "count": 3
                      },
                      {
                        "bin_start": 0.1,
                        "bin_end": 0.2,
                        "count": 0
                      },
                      {
                        "bin_start": 0.2,
                        "bin_end": 0.30000000000000004,
                        "count": 0
                      },
                      {
                        "bin_start": 0.30000000000000004,
                        "bin_end": 0.4,
                        "count": 0
                      },
                      {
                        "bin_start": 0.4,
                        "bin_end": 0.5,
                        "count": 0
                      },
                      {
                        "bin_start": 0.5,
                        "bin_end": 0.6000000000000001,
                        "count": 0
                      },
                      {
                        "bin_start": 0.6000000000000001,
                        "bin_end": 0.7000000000000001,
                        "count": 0
                      },
                      {
                        "bin_start": 0.7000000000000001,
                        "bin_end": 0.8,
                        "count": 0
                      },
                      {
                        "bin_start": 0.8,
                        "bin_end": 0.9,
                        "count": 0
                      },
                      {
                        "bin_start": 0.9,
                        "bin_end": 1,
                        "count": 2
                      }
                    ]
                  }
                },
                {
                  "name": "restecg_1",
                  "dtype": "uint8",
                  "stats": {
                    "unique_count": 2,
                    "nan_count": 0,
                    "min": 0,
                    "max": 1,
                    "histogram": [
                      {
                        "bin_start": 0,
                        "bin_end": 0.1,
                        "count": 2
                      },
                      {
                        "bin_start": 0.1,
                        "bin_end": 0.2,
                        "count": 0
                      },
                      {
                        "bin_start": 0.2,
                        "bin_end": 0.30000000000000004,
                        "count": 0
                      },
                      {
                        "bin_start": 0.30000000000000004,
                        "bin_end": 0.4,
                        "count": 0
                      },
                      {
                        "bin_start": 0.4,
                        "bin_end": 0.5,
                        "count": 0
                      },
                      {
                        "bin_start": 0.5,
                        "bin_end": 0.6000000000000001,
                        "count": 0
                      },
                      {
                        "bin_start": 0.6000000000000001,
                        "bin_end": 0.7000000000000001,
                        "count": 0
                      },
                      {
                        "bin_start": 0.7000000000000001,
                        "bin_end": 0.8,
                        "count": 0
                      },
                      {
                        "bin_start": 0.8,
                        "bin_end": 0.9,
                        "count": 0
                      },
                      {
                        "bin_start": 0.9,
                        "bin_end": 1,
                        "count": 3
                      }
                    ]
                  }
                },
                {
                  "name": "restecg_2",
                  "dtype": "uint8",
                  "stats": {
                    "unique_count": 1,
                    "nan_count": 0,
                    "min": 0,
                    "max": 0,
                    "histogram": [
                      {
                        "bin_start": -0.5,
                        "bin_end": -0.4,
                        "count": 0
                      },
                      {
                        "bin_start": -0.4,
                        "bin_end": -0.3,
                        "count": 0
                      },
                      {
                        "bin_start": -0.3,
                        "bin_end": -0.19999999999999996,
                        "count": 0
                      },
                      {
                        "bin_start": -0.19999999999999996,
                        "bin_end": -0.09999999999999998,
                        "count": 0
                      },
                      {
                        "bin_start": -0.09999999999999998,
                        "bin_end": 0,
                        "count": 0
                      },
                      {
                        "bin_start": 0,
                        "bin_end": 0.10000000000000009,
                        "count": 5
                      },
                      {
                        "bin_start": 0.10000000000000009,
                        "bin_end": 0.20000000000000007,
                        "count": 0
                      },
                      {
                        "bin_start": 0.20000000000000007,
                        "bin_end": 0.30000000000000004,
                        "count": 0
                      },
                      {
                        "bin_start": 0.30000000000000004,
                        "bin_end": 0.4,
                        "count": 0
                      },
                      {
                        "bin_start": 0.4,
                        "bin_end": 0.5,
                        "count": 0
                      }
                    ]
                  }
                },
                {
                  "name": "slope_0",
                  "dtype": "uint8",
                  "stats": {
                    "unique_count": 2,
                    "nan_count": 0,
                    "min": 0,
                    "max": 1,
                    "histogram": [
                      {
                        "bin_start": 0,
                        "bin_end": 0.1,
                        "count": 3
                      },
                      {
                        "bin_start": 0.1,
                        "bin_end": 0.2,
                        "count": 0
                      },
                      {
                        "bin_start": 0.2,
                        "bin_end": 0.30000000000000004,
                        "count": 0
                      },
                      {
                        "bin_start": 0.30000000000000004,
                        "bin_end": 0.4,
                        "count": 0
                      },
                      {
                        "bin_start": 0.4,
                        "bin_end": 0.5,
                        "count": 0
                      },
                      {
                        "bin_start": 0.5,
                        "bin_end": 0.6000000000000001,
                        "count": 0
                      },
                      {
                        "bin_start": 0.6000000000000001,
                        "bin_end": 0.7000000000000001,
                        "count": 0
                      },
                      {
                        "bin_start": 0.7000000000000001,
                        "bin_end": 0.8,
                        "count": 0
                      },
                      {
                        "bin_start": 0.8,
                        "bin_end": 0.9,
                        "count": 0
                      },
                      {
                        "bin_start": 0.9,
                        "bin_end": 1,
                        "count": 2
                      }
                    ]
                  }
                },
                {
                  "name": "slope_1",
                  "dtype": "uint8",
                  "stats": {
                    "unique_count": 1,
                    "nan_count": 0,
                    "min": 0,
                    "max": 0,
                    "histogram": [
                      {
                        "bin_start": -0.5,
                        "bin_end": -0.4,
                        "count": 0
                      },
                      {
                        "bin_start": -0.4,
                        "bin_end": -0.3,
                        "count": 0
                      },
                      {
                        "bin_start": -0.3,
                        "bin_end": -0.19999999999999996,
                        "count": 0
                      },
                      {
                        "bin_start": -0.19999999999999996,
                        "bin_end": -0.09999999999999998,
                        "count": 0
                      },
                      {
                        "bin_start": -0.09999999999999998,
                        "bin_end": 0,
                        "count": 0
                      },
                      {
                        "bin_start": 0,
                        "bin_end": 0.10000000000000009,
                        "count": 5
                      },
                      {
                        "bin_start": 0.10000000000000009,
                        "bin_end": 0.20000000000000007,
                        "count": 0
                      },
                      {
                        "bin_start": 0.20000000000000007,
                        "bin_end": 0.30000000000000004,
                        "count": 0
                      },
                      {
                        "bin_start": 0.30000000000000004,
                        "bin_end": 0.4,
                        "count": 0
                      },
                      {
                        "bin_start": 0.4,
                        "bin_end": 0.5,
                        "count": 0
                      }
                    ]
                  }
                },
                {
                  "name": "slope_2",
                  "dtype": "uint8",
                  "stats": {
                    "unique_count": 2,
                    "nan_count": 0,
                    "min": 0,
                    "max": 1,
                    "histogram": [
                      {
                        "bin_start": 0,
                        "bin_end": 0.1,
                        "count": 2
                      },
                      {
                        "bin_start": 0.1,
                        "bin_end": 0.2,
                        "count": 0
                      },
                      {
                        "bin_start": 0.2,
                        "bin_end": 0.30000000000000004,
                        "count": 0
                      },
                      {
                        "bin_start": 0.30000000000000004,
                        "bin_end": 0.4,
                        "count": 0
                      },
                      {
                        "bin_start": 0.4,
                        "bin_end": 0.5,
                        "count": 0
                      },
                      {
                        "bin_start": 0.5,
                        "bin_end": 0.6000000000000001,
                        "count": 0
                      },
                      {
                        "bin_start": 0.6000000000000001,
                        "bin_end": 0.7000000000000001,
                        "count": 0
                      },
                      {
                        "bin_start": 0.7000000000000001,
                        "bin_end": 0.8,
                        "count": 0
                      },
                      {
                        "bin_start": 0.8,
                        "bin_end": 0.9,
                        "count": 0
                      },
                      {
                        "bin_start": 0.9,
                        "bin_end": 1,
                        "count": 3
                      }
                    ]
                  }
                },
                {
                  "name": "ca_0",
                  "dtype": "uint8",
                  "stats": {
                    "unique_count": 1,
                    "nan_count": 0,
                    "min": 1,
                    "max": 1,
                    "histogram": [
                      {
                        "bin_start": 0.5,
                        "bin_end": 0.6,
                        "count": 0
                      },
                      {
                        "bin_start": 0.6,
                        "bin_end": 0.7,
                        "count": 0
                      },
                      {
                        "bin_start": 0.7,
                        "bin_end": 0.8,
                        "count": 0
                      },
                      {
                        "bin_start": 0.8,
                        "bin_end": 0.9,
                        "count": 0
                      },
                      {
                        "bin_start": 0.9,
                        "bin_end": 1,
                        "count": 0
                      },
                      {
                        "bin_start": 1,
                        "bin_end": 1.1,
                        "count": 5
                      },
                      {
                        "bin_start": 1.1,
                        "bin_end": 1.2000000000000002,
                        "count": 0
                      },
                      {
                        "bin_start": 1.2000000000000002,
                        "bin_end": 1.3,
                        "count": 0
                      },
                      {
                        "bin_start": 1.3,
                        "bin_end": 1.4,
                        "count": 0
                      },
                      {
                        "bin_start": 1.4,
                        "bin_end": 1.5,
                        "count": 0
                      }
                    ]
                  }
                },
                {
                  "name": "ca_1",
                  "dtype": "uint8",
                  "stats": {
                    "unique_count": 1,
                    "nan_count": 0,
                    "min": 0,
                    "max": 0,
                    "histogram": [
                      {
                        "bin_start": -0.5,
                        "bin_end": -0.4,
                        "count": 0
                      },
                      {
                        "bin_start": -0.4,
                        "bin_end": -0.3,
                        "count": 0
                      },
                      {
                        "bin_start": -0.3,
                        "bin_end": -0.19999999999999996,
                        "count": 0
                      },
                      {
                        "bin_start": -0.19999999999999996,
                        "bin_end": -0.09999999999999998,
                        "count": 0
                      },
                      {
                        "bin_start": -0.09999999999999998,
                        "bin_end": 0,
                        "count": 0
                      },
                      {
                        "bin_start": 0,
                        "bin_end": 0.10000000000000009,
                        "count": 5
                      },
                      {
                        "bin_start": 0.10000000000000009,
                        "bin_end": 0.20000000000000007,
                        "count": 0
                      },
                      {
                        "bin_start": 0.20000000000000007,
                        "bin_end": 0.30000000000000004,
                        "count": 0
                      },
                      {
                        "bin_start": 0.30000000000000004,
                        "bin_end": 0.4,
                        "count": 0
                      },
                      {
                        "bin_start": 0.4,
                        "bin_end": 0.5,
                        "count": 0
                      }
                    ]
                  }
                },
                {
                  "name": "ca_2",
                  "dtype": "uint8",
                  "stats": {
                    "unique_count": 1,
                    "nan_count": 0,
                    "min": 0,
                    "max": 0,
                    "histogram": [
                      {
                        "bin_start": -0.5,
                        "bin_end": -0.4,
                        "count": 0
                      },
                      {
                        "bin_start": -0.4,
                        "bin_end": -0.3,
                        "count": 0
                      },
                      {
                        "bin_start": -0.3,
                        "bin_end": -0.19999999999999996,
                        "count": 0
                      },
                      {
                        "bin_start": -0.19999999999999996,
                        "bin_end": -0.09999999999999998,
                        "count": 0
                      },
                      {
                        "bin_start": -0.09999999999999998,
                        "bin_end": 0,
                        "count": 0
                      },
                      {
                        "bin_start": 0,
                        "bin_end": 0.10000000000000009,
                        "count": 5
                      },
                      {
                        "bin_start": 0.10000000000000009,
                        "bin_end": 0.20000000000000007,
                        "count": 0
                      },
                      {
                        "bin_start": 0.20000000000000007,
                        "bin_end": 0.30000000000000004,
                        "count": 0
                      },
                      {
                        "bin_start": 0.30000000000000004,
                        "bin_end": 0.4,
                        "count": 0
                      },
                      {
                        "bin_start": 0.4,
                        "bin_end": 0.5,
                        "count": 0
                      }
                    ]
                  }
                },
                {
                  "name": "ca_3",
                  "dtype": "uint8",
                  "stats": {
                    "unique_count": 1,
                    "nan_count": 0,
                    "min": 0,
                    "max": 0,
                    "histogram": [
                      {
                        "bin_start": -0.5,
                        "bin_end": -0.4,
                        "count": 0
                      },
                      {
                        "bin_start": -0.4,
                        "bin_end": -0.3,
                        "count": 0
                      },
                      {
                        "bin_start": -0.3,
                        "bin_end": -0.19999999999999996,
                        "count": 0
                      },
                      {
                        "bin_start": -0.19999999999999996,
                        "bin_end": -0.09999999999999998,
                        "count": 0
                      },
                      {
                        "bin_start": -0.09999999999999998,
                        "bin_end": 0,
                        "count": 0
                      },
                      {
                        "bin_start": 0,
                        "bin_end": 0.10000000000000009,
                        "count": 5
                      },
                      {
                        "bin_start": 0.10000000000000009,
                        "bin_end": 0.20000000000000007,
                        "count": 0
                      },
                      {
                        "bin_start": 0.20000000000000007,
                        "bin_end": 0.30000000000000004,
                        "count": 0
                      },
                      {
                        "bin_start": 0.30000000000000004,
                        "bin_end": 0.4,
                        "count": 0
                      },
                      {
                        "bin_start": 0.4,
                        "bin_end": 0.5,
                        "count": 0
                      }
                    ]
                  }
                },
                {
                  "name": "ca_4",
                  "dtype": "uint8",
                  "stats": {
                    "unique_count": 1,
                    "nan_count": 0,
                    "min": 0,
                    "max": 0,
                    "histogram": [
                      {
                        "bin_start": -0.5,
                        "bin_end": -0.4,
                        "count": 0
                      },
                      {
                        "bin_start": -0.4,
                        "bin_end": -0.3,
                        "count": 0
                      },
                      {
                        "bin_start": -0.3,
                        "bin_end": -0.19999999999999996,
                        "count": 0
                      },
                      {
                        "bin_start": -0.19999999999999996,
                        "bin_end": -0.09999999999999998,
                        "count": 0
                      },
                      {
                        "bin_start": -0.09999999999999998,
                        "bin_end": 0,
                        "count": 0
                      },
                      {
                        "bin_start": 0,
                        "bin_end": 0.10000000000000009,
                        "count": 5
                      },
                      {
                        "bin_start": 0.10000000000000009,
                        "bin_end": 0.20000000000000007,
                        "count": 0
                      },
                      {
                        "bin_start": 0.20000000000000007,
                        "bin_end": 0.30000000000000004,
                        "count": 0
                      },
                      {
                        "bin_start": 0.30000000000000004,
                        "bin_end": 0.4,
                        "count": 0
                      },
                      {
                        "bin_start": 0.4,
                        "bin_end": 0.5,
                        "count": 0
                      }
                    ]
                  }
                },
                {
                  "name": "_deepnote_index_column",
                  "dtype": "int64"
                }
              ],
              "rows_top": [
                {
                  "age": 63,
                  "sex": 1,
                  "trestbps": 145,
                  "chol": 233,
                  "fbs": 1,
                  "thalach": 150,
                  "exang": 0,
                  "oldpeak": 2.3,
                  "thal": 1,
                  "target": 1,
                  "cp_0": 0,
                  "cp_1": 0,
                  "cp_2": 0,
                  "cp_3": 1,
                  "restecg_0": 1,
                  "restecg_1": 0,
                  "restecg_2": 0,
                  "slope_0": 1,
                  "slope_1": 0,
                  "slope_2": 0,
                  "ca_0": 1,
                  "ca_1": 0,
                  "ca_2": 0,
                  "ca_3": 0,
                  "ca_4": 0,
                  "_deepnote_index_column": 0
                },
                {
                  "age": 37,
                  "sex": 1,
                  "trestbps": 130,
                  "chol": 250,
                  "fbs": 0,
                  "thalach": 187,
                  "exang": 0,
                  "oldpeak": 3.5,
                  "thal": 2,
                  "target": 1,
                  "cp_0": 0,
                  "cp_1": 0,
                  "cp_2": 1,
                  "cp_3": 0,
                  "restecg_0": 0,
                  "restecg_1": 1,
                  "restecg_2": 0,
                  "slope_0": 1,
                  "slope_1": 0,
                  "slope_2": 0,
                  "ca_0": 1,
                  "ca_1": 0,
                  "ca_2": 0,
                  "ca_3": 0,
                  "ca_4": 0,
                  "_deepnote_index_column": 1
                },
                {
                  "age": 41,
                  "sex": 0,
                  "trestbps": 130,
                  "chol": 204,
                  "fbs": 0,
                  "thalach": 172,
                  "exang": 0,
                  "oldpeak": 1.4,
                  "thal": 2,
                  "target": 1,
                  "cp_0": 0,
                  "cp_1": 1,
                  "cp_2": 0,
                  "cp_3": 0,
                  "restecg_0": 1,
                  "restecg_1": 0,
                  "restecg_2": 0,
                  "slope_0": 0,
                  "slope_1": 0,
                  "slope_2": 1,
                  "ca_0": 1,
                  "ca_1": 0,
                  "ca_2": 0,
                  "ca_3": 0,
                  "ca_4": 0,
                  "_deepnote_index_column": 2
                },
                {
                  "age": 56,
                  "sex": 1,
                  "trestbps": 120,
                  "chol": 236,
                  "fbs": 0,
                  "thalach": 178,
                  "exang": 0,
                  "oldpeak": 0.8,
                  "thal": 2,
                  "target": 1,
                  "cp_0": 0,
                  "cp_1": 1,
                  "cp_2": 0,
                  "cp_3": 0,
                  "restecg_0": 0,
                  "restecg_1": 1,
                  "restecg_2": 0,
                  "slope_0": 0,
                  "slope_1": 0,
                  "slope_2": 1,
                  "ca_0": 1,
                  "ca_1": 0,
                  "ca_2": 0,
                  "ca_3": 0,
                  "ca_4": 0,
                  "_deepnote_index_column": 3
                },
                {
                  "age": 57,
                  "sex": 0,
                  "trestbps": 120,
                  "chol": 354,
                  "fbs": 0,
                  "thalach": 163,
                  "exang": 1,
                  "oldpeak": 0.6,
                  "thal": 2,
                  "target": 1,
                  "cp_0": 1,
                  "cp_1": 0,
                  "cp_2": 0,
                  "cp_3": 0,
                  "restecg_0": 0,
                  "restecg_1": 1,
                  "restecg_2": 0,
                  "slope_0": 0,
                  "slope_1": 0,
                  "slope_2": 1,
                  "ca_0": 1,
                  "ca_1": 0,
                  "ca_2": 0,
                  "ca_3": 0,
                  "ca_4": 0,
                  "_deepnote_index_column": 4
                }
              ],
              "rows_bottom": null
            },
            "text/plain": "   age  sex  trestbps  chol  fbs  thalach  exang  oldpeak  thal  target  ...  \\\n0   63    1       145   233    1      150      0      2.3     1       1  ...   \n1   37    1       130   250    0      187      0      3.5     2       1  ...   \n2   41    0       130   204    0      172      0      1.4     2       1  ...   \n3   56    1       120   236    0      178      0      0.8     2       1  ...   \n4   57    0       120   354    0      163      1      0.6     2       1  ...   \n\n   restecg_1  restecg_2  slope_0  slope_1  slope_2  ca_0  ca_1  ca_2  ca_3  \\\n0          0          0        1        0        0     1     0     0     0   \n1          1          0        1        0        0     1     0     0     0   \n2          0          0        0        0        1     1     0     0     0   \n3          1          0        0        0        1     1     0     0     0   \n4          1          0        0        0        1     1     0     0     0   \n\n   ca_4  \n0     0  \n1     0  \n2     0  \n3     0  \n4     0  \n\n[5 rows x 25 columns]",
            "text/html": "<div>\n<style scoped>\n    .dataframe tbody tr th:only-of-type {\n        vertical-align: middle;\n    }\n\n    .dataframe tbody tr th {\n        vertical-align: top;\n    }\n\n    .dataframe thead th {\n        text-align: right;\n    }\n</style>\n<table border=\"1\" class=\"dataframe\">\n  <thead>\n    <tr style=\"text-align: right;\">\n      <th></th>\n      <th>age</th>\n      <th>sex</th>\n      <th>trestbps</th>\n      <th>chol</th>\n      <th>fbs</th>\n      <th>thalach</th>\n      <th>exang</th>\n      <th>oldpeak</th>\n      <th>thal</th>\n      <th>target</th>\n      <th>...</th>\n      <th>restecg_1</th>\n      <th>restecg_2</th>\n      <th>slope_0</th>\n      <th>slope_1</th>\n      <th>slope_2</th>\n      <th>ca_0</th>\n      <th>ca_1</th>\n      <th>ca_2</th>\n      <th>ca_3</th>\n      <th>ca_4</th>\n    </tr>\n  </thead>\n  <tbody>\n    <tr>\n      <th>0</th>\n      <td>63</td>\n      <td>1</td>\n      <td>145</td>\n      <td>233</td>\n      <td>1</td>\n      <td>150</td>\n      <td>0</td>\n      <td>2.3</td>\n      <td>1</td>\n      <td>1</td>\n      <td>...</td>\n      <td>0</td>\n      <td>0</td>\n      <td>1</td>\n      <td>0</td>\n      <td>0</td>\n      <td>1</td>\n      <td>0</td>\n      <td>0</td>\n      <td>0</td>\n      <td>0</td>\n    </tr>\n    <tr>\n      <th>1</th>\n      <td>37</td>\n      <td>1</td>\n      <td>130</td>\n      <td>250</td>\n      <td>0</td>\n      <td>187</td>\n      <td>0</td>\n      <td>3.5</td>\n      <td>2</td>\n      <td>1</td>\n      <td>...</td>\n      <td>1</td>\n      <td>0</td>\n      <td>1</td>\n      <td>0</td>\n      <td>0</td>\n      <td>1</td>\n      <td>0</td>\n      <td>0</td>\n      <td>0</td>\n      <td>0</td>\n    </tr>\n    <tr>\n      <th>2</th>\n      <td>41</td>\n      <td>0</td>\n      <td>130</td>\n      <td>204</td>\n      <td>0</td>\n      <td>172</td>\n      <td>0</td>\n      <td>1.4</td>\n      <td>2</td>\n      <td>1</td>\n      <td>...</td>\n      <td>0</td>\n      <td>0</td>\n      <td>0</td>\n      <td>0</td>\n      <td>1</td>\n      <td>1</td>\n      <td>0</td>\n      <td>0</td>\n      <td>0</td>\n      <td>0</td>\n    </tr>\n    <tr>\n      <th>3</th>\n      <td>56</td>\n      <td>1</td>\n      <td>120</td>\n      <td>236</td>\n      <td>0</td>\n      <td>178</td>\n      <td>0</td>\n      <td>0.8</td>\n      <td>2</td>\n      <td>1</td>\n      <td>...</td>\n      <td>1</td>\n      <td>0</td>\n      <td>0</td>\n      <td>0</td>\n      <td>1</td>\n      <td>1</td>\n      <td>0</td>\n      <td>0</td>\n      <td>0</td>\n      <td>0</td>\n    </tr>\n    <tr>\n      <th>4</th>\n      <td>57</td>\n      <td>0</td>\n      <td>120</td>\n      <td>354</td>\n      <td>0</td>\n      <td>163</td>\n      <td>1</td>\n      <td>0.6</td>\n      <td>2</td>\n      <td>1</td>\n      <td>...</td>\n      <td>1</td>\n      <td>0</td>\n      <td>0</td>\n      <td>0</td>\n      <td>1</td>\n      <td>1</td>\n      <td>0</td>\n      <td>0</td>\n      <td>0</td>\n      <td>0</td>\n    </tr>\n  </tbody>\n</table>\n<p>5 rows × 25 columns</p>\n</div>"
          },
          "metadata": {}
        }
      ]
    },
    {
      "cell_type": "code",
      "metadata": {
        "tags": [],
        "cell_id": "00003-0d6afa14-497a-4a7a-8e80-7f987a686c63",
        "deepnote_cell_type": "code"
      },
      "source": "",
      "execution_count": null,
      "outputs": []
    },
    {
      "cell_type": "code",
      "metadata": {
        "tags": [],
        "cell_id": "00003-fd526b19-7421-40b9-99a8-cb4cd3c002e3",
        "deepnote_to_be_reexecuted": false,
        "source_hash": "d910fba9",
        "execution_start": 1615302154444,
        "execution_millis": 4,
        "deepnote_cell_type": "code"
      },
      "source": "",
      "execution_count": null,
      "outputs": []
    },
    {
      "cell_type": "code",
      "metadata": {
        "tags": [],
        "cell_id": "00003-3e0aa68e-d8aa-4d5c-a1cf-b7247f2b55ab",
        "deepnote_to_be_reexecuted": false,
        "source_hash": "f076c3cc",
        "execution_millis": 0,
        "execution_start": 1615377333702,
        "deepnote_cell_type": "code"
      },
      "source": "from sklearn.model_selection import train_test_split\n\nX = df.drop(['thal', 'target'], axis=1)\ny = df['target']\n",
      "execution_count": null,
      "outputs": []
    },
    {
      "cell_type": "code",
      "metadata": {
        "tags": [],
        "cell_id": "00002-9c4eed6c-0541-410e-afbb-2a95b1ad8d1d",
        "deepnote_to_be_reexecuted": false,
        "source_hash": "937cc73f",
        "execution_millis": 3,
        "execution_start": 1615376972925,
        "deepnote_cell_type": "code"
      },
      "source": "def standardise_data(X_train, X_test):\n    \"\"\"\"\n    Standardise training and tets data sets according to mean and standard\n    deviation of test set\n    \n    Inputs\n    ------\n    X_train, X_test NumPy arrays\n    \n    Returns\n    -------\n    X_train_std, X_test_std\n    \"\"\"\n    \n    mu = X_train.mean(axis=0)\n    std = X_train.std(axis=0)\n    \n    X_train_std = (X_train - mu) / std\n    X_test_std = (X_test - mu) /std\n    \n    return X_train_std, X_test_std",
      "execution_count": null,
      "outputs": []
    },
    {
      "cell_type": "code",
      "metadata": {
        "tags": [],
        "cell_id": "00003-c2f89056-4c8c-44e0-898f-4c4194f994fb",
        "deepnote_to_be_reexecuted": false,
        "source_hash": "e9d4b3eb",
        "execution_millis": 4,
        "execution_start": 1615376973749,
        "deepnote_cell_type": "code"
      },
      "source": "def calculate_diagnostic_performance(actual, predicted):\n    \"\"\"     \n    Inputs\n    ------\n    actual, predted numpy arrays (1 = +ve, 0 = -ve)\n    \n    Returns\n    -------\n    A dictionary of results:\n    \n    1)  accuracy: proportion of test results that are correct    \n    2)  sensitivity: proportion of true +ve identified\n    3)  specificity: proportion of true -ve identified\n    4)  positive likelihood: increased probability of true +ve if test +ve\n    5)  negative likelihood: reduced probability of true +ve if test -ve\n    6)  diagnostic odds ratio: positive likelihood / negative likelihood\n    7)  true positive rate: same as sensitivity\n    8)  true negative rate: same as specificity\n    9)  false positive rate: proportion of false +ves in true -ve patients\n    10) false negative rate:  proportion of false -ves in true +ve patients\n    11) positive predictive value: chance of true +ve if test +ve\n    12) negative predictive value: chance of true -ve if test -ve\n    13) actual positive rate: proportion of actual values that are +ve\n    14) predicted positive rate: proportion of predicted vales that are +ve\n    15) recall: same as sensitivity\n    16) precision: the proportion of predicted +ve that are true +ve\n    17) f1: 2 * ((precision * recall) / (precision + recall))\n\n    *false positive rate is the percentage of healthy individuals who \n    incorrectly receive a positive test result\n    * alse neagtive rate is the percentage of diseased individuals who \n    incorrectly receive a negative test result\n    \n    \"\"\"\n    \n    # Calculate results \n    actual_positives = actual == 1\n    actual_negatives = actual == 0\n    test_positives = predicted == 1\n    test_negatives = predicted == 0\n    \n    test_correct = actual == predicted\n    accuracy = test_correct.mean()\n    \n    true_positives = actual_positives & test_positives\n    false_positives = test_positives & actual_negatives\n    true_negatives = actual_negatives & test_negatives\n    false_negatives = test_negatives & actual_positives\n    \n    sensitivity = true_positives.sum() / actual_positives.sum()\n    specificity = true_negatives.sum() / actual_negatives.sum()\n\n    true_positive_rate = sensitivity\n    true_negative_rate = specificity\n    false_positive_rate = 1 - specificity\n    false_negative_rate = 1 - sensitivity\n    \n    positive_likelihood = true_positive_rate / false_positive_rate\n    negative_likelihood = false_positive_rate / true_negative_rate\n    diagnostic_odds_ratio = positive_likelihood / negative_likelihood\n    \n    positive_predictive_value = true_positives.sum() / test_positives.sum()\n    negative_predicitive_value = true_negatives.sum() / test_negatives.sum()\n    \n    actual_positive_rate = actual.mean()\n    predicted_positive_rate = predicted.mean()\n    \n    recall = sensitivity\n    precision = true_positives.sum() / actual_positives.sum()\n    f1 = 2 * ((precision * recall) / (precision + recall))\n    \n    # Add results to dictionary\n    results = dict()\n    results['accuracy'] = accuracy\n    results['sensitivity'] = sensitivity\n    results['specificity'] = specificity\n    results['positive_likelihood'] = positive_likelihood\n    results['negative_likelihood'] = negative_likelihood\n    results['diagnostic_odds_ratio'] = diagnostic_odds_ratio\n    results['true_positive_rate'] = true_positive_rate\n    results['true_negative_rate'] = true_negative_rate\n    results['false_positive_rate'] = false_positive_rate\n    results['false_negative_rate'] = false_negative_rate\n    results['positive_predictive_value'] = positive_predictive_value\n    results['negative_predicitive_value'] = negative_predicitive_value\n    results['actual_positive_rate'] = actual_positive_rate\n    results['predicted_positive_rate'] = predicted_positive_rate\n    results['recall'] = recall\n    results['precision'] = precision\n    results['f1'] = f1\n   \n    return results",
      "execution_count": null,
      "outputs": []
    },
    {
      "cell_type": "code",
      "metadata": {
        "tags": [],
        "cell_id": "00004-07225929-c8bc-4f03-8988-cc0f577d21d3",
        "deepnote_to_be_reexecuted": false,
        "source_hash": "fa4c38d4",
        "execution_millis": 0,
        "execution_start": 1615376975051,
        "deepnote_cell_type": "code"
      },
      "source": "def fit_and_test_logistic_regression_model(X_train, X_test, y_train, y_test):    \n    \"\"\"\"\n    Fit and test logistic regression model. \n    Return a dictionary of accuracy measures.\n    Calls on `calculate_diagnostic_performance` to calculate results\n    \n    Inputs\n    ------\n    X_train, X_test NumPy arrays\n    \n    Returns\n    -------\n    A dictionary of accuracy results.\n    \"\"\"\n    \n    # Fit logistic regression model \n    lr = LogisticRegression(C=0.1)\n    lr.fit(X_train,y_train)\n\n    # Predict tets set labels\n    y_pred = lr.predict(X_test)\n    \n    # Get accuracy results\n    accuracy_results = calculate_diagnostic_performance(y_test, y_pred)\n    \n    return accuracy_results",
      "execution_count": null,
      "outputs": []
    },
    {
      "cell_type": "code",
      "metadata": {
        "tags": [],
        "cell_id": "00004-edc8844b-ccfb-46de-a90b-abe7844df534",
        "deepnote_to_be_reexecuted": false,
        "source_hash": "717149b4",
        "execution_millis": 1,
        "execution_start": 1615303975869,
        "deepnote_cell_type": "code"
      },
      "source": "df.target.value_counts()",
      "execution_count": null,
      "outputs": [
        {
          "output_type": "execute_result",
          "execution_count": 105,
          "data": {
            "text/plain": "1    165\n0    138\nName: target, dtype: int64"
          },
          "metadata": {}
        }
      ]
    },
    {
      "cell_type": "code",
      "metadata": {
        "tags": [],
        "cell_id": "00009-36113d85-e14f-48c0-9877-5e3af3feb8a2",
        "deepnote_to_be_reexecuted": false,
        "source_hash": "17799100",
        "execution_start": 1615376982335,
        "execution_millis": 1,
        "deepnote_cell_type": "code"
      },
      "source": "#PCA\ndef get_principal_component_model(data, n_components=0):\n    \"\"\"\n    Principal component analysis\n    \n    Inputs\n    ------\n    data: raw data (DataFrame)\n    \n    Returns\n    -------\n    A dictionary of:\n        model: pca model object\n        transformed_X: transformed_data\n        explained_variance: explained_variance\n    \"\"\"\n    \n    # If n_components not passed to function, use number of features in data\n    if n_components == 0:\n        n_components = data.shape[1]\n    \n    pca = PCA(n_components)\n    transformed_X = pca.fit_transform(data)\n\n    #fit_transform reduces X to the new datasize if n components is specified\n    explained_variance = pca.explained_variance_ratio_\n    \n    # Compile a dictionary to return results\n    results = {'model': pca,\n               'transformed_X': transformed_X,\n               'explained_variance': explained_variance}\n    \n    return results",
      "execution_count": null,
      "outputs": []
    },
    {
      "cell_type": "code",
      "metadata": {
        "tags": [],
        "cell_id": "00013-693bb7b1-11f3-4667-a10d-a5f662464fd3",
        "deepnote_to_be_reexecuted": false,
        "source_hash": "6d279d32",
        "execution_millis": 6,
        "execution_start": 1615376983781,
        "deepnote_cell_type": "code"
      },
      "source": "def make_synthetic_data_smote(X, y, number_of_samples=1000):\n    \"\"\"\n    Synthetic data generation.\n        \n    Inputs\n    ------\n    original_data: X, y numpy arrays\n    number_of_samples: number of synthetic samples to generate\n    n_components: number of principal components to use for data synthesis\n    \n    Returns\n    -------\n    X_synthetic: NumPy array\n    y_synthetic: NumPy array\n\n    \"\"\"\n    \n    from imblearn.over_sampling import SMOTE\n    \n    count_label_0 = np.sum(y==0)\n    count_label_1 = np.sum(y==1)\n    \n    n_class_0 = number_of_samples + count_label_0\n    n_class_1 = number_of_samples + count_label_1\n\n    X_resampled, y_resampled = SMOTE(\n        sampling_strategy = {0:n_class_0, 1:n_class_1}).fit_resample(X, y)\n\n    X_synthetic = X_resampled[len(X):]\n    y_synthetic = y_resampled[len(y):]\n                                                                   \n    return X_synthetic, y_synthetic",
      "execution_count": null,
      "outputs": []
    },
    {
      "cell_type": "code",
      "metadata": {
        "tags": [],
        "cell_id": "00006-3b33641a-70a7-490f-9e16-140495d3e5da",
        "deepnote_to_be_reexecuted": false,
        "source_hash": "b3cb4dc7",
        "execution_millis": 0,
        "execution_start": 1615377130014,
        "deepnote_cell_type": "code"
      },
      "source": "def make_synthetic_data_pc(X_original, y_original, number_of_samples=1000, \n                           n_components=0):\n    \"\"\"\n    Synthetic data generation.\n    Calls on `get_principal_component_model` for PCA model\n    If number of components not defined then the function sets it to the number\n      of features in X\n    \n    Inputs\n    ------\n    original_data: X, y numpy arrays\n    number_of_samples: number of synthetic samples to generate\n    n_components: number of principal components to use for data synthesis\n    \n    Returns\n    -------\n    X_synthetic: NumPy array\n    y_synthetic: NumPy array\n\n    \"\"\"\n    \n    # If number of PCA not passed, set to number fo features in X\n    if n_components == 0:\n        n_components = X_original.shape[1]\n    \n    # Split the training data into positive and negative\n    mask = y_original == 1\n    X_train_pos = X_original[mask]\n    mask = y_original == 0\n    X_train_neg = X_original[mask]\n    \n    # Pass negative and positive label X data sets to Principal Component Analysis \n    pca_pos = get_principal_component_model(X_train_pos, n_components)\n    pca_neg = get_principal_component_model(X_train_neg, n_components)\n    \n    # Set up list to hold negative and positive label transformed data\n    transformed_X = []\n    \n    # Create synthetic data for positive and neagtive PCA models \n    for pca_model in [pca_pos, pca_neg]:\n        \n        # Get PCA tranformed data\n        transformed = pca_model['transformed_X']\n        \n        # Get means and standard deviations, to use for sampling\n        means = transformed.mean(axis=0)\n        stds = transformed.std(axis=0)\n    \n        # Make synthetic PC data using sampling from normal distributions\n        synthetic_pca_data = np.zeros((number_of_samples, n_components))\n        for pc in range(n_components):\n            synthetic_pca_data[:, pc] = \\\n                np.random.normal(means[pc], stds[pc], size=number_of_samples)\n        transformed_X.append(synthetic_pca_data)\n        \n    # Reverse transform data to create synthetic data to be used\n    X_synthetic_pos = pca_pos['model'].inverse_transform(transformed_X[0])\n    X_synthetic_neg = pca_neg['model'].inverse_transform(transformed_X[1])\n    y_synthetic_pos = np.ones((X_synthetic_pos.shape[0],1))\n    y_synthetic_neg = np.zeros((X_synthetic_neg.shape[0],1))\n    # Combine positive and negative and shuffle rows\n    X_synthetic = np.concatenate((X_synthetic_pos, X_synthetic_neg), axis=0)\n    y_synthetic = np.concatenate((y_synthetic_pos, y_synthetic_neg), axis=0)\n    \n    # Randomise order of X, y\n    synthetic = np.concatenate((X_synthetic, y_synthetic), axis=1)\n    shuffle_index = np.random.permutation(np.arange(X_synthetic.shape[0]))\n    synthetic = synthetic[shuffle_index]\n    X_synthetic = synthetic[:,0:-1]\n    y_synthetic = synthetic[:,-1]\n                                                                   \n    return X_synthetic, y_synthetic",
      "execution_count": null,
      "outputs": []
    },
    {
      "cell_type": "code",
      "metadata": {
        "tags": [],
        "cell_id": "00007-9b45f003-1b34-41fc-aec7-039090d4c837",
        "deepnote_to_be_reexecuted": false,
        "source_hash": "cb81fc28",
        "execution_millis": 7,
        "execution_start": 1615376989321,
        "deepnote_cell_type": "code"
      },
      "source": "# Set up results DataFrame\nresults = pd.DataFrame()",
      "execution_count": null,
      "outputs": []
    },
    {
      "cell_type": "code",
      "metadata": {
        "tags": [],
        "cell_id": "00016-b330c06a-7ec6-4baf-9e12-202d8a6b37b4",
        "deepnote_cell_type": "code"
      },
      "source": "#PCA",
      "execution_count": null,
      "outputs": []
    },
    {
      "cell_type": "code",
      "metadata": {
        "tags": [],
        "cell_id": "00009-b43b1753-3926-45e0-8296-54214d98ee3a",
        "deepnote_to_be_reexecuted": true,
        "source_hash": "eee8c1c9",
        "execution_millis": 3,
        "deepnote_cell_type": "code"
      },
      "source": "#SMOTE\n\n",
      "execution_count": null,
      "outputs": []
    },
    {
      "cell_type": "code",
      "metadata": {
        "tags": [],
        "cell_id": "00019-829319b2-5f8e-47ea-b634-df2ad3a6b8df",
        "deepnote_to_be_reexecuted": false,
        "source_hash": "73efdfa6",
        "execution_millis": 2434,
        "execution_start": 1615302030950,
        "deepnote_cell_type": "code"
      },
      "source": "!pip install imblearn",
      "execution_count": null,
      "outputs": [
        {
          "name": "stdout",
          "text": "Requirement already satisfied: imblearn in /root/venv/lib/python3.7/site-packages (0.0)\nRequirement already satisfied: imbalanced-learn in /root/venv/lib/python3.7/site-packages (from imblearn) (0.8.0)\nRequirement already satisfied: joblib>=0.11 in /shared-libs/python3.7/py/lib/python3.7/site-packages (from imbalanced-learn->imblearn) (1.0.1)\nRequirement already satisfied: scikit-learn>=0.24 in /shared-libs/python3.7/py/lib/python3.7/site-packages (from imbalanced-learn->imblearn) (0.24.1)\nRequirement already satisfied: scipy>=0.19.1 in /shared-libs/python3.7/py/lib/python3.7/site-packages (from imbalanced-learn->imblearn) (1.6.1)\nRequirement already satisfied: numpy>=1.13.3 in /shared-libs/python3.7/py/lib/python3.7/site-packages (from imbalanced-learn->imblearn) (1.19.5)\nRequirement already satisfied: threadpoolctl>=2.0.0 in /shared-libs/python3.7/py/lib/python3.7/site-packages (from scikit-learn>=0.24->imbalanced-learn->imblearn) (2.1.0)\n\u001b[33mWARNING: You are using pip version 20.1.1; however, version 21.0.1 is available.\nYou should consider upgrading via the '/root/venv/bin/python -m pip install --upgrade pip' command.\u001b[0m\n",
          "output_type": "stream"
        }
      ]
    },
    {
      "cell_type": "code",
      "metadata": {
        "tags": [],
        "cell_id": "00010-5fe6b52d-2d4e-44be-9e43-7abdd6b66df9",
        "deepnote_to_be_reexecuted": false,
        "source_hash": "38a3cc1",
        "execution_millis": 7,
        "execution_start": 1615377377206,
        "deepnote_cell_type": "code"
      },
      "source": "integer_cols=['age','trestbps','chol','thalach','oldpeak']\nbinary_cols=['sex','fbs','exang']\n\nobj_cols = ['cp', 'restecg', 'slope', 'ca']\n\n# Set number of replicate runs\nX_col_names=df.iloc[:,:-1].columns\none_hot_cols = [[x for x in X_col_names if x[0:4] == 'cp'],\n               [x for x in X_col_names if x[0:21] == 'restecg'],\n               [x for x in X_col_names if x[0:21] == 'slope'],\n               [x for x in X_col_names if x[0:4] == 'ca']]\n\nnumber_of_runs = 5\n\n# Set up lists for results\naccuracy_measure_names = []\naccuracy_measure_data = []\nsynthetic_data = []\n\nfor run in range(number_of_runs):\n    \n    # Get synthetic data\n    X_synthetic, y_synthetic = make_synthetic_data_smote(\n        X, y, number_of_samples=1000)    \n  # Print progress\n    print (run + 1, end=' ')\n    \n    # Split training and test set\n    X_train, X_test, y_train, y_test = split_into_train_test(X, y)\n\n    # Standardise data (using synthetic data)\n    X_train_std, X_test_std = standardise_data(X_synthetic, X_test)\n    print(X_train_std.isnull().sum())\n    # Get accuracy of fitted model\n    accuracy = fit_and_test_logistic_regression_model(\n        X_train_std, X_test_std, y_synthetic, y_test)\n    \n    # Get accuracy measure names if not previously done\n    if len(accuracy_measure_names) == 0:\n        for key, value in accuracy.items():\n            accuracy_measure_names.append(key)\n    \n    # Get accuracy values\n    run_accuracy_results = []\n    for key, value in accuracy.items():\n            run_accuracy_results.append(value)\n            \n    # Add results to results list\n    accuracy_measure_data.append(run_accuracy_results)\n    \n    # Save synthetic data set\n    # -----------------------\n    \n    # Create a data frame with id\n    synth_df = pd.DataFrame()\n    \n    # Transfer X values to DataFrame\n    synth_df=pd.concat([synth_df, \n                        pd.DataFrame(X_synthetic, columns=X_col_names)],\n                        axis=1)\n    \n    # Make one hot as necessary\n    for one_hot_list in one_hot_cols:    \n        for index, row in synth_df.iterrows():\n            x = row[one_hot_list]\n            x_one_hot = make_one_hot(x)\n            row[x_one_hot.index]= x_one_hot.values\n            \n    # Make integer as necessary\n    for col in integer_cols:\n        synth_df[col] = synth_df[col].round(0)\n        \n    # Clip binary cols\n    for col in binary_cols:\n        synth_df[col] = np.clip(synth_df[col],0,1)\n\n    # Add a label\n    y_list = list(y_synthetic)\n    synth_df['label'] = y_list\n\n    # Shuffle data\n    synth_df = synth_df.sample(frac=1.0)\n    \n    # Add to synthetic data results list\n    synthetic_data.append(synth_df)\n\n# Strore mean and sem in results DataFrame \naccuracy_array = np.array(accuracy_measure_data)\nresults['smote_mean'] = accuracy_array.mean(axis=0)\nresults['smote_sem'] = accuracy_array.std(axis=0)/np.sqrt(number_of_runs)",
      "execution_count": null,
      "outputs": [
        {
          "output_type": "error",
          "ename": "ModuleNotFoundError",
          "evalue": "No module named 'imblearn'",
          "traceback": [
            "\u001b[0;31m---------------------------------------------------------------------------\u001b[0m",
            "\u001b[0;31mModuleNotFoundError\u001b[0m                       Traceback (most recent call last)",
            "\u001b[0;32m<ipython-input-32-4133aeb3affb>\u001b[0m in \u001b[0;36m<module>\u001b[0;34m\u001b[0m\n\u001b[1;32m     14\u001b[0m     \u001b[0;31m# Get synthetic data\u001b[0m\u001b[0;34m\u001b[0m\u001b[0;34m\u001b[0m\u001b[0;34m\u001b[0m\u001b[0m\n\u001b[1;32m     15\u001b[0m     X_synthetic, y_synthetic = make_synthetic_data_smote(\n\u001b[0;32m---> 16\u001b[0;31m         X, y, number_of_samples=1000)    \n\u001b[0m\u001b[1;32m     17\u001b[0m   \u001b[0;31m# Print progress\u001b[0m\u001b[0;34m\u001b[0m\u001b[0;34m\u001b[0m\u001b[0;34m\u001b[0m\u001b[0m\n\u001b[1;32m     18\u001b[0m     \u001b[0mprint\u001b[0m \u001b[0;34m(\u001b[0m\u001b[0mrun\u001b[0m \u001b[0;34m+\u001b[0m \u001b[0;36m1\u001b[0m\u001b[0;34m,\u001b[0m \u001b[0mend\u001b[0m\u001b[0;34m=\u001b[0m\u001b[0;34m' '\u001b[0m\u001b[0;34m)\u001b[0m\u001b[0;34m\u001b[0m\u001b[0;34m\u001b[0m\u001b[0m\n",
            "\u001b[0;32m<ipython-input-8-053fc0fc3919>\u001b[0m in \u001b[0;36mmake_synthetic_data_smote\u001b[0;34m(X, y, number_of_samples)\u001b[0m\n\u001b[1;32m     16\u001b[0m     \"\"\"\n\u001b[1;32m     17\u001b[0m \u001b[0;34m\u001b[0m\u001b[0m\n\u001b[0;32m---> 18\u001b[0;31m     \u001b[0;32mfrom\u001b[0m \u001b[0mimblearn\u001b[0m\u001b[0;34m.\u001b[0m\u001b[0mover_sampling\u001b[0m \u001b[0;32mimport\u001b[0m \u001b[0mSMOTE\u001b[0m\u001b[0;34m\u001b[0m\u001b[0;34m\u001b[0m\u001b[0m\n\u001b[0m\u001b[1;32m     19\u001b[0m \u001b[0;34m\u001b[0m\u001b[0m\n\u001b[1;32m     20\u001b[0m     \u001b[0mcount_label_0\u001b[0m \u001b[0;34m=\u001b[0m \u001b[0mnp\u001b[0m\u001b[0;34m.\u001b[0m\u001b[0msum\u001b[0m\u001b[0;34m(\u001b[0m\u001b[0my\u001b[0m\u001b[0;34m==\u001b[0m\u001b[0;36m0\u001b[0m\u001b[0;34m)\u001b[0m\u001b[0;34m\u001b[0m\u001b[0;34m\u001b[0m\u001b[0m\n",
            "\u001b[0;31mModuleNotFoundError\u001b[0m: No module named 'imblearn'"
          ]
        }
      ]
    },
    {
      "cell_type": "code",
      "metadata": {
        "tags": [],
        "cell_id": "00010-6e90edd5-74a3-408d-8392-9eaf9860df73",
        "deepnote_to_be_reexecuted": true,
        "source_hash": "b623e53d",
        "execution_millis": 0,
        "deepnote_cell_type": "code"
      },
      "source": "descriptive_stats_all_runs = []\noriginal_data=df\nfor run in range(number_of_runs):\n    \n    synth_df = synthetic_data[run]\n  \n    descriptive_stats = pd.DataFrame()\n\n    descriptive_stats['Original pos_label mean'] = \\\n        original_data[original_data['label'] == 1].mean()\n\n    descriptive_stats['Synthetic pos_label mean'] = \\\n        synth_df[synth_df['label'] == 1].mean()\n\n    descriptive_stats['Original neg_label mean'] = \\\n        original_data[original_data['label'] == 0].mean()\n\n    descriptive_stats['Synthetic neg_label mean'] = \\\n        synth_df[synth_df['label'] == 0].mean()\n\n    descriptive_stats['Original pos_label std'] = \\\n        original_data[original_data['label'] == 1].std()\n\n    descriptive_stats['Synthetic pos_label std'] = \\\n        synth_df[synth_df['label'] == 1].std()\n\n    descriptive_stats['Original neg_label std'] = \\\n        original_data[original_data['label'] == 0].std()\n\n    descriptive_stats['Synthetic neg_label std'] = \\\n        synth_df[synth_df['label'] == 0].std()\n    \n    descriptive_stats_all_runs.append(descriptive_stats)",
      "execution_count": null,
      "outputs": []
    },
    {
      "cell_type": "code",
      "metadata": {
        "tags": [],
        "cell_id": "00011-1b74d692-eafa-48ea-a79c-abdc4994e9bd",
        "deepnote_to_be_reexecuted": true,
        "source_hash": "b623e53d",
        "execution_millis": 0,
        "deepnote_cell_type": "code"
      },
      "source": "colours = ['k', 'b', 'g', 'r', 'y', 'c', 'm']\nfig = plt.figure(figsize=(10,10))\n\n# Note: Set x and y limits to avoid plotting values that are very close to zero\n\n# Negative mean\nax1 = fig.add_subplot(221)\nfor run in range(number_of_runs):\n    x = descriptive_stats_all_runs[0]['Original neg_label mean'].copy()\n    y = descriptive_stats_all_runs[run]['Synthetic neg_label mean'].copy()\n    x.drop(labels ='label', inplace=True)\n    y.drop(labels ='label', inplace=True)\n    colour = colours[run % 7] # Cycle through 7 colours\n    ax1.scatter(x,y, color=colour, alpha=0.5)\nax1.set_xlabel('Original data')\nax1.set_ylabel('Synthetic data')\nax1.set_xlim(1e-3, 1e2)\nax1.set_ylim(1e-3, 1e2)\nax1.set_title('Negative label samples mean')\nax1.set_xscale('log')\nax1.set_yscale('log')\nax1.grid()\n\n# Positive mean\nax2 = fig.add_subplot(222)\nfor run in range(number_of_runs):\n    x = descriptive_stats_all_runs[0]['Original pos_label mean'].copy()\n    y = descriptive_stats_all_runs[run]['Synthetic pos_label mean'].copy()\n    x.drop(labels ='label', inplace=True)\n    y.drop(labels ='label', inplace=True)\n    colour = colours[run % 7] # Cycle through 7 colours\n    ax2.scatter(x,y, color=colour, alpha=0.5)\nax2.set_xlabel('Original data')\nax2.set_ylabel('Synthetic data')\nax2.set_title('Positive label samples mean')\nax2.set_xlim(1e-3, 1e2)\nax2.set_ylim(1e-3, 1e2)\nax2.set_xscale('log')\nax2.set_yscale('log')\nax2.grid()\n\n# Negative standard deviation\nax3 = fig.add_subplot(223)\nfor run in range(number_of_runs):\n    x = descriptive_stats_all_runs[0]['Original neg_label std'].copy()\n    y = descriptive_stats_all_runs[run]['Synthetic neg_label std'].copy()\n    x.drop(labels ='label', inplace=True)\n    y.drop(labels ='label', inplace=True)\n    colour = colours[run % 7] # Cycle through 7 colours\n    ax3.scatter(x,y, color=colour, alpha=0.5)\nax3.set_xlabel('Original data')\nax3.set_ylabel('Synthetic data')\nax3.set_title('Negative label standard deviation')\nax3.set_xlim(1e-2, 1e2)\nax3.set_ylim(1e-2, 1e2)\nax3.set_xscale('log')\nax3.set_yscale('log')\nax3.grid()\n\n# Positive standard deviation\nax4 = fig.add_subplot(224)\nfor run in range(number_of_runs):\n    x = descriptive_stats_all_runs[0]['Original pos_label std'].copy()\n    y = descriptive_stats_all_runs[run]['Synthetic pos_label std'].copy()\n    x.drop(labels ='label', inplace=True)\n    y.drop(labels ='label', inplace=True)\n    colour = colours[run % 7] # Cycle through 7 colours\n    ax4.scatter(x,y, color=colour, alpha=0.5)\nax4.set_xlabel('Original data')\nax4.set_ylabel('Synthetic data')\nax4.set_title('Positive label standard deviation')\nax4.set_xlim(1e-2, 1e2)\nax4.set_ylim(1e-2, 1e2)\nax4.set_xscale('log')\nax4.set_yscale('log')\nax4.grid()\n\nplt.tight_layout(pad=2)\n#plt.savefig('Output/smote_correls.png', facecolor='w', dpi=300)\nplt.show()",
      "execution_count": null,
      "outputs": []
    },
    {
      "cell_type": "code",
      "metadata": {
        "tags": [],
        "cell_id": "00012-8251e5cb-be06-4c12-8f32-03cf11731da8",
        "deepnote_to_be_reexecuted": true,
        "source_hash": "b623e53d",
        "execution_millis": 0,
        "deepnote_cell_type": "code"
      },
      "source": "correl_mean_neg = []\ncorrel_std_neg = []\ncorrel_mean_pos = []\ncorrel_std_pos = []\n\nfor run in range(number_of_runs):\n    # Get correlation of means\n    x = descriptive_stats_all_runs[run]['Original neg_label mean']\n    y = descriptive_stats_all_runs[run]['Synthetic neg_label mean']\n    correl_mean_neg.append(np.corrcoef(x,y)[0,1])\n    x = descriptive_stats_all_runs[run]['Original pos_label mean']\n    y = descriptive_stats_all_runs[run]['Synthetic pos_label mean']\n    correl_mean_pos.append(np.corrcoef(x,y)[0,1])\n    \n    # Get correlation of standard deviations\n    x = descriptive_stats_all_runs[run]['Original neg_label std']\n    y = descriptive_stats_all_runs[run]['Synthetic neg_label std']\n    correl_std_neg.append(np.corrcoef(x,y)[0,1])\n    x = descriptive_stats_all_runs[run]['Original pos_label std']\n    y = descriptive_stats_all_runs[run]['Synthetic pos_label std']\n    correl_std_pos.append(np.corrcoef(x,y)[0,1])\n\n\n# # Get correlation of means\nmean_r_square_mean_neg = np.mean(np.square(correl_mean_neg))\nmean_r_square_mean_pos = np.mean(np.square(correl_mean_pos))\nsem_square_mean_neg = np.std(np.square(correl_mean_neg))/np.sqrt(number_of_runs)\nsem_square_mean_pos = np.std(np.square(correl_mean_pos))/np.sqrt(number_of_runs)\n\nprint ('R-square of means (negative), mean (std): ', end='')\nprint (f'{mean_r_square_mean_neg:0.3f} ({sem_square_mean_neg:0.3f})')\nprint ('R-square of means (positive), mean (std): ', end='')\nprint (f'{mean_r_square_mean_pos:0.3f} ({sem_square_mean_pos:0.3f})')\n\n# # Get correlation of standard deviations\nmean_r_square_sd_neg = np.mean(np.square(correl_std_neg))\nmean_r_square_sd_pos = np.mean(np.square(correl_std_pos))\nsem_square_sd_neg = np.std(np.square(correl_std_neg))/np.sqrt(number_of_runs)\nsem_square_sd_pos = np.std(np.square(correl_std_pos))/np.sqrt(number_of_runs)\n\nprint ('R-square of standard deviations (negative), mean (sem): ', end='')\nprint (f'{mean_r_square_sd_neg:0.3f} ({sem_square_sd_neg:0.3f})')\nprint ('R-square of standard deviations (positive), mean (sem): ', end='')\nprint (f'{mean_r_square_sd_pos:0.3f} ({sem_square_sd_pos:0.3f})')",
      "execution_count": null,
      "outputs": []
    },
    {
      "cell_type": "code",
      "metadata": {
        "tags": [],
        "cell_id": "00013-f5f205fa-17f5-4809-af85-c7fb4bd84d4e",
        "deepnote_to_be_reexecuted": true,
        "source_hash": "b623e53d",
        "execution_millis": 1,
        "deepnote_cell_type": "code"
      },
      "source": "descriptive_stats_all_runs[0]",
      "execution_count": null,
      "outputs": []
    },
    {
      "cell_type": "code",
      "metadata": {
        "tags": [],
        "cell_id": "00020-cbff418a-5a41-4168-9541-4c12c82d1c4d",
        "deepnote_to_be_reexecuted": true,
        "source_hash": "b623e53d",
        "deepnote_cell_type": "code"
      },
      "source": "neg_correlation_original = []\nneg_correlation_synthetic = []\npos_correlation_original = []\npos_correlation_synthetic = []\n\ncorrel_coeff_neg = []\ncorrel_coeff_pos= []\n\n# Original data\nmask = original_data['label'] == 0\nneg_o = original_data[mask].copy()\nneg_o.drop('label', axis=1, inplace=True)\nneg_correlation_original = neg_o.corr().values.flatten()\n\nmask = original_data['label'] == 1\npos_o = original_data[mask].copy()\npos_o.drop('label', axis=1, inplace=True)\npos_correlation_original = pos_o.corr().values.flatten()\n\n# Synthetic data\nfor i in range (number_of_runs):\n    data_s = synthetic_data[i]\n    \n    mask = data_s['label'] == 0\n    neg_s = data_s[mask].copy()\n    neg_s.drop('label', axis=1, inplace=True)\n    corr_neg_s = neg_s.corr().values.flatten()\n    neg_correlation_synthetic.append(corr_neg_s)\n    \n    mask = data_s['label'] == 1\n    pos_s = data_s[mask].copy()\n    pos_s.drop('label', axis=1, inplace=True)\n    corr_pos_s = pos_s.corr().values.flatten()\n    pos_correlation_synthetic.append(corr_pos_s)\n\n    # Get correlation coefficients\n    df = pd.DataFrame()\n    df['original'] = neg_correlation_original\n    df['synthetic'] = corr_neg_s    \n    correl_coeff_neg.append(df.corr().loc['original']['synthetic'])    \n    \n    df = pd.DataFrame()\n    df['original'] = pos_correlation_original\n    df['synthetic'] = corr_pos_s\n    correl_coeff_pos.append(df.corr().loc['original']['synthetic'])",
      "execution_count": null,
      "outputs": []
    },
    {
      "cell_type": "code",
      "metadata": {
        "tags": [],
        "cell_id": "00023-940bbd9d-4dd1-4ab7-8724-847d95f55ed8",
        "deepnote_cell_type": "code"
      },
      "source": "colours = ['k', 'b', 'g', 'r', 'y', 'c', 'm']\nfig = plt.figure(figsize=(10,5))\n\nax1 = fig.add_subplot(121)\nfor run in range(number_of_runs):\n    colour = colours[run % 7] # Cycle through 7 colours\n    ax1.scatter(\n        neg_correlation_original,\n        neg_correlation_synthetic[run],\n        color=colour,\n        alpha=0.25)\nax1.grid()\nax1.set_xlabel('Original data correlation')\nax1.set_ylabel('Synthetic data correlation')\nax1.set_title('Negative label samples correlation of features')\n\nax2 = fig.add_subplot(122)\nfor run in range(number_of_runs):\n    colour = colours[run % 7] # Cycle through 7 colours\n    ax2.scatter(\n        pos_correlation_original,\n        pos_correlation_synthetic[run],\n        color=colour,\n        alpha=0.25)\nax2.grid()\nax2.set_xlabel('Original data correlation')\nax2.set_ylabel('Synthetic data correlation')\nax2.set_title('Positive label samples correlation of features')\n\nplt.tight_layout(pad=2)\n#plt.savefig('Output/smote_cov.png', facecolor='w', dpi=300)\nplt.show()",
      "execution_count": null,
      "outputs": []
    },
    {
      "cell_type": "code",
      "metadata": {
        "tags": [],
        "cell_id": "00024-7cca0e83-8888-4bc2-8f4f-a17d2f4b295c",
        "deepnote_cell_type": "code"
      },
      "source": "r_square_neg_mean = np.mean(np.square(correl_coeff_neg))\nr_square_pos_mean = np.mean(np.square(correl_coeff_pos))\nr_square_neg_sem = np.std(np.square(correl_coeff_neg))/np.sqrt(number_of_runs)\nr_square_pos_sem = np.std(np.square(correl_coeff_pos))/np.sqrt(number_of_runs)\n\nprint ('Corrleation of correlations (negative), mean (sem): ', end='')\nprint (f'{r_square_neg_mean:0.3f} ({r_square_neg_sem:0.3f})')\nprint ('Corrleation of correlations (positive), mean (sem): ', end = '')",
      "execution_count": null,
      "outputs": []
    },
    {
      "cell_type": "code",
      "metadata": {
        "tags": [],
        "cell_id": "00014-22839f16-86ea-4b57-a623-80d9f3e6049e",
        "deepnote_to_be_reexecuted": true,
        "source_hash": "b623e53d",
        "execution_millis": 0,
        "deepnote_cell_type": "code"
      },
      "source": "",
      "execution_count": null,
      "outputs": []
    },
    {
      "cell_type": "markdown",
      "source": "GAN",
      "metadata": {
        "tags": [],
        "cell_id": "00022-d8750720-6e4d-423b-b9db-1299d59f0fe8",
        "deepnote_cell_type": "markdown"
      }
    },
    {
      "cell_type": "code",
      "metadata": {
        "tags": [],
        "cell_id": "00015-a0fbde43-46e4-4085-aa81-185a3ad326e6",
        "deepnote_to_be_reexecuted": false,
        "source_hash": "f7133b2a",
        "execution_millis": 10,
        "execution_start": 1615377381624,
        "deepnote_cell_type": "code"
      },
      "source": "device = torch.device(\"cuda\" if torch.cuda.is_available else \"cpu\")\ndevice = 'cpu'\nprint('Device in use:', device)",
      "execution_count": null,
      "outputs": [
        {
          "name": "stdout",
          "text": "Device in use: cpu\n",
          "output_type": "stream"
        }
      ]
    },
    {
      "cell_type": "markdown",
      "source": "Below we define the Standalone - Discriminator class for the GAN",
      "metadata": {
        "tags": [],
        "cell_id": "00027-ee28eec4-47ce-41c2-b53a-f0e2e45eeb6c",
        "deepnote_cell_type": "markdown"
      }
    },
    {
      "cell_type": "code",
      "metadata": {
        "tags": [],
        "cell_id": "00016-bd6c83d6-68fe-44f9-bbc1-78c8a765a152",
        "deepnote_to_be_reexecuted": false,
        "source_hash": "2161d21a",
        "execution_millis": 19,
        "execution_start": 1615377159709,
        "deepnote_cell_type": "code"
      },
      "source": "class Discriminator(torch.nn.Module):\n\n    def __init__(self, features):\n        \"\"\"\n        Constructor method for discriminator network.\n        Inherits from parent torch.nn.Module class.\n        \"\"\"\n        \n        # Inherit from parent class\n        super(Discriminator, self).__init__()\n        \n        # Define layers\n        self.fc1 = torch.nn.Linear(features, features * 5)\n        self.fc2 = torch.nn.Linear(features * 5, features * 5)\n        self.fc3 = torch.nn.Linear(features * 5, 1)\n\n    def forward(self, x):\n        \"\"\"Foward pass through network.\"\"\"\n        \n        x = self.fc1(x) # Fully connected layer\n        x = F.dropout(x, p=0.2) # Apply dropout\n        x = F.relu(x) # ReLU activation\n        x = self.fc2(x) # Fully connected layer\n        x = F.dropout(x, p=0.2) # Apply dropout\n        x = F.relu(x) # ReLU activation\n        x = self.fc3(x) # Fully connected layer\n        x = torch.sigmoid(x) # Sigmoid output (0-1)\n\n        return x",
      "execution_count": null,
      "outputs": []
    },
    {
      "cell_type": "markdown",
      "source": "Below we define the standalone-generator function",
      "metadata": {
        "tags": [],
        "cell_id": "00029-efd1fd01-a8bd-4ee3-8c0e-94944b48651f",
        "deepnote_cell_type": "markdown"
      }
    },
    {
      "cell_type": "code",
      "metadata": {
        "tags": [],
        "cell_id": "00029-195b136d-2c00-400f-accd-8659a3e0a1af",
        "deepnote_to_be_reexecuted": false,
        "source_hash": "992036b0",
        "execution_millis": 11,
        "execution_start": 1615377160617,
        "deepnote_cell_type": "code"
      },
      "source": "class Generator(torch.nn.Module):\n\n    def __init__(self, input_dim, features):\n        \"\"\"\n        Constructor method for generator network.\n        Inherits from parent torch.nn.Module class.\n        \"\"\"\n        \n        # Inherit from parent class\n        super(Generator, self).__init__()\n        \n        # Define layers\n        self.fc1 = torch.nn.Linear(input_dim, features * 5)\n        self.fc2 = torch.nn.Linear(features * 5, features * 5)\n        self.fc3 = torch.nn.Linear(features * 5, features)\n\n    def forward(self, x):\n        \"\"\"Foward pass through network.\"\"\"\n        \n        x = self.fc1(x) # Fully connected layer\n        x = F.dropout(x, p=0.2) # Apply dropout\n        x = F.relu(x) # ReLU activation\n        x = self.fc2(x) # Fully connected layer\n        x = F.dropout(x, p=0.2) # Apply dropout\n        x = F.relu(x) # ReLU activation\n        x = self.fc3(x) # Fully connected layer \n\n        return x",
      "execution_count": null,
      "outputs": []
    },
    {
      "cell_type": "markdown",
      "source": "Below is the function to generate real samples",
      "metadata": {
        "tags": [],
        "cell_id": "00031-05c06908-12f7-4fef-9bb6-714df46d4afc",
        "deepnote_cell_type": "markdown"
      }
    },
    {
      "cell_type": "code",
      "metadata": {
        "tags": [],
        "cell_id": "00031-4293f1a4-c8fa-4984-8a63-5995d2394ce6",
        "deepnote_to_be_reexecuted": false,
        "source_hash": "c45426cc",
        "execution_millis": 0,
        "execution_start": 1615377162616,
        "deepnote_cell_type": "code"
      },
      "source": "def generate_real_samples(X, n):\n    \"\"\"Sample data from real data set\"\"\"\n    \n    # Combine X and y, shuffle, split X and y and return sample\n    shuffle_index = np.random.permutation(np.arange(X.shape[0])) \n    shuffled = X[shuffle_index]\n    X_sample = shuffled[0:n]\n    y_sample = np.ones((n, 1))\n    \n    return X_sample, y_sample",
      "execution_count": null,
      "outputs": []
    },
    {
      "cell_type": "markdown",
      "source": "Below is the function to generate synthetic samples",
      "metadata": {
        "tags": [],
        "cell_id": "00033-31ce9965-192b-49bc-b4fc-c7ef9a7eef28",
        "deepnote_cell_type": "markdown"
      }
    },
    {
      "cell_type": "code",
      "metadata": {
        "tags": [],
        "cell_id": "00033-fe23522a-06d8-46a3-8a5b-9525b1eeceae",
        "deepnote_to_be_reexecuted": false,
        "source_hash": "e8d6ef0c",
        "execution_millis": 0,
        "execution_start": 1615377165264,
        "deepnote_cell_type": "code"
      },
      "source": "def generate_latent_points(latent_dim, n):\n    \"\"\"\n    Creates a NumPy array of random points for input into generator.\n    Size is number of replications needed * number of latent input features in\n    generator network.    \n    \"\"\"\n    \n    # generate points in the latent space\n    x_input = np.random.randn(latent_dim * n)\n    # reshape into a batch of inputs for the network\n    x_input = x_input.reshape(n, latent_dim)\n    \n    return x_input",
      "execution_count": null,
      "outputs": []
    },
    {
      "cell_type": "code",
      "metadata": {
        "tags": [],
        "cell_id": "00033-688f098f-581f-4ed8-9814-8617328ef478",
        "deepnote_to_be_reexecuted": false,
        "source_hash": "977bbc79",
        "execution_millis": 6,
        "execution_start": 1615377165499,
        "deepnote_cell_type": "code"
      },
      "source": "def generate_synthetic_samples(generator, latent_dim, n):\n    \"\"\"\n    Get synthetic data, by passing an array of random latent\n    points (input for generator network) to generator.\n    \"\"\"\n    \n    # generate points in latent space\n    x_input = generate_latent_points(latent_dim, n)\n    # predict outputs (use eval mode of generator)\n    generator.eval()\n    X = generator(torch.Tensor(x_input).to(device))\n    # Copy to CPU before converting to NumPy\n    X = X.to('cpu')\n    X = X.detach().numpy()\n    # create class labels\n    y = np.zeros((n, 1))\n    \n    return X, y",
      "execution_count": null,
      "outputs": []
    },
    {
      "cell_type": "markdown",
      "source": "Below is the function to train the discriminator and generator",
      "metadata": {
        "tags": [],
        "cell_id": "00034-fd6c37c7-b26b-41bb-be48-3db4987cc48f",
        "deepnote_cell_type": "markdown"
      }
    },
    {
      "cell_type": "code",
      "metadata": {
        "tags": [],
        "cell_id": "00035-86ff1bb3-2f12-41da-8237-337387eb5413",
        "deepnote_to_be_reexecuted": false,
        "source_hash": "103517c",
        "execution_millis": 0,
        "execution_start": 1615377172185,
        "deepnote_cell_type": "code"
      },
      "source": "def train(X, y, g_model, d_model, latent_dim, n_epochs, n_batch, learning_rate):\n    \"\"\"\n    Train discriminator and generator. \n    Training proceedsd through a number of epochs.\n    In each epoch the discriminaror is first trained with a batch of ral and\n    fake (synthetic samples), to learn to distinguish between fake and real. The\n    generator is trained by evaluating the output against whether it foolds the \n    discriminator into classifying the output as real.\n    \"\"\"\n\n    # Set up optimizers (generator network is set to have slower learning rate)\n    criterion = torch.nn.BCELoss()  # Binary cross entropy for both networks\n    d_optimizer = torch.optim.Adam(d_model.parameters(), lr=learning_rate)\n    g_optimizer = torch.optim.Adam(g_model.parameters(), lr=learning_rate/2)\n       \n    # loop through epochs\n    for i in range(n_epochs):\n\n        # PREPARE FAKE AND REAL DATA\n        # Use half batch size real, half batch size fake\n        half_batch = int(n_batch / 2)\n        x_real, y_real = generate_real_samples(X, half_batch)\n        x_fake, y_fake = generate_synthetic_samples(\n            g_model, latent_dim, half_batch)\n\n        # UPDATE DISCRIMINATOR\n        d_model.zero_grad() # reset optimizer\n        # Update on real data\n        x_train_tensor = torch.Tensor(x_real).to(device) # Convert to GPU tensor\n        y_train_tensor = torch.Tensor(y_real).to(device) # Convert to GPU tensor\n        ypred_train = d_model(x_train_tensor) # predict y\n        d_loss = criterion(ypred_train, y_train_tensor) # Calculate loss\n        d_loss.backward() # Back propagate loss through network\n        d_optimizer.step() # Update network to reduce loss\n        # Update on fake data\n        x_train_tensor = torch.Tensor(x_fake).to(device) # Convert to GPU tensor\n        y_train_tensor = torch.Tensor(y_fake).to(device) # Convert to GPU tensor\n        ypred_train = d_model(x_train_tensor) # predict y\n        d_loss = criterion(ypred_train, y_train_tensor) # Calculate loss\n        d_loss.backward() # Back propagate loss through network\n        d_optimizer.step() # Update network to reduce loss\n\n        # UPDATE GENERATOR\n        # Get generator output\n        x_gan_input = generate_latent_points(latent_dim, n_batch)\n        x_gan_output = g_model(torch.Tensor(x_gan_input).to(device))\n        # Get discriminator output from created samples\n        gan_judgement = d_model(x_gan_output)\n        # Create 'real sample' label for synthetic data to test whether \n        #   discriminator is fooled (no loss when discriminator is fooled)\n        y_gan_true_label = torch.Tensor(np.ones((n_batch, 1))).to(device)\n        # Get loss and update generator\n        g_model.zero_grad()\n        g_loss = criterion(gan_judgement, y_gan_true_label)\n        g_loss.backward() # Back propagate loss through network\n        g_optimizer.step() # Update network to reduce loss",
      "execution_count": null,
      "outputs": []
    },
    {
      "cell_type": "markdown",
      "source": "Putting the code all together",
      "metadata": {
        "tags": [],
        "cell_id": "00036-b3ebcd9a-1464-49ce-86ff-a090d496e0a0",
        "deepnote_cell_type": "markdown"
      }
    },
    {
      "cell_type": "code",
      "metadata": {
        "tags": [],
        "cell_id": "00036-8362b5f9-42e4-4cdd-be1f-00e68a0ed0ce",
        "deepnote_to_be_reexecuted": false,
        "source_hash": "fa7f76e2",
        "execution_millis": 0,
        "execution_start": 1615377174765,
        "deepnote_cell_type": "code"
      },
      "source": "def make_synthetic_data_gan(X_original, y_original, batch_size=32, \n                            latent_dim=12, epochs=25000, learning_rate=1e-3, \n                            number_of_samples=1000):\n    \n    \"\"\"\n    Synthetic data generation, using a GAN\n    \n    Inputs\n    ------\n    original_data: X, y numpy arrays\n    batch_size: batch size to use when training networks\n    latent_dim: input dimension for generator network\n    number_of_samples: number of synthetic samples to generate\n    n_components: number of principal components to use for data synthesis\n    \n    Returns\n    -------\n    X_synthetic: NumPy array\n    y_synthetic: NumPy array\n\n    \"\"\"\n        \n    # Split the training data into positive and negative\n    mask = y_original == 1\n    X_train_pos = X_original[mask]\n    y_train_pos = np.ones((X_train_pos.shape[0], 1))\n    \n    mask = y_original == 0\n    X_train_neg = X_original[mask]\n    y_train_neg = np.zeros((X_train_neg.shape[0], 1))\n    \n    # Set up list for positive and negative synthetic data sets\n    synthetic_X_sets = []\n    \n    # Run fit twice: once for positive label examples, the other for negative\n    for training_set in [(X_train_pos, y_train_pos),\n                         (X_train_neg, y_train_neg)]:\n        \n        X_train, y_train = training_set\n   \n        # create the discriminator\n        X_dim = X_train.shape[1]\n        discriminator = Discriminator(X_dim).to(device)\n            \n        # create the generator\n        generator = Generator(latent_dim, X_dim).to(device)\n        \n        # train model\n        train(X_train, y_train, generator, discriminator, latent_dim, epochs, \n                batch_size, learning_rate)\n        \n        # Use generator to create synthetic samples\n        x_fake, y_fake = generate_synthetic_samples(\n            generator, latent_dim, number_of_samples)    \n      \n        # Add to lists\n        synthetic_X_sets.append(x_fake)     \n        \n    # Combine positive and negative and shuffle rows\n    X_synthetic = np.concatenate(\n            (synthetic_X_sets[0], synthetic_X_sets[1]), axis=0)\n    \n    y_synthetic_pos = np.ones((number_of_samples, 1))\n    y_synthetic_neg = np.zeros((number_of_samples, 1))\n    y_synthetic = np.concatenate((y_synthetic_pos, y_synthetic_neg), axis=0)\n    \n    # Randomise order of X, y\n    synthetic = np.concatenate((X_synthetic, y_synthetic), axis=1)\n    shuffle_index = np.random.permutation(np.arange(X_synthetic.shape[0]))\n    synthetic = synthetic[shuffle_index]\n    X_synthetic = synthetic[:,0:-1]\n    y_synthetic = synthetic[:,-1]\n                                                                   \n    return X_synthetic, y_synthetic",
      "execution_count": null,
      "outputs": []
    },
    {
      "cell_type": "markdown",
      "source": " ## GAN Main Code",
      "metadata": {
        "tags": [],
        "cell_id": "00040-d8616cf1-c3af-4168-a7a7-2f458205c757",
        "deepnote_cell_type": "markdown"
      }
    },
    {
      "cell_type": "code",
      "metadata": {
        "tags": [],
        "cell_id": "00041-c6e67f0e-a49a-4975-b468-09fb68a84972",
        "deepnote_to_be_reexecuted": false,
        "source_hash": "12bbac9e",
        "execution_millis": 58,
        "execution_start": 1615300814530,
        "deepnote_cell_type": "code"
      },
      "source": "col_names = df.columns\nX",
      "execution_count": null,
      "outputs": [
        {
          "output_type": "execute_result",
          "execution_count": 33,
          "data": {
            "application/vnd.deepnote.dataframe.v2+json": {
              "row_count": 303,
              "column_count": 27,
              "columns": [
                {
                  "name": "age",
                  "dtype": "int64",
                  "stats": {
                    "unique_count": 41,
                    "nan_count": 0,
                    "min": 29,
                    "max": 77,
                    "histogram": [
                      {
                        "bin_start": 29,
                        "bin_end": 33.8,
                        "count": 1
                      },
                      {
                        "bin_start": 33.8,
                        "bin_end": 38.6,
                        "count": 11
                      },
                      {
                        "bin_start": 38.6,
                        "bin_end": 43.4,
                        "count": 33
                      },
                      {
                        "bin_start": 43.4,
                        "bin_end": 48.2,
                        "count": 38
                      },
                      {
                        "bin_start": 48.2,
                        "bin_end": 53,
                        "count": 37
                      },
                      {
                        "bin_start": 53,
                        "bin_end": 57.8,
                        "count": 60
                      },
                      {
                        "bin_start": 57.8,
                        "bin_end": 62.6,
                        "count": 63
                      },
                      {
                        "bin_start": 62.6,
                        "bin_end": 67.4,
                        "count": 43
                      },
                      {
                        "bin_start": 67.4,
                        "bin_end": 72.19999999999999,
                        "count": 14
                      },
                      {
                        "bin_start": 72.19999999999999,
                        "bin_end": 77,
                        "count": 3
                      }
                    ]
                  }
                },
                {
                  "name": "sex",
                  "dtype": "int64",
                  "stats": {
                    "unique_count": 2,
                    "nan_count": 0,
                    "min": 0,
                    "max": 1,
                    "histogram": [
                      {
                        "bin_start": 0,
                        "bin_end": 0.1,
                        "count": 96
                      },
                      {
                        "bin_start": 0.1,
                        "bin_end": 0.2,
                        "count": 0
                      },
                      {
                        "bin_start": 0.2,
                        "bin_end": 0.30000000000000004,
                        "count": 0
                      },
                      {
                        "bin_start": 0.30000000000000004,
                        "bin_end": 0.4,
                        "count": 0
                      },
                      {
                        "bin_start": 0.4,
                        "bin_end": 0.5,
                        "count": 0
                      },
                      {
                        "bin_start": 0.5,
                        "bin_end": 0.6000000000000001,
                        "count": 0
                      },
                      {
                        "bin_start": 0.6000000000000001,
                        "bin_end": 0.7000000000000001,
                        "count": 0
                      },
                      {
                        "bin_start": 0.7000000000000001,
                        "bin_end": 0.8,
                        "count": 0
                      },
                      {
                        "bin_start": 0.8,
                        "bin_end": 0.9,
                        "count": 0
                      },
                      {
                        "bin_start": 0.9,
                        "bin_end": 1,
                        "count": 207
                      }
                    ]
                  }
                },
                {
                  "name": "trestbps",
                  "dtype": "int64",
                  "stats": {
                    "unique_count": 49,
                    "nan_count": 0,
                    "min": 94,
                    "max": 200,
                    "histogram": [
                      {
                        "bin_start": 94,
                        "bin_end": 104.6,
                        "count": 10
                      },
                      {
                        "bin_start": 104.6,
                        "bin_end": 115.2,
                        "count": 42
                      },
                      {
                        "bin_start": 115.2,
                        "bin_end": 125.8,
                        "count": 67
                      },
                      {
                        "bin_start": 125.8,
                        "bin_end": 136.4,
                        "count": 74
                      },
                      {
                        "bin_start": 136.4,
                        "bin_end": 147,
                        "count": 57
                      },
                      {
                        "bin_start": 147,
                        "bin_end": 157.6,
                        "count": 27
                      },
                      {
                        "bin_start": 157.6,
                        "bin_end": 168.2,
                        "count": 13
                      },
                      {
                        "bin_start": 168.2,
                        "bin_end": 178.8,
                        "count": 8
                      },
                      {
                        "bin_start": 178.8,
                        "bin_end": 189.39999999999998,
                        "count": 3
                      },
                      {
                        "bin_start": 189.39999999999998,
                        "bin_end": 200,
                        "count": 2
                      }
                    ]
                  }
                },
                {
                  "name": "chol",
                  "dtype": "int64",
                  "stats": {
                    "unique_count": 152,
                    "nan_count": 0,
                    "min": 126,
                    "max": 564,
                    "histogram": [
                      {
                        "bin_start": 126,
                        "bin_end": 169.8,
                        "count": 12
                      },
                      {
                        "bin_start": 169.8,
                        "bin_end": 213.6,
                        "count": 73
                      },
                      {
                        "bin_start": 213.6,
                        "bin_end": 257.4,
                        "count": 106
                      },
                      {
                        "bin_start": 257.4,
                        "bin_end": 301.2,
                        "count": 69
                      },
                      {
                        "bin_start": 301.2,
                        "bin_end": 345,
                        "count": 35
                      },
                      {
                        "bin_start": 345,
                        "bin_end": 388.79999999999995,
                        "count": 3
                      },
                      {
                        "bin_start": 388.79999999999995,
                        "bin_end": 432.59999999999997,
                        "count": 4
                      },
                      {
                        "bin_start": 432.59999999999997,
                        "bin_end": 476.4,
                        "count": 0
                      },
                      {
                        "bin_start": 476.4,
                        "bin_end": 520.2,
                        "count": 0
                      },
                      {
                        "bin_start": 520.2,
                        "bin_end": 564,
                        "count": 1
                      }
                    ]
                  }
                },
                {
                  "name": "fbs",
                  "dtype": "int64",
                  "stats": {
                    "unique_count": 2,
                    "nan_count": 0,
                    "min": 0,
                    "max": 1,
                    "histogram": [
                      {
                        "bin_start": 0,
                        "bin_end": 0.1,
                        "count": 258
                      },
                      {
                        "bin_start": 0.1,
                        "bin_end": 0.2,
                        "count": 0
                      },
                      {
                        "bin_start": 0.2,
                        "bin_end": 0.30000000000000004,
                        "count": 0
                      },
                      {
                        "bin_start": 0.30000000000000004,
                        "bin_end": 0.4,
                        "count": 0
                      },
                      {
                        "bin_start": 0.4,
                        "bin_end": 0.5,
                        "count": 0
                      },
                      {
                        "bin_start": 0.5,
                        "bin_end": 0.6000000000000001,
                        "count": 0
                      },
                      {
                        "bin_start": 0.6000000000000001,
                        "bin_end": 0.7000000000000001,
                        "count": 0
                      },
                      {
                        "bin_start": 0.7000000000000001,
                        "bin_end": 0.8,
                        "count": 0
                      },
                      {
                        "bin_start": 0.8,
                        "bin_end": 0.9,
                        "count": 0
                      },
                      {
                        "bin_start": 0.9,
                        "bin_end": 1,
                        "count": 45
                      }
                    ]
                  }
                },
                {
                  "name": "thalach",
                  "dtype": "int64",
                  "stats": {
                    "unique_count": 91,
                    "nan_count": 0,
                    "min": 71,
                    "max": 202,
                    "histogram": [
                      {
                        "bin_start": 71,
                        "bin_end": 84.1,
                        "count": 1
                      },
                      {
                        "bin_start": 84.1,
                        "bin_end": 97.2,
                        "count": 6
                      },
                      {
                        "bin_start": 97.2,
                        "bin_end": 110.3,
                        "count": 11
                      },
                      {
                        "bin_start": 110.3,
                        "bin_end": 123.4,
                        "count": 26
                      },
                      {
                        "bin_start": 123.4,
                        "bin_end": 136.5,
                        "count": 35
                      },
                      {
                        "bin_start": 136.5,
                        "bin_end": 149.6,
                        "count": 53
                      },
                      {
                        "bin_start": 149.6,
                        "bin_end": 162.7,
                        "count": 77
                      },
                      {
                        "bin_start": 162.7,
                        "bin_end": 175.8,
                        "count": 63
                      },
                      {
                        "bin_start": 175.8,
                        "bin_end": 188.89999999999998,
                        "count": 26
                      },
                      {
                        "bin_start": 188.89999999999998,
                        "bin_end": 202,
                        "count": 5
                      }
                    ]
                  }
                },
                {
                  "name": "exang",
                  "dtype": "int64",
                  "stats": {
                    "unique_count": 2,
                    "nan_count": 0,
                    "min": 0,
                    "max": 1,
                    "histogram": [
                      {
                        "bin_start": 0,
                        "bin_end": 0.1,
                        "count": 204
                      },
                      {
                        "bin_start": 0.1,
                        "bin_end": 0.2,
                        "count": 0
                      },
                      {
                        "bin_start": 0.2,
                        "bin_end": 0.30000000000000004,
                        "count": 0
                      },
                      {
                        "bin_start": 0.30000000000000004,
                        "bin_end": 0.4,
                        "count": 0
                      },
                      {
                        "bin_start": 0.4,
                        "bin_end": 0.5,
                        "count": 0
                      },
                      {
                        "bin_start": 0.5,
                        "bin_end": 0.6000000000000001,
                        "count": 0
                      },
                      {
                        "bin_start": 0.6000000000000001,
                        "bin_end": 0.7000000000000001,
                        "count": 0
                      },
                      {
                        "bin_start": 0.7000000000000001,
                        "bin_end": 0.8,
                        "count": 0
                      },
                      {
                        "bin_start": 0.8,
                        "bin_end": 0.9,
                        "count": 0
                      },
                      {
                        "bin_start": 0.9,
                        "bin_end": 1,
                        "count": 99
                      }
                    ]
                  }
                },
                {
                  "name": "oldpeak",
                  "dtype": "float64",
                  "stats": {
                    "unique_count": 40,
                    "nan_count": 0,
                    "min": 0,
                    "max": 6.2,
                    "histogram": [
                      {
                        "bin_start": 0,
                        "bin_end": 0.62,
                        "count": 149
                      },
                      {
                        "bin_start": 0.62,
                        "bin_end": 1.24,
                        "count": 50
                      },
                      {
                        "bin_start": 1.24,
                        "bin_end": 1.8599999999999999,
                        "count": 40
                      },
                      {
                        "bin_start": 1.8599999999999999,
                        "bin_end": 2.48,
                        "count": 24
                      },
                      {
                        "bin_start": 2.48,
                        "bin_end": 3.1,
                        "count": 20
                      },
                      {
                        "bin_start": 3.1,
                        "bin_end": 3.7199999999999998,
                        "count": 11
                      },
                      {
                        "bin_start": 3.7199999999999998,
                        "bin_end": 4.34,
                        "count": 6
                      },
                      {
                        "bin_start": 4.34,
                        "bin_end": 4.96,
                        "count": 1
                      },
                      {
                        "bin_start": 4.96,
                        "bin_end": 5.58,
                        "count": 0
                      },
                      {
                        "bin_start": 5.58,
                        "bin_end": 6.2,
                        "count": 2
                      }
                    ]
                  }
                },
                {
                  "name": "cp_0",
                  "dtype": "uint8",
                  "stats": {
                    "unique_count": 2,
                    "nan_count": 0,
                    "min": 0,
                    "max": 1,
                    "histogram": [
                      {
                        "bin_start": 0,
                        "bin_end": 0.1,
                        "count": 160
                      },
                      {
                        "bin_start": 0.1,
                        "bin_end": 0.2,
                        "count": 0
                      },
                      {
                        "bin_start": 0.2,
                        "bin_end": 0.30000000000000004,
                        "count": 0
                      },
                      {
                        "bin_start": 0.30000000000000004,
                        "bin_end": 0.4,
                        "count": 0
                      },
                      {
                        "bin_start": 0.4,
                        "bin_end": 0.5,
                        "count": 0
                      },
                      {
                        "bin_start": 0.5,
                        "bin_end": 0.6000000000000001,
                        "count": 0
                      },
                      {
                        "bin_start": 0.6000000000000001,
                        "bin_end": 0.7000000000000001,
                        "count": 0
                      },
                      {
                        "bin_start": 0.7000000000000001,
                        "bin_end": 0.8,
                        "count": 0
                      },
                      {
                        "bin_start": 0.8,
                        "bin_end": 0.9,
                        "count": 0
                      },
                      {
                        "bin_start": 0.9,
                        "bin_end": 1,
                        "count": 143
                      }
                    ]
                  }
                },
                {
                  "name": "cp_1",
                  "dtype": "uint8",
                  "stats": {
                    "unique_count": 2,
                    "nan_count": 0,
                    "min": 0,
                    "max": 1,
                    "histogram": [
                      {
                        "bin_start": 0,
                        "bin_end": 0.1,
                        "count": 253
                      },
                      {
                        "bin_start": 0.1,
                        "bin_end": 0.2,
                        "count": 0
                      },
                      {
                        "bin_start": 0.2,
                        "bin_end": 0.30000000000000004,
                        "count": 0
                      },
                      {
                        "bin_start": 0.30000000000000004,
                        "bin_end": 0.4,
                        "count": 0
                      },
                      {
                        "bin_start": 0.4,
                        "bin_end": 0.5,
                        "count": 0
                      },
                      {
                        "bin_start": 0.5,
                        "bin_end": 0.6000000000000001,
                        "count": 0
                      },
                      {
                        "bin_start": 0.6000000000000001,
                        "bin_end": 0.7000000000000001,
                        "count": 0
                      },
                      {
                        "bin_start": 0.7000000000000001,
                        "bin_end": 0.8,
                        "count": 0
                      },
                      {
                        "bin_start": 0.8,
                        "bin_end": 0.9,
                        "count": 0
                      },
                      {
                        "bin_start": 0.9,
                        "bin_end": 1,
                        "count": 50
                      }
                    ]
                  }
                },
                {
                  "name": "cp_2",
                  "dtype": "uint8",
                  "stats": {
                    "unique_count": 2,
                    "nan_count": 0,
                    "min": 0,
                    "max": 1,
                    "histogram": [
                      {
                        "bin_start": 0,
                        "bin_end": 0.1,
                        "count": 216
                      },
                      {
                        "bin_start": 0.1,
                        "bin_end": 0.2,
                        "count": 0
                      },
                      {
                        "bin_start": 0.2,
                        "bin_end": 0.30000000000000004,
                        "count": 0
                      },
                      {
                        "bin_start": 0.30000000000000004,
                        "bin_end": 0.4,
                        "count": 0
                      },
                      {
                        "bin_start": 0.4,
                        "bin_end": 0.5,
                        "count": 0
                      },
                      {
                        "bin_start": 0.5,
                        "bin_end": 0.6000000000000001,
                        "count": 0
                      },
                      {
                        "bin_start": 0.6000000000000001,
                        "bin_end": 0.7000000000000001,
                        "count": 0
                      },
                      {
                        "bin_start": 0.7000000000000001,
                        "bin_end": 0.8,
                        "count": 0
                      },
                      {
                        "bin_start": 0.8,
                        "bin_end": 0.9,
                        "count": 0
                      },
                      {
                        "bin_start": 0.9,
                        "bin_end": 1,
                        "count": 87
                      }
                    ]
                  }
                },
                {
                  "name": "cp_3",
                  "dtype": "uint8",
                  "stats": {
                    "unique_count": 2,
                    "nan_count": 0,
                    "min": 0,
                    "max": 1,
                    "histogram": [
                      {
                        "bin_start": 0,
                        "bin_end": 0.1,
                        "count": 280
                      },
                      {
                        "bin_start": 0.1,
                        "bin_end": 0.2,
                        "count": 0
                      },
                      {
                        "bin_start": 0.2,
                        "bin_end": 0.30000000000000004,
                        "count": 0
                      },
                      {
                        "bin_start": 0.30000000000000004,
                        "bin_end": 0.4,
                        "count": 0
                      },
                      {
                        "bin_start": 0.4,
                        "bin_end": 0.5,
                        "count": 0
                      },
                      {
                        "bin_start": 0.5,
                        "bin_end": 0.6000000000000001,
                        "count": 0
                      },
                      {
                        "bin_start": 0.6000000000000001,
                        "bin_end": 0.7000000000000001,
                        "count": 0
                      },
                      {
                        "bin_start": 0.7000000000000001,
                        "bin_end": 0.8,
                        "count": 0
                      },
                      {
                        "bin_start": 0.8,
                        "bin_end": 0.9,
                        "count": 0
                      },
                      {
                        "bin_start": 0.9,
                        "bin_end": 1,
                        "count": 23
                      }
                    ]
                  }
                },
                {
                  "name": "restecg_0",
                  "dtype": "uint8",
                  "stats": {
                    "unique_count": 2,
                    "nan_count": 0,
                    "min": 0,
                    "max": 1,
                    "histogram": [
                      {
                        "bin_start": 0,
                        "bin_end": 0.1,
                        "count": 156
                      },
                      {
                        "bin_start": 0.1,
                        "bin_end": 0.2,
                        "count": 0
                      },
                      {
                        "bin_start": 0.2,
                        "bin_end": 0.30000000000000004,
                        "count": 0
                      },
                      {
                        "bin_start": 0.30000000000000004,
                        "bin_end": 0.4,
                        "count": 0
                      },
                      {
                        "bin_start": 0.4,
                        "bin_end": 0.5,
                        "count": 0
                      },
                      {
                        "bin_start": 0.5,
                        "bin_end": 0.6000000000000001,
                        "count": 0
                      },
                      {
                        "bin_start": 0.6000000000000001,
                        "bin_end": 0.7000000000000001,
                        "count": 0
                      },
                      {
                        "bin_start": 0.7000000000000001,
                        "bin_end": 0.8,
                        "count": 0
                      },
                      {
                        "bin_start": 0.8,
                        "bin_end": 0.9,
                        "count": 0
                      },
                      {
                        "bin_start": 0.9,
                        "bin_end": 1,
                        "count": 147
                      }
                    ]
                  }
                },
                {
                  "name": "restecg_1",
                  "dtype": "uint8",
                  "stats": {
                    "unique_count": 2,
                    "nan_count": 0,
                    "min": 0,
                    "max": 1,
                    "histogram": [
                      {
                        "bin_start": 0,
                        "bin_end": 0.1,
                        "count": 151
                      },
                      {
                        "bin_start": 0.1,
                        "bin_end": 0.2,
                        "count": 0
                      },
                      {
                        "bin_start": 0.2,
                        "bin_end": 0.30000000000000004,
                        "count": 0
                      },
                      {
                        "bin_start": 0.30000000000000004,
                        "bin_end": 0.4,
                        "count": 0
                      },
                      {
                        "bin_start": 0.4,
                        "bin_end": 0.5,
                        "count": 0
                      },
                      {
                        "bin_start": 0.5,
                        "bin_end": 0.6000000000000001,
                        "count": 0
                      },
                      {
                        "bin_start": 0.6000000000000001,
                        "bin_end": 0.7000000000000001,
                        "count": 0
                      },
                      {
                        "bin_start": 0.7000000000000001,
                        "bin_end": 0.8,
                        "count": 0
                      },
                      {
                        "bin_start": 0.8,
                        "bin_end": 0.9,
                        "count": 0
                      },
                      {
                        "bin_start": 0.9,
                        "bin_end": 1,
                        "count": 152
                      }
                    ]
                  }
                },
                {
                  "name": "restecg_2",
                  "dtype": "uint8",
                  "stats": {
                    "unique_count": 2,
                    "nan_count": 0,
                    "min": 0,
                    "max": 1,
                    "histogram": [
                      {
                        "bin_start": 0,
                        "bin_end": 0.1,
                        "count": 299
                      },
                      {
                        "bin_start": 0.1,
                        "bin_end": 0.2,
                        "count": 0
                      },
                      {
                        "bin_start": 0.2,
                        "bin_end": 0.30000000000000004,
                        "count": 0
                      },
                      {
                        "bin_start": 0.30000000000000004,
                        "bin_end": 0.4,
                        "count": 0
                      },
                      {
                        "bin_start": 0.4,
                        "bin_end": 0.5,
                        "count": 0
                      },
                      {
                        "bin_start": 0.5,
                        "bin_end": 0.6000000000000001,
                        "count": 0
                      },
                      {
                        "bin_start": 0.6000000000000001,
                        "bin_end": 0.7000000000000001,
                        "count": 0
                      },
                      {
                        "bin_start": 0.7000000000000001,
                        "bin_end": 0.8,
                        "count": 0
                      },
                      {
                        "bin_start": 0.8,
                        "bin_end": 0.9,
                        "count": 0
                      },
                      {
                        "bin_start": 0.9,
                        "bin_end": 1,
                        "count": 4
                      }
                    ]
                  }
                },
                {
                  "name": "slope_0",
                  "dtype": "uint8",
                  "stats": {
                    "unique_count": 2,
                    "nan_count": 0,
                    "min": 0,
                    "max": 1,
                    "histogram": [
                      {
                        "bin_start": 0,
                        "bin_end": 0.1,
                        "count": 282
                      },
                      {
                        "bin_start": 0.1,
                        "bin_end": 0.2,
                        "count": 0
                      },
                      {
                        "bin_start": 0.2,
                        "bin_end": 0.30000000000000004,
                        "count": 0
                      },
                      {
                        "bin_start": 0.30000000000000004,
                        "bin_end": 0.4,
                        "count": 0
                      },
                      {
                        "bin_start": 0.4,
                        "bin_end": 0.5,
                        "count": 0
                      },
                      {
                        "bin_start": 0.5,
                        "bin_end": 0.6000000000000001,
                        "count": 0
                      },
                      {
                        "bin_start": 0.6000000000000001,
                        "bin_end": 0.7000000000000001,
                        "count": 0
                      },
                      {
                        "bin_start": 0.7000000000000001,
                        "bin_end": 0.8,
                        "count": 0
                      },
                      {
                        "bin_start": 0.8,
                        "bin_end": 0.9,
                        "count": 0
                      },
                      {
                        "bin_start": 0.9,
                        "bin_end": 1,
                        "count": 21
                      }
                    ]
                  }
                },
                {
                  "name": "slope_1",
                  "dtype": "uint8",
                  "stats": {
                    "unique_count": 2,
                    "nan_count": 0,
                    "min": 0,
                    "max": 1,
                    "histogram": [
                      {
                        "bin_start": 0,
                        "bin_end": 0.1,
                        "count": 163
                      },
                      {
                        "bin_start": 0.1,
                        "bin_end": 0.2,
                        "count": 0
                      },
                      {
                        "bin_start": 0.2,
                        "bin_end": 0.30000000000000004,
                        "count": 0
                      },
                      {
                        "bin_start": 0.30000000000000004,
                        "bin_end": 0.4,
                        "count": 0
                      },
                      {
                        "bin_start": 0.4,
                        "bin_end": 0.5,
                        "count": 0
                      },
                      {
                        "bin_start": 0.5,
                        "bin_end": 0.6000000000000001,
                        "count": 0
                      },
                      {
                        "bin_start": 0.6000000000000001,
                        "bin_end": 0.7000000000000001,
                        "count": 0
                      },
                      {
                        "bin_start": 0.7000000000000001,
                        "bin_end": 0.8,
                        "count": 0
                      },
                      {
                        "bin_start": 0.8,
                        "bin_end": 0.9,
                        "count": 0
                      },
                      {
                        "bin_start": 0.9,
                        "bin_end": 1,
                        "count": 140
                      }
                    ]
                  }
                },
                {
                  "name": "slope_2",
                  "dtype": "uint8",
                  "stats": {
                    "unique_count": 2,
                    "nan_count": 0,
                    "min": 0,
                    "max": 1,
                    "histogram": [
                      {
                        "bin_start": 0,
                        "bin_end": 0.1,
                        "count": 161
                      },
                      {
                        "bin_start": 0.1,
                        "bin_end": 0.2,
                        "count": 0
                      },
                      {
                        "bin_start": 0.2,
                        "bin_end": 0.30000000000000004,
                        "count": 0
                      },
                      {
                        "bin_start": 0.30000000000000004,
                        "bin_end": 0.4,
                        "count": 0
                      },
                      {
                        "bin_start": 0.4,
                        "bin_end": 0.5,
                        "count": 0
                      },
                      {
                        "bin_start": 0.5,
                        "bin_end": 0.6000000000000001,
                        "count": 0
                      },
                      {
                        "bin_start": 0.6000000000000001,
                        "bin_end": 0.7000000000000001,
                        "count": 0
                      },
                      {
                        "bin_start": 0.7000000000000001,
                        "bin_end": 0.8,
                        "count": 0
                      },
                      {
                        "bin_start": 0.8,
                        "bin_end": 0.9,
                        "count": 0
                      },
                      {
                        "bin_start": 0.9,
                        "bin_end": 1,
                        "count": 142
                      }
                    ]
                  }
                },
                {
                  "name": "ca_0",
                  "dtype": "uint8",
                  "stats": {
                    "unique_count": 2,
                    "nan_count": 0,
                    "min": 0,
                    "max": 1,
                    "histogram": [
                      {
                        "bin_start": 0,
                        "bin_end": 0.1,
                        "count": 128
                      },
                      {
                        "bin_start": 0.1,
                        "bin_end": 0.2,
                        "count": 0
                      },
                      {
                        "bin_start": 0.2,
                        "bin_end": 0.30000000000000004,
                        "count": 0
                      },
                      {
                        "bin_start": 0.30000000000000004,
                        "bin_end": 0.4,
                        "count": 0
                      },
                      {
                        "bin_start": 0.4,
                        "bin_end": 0.5,
                        "count": 0
                      },
                      {
                        "bin_start": 0.5,
                        "bin_end": 0.6000000000000001,
                        "count": 0
                      },
                      {
                        "bin_start": 0.6000000000000001,
                        "bin_end": 0.7000000000000001,
                        "count": 0
                      },
                      {
                        "bin_start": 0.7000000000000001,
                        "bin_end": 0.8,
                        "count": 0
                      },
                      {
                        "bin_start": 0.8,
                        "bin_end": 0.9,
                        "count": 0
                      },
                      {
                        "bin_start": 0.9,
                        "bin_end": 1,
                        "count": 175
                      }
                    ]
                  }
                },
                {
                  "name": "ca_1",
                  "dtype": "uint8",
                  "stats": {
                    "unique_count": 2,
                    "nan_count": 0,
                    "min": 0,
                    "max": 1,
                    "histogram": [
                      {
                        "bin_start": 0,
                        "bin_end": 0.1,
                        "count": 238
                      },
                      {
                        "bin_start": 0.1,
                        "bin_end": 0.2,
                        "count": 0
                      },
                      {
                        "bin_start": 0.2,
                        "bin_end": 0.30000000000000004,
                        "count": 0
                      },
                      {
                        "bin_start": 0.30000000000000004,
                        "bin_end": 0.4,
                        "count": 0
                      },
                      {
                        "bin_start": 0.4,
                        "bin_end": 0.5,
                        "count": 0
                      },
                      {
                        "bin_start": 0.5,
                        "bin_end": 0.6000000000000001,
                        "count": 0
                      },
                      {
                        "bin_start": 0.6000000000000001,
                        "bin_end": 0.7000000000000001,
                        "count": 0
                      },
                      {
                        "bin_start": 0.7000000000000001,
                        "bin_end": 0.8,
                        "count": 0
                      },
                      {
                        "bin_start": 0.8,
                        "bin_end": 0.9,
                        "count": 0
                      },
                      {
                        "bin_start": 0.9,
                        "bin_end": 1,
                        "count": 65
                      }
                    ]
                  }
                },
                {
                  "name": "ca_2",
                  "dtype": "uint8",
                  "stats": {
                    "unique_count": 2,
                    "nan_count": 0,
                    "min": 0,
                    "max": 1,
                    "histogram": [
                      {
                        "bin_start": 0,
                        "bin_end": 0.1,
                        "count": 265
                      },
                      {
                        "bin_start": 0.1,
                        "bin_end": 0.2,
                        "count": 0
                      },
                      {
                        "bin_start": 0.2,
                        "bin_end": 0.30000000000000004,
                        "count": 0
                      },
                      {
                        "bin_start": 0.30000000000000004,
                        "bin_end": 0.4,
                        "count": 0
                      },
                      {
                        "bin_start": 0.4,
                        "bin_end": 0.5,
                        "count": 0
                      },
                      {
                        "bin_start": 0.5,
                        "bin_end": 0.6000000000000001,
                        "count": 0
                      },
                      {
                        "bin_start": 0.6000000000000001,
                        "bin_end": 0.7000000000000001,
                        "count": 0
                      },
                      {
                        "bin_start": 0.7000000000000001,
                        "bin_end": 0.8,
                        "count": 0
                      },
                      {
                        "bin_start": 0.8,
                        "bin_end": 0.9,
                        "count": 0
                      },
                      {
                        "bin_start": 0.9,
                        "bin_end": 1,
                        "count": 38
                      }
                    ]
                  }
                },
                {
                  "name": "ca_3",
                  "dtype": "uint8",
                  "stats": {
                    "unique_count": 2,
                    "nan_count": 0,
                    "min": 0,
                    "max": 1,
                    "histogram": [
                      {
                        "bin_start": 0,
                        "bin_end": 0.1,
                        "count": 283
                      },
                      {
                        "bin_start": 0.1,
                        "bin_end": 0.2,
                        "count": 0
                      },
                      {
                        "bin_start": 0.2,
                        "bin_end": 0.30000000000000004,
                        "count": 0
                      },
                      {
                        "bin_start": 0.30000000000000004,
                        "bin_end": 0.4,
                        "count": 0
                      },
                      {
                        "bin_start": 0.4,
                        "bin_end": 0.5,
                        "count": 0
                      },
                      {
                        "bin_start": 0.5,
                        "bin_end": 0.6000000000000001,
                        "count": 0
                      },
                      {
                        "bin_start": 0.6000000000000001,
                        "bin_end": 0.7000000000000001,
                        "count": 0
                      },
                      {
                        "bin_start": 0.7000000000000001,
                        "bin_end": 0.8,
                        "count": 0
                      },
                      {
                        "bin_start": 0.8,
                        "bin_end": 0.9,
                        "count": 0
                      },
                      {
                        "bin_start": 0.9,
                        "bin_end": 1,
                        "count": 20
                      }
                    ]
                  }
                },
                {
                  "name": "ca_4",
                  "dtype": "uint8",
                  "stats": {
                    "unique_count": 2,
                    "nan_count": 0,
                    "min": 0,
                    "max": 1,
                    "histogram": [
                      {
                        "bin_start": 0,
                        "bin_end": 0.1,
                        "count": 298
                      },
                      {
                        "bin_start": 0.1,
                        "bin_end": 0.2,
                        "count": 0
                      },
                      {
                        "bin_start": 0.2,
                        "bin_end": 0.30000000000000004,
                        "count": 0
                      },
                      {
                        "bin_start": 0.30000000000000004,
                        "bin_end": 0.4,
                        "count": 0
                      },
                      {
                        "bin_start": 0.4,
                        "bin_end": 0.5,
                        "count": 0
                      },
                      {
                        "bin_start": 0.5,
                        "bin_end": 0.6000000000000001,
                        "count": 0
                      },
                      {
                        "bin_start": 0.6000000000000001,
                        "bin_end": 0.7000000000000001,
                        "count": 0
                      },
                      {
                        "bin_start": 0.7000000000000001,
                        "bin_end": 0.8,
                        "count": 0
                      },
                      {
                        "bin_start": 0.8,
                        "bin_end": 0.9,
                        "count": 0
                      },
                      {
                        "bin_start": 0.9,
                        "bin_end": 1,
                        "count": 5
                      }
                    ]
                  }
                },
                {
                  "name": "thal_0",
                  "dtype": "uint8",
                  "stats": {
                    "unique_count": 2,
                    "nan_count": 0,
                    "min": 0,
                    "max": 1,
                    "histogram": [
                      {
                        "bin_start": 0,
                        "bin_end": 0.1,
                        "count": 301
                      },
                      {
                        "bin_start": 0.1,
                        "bin_end": 0.2,
                        "count": 0
                      },
                      {
                        "bin_start": 0.2,
                        "bin_end": 0.30000000000000004,
                        "count": 0
                      },
                      {
                        "bin_start": 0.30000000000000004,
                        "bin_end": 0.4,
                        "count": 0
                      },
                      {
                        "bin_start": 0.4,
                        "bin_end": 0.5,
                        "count": 0
                      },
                      {
                        "bin_start": 0.5,
                        "bin_end": 0.6000000000000001,
                        "count": 0
                      },
                      {
                        "bin_start": 0.6000000000000001,
                        "bin_end": 0.7000000000000001,
                        "count": 0
                      },
                      {
                        "bin_start": 0.7000000000000001,
                        "bin_end": 0.8,
                        "count": 0
                      },
                      {
                        "bin_start": 0.8,
                        "bin_end": 0.9,
                        "count": 0
                      },
                      {
                        "bin_start": 0.9,
                        "bin_end": 1,
                        "count": 2
                      }
                    ]
                  }
                },
                {
                  "name": "thal_1",
                  "dtype": "uint8",
                  "stats": {
                    "unique_count": 2,
                    "nan_count": 0,
                    "min": 0,
                    "max": 1,
                    "histogram": [
                      {
                        "bin_start": 0,
                        "bin_end": 0.1,
                        "count": 285
                      },
                      {
                        "bin_start": 0.1,
                        "bin_end": 0.2,
                        "count": 0
                      },
                      {
                        "bin_start": 0.2,
                        "bin_end": 0.30000000000000004,
                        "count": 0
                      },
                      {
                        "bin_start": 0.30000000000000004,
                        "bin_end": 0.4,
                        "count": 0
                      },
                      {
                        "bin_start": 0.4,
                        "bin_end": 0.5,
                        "count": 0
                      },
                      {
                        "bin_start": 0.5,
                        "bin_end": 0.6000000000000001,
                        "count": 0
                      },
                      {
                        "bin_start": 0.6000000000000001,
                        "bin_end": 0.7000000000000001,
                        "count": 0
                      },
                      {
                        "bin_start": 0.7000000000000001,
                        "bin_end": 0.8,
                        "count": 0
                      },
                      {
                        "bin_start": 0.8,
                        "bin_end": 0.9,
                        "count": 0
                      },
                      {
                        "bin_start": 0.9,
                        "bin_end": 1,
                        "count": 18
                      }
                    ]
                  }
                },
                {
                  "name": "thal_2",
                  "dtype": "uint8",
                  "stats": {
                    "unique_count": 2,
                    "nan_count": 0,
                    "min": 0,
                    "max": 1,
                    "histogram": [
                      {
                        "bin_start": 0,
                        "bin_end": 0.1,
                        "count": 137
                      },
                      {
                        "bin_start": 0.1,
                        "bin_end": 0.2,
                        "count": 0
                      },
                      {
                        "bin_start": 0.2,
                        "bin_end": 0.30000000000000004,
                        "count": 0
                      },
                      {
                        "bin_start": 0.30000000000000004,
                        "bin_end": 0.4,
                        "count": 0
                      },
                      {
                        "bin_start": 0.4,
                        "bin_end": 0.5,
                        "count": 0
                      },
                      {
                        "bin_start": 0.5,
                        "bin_end": 0.6000000000000001,
                        "count": 0
                      },
                      {
                        "bin_start": 0.6000000000000001,
                        "bin_end": 0.7000000000000001,
                        "count": 0
                      },
                      {
                        "bin_start": 0.7000000000000001,
                        "bin_end": 0.8,
                        "count": 0
                      },
                      {
                        "bin_start": 0.8,
                        "bin_end": 0.9,
                        "count": 0
                      },
                      {
                        "bin_start": 0.9,
                        "bin_end": 1,
                        "count": 166
                      }
                    ]
                  }
                },
                {
                  "name": "thal_3",
                  "dtype": "uint8",
                  "stats": {
                    "unique_count": 2,
                    "nan_count": 0,
                    "min": 0,
                    "max": 1,
                    "histogram": [
                      {
                        "bin_start": 0,
                        "bin_end": 0.1,
                        "count": 186
                      },
                      {
                        "bin_start": 0.1,
                        "bin_end": 0.2,
                        "count": 0
                      },
                      {
                        "bin_start": 0.2,
                        "bin_end": 0.30000000000000004,
                        "count": 0
                      },
                      {
                        "bin_start": 0.30000000000000004,
                        "bin_end": 0.4,
                        "count": 0
                      },
                      {
                        "bin_start": 0.4,
                        "bin_end": 0.5,
                        "count": 0
                      },
                      {
                        "bin_start": 0.5,
                        "bin_end": 0.6000000000000001,
                        "count": 0
                      },
                      {
                        "bin_start": 0.6000000000000001,
                        "bin_end": 0.7000000000000001,
                        "count": 0
                      },
                      {
                        "bin_start": 0.7000000000000001,
                        "bin_end": 0.8,
                        "count": 0
                      },
                      {
                        "bin_start": 0.8,
                        "bin_end": 0.9,
                        "count": 0
                      },
                      {
                        "bin_start": 0.9,
                        "bin_end": 1,
                        "count": 117
                      }
                    ]
                  }
                },
                {
                  "name": "_deepnote_index_column",
                  "dtype": "int64"
                }
              ],
              "rows_top": [
                {
                  "age": 63,
                  "sex": 1,
                  "trestbps": 145,
                  "chol": 233,
                  "fbs": 1,
                  "thalach": 150,
                  "exang": 0,
                  "oldpeak": 2.3,
                  "cp_0": 0,
                  "cp_1": 0,
                  "cp_2": 0,
                  "cp_3": 1,
                  "restecg_0": 1,
                  "restecg_1": 0,
                  "restecg_2": 0,
                  "slope_0": 1,
                  "slope_1": 0,
                  "slope_2": 0,
                  "ca_0": 1,
                  "ca_1": 0,
                  "ca_2": 0,
                  "ca_3": 0,
                  "ca_4": 0,
                  "thal_0": 0,
                  "thal_1": 1,
                  "thal_2": 0,
                  "thal_3": 0,
                  "_deepnote_index_column": 0
                },
                {
                  "age": 37,
                  "sex": 1,
                  "trestbps": 130,
                  "chol": 250,
                  "fbs": 0,
                  "thalach": 187,
                  "exang": 0,
                  "oldpeak": 3.5,
                  "cp_0": 0,
                  "cp_1": 0,
                  "cp_2": 1,
                  "cp_3": 0,
                  "restecg_0": 0,
                  "restecg_1": 1,
                  "restecg_2": 0,
                  "slope_0": 1,
                  "slope_1": 0,
                  "slope_2": 0,
                  "ca_0": 1,
                  "ca_1": 0,
                  "ca_2": 0,
                  "ca_3": 0,
                  "ca_4": 0,
                  "thal_0": 0,
                  "thal_1": 0,
                  "thal_2": 1,
                  "thal_3": 0,
                  "_deepnote_index_column": 1
                },
                {
                  "age": 41,
                  "sex": 0,
                  "trestbps": 130,
                  "chol": 204,
                  "fbs": 0,
                  "thalach": 172,
                  "exang": 0,
                  "oldpeak": 1.4,
                  "cp_0": 0,
                  "cp_1": 1,
                  "cp_2": 0,
                  "cp_3": 0,
                  "restecg_0": 1,
                  "restecg_1": 0,
                  "restecg_2": 0,
                  "slope_0": 0,
                  "slope_1": 0,
                  "slope_2": 1,
                  "ca_0": 1,
                  "ca_1": 0,
                  "ca_2": 0,
                  "ca_3": 0,
                  "ca_4": 0,
                  "thal_0": 0,
                  "thal_1": 0,
                  "thal_2": 1,
                  "thal_3": 0,
                  "_deepnote_index_column": 2
                },
                {
                  "age": 56,
                  "sex": 1,
                  "trestbps": 120,
                  "chol": 236,
                  "fbs": 0,
                  "thalach": 178,
                  "exang": 0,
                  "oldpeak": 0.8,
                  "cp_0": 0,
                  "cp_1": 1,
                  "cp_2": 0,
                  "cp_3": 0,
                  "restecg_0": 0,
                  "restecg_1": 1,
                  "restecg_2": 0,
                  "slope_0": 0,
                  "slope_1": 0,
                  "slope_2": 1,
                  "ca_0": 1,
                  "ca_1": 0,
                  "ca_2": 0,
                  "ca_3": 0,
                  "ca_4": 0,
                  "thal_0": 0,
                  "thal_1": 0,
                  "thal_2": 1,
                  "thal_3": 0,
                  "_deepnote_index_column": 3
                },
                {
                  "age": 57,
                  "sex": 0,
                  "trestbps": 120,
                  "chol": 354,
                  "fbs": 0,
                  "thalach": 163,
                  "exang": 1,
                  "oldpeak": 0.6,
                  "cp_0": 1,
                  "cp_1": 0,
                  "cp_2": 0,
                  "cp_3": 0,
                  "restecg_0": 0,
                  "restecg_1": 1,
                  "restecg_2": 0,
                  "slope_0": 0,
                  "slope_1": 0,
                  "slope_2": 1,
                  "ca_0": 1,
                  "ca_1": 0,
                  "ca_2": 0,
                  "ca_3": 0,
                  "ca_4": 0,
                  "thal_0": 0,
                  "thal_1": 0,
                  "thal_2": 1,
                  "thal_3": 0,
                  "_deepnote_index_column": 4
                },
                {
                  "age": 57,
                  "sex": 1,
                  "trestbps": 140,
                  "chol": 192,
                  "fbs": 0,
                  "thalach": 148,
                  "exang": 0,
                  "oldpeak": 0.4,
                  "cp_0": 1,
                  "cp_1": 0,
                  "cp_2": 0,
                  "cp_3": 0,
                  "restecg_0": 0,
                  "restecg_1": 1,
                  "restecg_2": 0,
                  "slope_0": 0,
                  "slope_1": 1,
                  "slope_2": 0,
                  "ca_0": 1,
                  "ca_1": 0,
                  "ca_2": 0,
                  "ca_3": 0,
                  "ca_4": 0,
                  "thal_0": 0,
                  "thal_1": 1,
                  "thal_2": 0,
                  "thal_3": 0,
                  "_deepnote_index_column": 5
                },
                {
                  "age": 56,
                  "sex": 0,
                  "trestbps": 140,
                  "chol": 294,
                  "fbs": 0,
                  "thalach": 153,
                  "exang": 0,
                  "oldpeak": 1.3,
                  "cp_0": 0,
                  "cp_1": 1,
                  "cp_2": 0,
                  "cp_3": 0,
                  "restecg_0": 1,
                  "restecg_1": 0,
                  "restecg_2": 0,
                  "slope_0": 0,
                  "slope_1": 1,
                  "slope_2": 0,
                  "ca_0": 1,
                  "ca_1": 0,
                  "ca_2": 0,
                  "ca_3": 0,
                  "ca_4": 0,
                  "thal_0": 0,
                  "thal_1": 0,
                  "thal_2": 1,
                  "thal_3": 0,
                  "_deepnote_index_column": 6
                },
                {
                  "age": 44,
                  "sex": 1,
                  "trestbps": 120,
                  "chol": 263,
                  "fbs": 0,
                  "thalach": 173,
                  "exang": 0,
                  "oldpeak": 0,
                  "cp_0": 0,
                  "cp_1": 1,
                  "cp_2": 0,
                  "cp_3": 0,
                  "restecg_0": 0,
                  "restecg_1": 1,
                  "restecg_2": 0,
                  "slope_0": 0,
                  "slope_1": 0,
                  "slope_2": 1,
                  "ca_0": 1,
                  "ca_1": 0,
                  "ca_2": 0,
                  "ca_3": 0,
                  "ca_4": 0,
                  "thal_0": 0,
                  "thal_1": 0,
                  "thal_2": 0,
                  "thal_3": 1,
                  "_deepnote_index_column": 7
                },
                {
                  "age": 52,
                  "sex": 1,
                  "trestbps": 172,
                  "chol": 199,
                  "fbs": 1,
                  "thalach": 162,
                  "exang": 0,
                  "oldpeak": 0.5,
                  "cp_0": 0,
                  "cp_1": 0,
                  "cp_2": 1,
                  "cp_3": 0,
                  "restecg_0": 0,
                  "restecg_1": 1,
                  "restecg_2": 0,
                  "slope_0": 0,
                  "slope_1": 0,
                  "slope_2": 1,
                  "ca_0": 1,
                  "ca_1": 0,
                  "ca_2": 0,
                  "ca_3": 0,
                  "ca_4": 0,
                  "thal_0": 0,
                  "thal_1": 0,
                  "thal_2": 0,
                  "thal_3": 1,
                  "_deepnote_index_column": 8
                },
                {
                  "age": 57,
                  "sex": 1,
                  "trestbps": 150,
                  "chol": 168,
                  "fbs": 0,
                  "thalach": 174,
                  "exang": 0,
                  "oldpeak": 1.6,
                  "cp_0": 0,
                  "cp_1": 0,
                  "cp_2": 1,
                  "cp_3": 0,
                  "restecg_0": 0,
                  "restecg_1": 1,
                  "restecg_2": 0,
                  "slope_0": 0,
                  "slope_1": 0,
                  "slope_2": 1,
                  "ca_0": 1,
                  "ca_1": 0,
                  "ca_2": 0,
                  "ca_3": 0,
                  "ca_4": 0,
                  "thal_0": 0,
                  "thal_1": 0,
                  "thal_2": 1,
                  "thal_3": 0,
                  "_deepnote_index_column": 9
                },
                {
                  "age": 54,
                  "sex": 1,
                  "trestbps": 140,
                  "chol": 239,
                  "fbs": 0,
                  "thalach": 160,
                  "exang": 0,
                  "oldpeak": 1.2,
                  "cp_0": 1,
                  "cp_1": 0,
                  "cp_2": 0,
                  "cp_3": 0,
                  "restecg_0": 0,
                  "restecg_1": 1,
                  "restecg_2": 0,
                  "slope_0": 0,
                  "slope_1": 0,
                  "slope_2": 1,
                  "ca_0": 1,
                  "ca_1": 0,
                  "ca_2": 0,
                  "ca_3": 0,
                  "ca_4": 0,
                  "thal_0": 0,
                  "thal_1": 0,
                  "thal_2": 1,
                  "thal_3": 0,
                  "_deepnote_index_column": 10
                },
                {
                  "age": 48,
                  "sex": 0,
                  "trestbps": 130,
                  "chol": 275,
                  "fbs": 0,
                  "thalach": 139,
                  "exang": 0,
                  "oldpeak": 0.2,
                  "cp_0": 0,
                  "cp_1": 0,
                  "cp_2": 1,
                  "cp_3": 0,
                  "restecg_0": 0,
                  "restecg_1": 1,
                  "restecg_2": 0,
                  "slope_0": 0,
                  "slope_1": 0,
                  "slope_2": 1,
                  "ca_0": 1,
                  "ca_1": 0,
                  "ca_2": 0,
                  "ca_3": 0,
                  "ca_4": 0,
                  "thal_0": 0,
                  "thal_1": 0,
                  "thal_2": 1,
                  "thal_3": 0,
                  "_deepnote_index_column": 11
                },
                {
                  "age": 49,
                  "sex": 1,
                  "trestbps": 130,
                  "chol": 266,
                  "fbs": 0,
                  "thalach": 171,
                  "exang": 0,
                  "oldpeak": 0.6,
                  "cp_0": 0,
                  "cp_1": 1,
                  "cp_2": 0,
                  "cp_3": 0,
                  "restecg_0": 0,
                  "restecg_1": 1,
                  "restecg_2": 0,
                  "slope_0": 0,
                  "slope_1": 0,
                  "slope_2": 1,
                  "ca_0": 1,
                  "ca_1": 0,
                  "ca_2": 0,
                  "ca_3": 0,
                  "ca_4": 0,
                  "thal_0": 0,
                  "thal_1": 0,
                  "thal_2": 1,
                  "thal_3": 0,
                  "_deepnote_index_column": 12
                },
                {
                  "age": 64,
                  "sex": 1,
                  "trestbps": 110,
                  "chol": 211,
                  "fbs": 0,
                  "thalach": 144,
                  "exang": 1,
                  "oldpeak": 1.8,
                  "cp_0": 0,
                  "cp_1": 0,
                  "cp_2": 0,
                  "cp_3": 1,
                  "restecg_0": 1,
                  "restecg_1": 0,
                  "restecg_2": 0,
                  "slope_0": 0,
                  "slope_1": 1,
                  "slope_2": 0,
                  "ca_0": 1,
                  "ca_1": 0,
                  "ca_2": 0,
                  "ca_3": 0,
                  "ca_4": 0,
                  "thal_0": 0,
                  "thal_1": 0,
                  "thal_2": 1,
                  "thal_3": 0,
                  "_deepnote_index_column": 13
                },
                {
                  "age": 58,
                  "sex": 0,
                  "trestbps": 150,
                  "chol": 283,
                  "fbs": 1,
                  "thalach": 162,
                  "exang": 0,
                  "oldpeak": 1,
                  "cp_0": 0,
                  "cp_1": 0,
                  "cp_2": 0,
                  "cp_3": 1,
                  "restecg_0": 1,
                  "restecg_1": 0,
                  "restecg_2": 0,
                  "slope_0": 0,
                  "slope_1": 0,
                  "slope_2": 1,
                  "ca_0": 1,
                  "ca_1": 0,
                  "ca_2": 0,
                  "ca_3": 0,
                  "ca_4": 0,
                  "thal_0": 0,
                  "thal_1": 0,
                  "thal_2": 1,
                  "thal_3": 0,
                  "_deepnote_index_column": 14
                },
                {
                  "age": 50,
                  "sex": 0,
                  "trestbps": 120,
                  "chol": 219,
                  "fbs": 0,
                  "thalach": 158,
                  "exang": 0,
                  "oldpeak": 1.6,
                  "cp_0": 0,
                  "cp_1": 0,
                  "cp_2": 1,
                  "cp_3": 0,
                  "restecg_0": 0,
                  "restecg_1": 1,
                  "restecg_2": 0,
                  "slope_0": 0,
                  "slope_1": 1,
                  "slope_2": 0,
                  "ca_0": 1,
                  "ca_1": 0,
                  "ca_2": 0,
                  "ca_3": 0,
                  "ca_4": 0,
                  "thal_0": 0,
                  "thal_1": 0,
                  "thal_2": 1,
                  "thal_3": 0,
                  "_deepnote_index_column": 15
                },
                {
                  "age": 58,
                  "sex": 0,
                  "trestbps": 120,
                  "chol": 340,
                  "fbs": 0,
                  "thalach": 172,
                  "exang": 0,
                  "oldpeak": 0,
                  "cp_0": 0,
                  "cp_1": 0,
                  "cp_2": 1,
                  "cp_3": 0,
                  "restecg_0": 0,
                  "restecg_1": 1,
                  "restecg_2": 0,
                  "slope_0": 0,
                  "slope_1": 0,
                  "slope_2": 1,
                  "ca_0": 1,
                  "ca_1": 0,
                  "ca_2": 0,
                  "ca_3": 0,
                  "ca_4": 0,
                  "thal_0": 0,
                  "thal_1": 0,
                  "thal_2": 1,
                  "thal_3": 0,
                  "_deepnote_index_column": 16
                },
                {
                  "age": 66,
                  "sex": 0,
                  "trestbps": 150,
                  "chol": 226,
                  "fbs": 0,
                  "thalach": 114,
                  "exang": 0,
                  "oldpeak": 2.6,
                  "cp_0": 0,
                  "cp_1": 0,
                  "cp_2": 0,
                  "cp_3": 1,
                  "restecg_0": 0,
                  "restecg_1": 1,
                  "restecg_2": 0,
                  "slope_0": 1,
                  "slope_1": 0,
                  "slope_2": 0,
                  "ca_0": 1,
                  "ca_1": 0,
                  "ca_2": 0,
                  "ca_3": 0,
                  "ca_4": 0,
                  "thal_0": 0,
                  "thal_1": 0,
                  "thal_2": 1,
                  "thal_3": 0,
                  "_deepnote_index_column": 17
                }
              ],
              "rows_bottom": [
                {
                  "age": 61,
                  "sex": 1,
                  "trestbps": 140,
                  "chol": 207,
                  "fbs": 0,
                  "thalach": 138,
                  "exang": 1,
                  "oldpeak": 1.9,
                  "cp_0": 1,
                  "cp_1": 0,
                  "cp_2": 0,
                  "cp_3": 0,
                  "restecg_0": 1,
                  "restecg_1": 0,
                  "restecg_2": 0,
                  "slope_0": 0,
                  "slope_1": 0,
                  "slope_2": 1,
                  "ca_0": 0,
                  "ca_1": 1,
                  "ca_2": 0,
                  "ca_3": 0,
                  "ca_4": 0,
                  "thal_0": 0,
                  "thal_1": 0,
                  "thal_2": 0,
                  "thal_3": 1,
                  "_deepnote_index_column": 284
                },
                {
                  "age": 46,
                  "sex": 1,
                  "trestbps": 140,
                  "chol": 311,
                  "fbs": 0,
                  "thalach": 120,
                  "exang": 1,
                  "oldpeak": 1.8,
                  "cp_0": 1,
                  "cp_1": 0,
                  "cp_2": 0,
                  "cp_3": 0,
                  "restecg_0": 0,
                  "restecg_1": 1,
                  "restecg_2": 0,
                  "slope_0": 0,
                  "slope_1": 1,
                  "slope_2": 0,
                  "ca_0": 0,
                  "ca_1": 0,
                  "ca_2": 1,
                  "ca_3": 0,
                  "ca_4": 0,
                  "thal_0": 0,
                  "thal_1": 0,
                  "thal_2": 0,
                  "thal_3": 1,
                  "_deepnote_index_column": 285
                },
                {
                  "age": 59,
                  "sex": 1,
                  "trestbps": 134,
                  "chol": 204,
                  "fbs": 0,
                  "thalach": 162,
                  "exang": 0,
                  "oldpeak": 0.8,
                  "cp_0": 0,
                  "cp_1": 0,
                  "cp_2": 0,
                  "cp_3": 1,
                  "restecg_0": 0,
                  "restecg_1": 1,
                  "restecg_2": 0,
                  "slope_0": 0,
                  "slope_1": 0,
                  "slope_2": 1,
                  "ca_0": 0,
                  "ca_1": 0,
                  "ca_2": 1,
                  "ca_3": 0,
                  "ca_4": 0,
                  "thal_0": 0,
                  "thal_1": 0,
                  "thal_2": 1,
                  "thal_3": 0,
                  "_deepnote_index_column": 286
                },
                {
                  "age": 57,
                  "sex": 1,
                  "trestbps": 154,
                  "chol": 232,
                  "fbs": 0,
                  "thalach": 164,
                  "exang": 0,
                  "oldpeak": 0,
                  "cp_0": 0,
                  "cp_1": 1,
                  "cp_2": 0,
                  "cp_3": 0,
                  "restecg_0": 1,
                  "restecg_1": 0,
                  "restecg_2": 0,
                  "slope_0": 0,
                  "slope_1": 0,
                  "slope_2": 1,
                  "ca_0": 0,
                  "ca_1": 1,
                  "ca_2": 0,
                  "ca_3": 0,
                  "ca_4": 0,
                  "thal_0": 0,
                  "thal_1": 0,
                  "thal_2": 1,
                  "thal_3": 0,
                  "_deepnote_index_column": 287
                },
                {
                  "age": 57,
                  "sex": 1,
                  "trestbps": 110,
                  "chol": 335,
                  "fbs": 0,
                  "thalach": 143,
                  "exang": 1,
                  "oldpeak": 3,
                  "cp_0": 1,
                  "cp_1": 0,
                  "cp_2": 0,
                  "cp_3": 0,
                  "restecg_0": 0,
                  "restecg_1": 1,
                  "restecg_2": 0,
                  "slope_0": 0,
                  "slope_1": 1,
                  "slope_2": 0,
                  "ca_0": 0,
                  "ca_1": 1,
                  "ca_2": 0,
                  "ca_3": 0,
                  "ca_4": 0,
                  "thal_0": 0,
                  "thal_1": 0,
                  "thal_2": 0,
                  "thal_3": 1,
                  "_deepnote_index_column": 288
                },
                {
                  "age": 55,
                  "sex": 0,
                  "trestbps": 128,
                  "chol": 205,
                  "fbs": 0,
                  "thalach": 130,
                  "exang": 1,
                  "oldpeak": 2,
                  "cp_0": 1,
                  "cp_1": 0,
                  "cp_2": 0,
                  "cp_3": 0,
                  "restecg_0": 0,
                  "restecg_1": 0,
                  "restecg_2": 1,
                  "slope_0": 0,
                  "slope_1": 1,
                  "slope_2": 0,
                  "ca_0": 0,
                  "ca_1": 1,
                  "ca_2": 0,
                  "ca_3": 0,
                  "ca_4": 0,
                  "thal_0": 0,
                  "thal_1": 0,
                  "thal_2": 0,
                  "thal_3": 1,
                  "_deepnote_index_column": 289
                },
                {
                  "age": 61,
                  "sex": 1,
                  "trestbps": 148,
                  "chol": 203,
                  "fbs": 0,
                  "thalach": 161,
                  "exang": 0,
                  "oldpeak": 0,
                  "cp_0": 1,
                  "cp_1": 0,
                  "cp_2": 0,
                  "cp_3": 0,
                  "restecg_0": 0,
                  "restecg_1": 1,
                  "restecg_2": 0,
                  "slope_0": 0,
                  "slope_1": 0,
                  "slope_2": 1,
                  "ca_0": 0,
                  "ca_1": 1,
                  "ca_2": 0,
                  "ca_3": 0,
                  "ca_4": 0,
                  "thal_0": 0,
                  "thal_1": 0,
                  "thal_2": 0,
                  "thal_3": 1,
                  "_deepnote_index_column": 290
                },
                {
                  "age": 58,
                  "sex": 1,
                  "trestbps": 114,
                  "chol": 318,
                  "fbs": 0,
                  "thalach": 140,
                  "exang": 0,
                  "oldpeak": 4.4,
                  "cp_0": 1,
                  "cp_1": 0,
                  "cp_2": 0,
                  "cp_3": 0,
                  "restecg_0": 0,
                  "restecg_1": 0,
                  "restecg_2": 1,
                  "slope_0": 1,
                  "slope_1": 0,
                  "slope_2": 0,
                  "ca_0": 0,
                  "ca_1": 0,
                  "ca_2": 0,
                  "ca_3": 1,
                  "ca_4": 0,
                  "thal_0": 0,
                  "thal_1": 1,
                  "thal_2": 0,
                  "thal_3": 0,
                  "_deepnote_index_column": 291
                },
                {
                  "age": 58,
                  "sex": 0,
                  "trestbps": 170,
                  "chol": 225,
                  "fbs": 1,
                  "thalach": 146,
                  "exang": 1,
                  "oldpeak": 2.8,
                  "cp_0": 1,
                  "cp_1": 0,
                  "cp_2": 0,
                  "cp_3": 0,
                  "restecg_0": 1,
                  "restecg_1": 0,
                  "restecg_2": 0,
                  "slope_0": 0,
                  "slope_1": 1,
                  "slope_2": 0,
                  "ca_0": 0,
                  "ca_1": 0,
                  "ca_2": 1,
                  "ca_3": 0,
                  "ca_4": 0,
                  "thal_0": 0,
                  "thal_1": 1,
                  "thal_2": 0,
                  "thal_3": 0,
                  "_deepnote_index_column": 292
                },
                {
                  "age": 67,
                  "sex": 1,
                  "trestbps": 152,
                  "chol": 212,
                  "fbs": 0,
                  "thalach": 150,
                  "exang": 0,
                  "oldpeak": 0.8,
                  "cp_0": 0,
                  "cp_1": 0,
                  "cp_2": 1,
                  "cp_3": 0,
                  "restecg_0": 1,
                  "restecg_1": 0,
                  "restecg_2": 0,
                  "slope_0": 0,
                  "slope_1": 1,
                  "slope_2": 0,
                  "ca_0": 1,
                  "ca_1": 0,
                  "ca_2": 0,
                  "ca_3": 0,
                  "ca_4": 0,
                  "thal_0": 0,
                  "thal_1": 0,
                  "thal_2": 0,
                  "thal_3": 1,
                  "_deepnote_index_column": 293
                },
                {
                  "age": 44,
                  "sex": 1,
                  "trestbps": 120,
                  "chol": 169,
                  "fbs": 0,
                  "thalach": 144,
                  "exang": 1,
                  "oldpeak": 2.8,
                  "cp_0": 1,
                  "cp_1": 0,
                  "cp_2": 0,
                  "cp_3": 0,
                  "restecg_0": 0,
                  "restecg_1": 1,
                  "restecg_2": 0,
                  "slope_0": 1,
                  "slope_1": 0,
                  "slope_2": 0,
                  "ca_0": 1,
                  "ca_1": 0,
                  "ca_2": 0,
                  "ca_3": 0,
                  "ca_4": 0,
                  "thal_0": 0,
                  "thal_1": 1,
                  "thal_2": 0,
                  "thal_3": 0,
                  "_deepnote_index_column": 294
                },
                {
                  "age": 63,
                  "sex": 1,
                  "trestbps": 140,
                  "chol": 187,
                  "fbs": 0,
                  "thalach": 144,
                  "exang": 1,
                  "oldpeak": 4,
                  "cp_0": 1,
                  "cp_1": 0,
                  "cp_2": 0,
                  "cp_3": 0,
                  "restecg_0": 1,
                  "restecg_1": 0,
                  "restecg_2": 0,
                  "slope_0": 0,
                  "slope_1": 0,
                  "slope_2": 1,
                  "ca_0": 0,
                  "ca_1": 0,
                  "ca_2": 1,
                  "ca_3": 0,
                  "ca_4": 0,
                  "thal_0": 0,
                  "thal_1": 0,
                  "thal_2": 0,
                  "thal_3": 1,
                  "_deepnote_index_column": 295
                },
                {
                  "age": 63,
                  "sex": 0,
                  "trestbps": 124,
                  "chol": 197,
                  "fbs": 0,
                  "thalach": 136,
                  "exang": 1,
                  "oldpeak": 0,
                  "cp_0": 1,
                  "cp_1": 0,
                  "cp_2": 0,
                  "cp_3": 0,
                  "restecg_0": 0,
                  "restecg_1": 1,
                  "restecg_2": 0,
                  "slope_0": 0,
                  "slope_1": 1,
                  "slope_2": 0,
                  "ca_0": 1,
                  "ca_1": 0,
                  "ca_2": 0,
                  "ca_3": 0,
                  "ca_4": 0,
                  "thal_0": 0,
                  "thal_1": 0,
                  "thal_2": 1,
                  "thal_3": 0,
                  "_deepnote_index_column": 296
                },
                {
                  "age": 59,
                  "sex": 1,
                  "trestbps": 164,
                  "chol": 176,
                  "fbs": 1,
                  "thalach": 90,
                  "exang": 0,
                  "oldpeak": 1,
                  "cp_0": 1,
                  "cp_1": 0,
                  "cp_2": 0,
                  "cp_3": 0,
                  "restecg_0": 1,
                  "restecg_1": 0,
                  "restecg_2": 0,
                  "slope_0": 0,
                  "slope_1": 1,
                  "slope_2": 0,
                  "ca_0": 0,
                  "ca_1": 0,
                  "ca_2": 1,
                  "ca_3": 0,
                  "ca_4": 0,
                  "thal_0": 0,
                  "thal_1": 1,
                  "thal_2": 0,
                  "thal_3": 0,
                  "_deepnote_index_column": 297
                },
                {
                  "age": 57,
                  "sex": 0,
                  "trestbps": 140,
                  "chol": 241,
                  "fbs": 0,
                  "thalach": 123,
                  "exang": 1,
                  "oldpeak": 0.2,
                  "cp_0": 1,
                  "cp_1": 0,
                  "cp_2": 0,
                  "cp_3": 0,
                  "restecg_0": 0,
                  "restecg_1": 1,
                  "restecg_2": 0,
                  "slope_0": 0,
                  "slope_1": 1,
                  "slope_2": 0,
                  "ca_0": 1,
                  "ca_1": 0,
                  "ca_2": 0,
                  "ca_3": 0,
                  "ca_4": 0,
                  "thal_0": 0,
                  "thal_1": 0,
                  "thal_2": 0,
                  "thal_3": 1,
                  "_deepnote_index_column": 298
                },
                {
                  "age": 45,
                  "sex": 1,
                  "trestbps": 110,
                  "chol": 264,
                  "fbs": 0,
                  "thalach": 132,
                  "exang": 0,
                  "oldpeak": 1.2,
                  "cp_0": 0,
                  "cp_1": 0,
                  "cp_2": 0,
                  "cp_3": 1,
                  "restecg_0": 0,
                  "restecg_1": 1,
                  "restecg_2": 0,
                  "slope_0": 0,
                  "slope_1": 1,
                  "slope_2": 0,
                  "ca_0": 1,
                  "ca_1": 0,
                  "ca_2": 0,
                  "ca_3": 0,
                  "ca_4": 0,
                  "thal_0": 0,
                  "thal_1": 0,
                  "thal_2": 0,
                  "thal_3": 1,
                  "_deepnote_index_column": 299
                },
                {
                  "age": 68,
                  "sex": 1,
                  "trestbps": 144,
                  "chol": 193,
                  "fbs": 1,
                  "thalach": 141,
                  "exang": 0,
                  "oldpeak": 3.4,
                  "cp_0": 1,
                  "cp_1": 0,
                  "cp_2": 0,
                  "cp_3": 0,
                  "restecg_0": 0,
                  "restecg_1": 1,
                  "restecg_2": 0,
                  "slope_0": 0,
                  "slope_1": 1,
                  "slope_2": 0,
                  "ca_0": 0,
                  "ca_1": 0,
                  "ca_2": 1,
                  "ca_3": 0,
                  "ca_4": 0,
                  "thal_0": 0,
                  "thal_1": 0,
                  "thal_2": 0,
                  "thal_3": 1,
                  "_deepnote_index_column": 300
                },
                {
                  "age": 57,
                  "sex": 1,
                  "trestbps": 130,
                  "chol": 131,
                  "fbs": 0,
                  "thalach": 115,
                  "exang": 1,
                  "oldpeak": 1.2,
                  "cp_0": 1,
                  "cp_1": 0,
                  "cp_2": 0,
                  "cp_3": 0,
                  "restecg_0": 0,
                  "restecg_1": 1,
                  "restecg_2": 0,
                  "slope_0": 0,
                  "slope_1": 1,
                  "slope_2": 0,
                  "ca_0": 0,
                  "ca_1": 1,
                  "ca_2": 0,
                  "ca_3": 0,
                  "ca_4": 0,
                  "thal_0": 0,
                  "thal_1": 0,
                  "thal_2": 0,
                  "thal_3": 1,
                  "_deepnote_index_column": 301
                },
                {
                  "age": 57,
                  "sex": 0,
                  "trestbps": 130,
                  "chol": 236,
                  "fbs": 0,
                  "thalach": 174,
                  "exang": 0,
                  "oldpeak": 0,
                  "cp_0": 0,
                  "cp_1": 1,
                  "cp_2": 0,
                  "cp_3": 0,
                  "restecg_0": 1,
                  "restecg_1": 0,
                  "restecg_2": 0,
                  "slope_0": 0,
                  "slope_1": 1,
                  "slope_2": 0,
                  "ca_0": 0,
                  "ca_1": 1,
                  "ca_2": 0,
                  "ca_3": 0,
                  "ca_4": 0,
                  "thal_0": 0,
                  "thal_1": 0,
                  "thal_2": 1,
                  "thal_3": 0,
                  "_deepnote_index_column": 302
                }
              ]
            },
            "text/plain": "     age  sex  trestbps  chol  fbs  thalach  exang  oldpeak  cp_0  cp_1  ...  \\\n0     63    1       145   233    1      150      0      2.3     0     0  ...   \n1     37    1       130   250    0      187      0      3.5     0     0  ...   \n2     41    0       130   204    0      172      0      1.4     0     1  ...   \n3     56    1       120   236    0      178      0      0.8     0     1  ...   \n4     57    0       120   354    0      163      1      0.6     1     0  ...   \n..   ...  ...       ...   ...  ...      ...    ...      ...   ...   ...  ...   \n298   57    0       140   241    0      123      1      0.2     1     0  ...   \n299   45    1       110   264    0      132      0      1.2     0     0  ...   \n300   68    1       144   193    1      141      0      3.4     1     0  ...   \n301   57    1       130   131    0      115      1      1.2     1     0  ...   \n302   57    0       130   236    0      174      0      0.0     0     1  ...   \n\n     slope_2  ca_0  ca_1  ca_2  ca_3  ca_4  thal_0  thal_1  thal_2  thal_3  \n0          0     1     0     0     0     0       0       1       0       0  \n1          0     1     0     0     0     0       0       0       1       0  \n2          1     1     0     0     0     0       0       0       1       0  \n3          1     1     0     0     0     0       0       0       1       0  \n4          1     1     0     0     0     0       0       0       1       0  \n..       ...   ...   ...   ...   ...   ...     ...     ...     ...     ...  \n298        0     1     0     0     0     0       0       0       0       1  \n299        0     1     0     0     0     0       0       0       0       1  \n300        0     0     0     1     0     0       0       0       0       1  \n301        0     0     1     0     0     0       0       0       0       1  \n302        0     0     1     0     0     0       0       0       1       0  \n\n[303 rows x 27 columns]",
            "text/html": "<div>\n<style scoped>\n    .dataframe tbody tr th:only-of-type {\n        vertical-align: middle;\n    }\n\n    .dataframe tbody tr th {\n        vertical-align: top;\n    }\n\n    .dataframe thead th {\n        text-align: right;\n    }\n</style>\n<table border=\"1\" class=\"dataframe\">\n  <thead>\n    <tr style=\"text-align: right;\">\n      <th></th>\n      <th>age</th>\n      <th>sex</th>\n      <th>trestbps</th>\n      <th>chol</th>\n      <th>fbs</th>\n      <th>thalach</th>\n      <th>exang</th>\n      <th>oldpeak</th>\n      <th>cp_0</th>\n      <th>cp_1</th>\n      <th>...</th>\n      <th>slope_2</th>\n      <th>ca_0</th>\n      <th>ca_1</th>\n      <th>ca_2</th>\n      <th>ca_3</th>\n      <th>ca_4</th>\n      <th>thal_0</th>\n      <th>thal_1</th>\n      <th>thal_2</th>\n      <th>thal_3</th>\n    </tr>\n  </thead>\n  <tbody>\n    <tr>\n      <th>0</th>\n      <td>63</td>\n      <td>1</td>\n      <td>145</td>\n      <td>233</td>\n      <td>1</td>\n      <td>150</td>\n      <td>0</td>\n      <td>2.3</td>\n      <td>0</td>\n      <td>0</td>\n      <td>...</td>\n      <td>0</td>\n      <td>1</td>\n      <td>0</td>\n      <td>0</td>\n      <td>0</td>\n      <td>0</td>\n      <td>0</td>\n      <td>1</td>\n      <td>0</td>\n      <td>0</td>\n    </tr>\n    <tr>\n      <th>1</th>\n      <td>37</td>\n      <td>1</td>\n      <td>130</td>\n      <td>250</td>\n      <td>0</td>\n      <td>187</td>\n      <td>0</td>\n      <td>3.5</td>\n      <td>0</td>\n      <td>0</td>\n      <td>...</td>\n      <td>0</td>\n      <td>1</td>\n      <td>0</td>\n      <td>0</td>\n      <td>0</td>\n      <td>0</td>\n      <td>0</td>\n      <td>0</td>\n      <td>1</td>\n      <td>0</td>\n    </tr>\n    <tr>\n      <th>2</th>\n      <td>41</td>\n      <td>0</td>\n      <td>130</td>\n      <td>204</td>\n      <td>0</td>\n      <td>172</td>\n      <td>0</td>\n      <td>1.4</td>\n      <td>0</td>\n      <td>1</td>\n      <td>...</td>\n      <td>1</td>\n      <td>1</td>\n      <td>0</td>\n      <td>0</td>\n      <td>0</td>\n      <td>0</td>\n      <td>0</td>\n      <td>0</td>\n      <td>1</td>\n      <td>0</td>\n    </tr>\n    <tr>\n      <th>3</th>\n      <td>56</td>\n      <td>1</td>\n      <td>120</td>\n      <td>236</td>\n      <td>0</td>\n      <td>178</td>\n      <td>0</td>\n      <td>0.8</td>\n      <td>0</td>\n      <td>1</td>\n      <td>...</td>\n      <td>1</td>\n      <td>1</td>\n      <td>0</td>\n      <td>0</td>\n      <td>0</td>\n      <td>0</td>\n      <td>0</td>\n      <td>0</td>\n      <td>1</td>\n      <td>0</td>\n    </tr>\n    <tr>\n      <th>4</th>\n      <td>57</td>\n      <td>0</td>\n      <td>120</td>\n      <td>354</td>\n      <td>0</td>\n      <td>163</td>\n      <td>1</td>\n      <td>0.6</td>\n      <td>1</td>\n      <td>0</td>\n      <td>...</td>\n      <td>1</td>\n      <td>1</td>\n      <td>0</td>\n      <td>0</td>\n      <td>0</td>\n      <td>0</td>\n      <td>0</td>\n      <td>0</td>\n      <td>1</td>\n      <td>0</td>\n    </tr>\n    <tr>\n      <th>...</th>\n      <td>...</td>\n      <td>...</td>\n      <td>...</td>\n      <td>...</td>\n      <td>...</td>\n      <td>...</td>\n      <td>...</td>\n      <td>...</td>\n      <td>...</td>\n      <td>...</td>\n      <td>...</td>\n      <td>...</td>\n      <td>...</td>\n      <td>...</td>\n      <td>...</td>\n      <td>...</td>\n      <td>...</td>\n      <td>...</td>\n      <td>...</td>\n      <td>...</td>\n      <td>...</td>\n    </tr>\n    <tr>\n      <th>298</th>\n      <td>57</td>\n      <td>0</td>\n      <td>140</td>\n      <td>241</td>\n      <td>0</td>\n      <td>123</td>\n      <td>1</td>\n      <td>0.2</td>\n      <td>1</td>\n      <td>0</td>\n      <td>...</td>\n      <td>0</td>\n      <td>1</td>\n      <td>0</td>\n      <td>0</td>\n      <td>0</td>\n      <td>0</td>\n      <td>0</td>\n      <td>0</td>\n      <td>0</td>\n      <td>1</td>\n    </tr>\n    <tr>\n      <th>299</th>\n      <td>45</td>\n      <td>1</td>\n      <td>110</td>\n      <td>264</td>\n      <td>0</td>\n      <td>132</td>\n      <td>0</td>\n      <td>1.2</td>\n      <td>0</td>\n      <td>0</td>\n      <td>...</td>\n      <td>0</td>\n      <td>1</td>\n      <td>0</td>\n      <td>0</td>\n      <td>0</td>\n      <td>0</td>\n      <td>0</td>\n      <td>0</td>\n      <td>0</td>\n      <td>1</td>\n    </tr>\n    <tr>\n      <th>300</th>\n      <td>68</td>\n      <td>1</td>\n      <td>144</td>\n      <td>193</td>\n      <td>1</td>\n      <td>141</td>\n      <td>0</td>\n      <td>3.4</td>\n      <td>1</td>\n      <td>0</td>\n      <td>...</td>\n      <td>0</td>\n      <td>0</td>\n      <td>0</td>\n      <td>1</td>\n      <td>0</td>\n      <td>0</td>\n      <td>0</td>\n      <td>0</td>\n      <td>0</td>\n      <td>1</td>\n    </tr>\n    <tr>\n      <th>301</th>\n      <td>57</td>\n      <td>1</td>\n      <td>130</td>\n      <td>131</td>\n      <td>0</td>\n      <td>115</td>\n      <td>1</td>\n      <td>1.2</td>\n      <td>1</td>\n      <td>0</td>\n      <td>...</td>\n      <td>0</td>\n      <td>0</td>\n      <td>1</td>\n      <td>0</td>\n      <td>0</td>\n      <td>0</td>\n      <td>0</td>\n      <td>0</td>\n      <td>0</td>\n      <td>1</td>\n    </tr>\n    <tr>\n      <th>302</th>\n      <td>57</td>\n      <td>0</td>\n      <td>130</td>\n      <td>236</td>\n      <td>0</td>\n      <td>174</td>\n      <td>0</td>\n      <td>0.0</td>\n      <td>0</td>\n      <td>1</td>\n      <td>...</td>\n      <td>0</td>\n      <td>0</td>\n      <td>1</td>\n      <td>0</td>\n      <td>0</td>\n      <td>0</td>\n      <td>0</td>\n      <td>0</td>\n      <td>1</td>\n      <td>0</td>\n    </tr>\n  </tbody>\n</table>\n<p>303 rows × 27 columns</p>\n</div>"
          },
          "metadata": {}
        }
      ]
    },
    {
      "cell_type": "code",
      "metadata": {
        "tags": [],
        "cell_id": "00041-37c37d82-0c9d-4108-80a0-6256539564b5",
        "deepnote_to_be_reexecuted": false,
        "source_hash": "f804c160",
        "execution_millis": 147,
        "execution_start": 1615385016896,
        "deepnote_cell_type": "code"
      },
      "source": "df",
      "execution_count": null,
      "outputs": [
        {
          "output_type": "execute_result",
          "execution_count": 91,
          "data": {
            "application/vnd.deepnote.dataframe.v2+json": {
              "row_count": 303,
              "column_count": 25,
              "columns": [
                {
                  "name": "age",
                  "dtype": "int64",
                  "stats": {
                    "unique_count": 41,
                    "nan_count": 0,
                    "min": 29,
                    "max": 77,
                    "histogram": [
                      {
                        "bin_start": 29,
                        "bin_end": 33.8,
                        "count": 1
                      },
                      {
                        "bin_start": 33.8,
                        "bin_end": 38.6,
                        "count": 11
                      },
                      {
                        "bin_start": 38.6,
                        "bin_end": 43.4,
                        "count": 33
                      },
                      {
                        "bin_start": 43.4,
                        "bin_end": 48.2,
                        "count": 38
                      },
                      {
                        "bin_start": 48.2,
                        "bin_end": 53,
                        "count": 37
                      },
                      {
                        "bin_start": 53,
                        "bin_end": 57.8,
                        "count": 60
                      },
                      {
                        "bin_start": 57.8,
                        "bin_end": 62.6,
                        "count": 63
                      },
                      {
                        "bin_start": 62.6,
                        "bin_end": 67.4,
                        "count": 43
                      },
                      {
                        "bin_start": 67.4,
                        "bin_end": 72.19999999999999,
                        "count": 14
                      },
                      {
                        "bin_start": 72.19999999999999,
                        "bin_end": 77,
                        "count": 3
                      }
                    ]
                  }
                },
                {
                  "name": "sex",
                  "dtype": "int64",
                  "stats": {
                    "unique_count": 2,
                    "nan_count": 0,
                    "min": 0,
                    "max": 1,
                    "histogram": [
                      {
                        "bin_start": 0,
                        "bin_end": 0.1,
                        "count": 96
                      },
                      {
                        "bin_start": 0.1,
                        "bin_end": 0.2,
                        "count": 0
                      },
                      {
                        "bin_start": 0.2,
                        "bin_end": 0.30000000000000004,
                        "count": 0
                      },
                      {
                        "bin_start": 0.30000000000000004,
                        "bin_end": 0.4,
                        "count": 0
                      },
                      {
                        "bin_start": 0.4,
                        "bin_end": 0.5,
                        "count": 0
                      },
                      {
                        "bin_start": 0.5,
                        "bin_end": 0.6000000000000001,
                        "count": 0
                      },
                      {
                        "bin_start": 0.6000000000000001,
                        "bin_end": 0.7000000000000001,
                        "count": 0
                      },
                      {
                        "bin_start": 0.7000000000000001,
                        "bin_end": 0.8,
                        "count": 0
                      },
                      {
                        "bin_start": 0.8,
                        "bin_end": 0.9,
                        "count": 0
                      },
                      {
                        "bin_start": 0.9,
                        "bin_end": 1,
                        "count": 207
                      }
                    ]
                  }
                },
                {
                  "name": "trestbps",
                  "dtype": "int64",
                  "stats": {
                    "unique_count": 49,
                    "nan_count": 0,
                    "min": 94,
                    "max": 200,
                    "histogram": [
                      {
                        "bin_start": 94,
                        "bin_end": 104.6,
                        "count": 10
                      },
                      {
                        "bin_start": 104.6,
                        "bin_end": 115.2,
                        "count": 42
                      },
                      {
                        "bin_start": 115.2,
                        "bin_end": 125.8,
                        "count": 67
                      },
                      {
                        "bin_start": 125.8,
                        "bin_end": 136.4,
                        "count": 74
                      },
                      {
                        "bin_start": 136.4,
                        "bin_end": 147,
                        "count": 57
                      },
                      {
                        "bin_start": 147,
                        "bin_end": 157.6,
                        "count": 27
                      },
                      {
                        "bin_start": 157.6,
                        "bin_end": 168.2,
                        "count": 13
                      },
                      {
                        "bin_start": 168.2,
                        "bin_end": 178.8,
                        "count": 8
                      },
                      {
                        "bin_start": 178.8,
                        "bin_end": 189.39999999999998,
                        "count": 3
                      },
                      {
                        "bin_start": 189.39999999999998,
                        "bin_end": 200,
                        "count": 2
                      }
                    ]
                  }
                },
                {
                  "name": "chol",
                  "dtype": "int64",
                  "stats": {
                    "unique_count": 152,
                    "nan_count": 0,
                    "min": 126,
                    "max": 564,
                    "histogram": [
                      {
                        "bin_start": 126,
                        "bin_end": 169.8,
                        "count": 12
                      },
                      {
                        "bin_start": 169.8,
                        "bin_end": 213.6,
                        "count": 73
                      },
                      {
                        "bin_start": 213.6,
                        "bin_end": 257.4,
                        "count": 106
                      },
                      {
                        "bin_start": 257.4,
                        "bin_end": 301.2,
                        "count": 69
                      },
                      {
                        "bin_start": 301.2,
                        "bin_end": 345,
                        "count": 35
                      },
                      {
                        "bin_start": 345,
                        "bin_end": 388.79999999999995,
                        "count": 3
                      },
                      {
                        "bin_start": 388.79999999999995,
                        "bin_end": 432.59999999999997,
                        "count": 4
                      },
                      {
                        "bin_start": 432.59999999999997,
                        "bin_end": 476.4,
                        "count": 0
                      },
                      {
                        "bin_start": 476.4,
                        "bin_end": 520.2,
                        "count": 0
                      },
                      {
                        "bin_start": 520.2,
                        "bin_end": 564,
                        "count": 1
                      }
                    ]
                  }
                },
                {
                  "name": "fbs",
                  "dtype": "int64",
                  "stats": {
                    "unique_count": 2,
                    "nan_count": 0,
                    "min": 0,
                    "max": 1,
                    "histogram": [
                      {
                        "bin_start": 0,
                        "bin_end": 0.1,
                        "count": 258
                      },
                      {
                        "bin_start": 0.1,
                        "bin_end": 0.2,
                        "count": 0
                      },
                      {
                        "bin_start": 0.2,
                        "bin_end": 0.30000000000000004,
                        "count": 0
                      },
                      {
                        "bin_start": 0.30000000000000004,
                        "bin_end": 0.4,
                        "count": 0
                      },
                      {
                        "bin_start": 0.4,
                        "bin_end": 0.5,
                        "count": 0
                      },
                      {
                        "bin_start": 0.5,
                        "bin_end": 0.6000000000000001,
                        "count": 0
                      },
                      {
                        "bin_start": 0.6000000000000001,
                        "bin_end": 0.7000000000000001,
                        "count": 0
                      },
                      {
                        "bin_start": 0.7000000000000001,
                        "bin_end": 0.8,
                        "count": 0
                      },
                      {
                        "bin_start": 0.8,
                        "bin_end": 0.9,
                        "count": 0
                      },
                      {
                        "bin_start": 0.9,
                        "bin_end": 1,
                        "count": 45
                      }
                    ]
                  }
                },
                {
                  "name": "thalach",
                  "dtype": "int64",
                  "stats": {
                    "unique_count": 91,
                    "nan_count": 0,
                    "min": 71,
                    "max": 202,
                    "histogram": [
                      {
                        "bin_start": 71,
                        "bin_end": 84.1,
                        "count": 1
                      },
                      {
                        "bin_start": 84.1,
                        "bin_end": 97.2,
                        "count": 6
                      },
                      {
                        "bin_start": 97.2,
                        "bin_end": 110.3,
                        "count": 11
                      },
                      {
                        "bin_start": 110.3,
                        "bin_end": 123.4,
                        "count": 26
                      },
                      {
                        "bin_start": 123.4,
                        "bin_end": 136.5,
                        "count": 35
                      },
                      {
                        "bin_start": 136.5,
                        "bin_end": 149.6,
                        "count": 53
                      },
                      {
                        "bin_start": 149.6,
                        "bin_end": 162.7,
                        "count": 77
                      },
                      {
                        "bin_start": 162.7,
                        "bin_end": 175.8,
                        "count": 63
                      },
                      {
                        "bin_start": 175.8,
                        "bin_end": 188.89999999999998,
                        "count": 26
                      },
                      {
                        "bin_start": 188.89999999999998,
                        "bin_end": 202,
                        "count": 5
                      }
                    ]
                  }
                },
                {
                  "name": "exang",
                  "dtype": "int64",
                  "stats": {
                    "unique_count": 2,
                    "nan_count": 0,
                    "min": 0,
                    "max": 1,
                    "histogram": [
                      {
                        "bin_start": 0,
                        "bin_end": 0.1,
                        "count": 204
                      },
                      {
                        "bin_start": 0.1,
                        "bin_end": 0.2,
                        "count": 0
                      },
                      {
                        "bin_start": 0.2,
                        "bin_end": 0.30000000000000004,
                        "count": 0
                      },
                      {
                        "bin_start": 0.30000000000000004,
                        "bin_end": 0.4,
                        "count": 0
                      },
                      {
                        "bin_start": 0.4,
                        "bin_end": 0.5,
                        "count": 0
                      },
                      {
                        "bin_start": 0.5,
                        "bin_end": 0.6000000000000001,
                        "count": 0
                      },
                      {
                        "bin_start": 0.6000000000000001,
                        "bin_end": 0.7000000000000001,
                        "count": 0
                      },
                      {
                        "bin_start": 0.7000000000000001,
                        "bin_end": 0.8,
                        "count": 0
                      },
                      {
                        "bin_start": 0.8,
                        "bin_end": 0.9,
                        "count": 0
                      },
                      {
                        "bin_start": 0.9,
                        "bin_end": 1,
                        "count": 99
                      }
                    ]
                  }
                },
                {
                  "name": "oldpeak",
                  "dtype": "float64",
                  "stats": {
                    "unique_count": 40,
                    "nan_count": 0,
                    "min": 0,
                    "max": 6.2,
                    "histogram": [
                      {
                        "bin_start": 0,
                        "bin_end": 0.62,
                        "count": 149
                      },
                      {
                        "bin_start": 0.62,
                        "bin_end": 1.24,
                        "count": 50
                      },
                      {
                        "bin_start": 1.24,
                        "bin_end": 1.8599999999999999,
                        "count": 40
                      },
                      {
                        "bin_start": 1.8599999999999999,
                        "bin_end": 2.48,
                        "count": 24
                      },
                      {
                        "bin_start": 2.48,
                        "bin_end": 3.1,
                        "count": 20
                      },
                      {
                        "bin_start": 3.1,
                        "bin_end": 3.7199999999999998,
                        "count": 11
                      },
                      {
                        "bin_start": 3.7199999999999998,
                        "bin_end": 4.34,
                        "count": 6
                      },
                      {
                        "bin_start": 4.34,
                        "bin_end": 4.96,
                        "count": 1
                      },
                      {
                        "bin_start": 4.96,
                        "bin_end": 5.58,
                        "count": 0
                      },
                      {
                        "bin_start": 5.58,
                        "bin_end": 6.2,
                        "count": 2
                      }
                    ]
                  }
                },
                {
                  "name": "thal",
                  "dtype": "int64",
                  "stats": {
                    "unique_count": 4,
                    "nan_count": 0,
                    "min": 0,
                    "max": 3,
                    "histogram": [
                      {
                        "bin_start": 0,
                        "bin_end": 0.3,
                        "count": 2
                      },
                      {
                        "bin_start": 0.3,
                        "bin_end": 0.6,
                        "count": 0
                      },
                      {
                        "bin_start": 0.6,
                        "bin_end": 0.8999999999999999,
                        "count": 0
                      },
                      {
                        "bin_start": 0.8999999999999999,
                        "bin_end": 1.2,
                        "count": 18
                      },
                      {
                        "bin_start": 1.2,
                        "bin_end": 1.5,
                        "count": 0
                      },
                      {
                        "bin_start": 1.5,
                        "bin_end": 1.7999999999999998,
                        "count": 0
                      },
                      {
                        "bin_start": 1.7999999999999998,
                        "bin_end": 2.1,
                        "count": 166
                      },
                      {
                        "bin_start": 2.1,
                        "bin_end": 2.4,
                        "count": 0
                      },
                      {
                        "bin_start": 2.4,
                        "bin_end": 2.6999999999999997,
                        "count": 0
                      },
                      {
                        "bin_start": 2.6999999999999997,
                        "bin_end": 3,
                        "count": 117
                      }
                    ]
                  }
                },
                {
                  "name": "target",
                  "dtype": "int64",
                  "stats": {
                    "unique_count": 2,
                    "nan_count": 0,
                    "min": 0,
                    "max": 1,
                    "histogram": [
                      {
                        "bin_start": 0,
                        "bin_end": 0.1,
                        "count": 138
                      },
                      {
                        "bin_start": 0.1,
                        "bin_end": 0.2,
                        "count": 0
                      },
                      {
                        "bin_start": 0.2,
                        "bin_end": 0.30000000000000004,
                        "count": 0
                      },
                      {
                        "bin_start": 0.30000000000000004,
                        "bin_end": 0.4,
                        "count": 0
                      },
                      {
                        "bin_start": 0.4,
                        "bin_end": 0.5,
                        "count": 0
                      },
                      {
                        "bin_start": 0.5,
                        "bin_end": 0.6000000000000001,
                        "count": 0
                      },
                      {
                        "bin_start": 0.6000000000000001,
                        "bin_end": 0.7000000000000001,
                        "count": 0
                      },
                      {
                        "bin_start": 0.7000000000000001,
                        "bin_end": 0.8,
                        "count": 0
                      },
                      {
                        "bin_start": 0.8,
                        "bin_end": 0.9,
                        "count": 0
                      },
                      {
                        "bin_start": 0.9,
                        "bin_end": 1,
                        "count": 165
                      }
                    ]
                  }
                },
                {
                  "name": "cp_0",
                  "dtype": "uint8",
                  "stats": {
                    "unique_count": 2,
                    "nan_count": 0,
                    "min": 0,
                    "max": 1,
                    "histogram": [
                      {
                        "bin_start": 0,
                        "bin_end": 0.1,
                        "count": 160
                      },
                      {
                        "bin_start": 0.1,
                        "bin_end": 0.2,
                        "count": 0
                      },
                      {
                        "bin_start": 0.2,
                        "bin_end": 0.30000000000000004,
                        "count": 0
                      },
                      {
                        "bin_start": 0.30000000000000004,
                        "bin_end": 0.4,
                        "count": 0
                      },
                      {
                        "bin_start": 0.4,
                        "bin_end": 0.5,
                        "count": 0
                      },
                      {
                        "bin_start": 0.5,
                        "bin_end": 0.6000000000000001,
                        "count": 0
                      },
                      {
                        "bin_start": 0.6000000000000001,
                        "bin_end": 0.7000000000000001,
                        "count": 0
                      },
                      {
                        "bin_start": 0.7000000000000001,
                        "bin_end": 0.8,
                        "count": 0
                      },
                      {
                        "bin_start": 0.8,
                        "bin_end": 0.9,
                        "count": 0
                      },
                      {
                        "bin_start": 0.9,
                        "bin_end": 1,
                        "count": 143
                      }
                    ]
                  }
                },
                {
                  "name": "cp_1",
                  "dtype": "uint8",
                  "stats": {
                    "unique_count": 2,
                    "nan_count": 0,
                    "min": 0,
                    "max": 1,
                    "histogram": [
                      {
                        "bin_start": 0,
                        "bin_end": 0.1,
                        "count": 253
                      },
                      {
                        "bin_start": 0.1,
                        "bin_end": 0.2,
                        "count": 0
                      },
                      {
                        "bin_start": 0.2,
                        "bin_end": 0.30000000000000004,
                        "count": 0
                      },
                      {
                        "bin_start": 0.30000000000000004,
                        "bin_end": 0.4,
                        "count": 0
                      },
                      {
                        "bin_start": 0.4,
                        "bin_end": 0.5,
                        "count": 0
                      },
                      {
                        "bin_start": 0.5,
                        "bin_end": 0.6000000000000001,
                        "count": 0
                      },
                      {
                        "bin_start": 0.6000000000000001,
                        "bin_end": 0.7000000000000001,
                        "count": 0
                      },
                      {
                        "bin_start": 0.7000000000000001,
                        "bin_end": 0.8,
                        "count": 0
                      },
                      {
                        "bin_start": 0.8,
                        "bin_end": 0.9,
                        "count": 0
                      },
                      {
                        "bin_start": 0.9,
                        "bin_end": 1,
                        "count": 50
                      }
                    ]
                  }
                },
                {
                  "name": "cp_2",
                  "dtype": "uint8",
                  "stats": {
                    "unique_count": 2,
                    "nan_count": 0,
                    "min": 0,
                    "max": 1,
                    "histogram": [
                      {
                        "bin_start": 0,
                        "bin_end": 0.1,
                        "count": 216
                      },
                      {
                        "bin_start": 0.1,
                        "bin_end": 0.2,
                        "count": 0
                      },
                      {
                        "bin_start": 0.2,
                        "bin_end": 0.30000000000000004,
                        "count": 0
                      },
                      {
                        "bin_start": 0.30000000000000004,
                        "bin_end": 0.4,
                        "count": 0
                      },
                      {
                        "bin_start": 0.4,
                        "bin_end": 0.5,
                        "count": 0
                      },
                      {
                        "bin_start": 0.5,
                        "bin_end": 0.6000000000000001,
                        "count": 0
                      },
                      {
                        "bin_start": 0.6000000000000001,
                        "bin_end": 0.7000000000000001,
                        "count": 0
                      },
                      {
                        "bin_start": 0.7000000000000001,
                        "bin_end": 0.8,
                        "count": 0
                      },
                      {
                        "bin_start": 0.8,
                        "bin_end": 0.9,
                        "count": 0
                      },
                      {
                        "bin_start": 0.9,
                        "bin_end": 1,
                        "count": 87
                      }
                    ]
                  }
                },
                {
                  "name": "cp_3",
                  "dtype": "uint8",
                  "stats": {
                    "unique_count": 2,
                    "nan_count": 0,
                    "min": 0,
                    "max": 1,
                    "histogram": [
                      {
                        "bin_start": 0,
                        "bin_end": 0.1,
                        "count": 280
                      },
                      {
                        "bin_start": 0.1,
                        "bin_end": 0.2,
                        "count": 0
                      },
                      {
                        "bin_start": 0.2,
                        "bin_end": 0.30000000000000004,
                        "count": 0
                      },
                      {
                        "bin_start": 0.30000000000000004,
                        "bin_end": 0.4,
                        "count": 0
                      },
                      {
                        "bin_start": 0.4,
                        "bin_end": 0.5,
                        "count": 0
                      },
                      {
                        "bin_start": 0.5,
                        "bin_end": 0.6000000000000001,
                        "count": 0
                      },
                      {
                        "bin_start": 0.6000000000000001,
                        "bin_end": 0.7000000000000001,
                        "count": 0
                      },
                      {
                        "bin_start": 0.7000000000000001,
                        "bin_end": 0.8,
                        "count": 0
                      },
                      {
                        "bin_start": 0.8,
                        "bin_end": 0.9,
                        "count": 0
                      },
                      {
                        "bin_start": 0.9,
                        "bin_end": 1,
                        "count": 23
                      }
                    ]
                  }
                },
                {
                  "name": "restecg_0",
                  "dtype": "uint8",
                  "stats": {
                    "unique_count": 2,
                    "nan_count": 0,
                    "min": 0,
                    "max": 1,
                    "histogram": [
                      {
                        "bin_start": 0,
                        "bin_end": 0.1,
                        "count": 156
                      },
                      {
                        "bin_start": 0.1,
                        "bin_end": 0.2,
                        "count": 0
                      },
                      {
                        "bin_start": 0.2,
                        "bin_end": 0.30000000000000004,
                        "count": 0
                      },
                      {
                        "bin_start": 0.30000000000000004,
                        "bin_end": 0.4,
                        "count": 0
                      },
                      {
                        "bin_start": 0.4,
                        "bin_end": 0.5,
                        "count": 0
                      },
                      {
                        "bin_start": 0.5,
                        "bin_end": 0.6000000000000001,
                        "count": 0
                      },
                      {
                        "bin_start": 0.6000000000000001,
                        "bin_end": 0.7000000000000001,
                        "count": 0
                      },
                      {
                        "bin_start": 0.7000000000000001,
                        "bin_end": 0.8,
                        "count": 0
                      },
                      {
                        "bin_start": 0.8,
                        "bin_end": 0.9,
                        "count": 0
                      },
                      {
                        "bin_start": 0.9,
                        "bin_end": 1,
                        "count": 147
                      }
                    ]
                  }
                },
                {
                  "name": "restecg_1",
                  "dtype": "uint8",
                  "stats": {
                    "unique_count": 2,
                    "nan_count": 0,
                    "min": 0,
                    "max": 1,
                    "histogram": [
                      {
                        "bin_start": 0,
                        "bin_end": 0.1,
                        "count": 151
                      },
                      {
                        "bin_start": 0.1,
                        "bin_end": 0.2,
                        "count": 0
                      },
                      {
                        "bin_start": 0.2,
                        "bin_end": 0.30000000000000004,
                        "count": 0
                      },
                      {
                        "bin_start": 0.30000000000000004,
                        "bin_end": 0.4,
                        "count": 0
                      },
                      {
                        "bin_start": 0.4,
                        "bin_end": 0.5,
                        "count": 0
                      },
                      {
                        "bin_start": 0.5,
                        "bin_end": 0.6000000000000001,
                        "count": 0
                      },
                      {
                        "bin_start": 0.6000000000000001,
                        "bin_end": 0.7000000000000001,
                        "count": 0
                      },
                      {
                        "bin_start": 0.7000000000000001,
                        "bin_end": 0.8,
                        "count": 0
                      },
                      {
                        "bin_start": 0.8,
                        "bin_end": 0.9,
                        "count": 0
                      },
                      {
                        "bin_start": 0.9,
                        "bin_end": 1,
                        "count": 152
                      }
                    ]
                  }
                },
                {
                  "name": "restecg_2",
                  "dtype": "uint8",
                  "stats": {
                    "unique_count": 2,
                    "nan_count": 0,
                    "min": 0,
                    "max": 1,
                    "histogram": [
                      {
                        "bin_start": 0,
                        "bin_end": 0.1,
                        "count": 299
                      },
                      {
                        "bin_start": 0.1,
                        "bin_end": 0.2,
                        "count": 0
                      },
                      {
                        "bin_start": 0.2,
                        "bin_end": 0.30000000000000004,
                        "count": 0
                      },
                      {
                        "bin_start": 0.30000000000000004,
                        "bin_end": 0.4,
                        "count": 0
                      },
                      {
                        "bin_start": 0.4,
                        "bin_end": 0.5,
                        "count": 0
                      },
                      {
                        "bin_start": 0.5,
                        "bin_end": 0.6000000000000001,
                        "count": 0
                      },
                      {
                        "bin_start": 0.6000000000000001,
                        "bin_end": 0.7000000000000001,
                        "count": 0
                      },
                      {
                        "bin_start": 0.7000000000000001,
                        "bin_end": 0.8,
                        "count": 0
                      },
                      {
                        "bin_start": 0.8,
                        "bin_end": 0.9,
                        "count": 0
                      },
                      {
                        "bin_start": 0.9,
                        "bin_end": 1,
                        "count": 4
                      }
                    ]
                  }
                },
                {
                  "name": "slope_0",
                  "dtype": "uint8",
                  "stats": {
                    "unique_count": 2,
                    "nan_count": 0,
                    "min": 0,
                    "max": 1,
                    "histogram": [
                      {
                        "bin_start": 0,
                        "bin_end": 0.1,
                        "count": 282
                      },
                      {
                        "bin_start": 0.1,
                        "bin_end": 0.2,
                        "count": 0
                      },
                      {
                        "bin_start": 0.2,
                        "bin_end": 0.30000000000000004,
                        "count": 0
                      },
                      {
                        "bin_start": 0.30000000000000004,
                        "bin_end": 0.4,
                        "count": 0
                      },
                      {
                        "bin_start": 0.4,
                        "bin_end": 0.5,
                        "count": 0
                      },
                      {
                        "bin_start": 0.5,
                        "bin_end": 0.6000000000000001,
                        "count": 0
                      },
                      {
                        "bin_start": 0.6000000000000001,
                        "bin_end": 0.7000000000000001,
                        "count": 0
                      },
                      {
                        "bin_start": 0.7000000000000001,
                        "bin_end": 0.8,
                        "count": 0
                      },
                      {
                        "bin_start": 0.8,
                        "bin_end": 0.9,
                        "count": 0
                      },
                      {
                        "bin_start": 0.9,
                        "bin_end": 1,
                        "count": 21
                      }
                    ]
                  }
                },
                {
                  "name": "slope_1",
                  "dtype": "uint8",
                  "stats": {
                    "unique_count": 2,
                    "nan_count": 0,
                    "min": 0,
                    "max": 1,
                    "histogram": [
                      {
                        "bin_start": 0,
                        "bin_end": 0.1,
                        "count": 163
                      },
                      {
                        "bin_start": 0.1,
                        "bin_end": 0.2,
                        "count": 0
                      },
                      {
                        "bin_start": 0.2,
                        "bin_end": 0.30000000000000004,
                        "count": 0
                      },
                      {
                        "bin_start": 0.30000000000000004,
                        "bin_end": 0.4,
                        "count": 0
                      },
                      {
                        "bin_start": 0.4,
                        "bin_end": 0.5,
                        "count": 0
                      },
                      {
                        "bin_start": 0.5,
                        "bin_end": 0.6000000000000001,
                        "count": 0
                      },
                      {
                        "bin_start": 0.6000000000000001,
                        "bin_end": 0.7000000000000001,
                        "count": 0
                      },
                      {
                        "bin_start": 0.7000000000000001,
                        "bin_end": 0.8,
                        "count": 0
                      },
                      {
                        "bin_start": 0.8,
                        "bin_end": 0.9,
                        "count": 0
                      },
                      {
                        "bin_start": 0.9,
                        "bin_end": 1,
                        "count": 140
                      }
                    ]
                  }
                },
                {
                  "name": "slope_2",
                  "dtype": "uint8",
                  "stats": {
                    "unique_count": 2,
                    "nan_count": 0,
                    "min": 0,
                    "max": 1,
                    "histogram": [
                      {
                        "bin_start": 0,
                        "bin_end": 0.1,
                        "count": 161
                      },
                      {
                        "bin_start": 0.1,
                        "bin_end": 0.2,
                        "count": 0
                      },
                      {
                        "bin_start": 0.2,
                        "bin_end": 0.30000000000000004,
                        "count": 0
                      },
                      {
                        "bin_start": 0.30000000000000004,
                        "bin_end": 0.4,
                        "count": 0
                      },
                      {
                        "bin_start": 0.4,
                        "bin_end": 0.5,
                        "count": 0
                      },
                      {
                        "bin_start": 0.5,
                        "bin_end": 0.6000000000000001,
                        "count": 0
                      },
                      {
                        "bin_start": 0.6000000000000001,
                        "bin_end": 0.7000000000000001,
                        "count": 0
                      },
                      {
                        "bin_start": 0.7000000000000001,
                        "bin_end": 0.8,
                        "count": 0
                      },
                      {
                        "bin_start": 0.8,
                        "bin_end": 0.9,
                        "count": 0
                      },
                      {
                        "bin_start": 0.9,
                        "bin_end": 1,
                        "count": 142
                      }
                    ]
                  }
                },
                {
                  "name": "ca_0",
                  "dtype": "uint8",
                  "stats": {
                    "unique_count": 2,
                    "nan_count": 0,
                    "min": 0,
                    "max": 1,
                    "histogram": [
                      {
                        "bin_start": 0,
                        "bin_end": 0.1,
                        "count": 128
                      },
                      {
                        "bin_start": 0.1,
                        "bin_end": 0.2,
                        "count": 0
                      },
                      {
                        "bin_start": 0.2,
                        "bin_end": 0.30000000000000004,
                        "count": 0
                      },
                      {
                        "bin_start": 0.30000000000000004,
                        "bin_end": 0.4,
                        "count": 0
                      },
                      {
                        "bin_start": 0.4,
                        "bin_end": 0.5,
                        "count": 0
                      },
                      {
                        "bin_start": 0.5,
                        "bin_end": 0.6000000000000001,
                        "count": 0
                      },
                      {
                        "bin_start": 0.6000000000000001,
                        "bin_end": 0.7000000000000001,
                        "count": 0
                      },
                      {
                        "bin_start": 0.7000000000000001,
                        "bin_end": 0.8,
                        "count": 0
                      },
                      {
                        "bin_start": 0.8,
                        "bin_end": 0.9,
                        "count": 0
                      },
                      {
                        "bin_start": 0.9,
                        "bin_end": 1,
                        "count": 175
                      }
                    ]
                  }
                },
                {
                  "name": "ca_1",
                  "dtype": "uint8",
                  "stats": {
                    "unique_count": 2,
                    "nan_count": 0,
                    "min": 0,
                    "max": 1,
                    "histogram": [
                      {
                        "bin_start": 0,
                        "bin_end": 0.1,
                        "count": 238
                      },
                      {
                        "bin_start": 0.1,
                        "bin_end": 0.2,
                        "count": 0
                      },
                      {
                        "bin_start": 0.2,
                        "bin_end": 0.30000000000000004,
                        "count": 0
                      },
                      {
                        "bin_start": 0.30000000000000004,
                        "bin_end": 0.4,
                        "count": 0
                      },
                      {
                        "bin_start": 0.4,
                        "bin_end": 0.5,
                        "count": 0
                      },
                      {
                        "bin_start": 0.5,
                        "bin_end": 0.6000000000000001,
                        "count": 0
                      },
                      {
                        "bin_start": 0.6000000000000001,
                        "bin_end": 0.7000000000000001,
                        "count": 0
                      },
                      {
                        "bin_start": 0.7000000000000001,
                        "bin_end": 0.8,
                        "count": 0
                      },
                      {
                        "bin_start": 0.8,
                        "bin_end": 0.9,
                        "count": 0
                      },
                      {
                        "bin_start": 0.9,
                        "bin_end": 1,
                        "count": 65
                      }
                    ]
                  }
                },
                {
                  "name": "ca_2",
                  "dtype": "uint8",
                  "stats": {
                    "unique_count": 2,
                    "nan_count": 0,
                    "min": 0,
                    "max": 1,
                    "histogram": [
                      {
                        "bin_start": 0,
                        "bin_end": 0.1,
                        "count": 265
                      },
                      {
                        "bin_start": 0.1,
                        "bin_end": 0.2,
                        "count": 0
                      },
                      {
                        "bin_start": 0.2,
                        "bin_end": 0.30000000000000004,
                        "count": 0
                      },
                      {
                        "bin_start": 0.30000000000000004,
                        "bin_end": 0.4,
                        "count": 0
                      },
                      {
                        "bin_start": 0.4,
                        "bin_end": 0.5,
                        "count": 0
                      },
                      {
                        "bin_start": 0.5,
                        "bin_end": 0.6000000000000001,
                        "count": 0
                      },
                      {
                        "bin_start": 0.6000000000000001,
                        "bin_end": 0.7000000000000001,
                        "count": 0
                      },
                      {
                        "bin_start": 0.7000000000000001,
                        "bin_end": 0.8,
                        "count": 0
                      },
                      {
                        "bin_start": 0.8,
                        "bin_end": 0.9,
                        "count": 0
                      },
                      {
                        "bin_start": 0.9,
                        "bin_end": 1,
                        "count": 38
                      }
                    ]
                  }
                },
                {
                  "name": "ca_3",
                  "dtype": "uint8",
                  "stats": {
                    "unique_count": 2,
                    "nan_count": 0,
                    "min": 0,
                    "max": 1,
                    "histogram": [
                      {
                        "bin_start": 0,
                        "bin_end": 0.1,
                        "count": 283
                      },
                      {
                        "bin_start": 0.1,
                        "bin_end": 0.2,
                        "count": 0
                      },
                      {
                        "bin_start": 0.2,
                        "bin_end": 0.30000000000000004,
                        "count": 0
                      },
                      {
                        "bin_start": 0.30000000000000004,
                        "bin_end": 0.4,
                        "count": 0
                      },
                      {
                        "bin_start": 0.4,
                        "bin_end": 0.5,
                        "count": 0
                      },
                      {
                        "bin_start": 0.5,
                        "bin_end": 0.6000000000000001,
                        "count": 0
                      },
                      {
                        "bin_start": 0.6000000000000001,
                        "bin_end": 0.7000000000000001,
                        "count": 0
                      },
                      {
                        "bin_start": 0.7000000000000001,
                        "bin_end": 0.8,
                        "count": 0
                      },
                      {
                        "bin_start": 0.8,
                        "bin_end": 0.9,
                        "count": 0
                      },
                      {
                        "bin_start": 0.9,
                        "bin_end": 1,
                        "count": 20
                      }
                    ]
                  }
                },
                {
                  "name": "ca_4",
                  "dtype": "uint8",
                  "stats": {
                    "unique_count": 2,
                    "nan_count": 0,
                    "min": 0,
                    "max": 1,
                    "histogram": [
                      {
                        "bin_start": 0,
                        "bin_end": 0.1,
                        "count": 298
                      },
                      {
                        "bin_start": 0.1,
                        "bin_end": 0.2,
                        "count": 0
                      },
                      {
                        "bin_start": 0.2,
                        "bin_end": 0.30000000000000004,
                        "count": 0
                      },
                      {
                        "bin_start": 0.30000000000000004,
                        "bin_end": 0.4,
                        "count": 0
                      },
                      {
                        "bin_start": 0.4,
                        "bin_end": 0.5,
                        "count": 0
                      },
                      {
                        "bin_start": 0.5,
                        "bin_end": 0.6000000000000001,
                        "count": 0
                      },
                      {
                        "bin_start": 0.6000000000000001,
                        "bin_end": 0.7000000000000001,
                        "count": 0
                      },
                      {
                        "bin_start": 0.7000000000000001,
                        "bin_end": 0.8,
                        "count": 0
                      },
                      {
                        "bin_start": 0.8,
                        "bin_end": 0.9,
                        "count": 0
                      },
                      {
                        "bin_start": 0.9,
                        "bin_end": 1,
                        "count": 5
                      }
                    ]
                  }
                },
                {
                  "name": "_deepnote_index_column",
                  "dtype": "int64"
                }
              ],
              "rows_top": [
                {
                  "age": 63,
                  "sex": 1,
                  "trestbps": 145,
                  "chol": 233,
                  "fbs": 1,
                  "thalach": 150,
                  "exang": 0,
                  "oldpeak": 2.3,
                  "thal": 1,
                  "target": 1,
                  "cp_0": 0,
                  "cp_1": 0,
                  "cp_2": 0,
                  "cp_3": 1,
                  "restecg_0": 1,
                  "restecg_1": 0,
                  "restecg_2": 0,
                  "slope_0": 1,
                  "slope_1": 0,
                  "slope_2": 0,
                  "ca_0": 1,
                  "ca_1": 0,
                  "ca_2": 0,
                  "ca_3": 0,
                  "ca_4": 0,
                  "_deepnote_index_column": 0
                },
                {
                  "age": 37,
                  "sex": 1,
                  "trestbps": 130,
                  "chol": 250,
                  "fbs": 0,
                  "thalach": 187,
                  "exang": 0,
                  "oldpeak": 3.5,
                  "thal": 2,
                  "target": 1,
                  "cp_0": 0,
                  "cp_1": 0,
                  "cp_2": 1,
                  "cp_3": 0,
                  "restecg_0": 0,
                  "restecg_1": 1,
                  "restecg_2": 0,
                  "slope_0": 1,
                  "slope_1": 0,
                  "slope_2": 0,
                  "ca_0": 1,
                  "ca_1": 0,
                  "ca_2": 0,
                  "ca_3": 0,
                  "ca_4": 0,
                  "_deepnote_index_column": 1
                },
                {
                  "age": 41,
                  "sex": 0,
                  "trestbps": 130,
                  "chol": 204,
                  "fbs": 0,
                  "thalach": 172,
                  "exang": 0,
                  "oldpeak": 1.4,
                  "thal": 2,
                  "target": 1,
                  "cp_0": 0,
                  "cp_1": 1,
                  "cp_2": 0,
                  "cp_3": 0,
                  "restecg_0": 1,
                  "restecg_1": 0,
                  "restecg_2": 0,
                  "slope_0": 0,
                  "slope_1": 0,
                  "slope_2": 1,
                  "ca_0": 1,
                  "ca_1": 0,
                  "ca_2": 0,
                  "ca_3": 0,
                  "ca_4": 0,
                  "_deepnote_index_column": 2
                },
                {
                  "age": 56,
                  "sex": 1,
                  "trestbps": 120,
                  "chol": 236,
                  "fbs": 0,
                  "thalach": 178,
                  "exang": 0,
                  "oldpeak": 0.8,
                  "thal": 2,
                  "target": 1,
                  "cp_0": 0,
                  "cp_1": 1,
                  "cp_2": 0,
                  "cp_3": 0,
                  "restecg_0": 0,
                  "restecg_1": 1,
                  "restecg_2": 0,
                  "slope_0": 0,
                  "slope_1": 0,
                  "slope_2": 1,
                  "ca_0": 1,
                  "ca_1": 0,
                  "ca_2": 0,
                  "ca_3": 0,
                  "ca_4": 0,
                  "_deepnote_index_column": 3
                },
                {
                  "age": 57,
                  "sex": 0,
                  "trestbps": 120,
                  "chol": 354,
                  "fbs": 0,
                  "thalach": 163,
                  "exang": 1,
                  "oldpeak": 0.6,
                  "thal": 2,
                  "target": 1,
                  "cp_0": 1,
                  "cp_1": 0,
                  "cp_2": 0,
                  "cp_3": 0,
                  "restecg_0": 0,
                  "restecg_1": 1,
                  "restecg_2": 0,
                  "slope_0": 0,
                  "slope_1": 0,
                  "slope_2": 1,
                  "ca_0": 1,
                  "ca_1": 0,
                  "ca_2": 0,
                  "ca_3": 0,
                  "ca_4": 0,
                  "_deepnote_index_column": 4
                },
                {
                  "age": 57,
                  "sex": 1,
                  "trestbps": 140,
                  "chol": 192,
                  "fbs": 0,
                  "thalach": 148,
                  "exang": 0,
                  "oldpeak": 0.4,
                  "thal": 1,
                  "target": 1,
                  "cp_0": 1,
                  "cp_1": 0,
                  "cp_2": 0,
                  "cp_3": 0,
                  "restecg_0": 0,
                  "restecg_1": 1,
                  "restecg_2": 0,
                  "slope_0": 0,
                  "slope_1": 1,
                  "slope_2": 0,
                  "ca_0": 1,
                  "ca_1": 0,
                  "ca_2": 0,
                  "ca_3": 0,
                  "ca_4": 0,
                  "_deepnote_index_column": 5
                },
                {
                  "age": 56,
                  "sex": 0,
                  "trestbps": 140,
                  "chol": 294,
                  "fbs": 0,
                  "thalach": 153,
                  "exang": 0,
                  "oldpeak": 1.3,
                  "thal": 2,
                  "target": 1,
                  "cp_0": 0,
                  "cp_1": 1,
                  "cp_2": 0,
                  "cp_3": 0,
                  "restecg_0": 1,
                  "restecg_1": 0,
                  "restecg_2": 0,
                  "slope_0": 0,
                  "slope_1": 1,
                  "slope_2": 0,
                  "ca_0": 1,
                  "ca_1": 0,
                  "ca_2": 0,
                  "ca_3": 0,
                  "ca_4": 0,
                  "_deepnote_index_column": 6
                },
                {
                  "age": 44,
                  "sex": 1,
                  "trestbps": 120,
                  "chol": 263,
                  "fbs": 0,
                  "thalach": 173,
                  "exang": 0,
                  "oldpeak": 0,
                  "thal": 3,
                  "target": 1,
                  "cp_0": 0,
                  "cp_1": 1,
                  "cp_2": 0,
                  "cp_3": 0,
                  "restecg_0": 0,
                  "restecg_1": 1,
                  "restecg_2": 0,
                  "slope_0": 0,
                  "slope_1": 0,
                  "slope_2": 1,
                  "ca_0": 1,
                  "ca_1": 0,
                  "ca_2": 0,
                  "ca_3": 0,
                  "ca_4": 0,
                  "_deepnote_index_column": 7
                },
                {
                  "age": 52,
                  "sex": 1,
                  "trestbps": 172,
                  "chol": 199,
                  "fbs": 1,
                  "thalach": 162,
                  "exang": 0,
                  "oldpeak": 0.5,
                  "thal": 3,
                  "target": 1,
                  "cp_0": 0,
                  "cp_1": 0,
                  "cp_2": 1,
                  "cp_3": 0,
                  "restecg_0": 0,
                  "restecg_1": 1,
                  "restecg_2": 0,
                  "slope_0": 0,
                  "slope_1": 0,
                  "slope_2": 1,
                  "ca_0": 1,
                  "ca_1": 0,
                  "ca_2": 0,
                  "ca_3": 0,
                  "ca_4": 0,
                  "_deepnote_index_column": 8
                },
                {
                  "age": 57,
                  "sex": 1,
                  "trestbps": 150,
                  "chol": 168,
                  "fbs": 0,
                  "thalach": 174,
                  "exang": 0,
                  "oldpeak": 1.6,
                  "thal": 2,
                  "target": 1,
                  "cp_0": 0,
                  "cp_1": 0,
                  "cp_2": 1,
                  "cp_3": 0,
                  "restecg_0": 0,
                  "restecg_1": 1,
                  "restecg_2": 0,
                  "slope_0": 0,
                  "slope_1": 0,
                  "slope_2": 1,
                  "ca_0": 1,
                  "ca_1": 0,
                  "ca_2": 0,
                  "ca_3": 0,
                  "ca_4": 0,
                  "_deepnote_index_column": 9
                },
                {
                  "age": 54,
                  "sex": 1,
                  "trestbps": 140,
                  "chol": 239,
                  "fbs": 0,
                  "thalach": 160,
                  "exang": 0,
                  "oldpeak": 1.2,
                  "thal": 2,
                  "target": 1,
                  "cp_0": 1,
                  "cp_1": 0,
                  "cp_2": 0,
                  "cp_3": 0,
                  "restecg_0": 0,
                  "restecg_1": 1,
                  "restecg_2": 0,
                  "slope_0": 0,
                  "slope_1": 0,
                  "slope_2": 1,
                  "ca_0": 1,
                  "ca_1": 0,
                  "ca_2": 0,
                  "ca_3": 0,
                  "ca_4": 0,
                  "_deepnote_index_column": 10
                },
                {
                  "age": 48,
                  "sex": 0,
                  "trestbps": 130,
                  "chol": 275,
                  "fbs": 0,
                  "thalach": 139,
                  "exang": 0,
                  "oldpeak": 0.2,
                  "thal": 2,
                  "target": 1,
                  "cp_0": 0,
                  "cp_1": 0,
                  "cp_2": 1,
                  "cp_3": 0,
                  "restecg_0": 0,
                  "restecg_1": 1,
                  "restecg_2": 0,
                  "slope_0": 0,
                  "slope_1": 0,
                  "slope_2": 1,
                  "ca_0": 1,
                  "ca_1": 0,
                  "ca_2": 0,
                  "ca_3": 0,
                  "ca_4": 0,
                  "_deepnote_index_column": 11
                },
                {
                  "age": 49,
                  "sex": 1,
                  "trestbps": 130,
                  "chol": 266,
                  "fbs": 0,
                  "thalach": 171,
                  "exang": 0,
                  "oldpeak": 0.6,
                  "thal": 2,
                  "target": 1,
                  "cp_0": 0,
                  "cp_1": 1,
                  "cp_2": 0,
                  "cp_3": 0,
                  "restecg_0": 0,
                  "restecg_1": 1,
                  "restecg_2": 0,
                  "slope_0": 0,
                  "slope_1": 0,
                  "slope_2": 1,
                  "ca_0": 1,
                  "ca_1": 0,
                  "ca_2": 0,
                  "ca_3": 0,
                  "ca_4": 0,
                  "_deepnote_index_column": 12
                },
                {
                  "age": 64,
                  "sex": 1,
                  "trestbps": 110,
                  "chol": 211,
                  "fbs": 0,
                  "thalach": 144,
                  "exang": 1,
                  "oldpeak": 1.8,
                  "thal": 2,
                  "target": 1,
                  "cp_0": 0,
                  "cp_1": 0,
                  "cp_2": 0,
                  "cp_3": 1,
                  "restecg_0": 1,
                  "restecg_1": 0,
                  "restecg_2": 0,
                  "slope_0": 0,
                  "slope_1": 1,
                  "slope_2": 0,
                  "ca_0": 1,
                  "ca_1": 0,
                  "ca_2": 0,
                  "ca_3": 0,
                  "ca_4": 0,
                  "_deepnote_index_column": 13
                },
                {
                  "age": 58,
                  "sex": 0,
                  "trestbps": 150,
                  "chol": 283,
                  "fbs": 1,
                  "thalach": 162,
                  "exang": 0,
                  "oldpeak": 1,
                  "thal": 2,
                  "target": 1,
                  "cp_0": 0,
                  "cp_1": 0,
                  "cp_2": 0,
                  "cp_3": 1,
                  "restecg_0": 1,
                  "restecg_1": 0,
                  "restecg_2": 0,
                  "slope_0": 0,
                  "slope_1": 0,
                  "slope_2": 1,
                  "ca_0": 1,
                  "ca_1": 0,
                  "ca_2": 0,
                  "ca_3": 0,
                  "ca_4": 0,
                  "_deepnote_index_column": 14
                },
                {
                  "age": 50,
                  "sex": 0,
                  "trestbps": 120,
                  "chol": 219,
                  "fbs": 0,
                  "thalach": 158,
                  "exang": 0,
                  "oldpeak": 1.6,
                  "thal": 2,
                  "target": 1,
                  "cp_0": 0,
                  "cp_1": 0,
                  "cp_2": 1,
                  "cp_3": 0,
                  "restecg_0": 0,
                  "restecg_1": 1,
                  "restecg_2": 0,
                  "slope_0": 0,
                  "slope_1": 1,
                  "slope_2": 0,
                  "ca_0": 1,
                  "ca_1": 0,
                  "ca_2": 0,
                  "ca_3": 0,
                  "ca_4": 0,
                  "_deepnote_index_column": 15
                },
                {
                  "age": 58,
                  "sex": 0,
                  "trestbps": 120,
                  "chol": 340,
                  "fbs": 0,
                  "thalach": 172,
                  "exang": 0,
                  "oldpeak": 0,
                  "thal": 2,
                  "target": 1,
                  "cp_0": 0,
                  "cp_1": 0,
                  "cp_2": 1,
                  "cp_3": 0,
                  "restecg_0": 0,
                  "restecg_1": 1,
                  "restecg_2": 0,
                  "slope_0": 0,
                  "slope_1": 0,
                  "slope_2": 1,
                  "ca_0": 1,
                  "ca_1": 0,
                  "ca_2": 0,
                  "ca_3": 0,
                  "ca_4": 0,
                  "_deepnote_index_column": 16
                },
                {
                  "age": 66,
                  "sex": 0,
                  "trestbps": 150,
                  "chol": 226,
                  "fbs": 0,
                  "thalach": 114,
                  "exang": 0,
                  "oldpeak": 2.6,
                  "thal": 2,
                  "target": 1,
                  "cp_0": 0,
                  "cp_1": 0,
                  "cp_2": 0,
                  "cp_3": 1,
                  "restecg_0": 0,
                  "restecg_1": 1,
                  "restecg_2": 0,
                  "slope_0": 1,
                  "slope_1": 0,
                  "slope_2": 0,
                  "ca_0": 1,
                  "ca_1": 0,
                  "ca_2": 0,
                  "ca_3": 0,
                  "ca_4": 0,
                  "_deepnote_index_column": 17
                },
                {
                  "age": 43,
                  "sex": 1,
                  "trestbps": 150,
                  "chol": 247,
                  "fbs": 0,
                  "thalach": 171,
                  "exang": 0,
                  "oldpeak": 1.5,
                  "thal": 2,
                  "target": 1,
                  "cp_0": 1,
                  "cp_1": 0,
                  "cp_2": 0,
                  "cp_3": 0,
                  "restecg_0": 0,
                  "restecg_1": 1,
                  "restecg_2": 0,
                  "slope_0": 0,
                  "slope_1": 0,
                  "slope_2": 1,
                  "ca_0": 1,
                  "ca_1": 0,
                  "ca_2": 0,
                  "ca_3": 0,
                  "ca_4": 0,
                  "_deepnote_index_column": 18
                },
                {
                  "age": 69,
                  "sex": 0,
                  "trestbps": 140,
                  "chol": 239,
                  "fbs": 0,
                  "thalach": 151,
                  "exang": 0,
                  "oldpeak": 1.8,
                  "thal": 2,
                  "target": 1,
                  "cp_0": 0,
                  "cp_1": 0,
                  "cp_2": 0,
                  "cp_3": 1,
                  "restecg_0": 0,
                  "restecg_1": 1,
                  "restecg_2": 0,
                  "slope_0": 0,
                  "slope_1": 0,
                  "slope_2": 1,
                  "ca_0": 0,
                  "ca_1": 0,
                  "ca_2": 1,
                  "ca_3": 0,
                  "ca_4": 0,
                  "_deepnote_index_column": 19
                }
              ],
              "rows_bottom": [
                {
                  "age": 40,
                  "sex": 1,
                  "trestbps": 152,
                  "chol": 223,
                  "fbs": 0,
                  "thalach": 181,
                  "exang": 0,
                  "oldpeak": 0,
                  "thal": 3,
                  "target": 0,
                  "cp_0": 1,
                  "cp_1": 0,
                  "cp_2": 0,
                  "cp_3": 0,
                  "restecg_0": 0,
                  "restecg_1": 1,
                  "restecg_2": 0,
                  "slope_0": 0,
                  "slope_1": 0,
                  "slope_2": 1,
                  "ca_0": 1,
                  "ca_1": 0,
                  "ca_2": 0,
                  "ca_3": 0,
                  "ca_4": 0,
                  "_deepnote_index_column": 283
                },
                {
                  "age": 61,
                  "sex": 1,
                  "trestbps": 140,
                  "chol": 207,
                  "fbs": 0,
                  "thalach": 138,
                  "exang": 1,
                  "oldpeak": 1.9,
                  "thal": 3,
                  "target": 0,
                  "cp_0": 1,
                  "cp_1": 0,
                  "cp_2": 0,
                  "cp_3": 0,
                  "restecg_0": 1,
                  "restecg_1": 0,
                  "restecg_2": 0,
                  "slope_0": 0,
                  "slope_1": 0,
                  "slope_2": 1,
                  "ca_0": 0,
                  "ca_1": 1,
                  "ca_2": 0,
                  "ca_3": 0,
                  "ca_4": 0,
                  "_deepnote_index_column": 284
                },
                {
                  "age": 46,
                  "sex": 1,
                  "trestbps": 140,
                  "chol": 311,
                  "fbs": 0,
                  "thalach": 120,
                  "exang": 1,
                  "oldpeak": 1.8,
                  "thal": 3,
                  "target": 0,
                  "cp_0": 1,
                  "cp_1": 0,
                  "cp_2": 0,
                  "cp_3": 0,
                  "restecg_0": 0,
                  "restecg_1": 1,
                  "restecg_2": 0,
                  "slope_0": 0,
                  "slope_1": 1,
                  "slope_2": 0,
                  "ca_0": 0,
                  "ca_1": 0,
                  "ca_2": 1,
                  "ca_3": 0,
                  "ca_4": 0,
                  "_deepnote_index_column": 285
                },
                {
                  "age": 59,
                  "sex": 1,
                  "trestbps": 134,
                  "chol": 204,
                  "fbs": 0,
                  "thalach": 162,
                  "exang": 0,
                  "oldpeak": 0.8,
                  "thal": 2,
                  "target": 0,
                  "cp_0": 0,
                  "cp_1": 0,
                  "cp_2": 0,
                  "cp_3": 1,
                  "restecg_0": 0,
                  "restecg_1": 1,
                  "restecg_2": 0,
                  "slope_0": 0,
                  "slope_1": 0,
                  "slope_2": 1,
                  "ca_0": 0,
                  "ca_1": 0,
                  "ca_2": 1,
                  "ca_3": 0,
                  "ca_4": 0,
                  "_deepnote_index_column": 286
                },
                {
                  "age": 57,
                  "sex": 1,
                  "trestbps": 154,
                  "chol": 232,
                  "fbs": 0,
                  "thalach": 164,
                  "exang": 0,
                  "oldpeak": 0,
                  "thal": 2,
                  "target": 0,
                  "cp_0": 0,
                  "cp_1": 1,
                  "cp_2": 0,
                  "cp_3": 0,
                  "restecg_0": 1,
                  "restecg_1": 0,
                  "restecg_2": 0,
                  "slope_0": 0,
                  "slope_1": 0,
                  "slope_2": 1,
                  "ca_0": 0,
                  "ca_1": 1,
                  "ca_2": 0,
                  "ca_3": 0,
                  "ca_4": 0,
                  "_deepnote_index_column": 287
                },
                {
                  "age": 57,
                  "sex": 1,
                  "trestbps": 110,
                  "chol": 335,
                  "fbs": 0,
                  "thalach": 143,
                  "exang": 1,
                  "oldpeak": 3,
                  "thal": 3,
                  "target": 0,
                  "cp_0": 1,
                  "cp_1": 0,
                  "cp_2": 0,
                  "cp_3": 0,
                  "restecg_0": 0,
                  "restecg_1": 1,
                  "restecg_2": 0,
                  "slope_0": 0,
                  "slope_1": 1,
                  "slope_2": 0,
                  "ca_0": 0,
                  "ca_1": 1,
                  "ca_2": 0,
                  "ca_3": 0,
                  "ca_4": 0,
                  "_deepnote_index_column": 288
                },
                {
                  "age": 55,
                  "sex": 0,
                  "trestbps": 128,
                  "chol": 205,
                  "fbs": 0,
                  "thalach": 130,
                  "exang": 1,
                  "oldpeak": 2,
                  "thal": 3,
                  "target": 0,
                  "cp_0": 1,
                  "cp_1": 0,
                  "cp_2": 0,
                  "cp_3": 0,
                  "restecg_0": 0,
                  "restecg_1": 0,
                  "restecg_2": 1,
                  "slope_0": 0,
                  "slope_1": 1,
                  "slope_2": 0,
                  "ca_0": 0,
                  "ca_1": 1,
                  "ca_2": 0,
                  "ca_3": 0,
                  "ca_4": 0,
                  "_deepnote_index_column": 289
                },
                {
                  "age": 61,
                  "sex": 1,
                  "trestbps": 148,
                  "chol": 203,
                  "fbs": 0,
                  "thalach": 161,
                  "exang": 0,
                  "oldpeak": 0,
                  "thal": 3,
                  "target": 0,
                  "cp_0": 1,
                  "cp_1": 0,
                  "cp_2": 0,
                  "cp_3": 0,
                  "restecg_0": 0,
                  "restecg_1": 1,
                  "restecg_2": 0,
                  "slope_0": 0,
                  "slope_1": 0,
                  "slope_2": 1,
                  "ca_0": 0,
                  "ca_1": 1,
                  "ca_2": 0,
                  "ca_3": 0,
                  "ca_4": 0,
                  "_deepnote_index_column": 290
                },
                {
                  "age": 58,
                  "sex": 1,
                  "trestbps": 114,
                  "chol": 318,
                  "fbs": 0,
                  "thalach": 140,
                  "exang": 0,
                  "oldpeak": 4.4,
                  "thal": 1,
                  "target": 0,
                  "cp_0": 1,
                  "cp_1": 0,
                  "cp_2": 0,
                  "cp_3": 0,
                  "restecg_0": 0,
                  "restecg_1": 0,
                  "restecg_2": 1,
                  "slope_0": 1,
                  "slope_1": 0,
                  "slope_2": 0,
                  "ca_0": 0,
                  "ca_1": 0,
                  "ca_2": 0,
                  "ca_3": 1,
                  "ca_4": 0,
                  "_deepnote_index_column": 291
                },
                {
                  "age": 58,
                  "sex": 0,
                  "trestbps": 170,
                  "chol": 225,
                  "fbs": 1,
                  "thalach": 146,
                  "exang": 1,
                  "oldpeak": 2.8,
                  "thal": 1,
                  "target": 0,
                  "cp_0": 1,
                  "cp_1": 0,
                  "cp_2": 0,
                  "cp_3": 0,
                  "restecg_0": 1,
                  "restecg_1": 0,
                  "restecg_2": 0,
                  "slope_0": 0,
                  "slope_1": 1,
                  "slope_2": 0,
                  "ca_0": 0,
                  "ca_1": 0,
                  "ca_2": 1,
                  "ca_3": 0,
                  "ca_4": 0,
                  "_deepnote_index_column": 292
                },
                {
                  "age": 67,
                  "sex": 1,
                  "trestbps": 152,
                  "chol": 212,
                  "fbs": 0,
                  "thalach": 150,
                  "exang": 0,
                  "oldpeak": 0.8,
                  "thal": 3,
                  "target": 0,
                  "cp_0": 0,
                  "cp_1": 0,
                  "cp_2": 1,
                  "cp_3": 0,
                  "restecg_0": 1,
                  "restecg_1": 0,
                  "restecg_2": 0,
                  "slope_0": 0,
                  "slope_1": 1,
                  "slope_2": 0,
                  "ca_0": 1,
                  "ca_1": 0,
                  "ca_2": 0,
                  "ca_3": 0,
                  "ca_4": 0,
                  "_deepnote_index_column": 293
                },
                {
                  "age": 44,
                  "sex": 1,
                  "trestbps": 120,
                  "chol": 169,
                  "fbs": 0,
                  "thalach": 144,
                  "exang": 1,
                  "oldpeak": 2.8,
                  "thal": 1,
                  "target": 0,
                  "cp_0": 1,
                  "cp_1": 0,
                  "cp_2": 0,
                  "cp_3": 0,
                  "restecg_0": 0,
                  "restecg_1": 1,
                  "restecg_2": 0,
                  "slope_0": 1,
                  "slope_1": 0,
                  "slope_2": 0,
                  "ca_0": 1,
                  "ca_1": 0,
                  "ca_2": 0,
                  "ca_3": 0,
                  "ca_4": 0,
                  "_deepnote_index_column": 294
                },
                {
                  "age": 63,
                  "sex": 1,
                  "trestbps": 140,
                  "chol": 187,
                  "fbs": 0,
                  "thalach": 144,
                  "exang": 1,
                  "oldpeak": 4,
                  "thal": 3,
                  "target": 0,
                  "cp_0": 1,
                  "cp_1": 0,
                  "cp_2": 0,
                  "cp_3": 0,
                  "restecg_0": 1,
                  "restecg_1": 0,
                  "restecg_2": 0,
                  "slope_0": 0,
                  "slope_1": 0,
                  "slope_2": 1,
                  "ca_0": 0,
                  "ca_1": 0,
                  "ca_2": 1,
                  "ca_3": 0,
                  "ca_4": 0,
                  "_deepnote_index_column": 295
                },
                {
                  "age": 63,
                  "sex": 0,
                  "trestbps": 124,
                  "chol": 197,
                  "fbs": 0,
                  "thalach": 136,
                  "exang": 1,
                  "oldpeak": 0,
                  "thal": 2,
                  "target": 0,
                  "cp_0": 1,
                  "cp_1": 0,
                  "cp_2": 0,
                  "cp_3": 0,
                  "restecg_0": 0,
                  "restecg_1": 1,
                  "restecg_2": 0,
                  "slope_0": 0,
                  "slope_1": 1,
                  "slope_2": 0,
                  "ca_0": 1,
                  "ca_1": 0,
                  "ca_2": 0,
                  "ca_3": 0,
                  "ca_4": 0,
                  "_deepnote_index_column": 296
                },
                {
                  "age": 59,
                  "sex": 1,
                  "trestbps": 164,
                  "chol": 176,
                  "fbs": 1,
                  "thalach": 90,
                  "exang": 0,
                  "oldpeak": 1,
                  "thal": 1,
                  "target": 0,
                  "cp_0": 1,
                  "cp_1": 0,
                  "cp_2": 0,
                  "cp_3": 0,
                  "restecg_0": 1,
                  "restecg_1": 0,
                  "restecg_2": 0,
                  "slope_0": 0,
                  "slope_1": 1,
                  "slope_2": 0,
                  "ca_0": 0,
                  "ca_1": 0,
                  "ca_2": 1,
                  "ca_3": 0,
                  "ca_4": 0,
                  "_deepnote_index_column": 297
                },
                {
                  "age": 57,
                  "sex": 0,
                  "trestbps": 140,
                  "chol": 241,
                  "fbs": 0,
                  "thalach": 123,
                  "exang": 1,
                  "oldpeak": 0.2,
                  "thal": 3,
                  "target": 0,
                  "cp_0": 1,
                  "cp_1": 0,
                  "cp_2": 0,
                  "cp_3": 0,
                  "restecg_0": 0,
                  "restecg_1": 1,
                  "restecg_2": 0,
                  "slope_0": 0,
                  "slope_1": 1,
                  "slope_2": 0,
                  "ca_0": 1,
                  "ca_1": 0,
                  "ca_2": 0,
                  "ca_3": 0,
                  "ca_4": 0,
                  "_deepnote_index_column": 298
                },
                {
                  "age": 45,
                  "sex": 1,
                  "trestbps": 110,
                  "chol": 264,
                  "fbs": 0,
                  "thalach": 132,
                  "exang": 0,
                  "oldpeak": 1.2,
                  "thal": 3,
                  "target": 0,
                  "cp_0": 0,
                  "cp_1": 0,
                  "cp_2": 0,
                  "cp_3": 1,
                  "restecg_0": 0,
                  "restecg_1": 1,
                  "restecg_2": 0,
                  "slope_0": 0,
                  "slope_1": 1,
                  "slope_2": 0,
                  "ca_0": 1,
                  "ca_1": 0,
                  "ca_2": 0,
                  "ca_3": 0,
                  "ca_4": 0,
                  "_deepnote_index_column": 299
                },
                {
                  "age": 68,
                  "sex": 1,
                  "trestbps": 144,
                  "chol": 193,
                  "fbs": 1,
                  "thalach": 141,
                  "exang": 0,
                  "oldpeak": 3.4,
                  "thal": 3,
                  "target": 0,
                  "cp_0": 1,
                  "cp_1": 0,
                  "cp_2": 0,
                  "cp_3": 0,
                  "restecg_0": 0,
                  "restecg_1": 1,
                  "restecg_2": 0,
                  "slope_0": 0,
                  "slope_1": 1,
                  "slope_2": 0,
                  "ca_0": 0,
                  "ca_1": 0,
                  "ca_2": 1,
                  "ca_3": 0,
                  "ca_4": 0,
                  "_deepnote_index_column": 300
                },
                {
                  "age": 57,
                  "sex": 1,
                  "trestbps": 130,
                  "chol": 131,
                  "fbs": 0,
                  "thalach": 115,
                  "exang": 1,
                  "oldpeak": 1.2,
                  "thal": 3,
                  "target": 0,
                  "cp_0": 1,
                  "cp_1": 0,
                  "cp_2": 0,
                  "cp_3": 0,
                  "restecg_0": 0,
                  "restecg_1": 1,
                  "restecg_2": 0,
                  "slope_0": 0,
                  "slope_1": 1,
                  "slope_2": 0,
                  "ca_0": 0,
                  "ca_1": 1,
                  "ca_2": 0,
                  "ca_3": 0,
                  "ca_4": 0,
                  "_deepnote_index_column": 301
                },
                {
                  "age": 57,
                  "sex": 0,
                  "trestbps": 130,
                  "chol": 236,
                  "fbs": 0,
                  "thalach": 174,
                  "exang": 0,
                  "oldpeak": 0,
                  "thal": 2,
                  "target": 0,
                  "cp_0": 0,
                  "cp_1": 1,
                  "cp_2": 0,
                  "cp_3": 0,
                  "restecg_0": 1,
                  "restecg_1": 0,
                  "restecg_2": 0,
                  "slope_0": 0,
                  "slope_1": 1,
                  "slope_2": 0,
                  "ca_0": 0,
                  "ca_1": 1,
                  "ca_2": 0,
                  "ca_3": 0,
                  "ca_4": 0,
                  "_deepnote_index_column": 302
                }
              ]
            },
            "text/plain": "     age  sex  trestbps  chol  fbs  thalach  exang  oldpeak  thal  target  \\\n0     63    1       145   233    1      150      0      2.3     1       1   \n1     37    1       130   250    0      187      0      3.5     2       1   \n2     41    0       130   204    0      172      0      1.4     2       1   \n3     56    1       120   236    0      178      0      0.8     2       1   \n4     57    0       120   354    0      163      1      0.6     2       1   \n..   ...  ...       ...   ...  ...      ...    ...      ...   ...     ...   \n298   57    0       140   241    0      123      1      0.2     3       0   \n299   45    1       110   264    0      132      0      1.2     3       0   \n300   68    1       144   193    1      141      0      3.4     3       0   \n301   57    1       130   131    0      115      1      1.2     3       0   \n302   57    0       130   236    0      174      0      0.0     2       0   \n\n     ...  restecg_1  restecg_2  slope_0  slope_1  slope_2  ca_0  ca_1  ca_2  \\\n0    ...          0          0        1        0        0     1     0     0   \n1    ...          1          0        1        0        0     1     0     0   \n2    ...          0          0        0        0        1     1     0     0   \n3    ...          1          0        0        0        1     1     0     0   \n4    ...          1          0        0        0        1     1     0     0   \n..   ...        ...        ...      ...      ...      ...   ...   ...   ...   \n298  ...          1          0        0        1        0     1     0     0   \n299  ...          1          0        0        1        0     1     0     0   \n300  ...          1          0        0        1        0     0     0     1   \n301  ...          1          0        0        1        0     0     1     0   \n302  ...          0          0        0        1        0     0     1     0   \n\n     ca_3  ca_4  \n0       0     0  \n1       0     0  \n2       0     0  \n3       0     0  \n4       0     0  \n..    ...   ...  \n298     0     0  \n299     0     0  \n300     0     0  \n301     0     0  \n302     0     0  \n\n[303 rows x 25 columns]",
            "text/html": "<div>\n<style scoped>\n    .dataframe tbody tr th:only-of-type {\n        vertical-align: middle;\n    }\n\n    .dataframe tbody tr th {\n        vertical-align: top;\n    }\n\n    .dataframe thead th {\n        text-align: right;\n    }\n</style>\n<table border=\"1\" class=\"dataframe\">\n  <thead>\n    <tr style=\"text-align: right;\">\n      <th></th>\n      <th>age</th>\n      <th>sex</th>\n      <th>trestbps</th>\n      <th>chol</th>\n      <th>fbs</th>\n      <th>thalach</th>\n      <th>exang</th>\n      <th>oldpeak</th>\n      <th>thal</th>\n      <th>target</th>\n      <th>...</th>\n      <th>restecg_1</th>\n      <th>restecg_2</th>\n      <th>slope_0</th>\n      <th>slope_1</th>\n      <th>slope_2</th>\n      <th>ca_0</th>\n      <th>ca_1</th>\n      <th>ca_2</th>\n      <th>ca_3</th>\n      <th>ca_4</th>\n    </tr>\n  </thead>\n  <tbody>\n    <tr>\n      <th>0</th>\n      <td>63</td>\n      <td>1</td>\n      <td>145</td>\n      <td>233</td>\n      <td>1</td>\n      <td>150</td>\n      <td>0</td>\n      <td>2.3</td>\n      <td>1</td>\n      <td>1</td>\n      <td>...</td>\n      <td>0</td>\n      <td>0</td>\n      <td>1</td>\n      <td>0</td>\n      <td>0</td>\n      <td>1</td>\n      <td>0</td>\n      <td>0</td>\n      <td>0</td>\n      <td>0</td>\n    </tr>\n    <tr>\n      <th>1</th>\n      <td>37</td>\n      <td>1</td>\n      <td>130</td>\n      <td>250</td>\n      <td>0</td>\n      <td>187</td>\n      <td>0</td>\n      <td>3.5</td>\n      <td>2</td>\n      <td>1</td>\n      <td>...</td>\n      <td>1</td>\n      <td>0</td>\n      <td>1</td>\n      <td>0</td>\n      <td>0</td>\n      <td>1</td>\n      <td>0</td>\n      <td>0</td>\n      <td>0</td>\n      <td>0</td>\n    </tr>\n    <tr>\n      <th>2</th>\n      <td>41</td>\n      <td>0</td>\n      <td>130</td>\n      <td>204</td>\n      <td>0</td>\n      <td>172</td>\n      <td>0</td>\n      <td>1.4</td>\n      <td>2</td>\n      <td>1</td>\n      <td>...</td>\n      <td>0</td>\n      <td>0</td>\n      <td>0</td>\n      <td>0</td>\n      <td>1</td>\n      <td>1</td>\n      <td>0</td>\n      <td>0</td>\n      <td>0</td>\n      <td>0</td>\n    </tr>\n    <tr>\n      <th>3</th>\n      <td>56</td>\n      <td>1</td>\n      <td>120</td>\n      <td>236</td>\n      <td>0</td>\n      <td>178</td>\n      <td>0</td>\n      <td>0.8</td>\n      <td>2</td>\n      <td>1</td>\n      <td>...</td>\n      <td>1</td>\n      <td>0</td>\n      <td>0</td>\n      <td>0</td>\n      <td>1</td>\n      <td>1</td>\n      <td>0</td>\n      <td>0</td>\n      <td>0</td>\n      <td>0</td>\n    </tr>\n    <tr>\n      <th>4</th>\n      <td>57</td>\n      <td>0</td>\n      <td>120</td>\n      <td>354</td>\n      <td>0</td>\n      <td>163</td>\n      <td>1</td>\n      <td>0.6</td>\n      <td>2</td>\n      <td>1</td>\n      <td>...</td>\n      <td>1</td>\n      <td>0</td>\n      <td>0</td>\n      <td>0</td>\n      <td>1</td>\n      <td>1</td>\n      <td>0</td>\n      <td>0</td>\n      <td>0</td>\n      <td>0</td>\n    </tr>\n    <tr>\n      <th>...</th>\n      <td>...</td>\n      <td>...</td>\n      <td>...</td>\n      <td>...</td>\n      <td>...</td>\n      <td>...</td>\n      <td>...</td>\n      <td>...</td>\n      <td>...</td>\n      <td>...</td>\n      <td>...</td>\n      <td>...</td>\n      <td>...</td>\n      <td>...</td>\n      <td>...</td>\n      <td>...</td>\n      <td>...</td>\n      <td>...</td>\n      <td>...</td>\n      <td>...</td>\n      <td>...</td>\n    </tr>\n    <tr>\n      <th>298</th>\n      <td>57</td>\n      <td>0</td>\n      <td>140</td>\n      <td>241</td>\n      <td>0</td>\n      <td>123</td>\n      <td>1</td>\n      <td>0.2</td>\n      <td>3</td>\n      <td>0</td>\n      <td>...</td>\n      <td>1</td>\n      <td>0</td>\n      <td>0</td>\n      <td>1</td>\n      <td>0</td>\n      <td>1</td>\n      <td>0</td>\n      <td>0</td>\n      <td>0</td>\n      <td>0</td>\n    </tr>\n    <tr>\n      <th>299</th>\n      <td>45</td>\n      <td>1</td>\n      <td>110</td>\n      <td>264</td>\n      <td>0</td>\n      <td>132</td>\n      <td>0</td>\n      <td>1.2</td>\n      <td>3</td>\n      <td>0</td>\n      <td>...</td>\n      <td>1</td>\n      <td>0</td>\n      <td>0</td>\n      <td>1</td>\n      <td>0</td>\n      <td>1</td>\n      <td>0</td>\n      <td>0</td>\n      <td>0</td>\n      <td>0</td>\n    </tr>\n    <tr>\n      <th>300</th>\n      <td>68</td>\n      <td>1</td>\n      <td>144</td>\n      <td>193</td>\n      <td>1</td>\n      <td>141</td>\n      <td>0</td>\n      <td>3.4</td>\n      <td>3</td>\n      <td>0</td>\n      <td>...</td>\n      <td>1</td>\n      <td>0</td>\n      <td>0</td>\n      <td>1</td>\n      <td>0</td>\n      <td>0</td>\n      <td>0</td>\n      <td>1</td>\n      <td>0</td>\n      <td>0</td>\n    </tr>\n    <tr>\n      <th>301</th>\n      <td>57</td>\n      <td>1</td>\n      <td>130</td>\n      <td>131</td>\n      <td>0</td>\n      <td>115</td>\n      <td>1</td>\n      <td>1.2</td>\n      <td>3</td>\n      <td>0</td>\n      <td>...</td>\n      <td>1</td>\n      <td>0</td>\n      <td>0</td>\n      <td>1</td>\n      <td>0</td>\n      <td>0</td>\n      <td>1</td>\n      <td>0</td>\n      <td>0</td>\n      <td>0</td>\n    </tr>\n    <tr>\n      <th>302</th>\n      <td>57</td>\n      <td>0</td>\n      <td>130</td>\n      <td>236</td>\n      <td>0</td>\n      <td>174</td>\n      <td>0</td>\n      <td>0.0</td>\n      <td>2</td>\n      <td>0</td>\n      <td>...</td>\n      <td>0</td>\n      <td>0</td>\n      <td>0</td>\n      <td>1</td>\n      <td>0</td>\n      <td>0</td>\n      <td>1</td>\n      <td>0</td>\n      <td>0</td>\n      <td>0</td>\n    </tr>\n  </tbody>\n</table>\n<p>303 rows × 25 columns</p>\n</div>"
          },
          "metadata": {}
        }
      ]
    },
    {
      "cell_type": "code",
      "metadata": {
        "tags": [],
        "cell_id": "00040-ba5b1144-2dbc-4474-a6d4-3fa62a5b608e",
        "deepnote_to_be_reexecuted": false,
        "source_hash": "a6e6f685",
        "execution_millis": 12938,
        "execution_start": 1615300927466,
        "deepnote_cell_type": "code"
      },
      "source": "# Get baseline of data from logistic regression model\noriginal = fit_and_test_logistic_regression_model(X_train_std, X_test_std, y_train, y_test)\noriginal\n\n# Make synthetic data\nX_synthetic, y_synthetic = make_synthetic_data_gan(X.values, y.values)\n\n# Standardise data (using synthetic data)\nX_train_std, X_test_std = standardise_data(X_synthetic, X_test)\n\n# Get accuracy of fitted model\naccuracy = fit_and_test_logistic_regression_model(\n    X_train_std, X_test_std, y_synthetic, y_test)\n\naccuracy",
      "execution_count": null,
      "outputs": [
        {
          "output_type": "error",
          "ename": "KeyboardInterrupt",
          "evalue": "",
          "traceback": [
            "\u001b[0;31m---------------------------------------------------------------------------\u001b[0m",
            "\u001b[0;31mKeyboardInterrupt\u001b[0m                         Traceback (most recent call last)",
            "\u001b[0;32m<ipython-input-40-7fcacba2aa32>\u001b[0m in \u001b[0;36m<module>\u001b[0;34m\u001b[0m\n\u001b[1;32m      4\u001b[0m \u001b[0;34m\u001b[0m\u001b[0m\n\u001b[1;32m      5\u001b[0m \u001b[0;31m# Make synthetic data\u001b[0m\u001b[0;34m\u001b[0m\u001b[0;34m\u001b[0m\u001b[0;34m\u001b[0m\u001b[0m\n\u001b[0;32m----> 6\u001b[0;31m \u001b[0mX_synthetic\u001b[0m\u001b[0;34m,\u001b[0m \u001b[0my_synthetic\u001b[0m \u001b[0;34m=\u001b[0m \u001b[0mmake_synthetic_data_gan\u001b[0m\u001b[0;34m(\u001b[0m\u001b[0mX\u001b[0m\u001b[0;34m.\u001b[0m\u001b[0mvalues\u001b[0m\u001b[0;34m,\u001b[0m \u001b[0my\u001b[0m\u001b[0;34m.\u001b[0m\u001b[0mvalues\u001b[0m\u001b[0;34m)\u001b[0m\u001b[0;34m\u001b[0m\u001b[0;34m\u001b[0m\u001b[0m\n\u001b[0m\u001b[1;32m      7\u001b[0m \u001b[0;34m\u001b[0m\u001b[0m\n\u001b[1;32m      8\u001b[0m \u001b[0;31m# Standardise data (using synthetic data)\u001b[0m\u001b[0;34m\u001b[0m\u001b[0;34m\u001b[0m\u001b[0;34m\u001b[0m\u001b[0m\n",
            "\u001b[0;32m<ipython-input-25-f1c31f417c7c>\u001b[0m in \u001b[0;36mmake_synthetic_data_gan\u001b[0;34m(X_original, y_original, batch_size, latent_dim, epochs, learning_rate, number_of_samples)\u001b[0m\n\u001b[1;32m     48\u001b[0m         \u001b[0;31m# train model\u001b[0m\u001b[0;34m\u001b[0m\u001b[0;34m\u001b[0m\u001b[0;34m\u001b[0m\u001b[0m\n\u001b[1;32m     49\u001b[0m         train(X_train, y_train, generator, discriminator, latent_dim, epochs, \n\u001b[0;32m---> 50\u001b[0;31m                 batch_size, learning_rate)\n\u001b[0m\u001b[1;32m     51\u001b[0m \u001b[0;34m\u001b[0m\u001b[0m\n\u001b[1;32m     52\u001b[0m         \u001b[0;31m# Use generator to create synthetic samples\u001b[0m\u001b[0;34m\u001b[0m\u001b[0;34m\u001b[0m\u001b[0;34m\u001b[0m\u001b[0m\n",
            "\u001b[0;32m<ipython-input-24-ae218c9c08c5>\u001b[0m in \u001b[0;36mtrain\u001b[0;34m(X, y, g_model, d_model, latent_dim, n_epochs, n_batch, learning_rate)\u001b[0m\n\u001b[1;32m     53\u001b[0m         \u001b[0mg_model\u001b[0m\u001b[0;34m.\u001b[0m\u001b[0mzero_grad\u001b[0m\u001b[0;34m(\u001b[0m\u001b[0;34m)\u001b[0m\u001b[0;34m\u001b[0m\u001b[0;34m\u001b[0m\u001b[0m\n\u001b[1;32m     54\u001b[0m         \u001b[0mg_loss\u001b[0m \u001b[0;34m=\u001b[0m \u001b[0mcriterion\u001b[0m\u001b[0;34m(\u001b[0m\u001b[0mgan_judgement\u001b[0m\u001b[0;34m,\u001b[0m \u001b[0my_gan_true_label\u001b[0m\u001b[0;34m)\u001b[0m\u001b[0;34m\u001b[0m\u001b[0;34m\u001b[0m\u001b[0m\n\u001b[0;32m---> 55\u001b[0;31m         \u001b[0mg_loss\u001b[0m\u001b[0;34m.\u001b[0m\u001b[0mbackward\u001b[0m\u001b[0;34m(\u001b[0m\u001b[0;34m)\u001b[0m \u001b[0;31m# Back propagate loss through network\u001b[0m\u001b[0;34m\u001b[0m\u001b[0;34m\u001b[0m\u001b[0m\n\u001b[0m\u001b[1;32m     56\u001b[0m         \u001b[0mg_optimizer\u001b[0m\u001b[0;34m.\u001b[0m\u001b[0mstep\u001b[0m\u001b[0;34m(\u001b[0m\u001b[0;34m)\u001b[0m \u001b[0;31m# Update network to reduce loss\u001b[0m\u001b[0;34m\u001b[0m\u001b[0;34m\u001b[0m\u001b[0m\n",
            "\u001b[0;32m/shared-libs/python3.7/py/lib/python3.7/site-packages/torch/tensor.py\u001b[0m in \u001b[0;36mbackward\u001b[0;34m(self, gradient, retain_graph, create_graph)\u001b[0m\n\u001b[1;32m    219\u001b[0m                 \u001b[0mretain_graph\u001b[0m\u001b[0;34m=\u001b[0m\u001b[0mretain_graph\u001b[0m\u001b[0;34m,\u001b[0m\u001b[0;34m\u001b[0m\u001b[0;34m\u001b[0m\u001b[0m\n\u001b[1;32m    220\u001b[0m                 create_graph=create_graph)\n\u001b[0;32m--> 221\u001b[0;31m         \u001b[0mtorch\u001b[0m\u001b[0;34m.\u001b[0m\u001b[0mautograd\u001b[0m\u001b[0;34m.\u001b[0m\u001b[0mbackward\u001b[0m\u001b[0;34m(\u001b[0m\u001b[0mself\u001b[0m\u001b[0;34m,\u001b[0m \u001b[0mgradient\u001b[0m\u001b[0;34m,\u001b[0m \u001b[0mretain_graph\u001b[0m\u001b[0;34m,\u001b[0m \u001b[0mcreate_graph\u001b[0m\u001b[0;34m)\u001b[0m\u001b[0;34m\u001b[0m\u001b[0;34m\u001b[0m\u001b[0m\n\u001b[0m\u001b[1;32m    222\u001b[0m \u001b[0;34m\u001b[0m\u001b[0m\n\u001b[1;32m    223\u001b[0m     \u001b[0;32mdef\u001b[0m \u001b[0mregister_hook\u001b[0m\u001b[0;34m(\u001b[0m\u001b[0mself\u001b[0m\u001b[0;34m,\u001b[0m \u001b[0mhook\u001b[0m\u001b[0;34m)\u001b[0m\u001b[0;34m:\u001b[0m\u001b[0;34m\u001b[0m\u001b[0;34m\u001b[0m\u001b[0m\n",
            "\u001b[0;32m/shared-libs/python3.7/py/lib/python3.7/site-packages/torch/autograd/__init__.py\u001b[0m in \u001b[0;36mbackward\u001b[0;34m(tensors, grad_tensors, retain_graph, create_graph, grad_variables)\u001b[0m\n\u001b[1;32m    130\u001b[0m     Variable._execution_engine.run_backward(\n\u001b[1;32m    131\u001b[0m         \u001b[0mtensors\u001b[0m\u001b[0;34m,\u001b[0m \u001b[0mgrad_tensors_\u001b[0m\u001b[0;34m,\u001b[0m \u001b[0mretain_graph\u001b[0m\u001b[0;34m,\u001b[0m \u001b[0mcreate_graph\u001b[0m\u001b[0;34m,\u001b[0m\u001b[0;34m\u001b[0m\u001b[0;34m\u001b[0m\u001b[0m\n\u001b[0;32m--> 132\u001b[0;31m         allow_unreachable=True)  # allow_unreachable flag\n\u001b[0m\u001b[1;32m    133\u001b[0m \u001b[0;34m\u001b[0m\u001b[0m\n\u001b[1;32m    134\u001b[0m \u001b[0;34m\u001b[0m\u001b[0m\n",
            "\u001b[0;31mKeyboardInterrupt\u001b[0m: "
          ]
        }
      ]
    },
    {
      "cell_type": "code",
      "metadata": {
        "tags": [],
        "cell_id": "00047-c1ffb11e-b0bb-4101-97e6-973c229ddb97",
        "deepnote_to_be_reexecuted": false,
        "source_hash": "22c49d6b",
        "execution_millis": 0,
        "execution_start": 1615385007386,
        "deepnote_cell_type": "code"
      },
      "source": "\nX2 = df.drop(['thal', 'target'], axis=1)\ny2 = df['target'].copy()",
      "execution_count": null,
      "outputs": []
    },
    {
      "cell_type": "code",
      "metadata": {
        "tags": [],
        "cell_id": "00041-20db175a-ab44-41e8-a7ab-ea9ba9faec38",
        "deepnote_to_be_reexecuted": true,
        "source_hash": "c2337e8a",
        "execution_millis": 11,
        "deepnote_cell_type": "code"
      },
      "source": "for column in col_names:\n    print(column, 'values', df[column].unique())",
      "execution_count": null,
      "outputs": [
        {
          "name": "stdout",
          "text": "age values [63 37 41 56 57 44 52 54 48 49 64 58 50 66 43 69 59 42 61 40 71 51 65 53\n 46 45 39 47 62 34 35 29 55 60 67 68 74 76 70 38 77]\nsex values [1 0]\ncp values [3 2 1 0]\ntrestbps values [145 130 120 140 172 150 110 135 160 105 125 142 155 104 138 128 108 134\n 122 115 118 100 124  94 112 102 152 101 132 148 178 129 180 136 126 106\n 156 170 146 117 200 165 174 192 144 123 154 114 164]\nchol values [233 250 204 236 354 192 294 263 199 168 239 275 266 211 283 219 340 226\n 247 234 243 302 212 175 417 197 198 177 273 213 304 232 269 360 308 245\n 208 264 321 325 235 257 216 256 231 141 252 201 222 260 182 303 265 309\n 186 203 183 220 209 258 227 261 221 205 240 318 298 564 277 214 248 255\n 207 223 288 160 394 315 246 244 270 195 196 254 126 313 262 215 193 271\n 268 267 210 295 306 178 242 180 228 149 278 253 342 157 286 229 284 224\n 206 167 230 335 276 353 225 330 290 172 305 188 282 185 326 274 164 307\n 249 341 407 217 174 281 289 322 299 300 293 184 409 259 200 327 237 218\n 319 166 311 169 187 176 241 131]\nfbs values [1 0]\nrestecg values [0 1 2]\nthalach values [150 187 172 178 163 148 153 173 162 174 160 139 171 144 158 114 151 161\n 179 137 157 123 152 168 140 188 125 170 165 142 180 143 182 156 115 149\n 146 175 186 185 159 130 190 132 147 154 202 166 164 184 122 169 138 111\n 145 194 131 133 155 167 192 121  96 126 105 181 116 108 129 120 112 128\n 109 113  99 177 141 136  97 127 103 124  88 195 106  95 117  71 118 134\n  90]\nexang values [0 1]\noldpeak values [2.3 3.5 1.4 0.8 0.6 0.4 1.3 0.  0.5 1.6 1.2 0.2 1.8 1.  2.6 1.5 3.  2.4\n 0.1 1.9 4.2 1.1 2.  0.7 0.3 0.9 3.6 3.1 3.2 2.5 2.2 2.8 3.4 6.2 4.  5.6\n 2.9 2.1 3.8 4.4]\nslope values [0 2 1]\nca values [0 2 1 3 4]\nthal values [1 2 3 0]\ntarget values [1 0]\n",
          "output_type": "stream"
        }
      ]
    },
    {
      "cell_type": "code",
      "metadata": {
        "tags": [],
        "cell_id": "00042-d6f83fd6-19c2-46e6-b9dc-3b585dff8ceb",
        "deepnote_to_be_reexecuted": true,
        "source_hash": "4d0f7ef9",
        "deepnote_cell_type": "code"
      },
      "source": "one_hot_columns = ['cp','restecg', 'slope_values', 'ca values', 'thal values']",
      "execution_count": null,
      "outputs": []
    },
    {
      "cell_type": "code",
      "metadata": {
        "tags": [],
        "cell_id": "00047-e7edbb4a-d019-4caf-8c02-db997b3ec75f",
        "deepnote_to_be_reexecuted": false,
        "source_hash": "6dcce255",
        "execution_millis": 0,
        "execution_start": 1615377283553,
        "deepnote_cell_type": "code"
      },
      "source": "def split_into_train_test(X, y, test_proportion=0.25):    \n    \"\"\"\"\n    Randomly split X and y numpy arrays into training and test data sets\n    \n    Inputs\n    ------\n    X and y NumPy arrays\n    \n    Returns\n    -------\n    X_test, X_train, y_test, y_train Numpy arrays\n    \"\"\"\n    \n    X_train, X_test, y_train, y_test = \\\n        train_test_split(X, y, shuffle=True, test_size=test_proportion)\n        \n    return X_train, X_test, y_train, y_test",
      "execution_count": null,
      "outputs": []
    },
    {
      "cell_type": "code",
      "metadata": {
        "tags": [],
        "cell_id": "00045-c315d82b-1818-4661-898b-1ec69d22c12d",
        "deepnote_to_be_reexecuted": false,
        "source_hash": "55472270",
        "execution_millis": 57,
        "execution_start": 1615377339949,
        "deepnote_cell_type": "code"
      },
      "source": "# Set number of replicate runs\nresults = pd.DataFrame()\nnumber_of_runs = 5\n# Set up lists for results\naccuracy_measure_names = []\naccuracy_measure_data = []\nsynthetic_data = []\n\nfor run in range(number_of_runs):\n    \n    # Print progress\n    print (run + 1, end=' ')\n    \n    # Split training and test set\n    X_train, X_test, y_train, y_test = split_into_train_test(X.values, y.values)\n\n    # Standardise data    \n    X_train_std, X_test_std = standardise_data(X_train, X_test)\n\n    # Get accuracy of fitted model\n    accuracy = fit_and_test_logistic_regression_model(\n        X_train_std, X_test_std, y_train, y_test)\n    \n    # Get accuracy measure names if not previously done\n    if len(accuracy_measure_names) == 0:\n        for key, value in accuracy.items():\n            accuracy_measure_names.append(key)\n    \n    # Get accuracy values\n    run_accuracy_results = []\n    for key, value in accuracy.items():\n            run_accuracy_results.append(value)\n            \n    # Add results to results list\n    accuracy_measure_data.append(run_accuracy_results)\n    \n    # Output accuracy\n    percent_accuracy = accuracy['accuracy'] * 100\n    print(f'Accuracy: {percent_accuracy:3.1f}')\n\n# Strore mean and sem in results DataFrame \naccuracy_array = np.array(accuracy_measure_data)\nresults['raw_mean'] = accuracy_array.mean(axis=0)\nresults['raw_sem'] = accuracy_array.std(axis=0)/np.sqrt(number_of_runs)\nresults.index = accuracy_measure_names",
      "execution_count": null,
      "outputs": [
        {
          "name": "stdout",
          "text": "1 Accuracy: 85.5\n2 Accuracy: 81.6\n3 Accuracy: 82.9\n4 Accuracy: 82.9\n5 Accuracy: 81.6\n",
          "output_type": "stream"
        }
      ]
    },
    {
      "cell_type": "code",
      "metadata": {
        "tags": [],
        "cell_id": "00053-46a3efc7-7cbb-4d2c-8553-2c70a30791d5",
        "deepnote_to_be_reexecuted": false,
        "source_hash": "50ecf640",
        "execution_start": 1615302397687,
        "execution_millis": 12,
        "deepnote_cell_type": "code"
      },
      "source": "accuracy_array",
      "execution_count": null,
      "outputs": [
        {
          "output_type": "execute_result",
          "execution_count": 71,
          "data": {
            "text/plain": "array([[ 0.82894737,  0.91428571,  0.75609756,  3.74857143,  0.32258065,\n        11.62057143,  0.91428571,  0.75609756,  0.24390244,  0.08571429,\n         0.76190476,  0.91176471,  0.46052632,  0.55263158,  0.91428571,\n         0.91428571,  0.91428571],\n       [ 0.82894737,  0.90243902,  0.74285714,  3.50948509,  0.34615385,\n        10.1385125 ,  0.90243902,  0.74285714,  0.25714286,  0.09756098,\n         0.80434783,  0.86666667,  0.53947368,  0.60526316,  0.90243902,\n         0.90243902,  0.90243902],\n       [ 0.82894737,  0.84090909,  0.8125    ,  4.48484848,  0.23076923,\n        19.43434343,  0.84090909,  0.8125    ,  0.1875    ,  0.15909091,\n         0.86046512,  0.78787879,  0.57894737,  0.56578947,  0.84090909,\n         0.84090909,  0.84090909],\n       [ 0.82894737,  0.88095238,  0.76470588,  3.74404762,  0.30769231,\n        12.16815476,  0.88095238,  0.76470588,  0.23529412,  0.11904762,\n         0.82222222,  0.83870968,  0.55263158,  0.59210526,  0.88095238,\n         0.88095238,  0.88095238],\n       [ 0.86842105,  0.94594595,  0.79487179,  4.61148649,  0.25806452,\n        17.86951014,  0.94594595,  0.79487179,  0.20512821,  0.05405405,\n         0.81395349,  0.93939394,  0.48684211,  0.56578947,  0.94594595,\n         0.94594595,  0.94594595]])"
          },
          "metadata": {}
        }
      ]
    },
    {
      "cell_type": "markdown",
      "source": "Below cell takes a while to run",
      "metadata": {
        "tags": [],
        "cell_id": "00054-79f4dff7-6770-44d6-9056-80919460c0c5",
        "deepnote_cell_type": "markdown"
      }
    },
    {
      "cell_type": "code",
      "metadata": {
        "tags": [],
        "cell_id": "00053-0659180a-fbdf-44a5-9c31-fb4b80f27f9d",
        "deepnote_to_be_reexecuted": false,
        "source_hash": "e719255",
        "execution_millis": 0,
        "execution_start": 1615385360621,
        "deepnote_cell_type": "code"
      },
      "source": "col_names = X2.columns",
      "execution_count": null,
      "outputs": []
    },
    {
      "cell_type": "code",
      "metadata": {
        "tags": [],
        "cell_id": "00053-7c6a24a6-4de2-466f-be19-b6dc6e18aa4a",
        "deepnote_to_be_reexecuted": false,
        "source_hash": "c19cfbe1",
        "execution_start": 1615385373153,
        "execution_millis": 76,
        "deepnote_cell_type": "code"
      },
      "source": "X2",
      "execution_count": null,
      "outputs": [
        {
          "output_type": "execute_result",
          "execution_count": 95,
          "data": {
            "application/vnd.deepnote.dataframe.v2+json": {
              "row_count": 303,
              "column_count": 23,
              "columns": [
                {
                  "name": "age",
                  "dtype": "int64",
                  "stats": {
                    "unique_count": 41,
                    "nan_count": 0,
                    "min": 29,
                    "max": 77,
                    "histogram": [
                      {
                        "bin_start": 29,
                        "bin_end": 33.8,
                        "count": 1
                      },
                      {
                        "bin_start": 33.8,
                        "bin_end": 38.6,
                        "count": 11
                      },
                      {
                        "bin_start": 38.6,
                        "bin_end": 43.4,
                        "count": 33
                      },
                      {
                        "bin_start": 43.4,
                        "bin_end": 48.2,
                        "count": 38
                      },
                      {
                        "bin_start": 48.2,
                        "bin_end": 53,
                        "count": 37
                      },
                      {
                        "bin_start": 53,
                        "bin_end": 57.8,
                        "count": 60
                      },
                      {
                        "bin_start": 57.8,
                        "bin_end": 62.6,
                        "count": 63
                      },
                      {
                        "bin_start": 62.6,
                        "bin_end": 67.4,
                        "count": 43
                      },
                      {
                        "bin_start": 67.4,
                        "bin_end": 72.19999999999999,
                        "count": 14
                      },
                      {
                        "bin_start": 72.19999999999999,
                        "bin_end": 77,
                        "count": 3
                      }
                    ]
                  }
                },
                {
                  "name": "sex",
                  "dtype": "int64",
                  "stats": {
                    "unique_count": 2,
                    "nan_count": 0,
                    "min": 0,
                    "max": 1,
                    "histogram": [
                      {
                        "bin_start": 0,
                        "bin_end": 0.1,
                        "count": 96
                      },
                      {
                        "bin_start": 0.1,
                        "bin_end": 0.2,
                        "count": 0
                      },
                      {
                        "bin_start": 0.2,
                        "bin_end": 0.30000000000000004,
                        "count": 0
                      },
                      {
                        "bin_start": 0.30000000000000004,
                        "bin_end": 0.4,
                        "count": 0
                      },
                      {
                        "bin_start": 0.4,
                        "bin_end": 0.5,
                        "count": 0
                      },
                      {
                        "bin_start": 0.5,
                        "bin_end": 0.6000000000000001,
                        "count": 0
                      },
                      {
                        "bin_start": 0.6000000000000001,
                        "bin_end": 0.7000000000000001,
                        "count": 0
                      },
                      {
                        "bin_start": 0.7000000000000001,
                        "bin_end": 0.8,
                        "count": 0
                      },
                      {
                        "bin_start": 0.8,
                        "bin_end": 0.9,
                        "count": 0
                      },
                      {
                        "bin_start": 0.9,
                        "bin_end": 1,
                        "count": 207
                      }
                    ]
                  }
                },
                {
                  "name": "trestbps",
                  "dtype": "int64",
                  "stats": {
                    "unique_count": 49,
                    "nan_count": 0,
                    "min": 94,
                    "max": 200,
                    "histogram": [
                      {
                        "bin_start": 94,
                        "bin_end": 104.6,
                        "count": 10
                      },
                      {
                        "bin_start": 104.6,
                        "bin_end": 115.2,
                        "count": 42
                      },
                      {
                        "bin_start": 115.2,
                        "bin_end": 125.8,
                        "count": 67
                      },
                      {
                        "bin_start": 125.8,
                        "bin_end": 136.4,
                        "count": 74
                      },
                      {
                        "bin_start": 136.4,
                        "bin_end": 147,
                        "count": 57
                      },
                      {
                        "bin_start": 147,
                        "bin_end": 157.6,
                        "count": 27
                      },
                      {
                        "bin_start": 157.6,
                        "bin_end": 168.2,
                        "count": 13
                      },
                      {
                        "bin_start": 168.2,
                        "bin_end": 178.8,
                        "count": 8
                      },
                      {
                        "bin_start": 178.8,
                        "bin_end": 189.39999999999998,
                        "count": 3
                      },
                      {
                        "bin_start": 189.39999999999998,
                        "bin_end": 200,
                        "count": 2
                      }
                    ]
                  }
                },
                {
                  "name": "chol",
                  "dtype": "int64",
                  "stats": {
                    "unique_count": 152,
                    "nan_count": 0,
                    "min": 126,
                    "max": 564,
                    "histogram": [
                      {
                        "bin_start": 126,
                        "bin_end": 169.8,
                        "count": 12
                      },
                      {
                        "bin_start": 169.8,
                        "bin_end": 213.6,
                        "count": 73
                      },
                      {
                        "bin_start": 213.6,
                        "bin_end": 257.4,
                        "count": 106
                      },
                      {
                        "bin_start": 257.4,
                        "bin_end": 301.2,
                        "count": 69
                      },
                      {
                        "bin_start": 301.2,
                        "bin_end": 345,
                        "count": 35
                      },
                      {
                        "bin_start": 345,
                        "bin_end": 388.79999999999995,
                        "count": 3
                      },
                      {
                        "bin_start": 388.79999999999995,
                        "bin_end": 432.59999999999997,
                        "count": 4
                      },
                      {
                        "bin_start": 432.59999999999997,
                        "bin_end": 476.4,
                        "count": 0
                      },
                      {
                        "bin_start": 476.4,
                        "bin_end": 520.2,
                        "count": 0
                      },
                      {
                        "bin_start": 520.2,
                        "bin_end": 564,
                        "count": 1
                      }
                    ]
                  }
                },
                {
                  "name": "fbs",
                  "dtype": "int64",
                  "stats": {
                    "unique_count": 2,
                    "nan_count": 0,
                    "min": 0,
                    "max": 1,
                    "histogram": [
                      {
                        "bin_start": 0,
                        "bin_end": 0.1,
                        "count": 258
                      },
                      {
                        "bin_start": 0.1,
                        "bin_end": 0.2,
                        "count": 0
                      },
                      {
                        "bin_start": 0.2,
                        "bin_end": 0.30000000000000004,
                        "count": 0
                      },
                      {
                        "bin_start": 0.30000000000000004,
                        "bin_end": 0.4,
                        "count": 0
                      },
                      {
                        "bin_start": 0.4,
                        "bin_end": 0.5,
                        "count": 0
                      },
                      {
                        "bin_start": 0.5,
                        "bin_end": 0.6000000000000001,
                        "count": 0
                      },
                      {
                        "bin_start": 0.6000000000000001,
                        "bin_end": 0.7000000000000001,
                        "count": 0
                      },
                      {
                        "bin_start": 0.7000000000000001,
                        "bin_end": 0.8,
                        "count": 0
                      },
                      {
                        "bin_start": 0.8,
                        "bin_end": 0.9,
                        "count": 0
                      },
                      {
                        "bin_start": 0.9,
                        "bin_end": 1,
                        "count": 45
                      }
                    ]
                  }
                },
                {
                  "name": "thalach",
                  "dtype": "int64",
                  "stats": {
                    "unique_count": 91,
                    "nan_count": 0,
                    "min": 71,
                    "max": 202,
                    "histogram": [
                      {
                        "bin_start": 71,
                        "bin_end": 84.1,
                        "count": 1
                      },
                      {
                        "bin_start": 84.1,
                        "bin_end": 97.2,
                        "count": 6
                      },
                      {
                        "bin_start": 97.2,
                        "bin_end": 110.3,
                        "count": 11
                      },
                      {
                        "bin_start": 110.3,
                        "bin_end": 123.4,
                        "count": 26
                      },
                      {
                        "bin_start": 123.4,
                        "bin_end": 136.5,
                        "count": 35
                      },
                      {
                        "bin_start": 136.5,
                        "bin_end": 149.6,
                        "count": 53
                      },
                      {
                        "bin_start": 149.6,
                        "bin_end": 162.7,
                        "count": 77
                      },
                      {
                        "bin_start": 162.7,
                        "bin_end": 175.8,
                        "count": 63
                      },
                      {
                        "bin_start": 175.8,
                        "bin_end": 188.89999999999998,
                        "count": 26
                      },
                      {
                        "bin_start": 188.89999999999998,
                        "bin_end": 202,
                        "count": 5
                      }
                    ]
                  }
                },
                {
                  "name": "exang",
                  "dtype": "int64",
                  "stats": {
                    "unique_count": 2,
                    "nan_count": 0,
                    "min": 0,
                    "max": 1,
                    "histogram": [
                      {
                        "bin_start": 0,
                        "bin_end": 0.1,
                        "count": 204
                      },
                      {
                        "bin_start": 0.1,
                        "bin_end": 0.2,
                        "count": 0
                      },
                      {
                        "bin_start": 0.2,
                        "bin_end": 0.30000000000000004,
                        "count": 0
                      },
                      {
                        "bin_start": 0.30000000000000004,
                        "bin_end": 0.4,
                        "count": 0
                      },
                      {
                        "bin_start": 0.4,
                        "bin_end": 0.5,
                        "count": 0
                      },
                      {
                        "bin_start": 0.5,
                        "bin_end": 0.6000000000000001,
                        "count": 0
                      },
                      {
                        "bin_start": 0.6000000000000001,
                        "bin_end": 0.7000000000000001,
                        "count": 0
                      },
                      {
                        "bin_start": 0.7000000000000001,
                        "bin_end": 0.8,
                        "count": 0
                      },
                      {
                        "bin_start": 0.8,
                        "bin_end": 0.9,
                        "count": 0
                      },
                      {
                        "bin_start": 0.9,
                        "bin_end": 1,
                        "count": 99
                      }
                    ]
                  }
                },
                {
                  "name": "oldpeak",
                  "dtype": "float64",
                  "stats": {
                    "unique_count": 40,
                    "nan_count": 0,
                    "min": 0,
                    "max": 6.2,
                    "histogram": [
                      {
                        "bin_start": 0,
                        "bin_end": 0.62,
                        "count": 149
                      },
                      {
                        "bin_start": 0.62,
                        "bin_end": 1.24,
                        "count": 50
                      },
                      {
                        "bin_start": 1.24,
                        "bin_end": 1.8599999999999999,
                        "count": 40
                      },
                      {
                        "bin_start": 1.8599999999999999,
                        "bin_end": 2.48,
                        "count": 24
                      },
                      {
                        "bin_start": 2.48,
                        "bin_end": 3.1,
                        "count": 20
                      },
                      {
                        "bin_start": 3.1,
                        "bin_end": 3.7199999999999998,
                        "count": 11
                      },
                      {
                        "bin_start": 3.7199999999999998,
                        "bin_end": 4.34,
                        "count": 6
                      },
                      {
                        "bin_start": 4.34,
                        "bin_end": 4.96,
                        "count": 1
                      },
                      {
                        "bin_start": 4.96,
                        "bin_end": 5.58,
                        "count": 0
                      },
                      {
                        "bin_start": 5.58,
                        "bin_end": 6.2,
                        "count": 2
                      }
                    ]
                  }
                },
                {
                  "name": "cp_0",
                  "dtype": "uint8",
                  "stats": {
                    "unique_count": 2,
                    "nan_count": 0,
                    "min": 0,
                    "max": 1,
                    "histogram": [
                      {
                        "bin_start": 0,
                        "bin_end": 0.1,
                        "count": 160
                      },
                      {
                        "bin_start": 0.1,
                        "bin_end": 0.2,
                        "count": 0
                      },
                      {
                        "bin_start": 0.2,
                        "bin_end": 0.30000000000000004,
                        "count": 0
                      },
                      {
                        "bin_start": 0.30000000000000004,
                        "bin_end": 0.4,
                        "count": 0
                      },
                      {
                        "bin_start": 0.4,
                        "bin_end": 0.5,
                        "count": 0
                      },
                      {
                        "bin_start": 0.5,
                        "bin_end": 0.6000000000000001,
                        "count": 0
                      },
                      {
                        "bin_start": 0.6000000000000001,
                        "bin_end": 0.7000000000000001,
                        "count": 0
                      },
                      {
                        "bin_start": 0.7000000000000001,
                        "bin_end": 0.8,
                        "count": 0
                      },
                      {
                        "bin_start": 0.8,
                        "bin_end": 0.9,
                        "count": 0
                      },
                      {
                        "bin_start": 0.9,
                        "bin_end": 1,
                        "count": 143
                      }
                    ]
                  }
                },
                {
                  "name": "cp_1",
                  "dtype": "uint8",
                  "stats": {
                    "unique_count": 2,
                    "nan_count": 0,
                    "min": 0,
                    "max": 1,
                    "histogram": [
                      {
                        "bin_start": 0,
                        "bin_end": 0.1,
                        "count": 253
                      },
                      {
                        "bin_start": 0.1,
                        "bin_end": 0.2,
                        "count": 0
                      },
                      {
                        "bin_start": 0.2,
                        "bin_end": 0.30000000000000004,
                        "count": 0
                      },
                      {
                        "bin_start": 0.30000000000000004,
                        "bin_end": 0.4,
                        "count": 0
                      },
                      {
                        "bin_start": 0.4,
                        "bin_end": 0.5,
                        "count": 0
                      },
                      {
                        "bin_start": 0.5,
                        "bin_end": 0.6000000000000001,
                        "count": 0
                      },
                      {
                        "bin_start": 0.6000000000000001,
                        "bin_end": 0.7000000000000001,
                        "count": 0
                      },
                      {
                        "bin_start": 0.7000000000000001,
                        "bin_end": 0.8,
                        "count": 0
                      },
                      {
                        "bin_start": 0.8,
                        "bin_end": 0.9,
                        "count": 0
                      },
                      {
                        "bin_start": 0.9,
                        "bin_end": 1,
                        "count": 50
                      }
                    ]
                  }
                },
                {
                  "name": "cp_2",
                  "dtype": "uint8",
                  "stats": {
                    "unique_count": 2,
                    "nan_count": 0,
                    "min": 0,
                    "max": 1,
                    "histogram": [
                      {
                        "bin_start": 0,
                        "bin_end": 0.1,
                        "count": 216
                      },
                      {
                        "bin_start": 0.1,
                        "bin_end": 0.2,
                        "count": 0
                      },
                      {
                        "bin_start": 0.2,
                        "bin_end": 0.30000000000000004,
                        "count": 0
                      },
                      {
                        "bin_start": 0.30000000000000004,
                        "bin_end": 0.4,
                        "count": 0
                      },
                      {
                        "bin_start": 0.4,
                        "bin_end": 0.5,
                        "count": 0
                      },
                      {
                        "bin_start": 0.5,
                        "bin_end": 0.6000000000000001,
                        "count": 0
                      },
                      {
                        "bin_start": 0.6000000000000001,
                        "bin_end": 0.7000000000000001,
                        "count": 0
                      },
                      {
                        "bin_start": 0.7000000000000001,
                        "bin_end": 0.8,
                        "count": 0
                      },
                      {
                        "bin_start": 0.8,
                        "bin_end": 0.9,
                        "count": 0
                      },
                      {
                        "bin_start": 0.9,
                        "bin_end": 1,
                        "count": 87
                      }
                    ]
                  }
                },
                {
                  "name": "cp_3",
                  "dtype": "uint8",
                  "stats": {
                    "unique_count": 2,
                    "nan_count": 0,
                    "min": 0,
                    "max": 1,
                    "histogram": [
                      {
                        "bin_start": 0,
                        "bin_end": 0.1,
                        "count": 280
                      },
                      {
                        "bin_start": 0.1,
                        "bin_end": 0.2,
                        "count": 0
                      },
                      {
                        "bin_start": 0.2,
                        "bin_end": 0.30000000000000004,
                        "count": 0
                      },
                      {
                        "bin_start": 0.30000000000000004,
                        "bin_end": 0.4,
                        "count": 0
                      },
                      {
                        "bin_start": 0.4,
                        "bin_end": 0.5,
                        "count": 0
                      },
                      {
                        "bin_start": 0.5,
                        "bin_end": 0.6000000000000001,
                        "count": 0
                      },
                      {
                        "bin_start": 0.6000000000000001,
                        "bin_end": 0.7000000000000001,
                        "count": 0
                      },
                      {
                        "bin_start": 0.7000000000000001,
                        "bin_end": 0.8,
                        "count": 0
                      },
                      {
                        "bin_start": 0.8,
                        "bin_end": 0.9,
                        "count": 0
                      },
                      {
                        "bin_start": 0.9,
                        "bin_end": 1,
                        "count": 23
                      }
                    ]
                  }
                },
                {
                  "name": "restecg_0",
                  "dtype": "uint8",
                  "stats": {
                    "unique_count": 2,
                    "nan_count": 0,
                    "min": 0,
                    "max": 1,
                    "histogram": [
                      {
                        "bin_start": 0,
                        "bin_end": 0.1,
                        "count": 156
                      },
                      {
                        "bin_start": 0.1,
                        "bin_end": 0.2,
                        "count": 0
                      },
                      {
                        "bin_start": 0.2,
                        "bin_end": 0.30000000000000004,
                        "count": 0
                      },
                      {
                        "bin_start": 0.30000000000000004,
                        "bin_end": 0.4,
                        "count": 0
                      },
                      {
                        "bin_start": 0.4,
                        "bin_end": 0.5,
                        "count": 0
                      },
                      {
                        "bin_start": 0.5,
                        "bin_end": 0.6000000000000001,
                        "count": 0
                      },
                      {
                        "bin_start": 0.6000000000000001,
                        "bin_end": 0.7000000000000001,
                        "count": 0
                      },
                      {
                        "bin_start": 0.7000000000000001,
                        "bin_end": 0.8,
                        "count": 0
                      },
                      {
                        "bin_start": 0.8,
                        "bin_end": 0.9,
                        "count": 0
                      },
                      {
                        "bin_start": 0.9,
                        "bin_end": 1,
                        "count": 147
                      }
                    ]
                  }
                },
                {
                  "name": "restecg_1",
                  "dtype": "uint8",
                  "stats": {
                    "unique_count": 2,
                    "nan_count": 0,
                    "min": 0,
                    "max": 1,
                    "histogram": [
                      {
                        "bin_start": 0,
                        "bin_end": 0.1,
                        "count": 151
                      },
                      {
                        "bin_start": 0.1,
                        "bin_end": 0.2,
                        "count": 0
                      },
                      {
                        "bin_start": 0.2,
                        "bin_end": 0.30000000000000004,
                        "count": 0
                      },
                      {
                        "bin_start": 0.30000000000000004,
                        "bin_end": 0.4,
                        "count": 0
                      },
                      {
                        "bin_start": 0.4,
                        "bin_end": 0.5,
                        "count": 0
                      },
                      {
                        "bin_start": 0.5,
                        "bin_end": 0.6000000000000001,
                        "count": 0
                      },
                      {
                        "bin_start": 0.6000000000000001,
                        "bin_end": 0.7000000000000001,
                        "count": 0
                      },
                      {
                        "bin_start": 0.7000000000000001,
                        "bin_end": 0.8,
                        "count": 0
                      },
                      {
                        "bin_start": 0.8,
                        "bin_end": 0.9,
                        "count": 0
                      },
                      {
                        "bin_start": 0.9,
                        "bin_end": 1,
                        "count": 152
                      }
                    ]
                  }
                },
                {
                  "name": "restecg_2",
                  "dtype": "uint8",
                  "stats": {
                    "unique_count": 2,
                    "nan_count": 0,
                    "min": 0,
                    "max": 1,
                    "histogram": [
                      {
                        "bin_start": 0,
                        "bin_end": 0.1,
                        "count": 299
                      },
                      {
                        "bin_start": 0.1,
                        "bin_end": 0.2,
                        "count": 0
                      },
                      {
                        "bin_start": 0.2,
                        "bin_end": 0.30000000000000004,
                        "count": 0
                      },
                      {
                        "bin_start": 0.30000000000000004,
                        "bin_end": 0.4,
                        "count": 0
                      },
                      {
                        "bin_start": 0.4,
                        "bin_end": 0.5,
                        "count": 0
                      },
                      {
                        "bin_start": 0.5,
                        "bin_end": 0.6000000000000001,
                        "count": 0
                      },
                      {
                        "bin_start": 0.6000000000000001,
                        "bin_end": 0.7000000000000001,
                        "count": 0
                      },
                      {
                        "bin_start": 0.7000000000000001,
                        "bin_end": 0.8,
                        "count": 0
                      },
                      {
                        "bin_start": 0.8,
                        "bin_end": 0.9,
                        "count": 0
                      },
                      {
                        "bin_start": 0.9,
                        "bin_end": 1,
                        "count": 4
                      }
                    ]
                  }
                },
                {
                  "name": "slope_0",
                  "dtype": "uint8",
                  "stats": {
                    "unique_count": 2,
                    "nan_count": 0,
                    "min": 0,
                    "max": 1,
                    "histogram": [
                      {
                        "bin_start": 0,
                        "bin_end": 0.1,
                        "count": 282
                      },
                      {
                        "bin_start": 0.1,
                        "bin_end": 0.2,
                        "count": 0
                      },
                      {
                        "bin_start": 0.2,
                        "bin_end": 0.30000000000000004,
                        "count": 0
                      },
                      {
                        "bin_start": 0.30000000000000004,
                        "bin_end": 0.4,
                        "count": 0
                      },
                      {
                        "bin_start": 0.4,
                        "bin_end": 0.5,
                        "count": 0
                      },
                      {
                        "bin_start": 0.5,
                        "bin_end": 0.6000000000000001,
                        "count": 0
                      },
                      {
                        "bin_start": 0.6000000000000001,
                        "bin_end": 0.7000000000000001,
                        "count": 0
                      },
                      {
                        "bin_start": 0.7000000000000001,
                        "bin_end": 0.8,
                        "count": 0
                      },
                      {
                        "bin_start": 0.8,
                        "bin_end": 0.9,
                        "count": 0
                      },
                      {
                        "bin_start": 0.9,
                        "bin_end": 1,
                        "count": 21
                      }
                    ]
                  }
                },
                {
                  "name": "slope_1",
                  "dtype": "uint8",
                  "stats": {
                    "unique_count": 2,
                    "nan_count": 0,
                    "min": 0,
                    "max": 1,
                    "histogram": [
                      {
                        "bin_start": 0,
                        "bin_end": 0.1,
                        "count": 163
                      },
                      {
                        "bin_start": 0.1,
                        "bin_end": 0.2,
                        "count": 0
                      },
                      {
                        "bin_start": 0.2,
                        "bin_end": 0.30000000000000004,
                        "count": 0
                      },
                      {
                        "bin_start": 0.30000000000000004,
                        "bin_end": 0.4,
                        "count": 0
                      },
                      {
                        "bin_start": 0.4,
                        "bin_end": 0.5,
                        "count": 0
                      },
                      {
                        "bin_start": 0.5,
                        "bin_end": 0.6000000000000001,
                        "count": 0
                      },
                      {
                        "bin_start": 0.6000000000000001,
                        "bin_end": 0.7000000000000001,
                        "count": 0
                      },
                      {
                        "bin_start": 0.7000000000000001,
                        "bin_end": 0.8,
                        "count": 0
                      },
                      {
                        "bin_start": 0.8,
                        "bin_end": 0.9,
                        "count": 0
                      },
                      {
                        "bin_start": 0.9,
                        "bin_end": 1,
                        "count": 140
                      }
                    ]
                  }
                },
                {
                  "name": "slope_2",
                  "dtype": "uint8",
                  "stats": {
                    "unique_count": 2,
                    "nan_count": 0,
                    "min": 0,
                    "max": 1,
                    "histogram": [
                      {
                        "bin_start": 0,
                        "bin_end": 0.1,
                        "count": 161
                      },
                      {
                        "bin_start": 0.1,
                        "bin_end": 0.2,
                        "count": 0
                      },
                      {
                        "bin_start": 0.2,
                        "bin_end": 0.30000000000000004,
                        "count": 0
                      },
                      {
                        "bin_start": 0.30000000000000004,
                        "bin_end": 0.4,
                        "count": 0
                      },
                      {
                        "bin_start": 0.4,
                        "bin_end": 0.5,
                        "count": 0
                      },
                      {
                        "bin_start": 0.5,
                        "bin_end": 0.6000000000000001,
                        "count": 0
                      },
                      {
                        "bin_start": 0.6000000000000001,
                        "bin_end": 0.7000000000000001,
                        "count": 0
                      },
                      {
                        "bin_start": 0.7000000000000001,
                        "bin_end": 0.8,
                        "count": 0
                      },
                      {
                        "bin_start": 0.8,
                        "bin_end": 0.9,
                        "count": 0
                      },
                      {
                        "bin_start": 0.9,
                        "bin_end": 1,
                        "count": 142
                      }
                    ]
                  }
                },
                {
                  "name": "ca_0",
                  "dtype": "uint8",
                  "stats": {
                    "unique_count": 2,
                    "nan_count": 0,
                    "min": 0,
                    "max": 1,
                    "histogram": [
                      {
                        "bin_start": 0,
                        "bin_end": 0.1,
                        "count": 128
                      },
                      {
                        "bin_start": 0.1,
                        "bin_end": 0.2,
                        "count": 0
                      },
                      {
                        "bin_start": 0.2,
                        "bin_end": 0.30000000000000004,
                        "count": 0
                      },
                      {
                        "bin_start": 0.30000000000000004,
                        "bin_end": 0.4,
                        "count": 0
                      },
                      {
                        "bin_start": 0.4,
                        "bin_end": 0.5,
                        "count": 0
                      },
                      {
                        "bin_start": 0.5,
                        "bin_end": 0.6000000000000001,
                        "count": 0
                      },
                      {
                        "bin_start": 0.6000000000000001,
                        "bin_end": 0.7000000000000001,
                        "count": 0
                      },
                      {
                        "bin_start": 0.7000000000000001,
                        "bin_end": 0.8,
                        "count": 0
                      },
                      {
                        "bin_start": 0.8,
                        "bin_end": 0.9,
                        "count": 0
                      },
                      {
                        "bin_start": 0.9,
                        "bin_end": 1,
                        "count": 175
                      }
                    ]
                  }
                },
                {
                  "name": "ca_1",
                  "dtype": "uint8",
                  "stats": {
                    "unique_count": 2,
                    "nan_count": 0,
                    "min": 0,
                    "max": 1,
                    "histogram": [
                      {
                        "bin_start": 0,
                        "bin_end": 0.1,
                        "count": 238
                      },
                      {
                        "bin_start": 0.1,
                        "bin_end": 0.2,
                        "count": 0
                      },
                      {
                        "bin_start": 0.2,
                        "bin_end": 0.30000000000000004,
                        "count": 0
                      },
                      {
                        "bin_start": 0.30000000000000004,
                        "bin_end": 0.4,
                        "count": 0
                      },
                      {
                        "bin_start": 0.4,
                        "bin_end": 0.5,
                        "count": 0
                      },
                      {
                        "bin_start": 0.5,
                        "bin_end": 0.6000000000000001,
                        "count": 0
                      },
                      {
                        "bin_start": 0.6000000000000001,
                        "bin_end": 0.7000000000000001,
                        "count": 0
                      },
                      {
                        "bin_start": 0.7000000000000001,
                        "bin_end": 0.8,
                        "count": 0
                      },
                      {
                        "bin_start": 0.8,
                        "bin_end": 0.9,
                        "count": 0
                      },
                      {
                        "bin_start": 0.9,
                        "bin_end": 1,
                        "count": 65
                      }
                    ]
                  }
                },
                {
                  "name": "ca_2",
                  "dtype": "uint8",
                  "stats": {
                    "unique_count": 2,
                    "nan_count": 0,
                    "min": 0,
                    "max": 1,
                    "histogram": [
                      {
                        "bin_start": 0,
                        "bin_end": 0.1,
                        "count": 265
                      },
                      {
                        "bin_start": 0.1,
                        "bin_end": 0.2,
                        "count": 0
                      },
                      {
                        "bin_start": 0.2,
                        "bin_end": 0.30000000000000004,
                        "count": 0
                      },
                      {
                        "bin_start": 0.30000000000000004,
                        "bin_end": 0.4,
                        "count": 0
                      },
                      {
                        "bin_start": 0.4,
                        "bin_end": 0.5,
                        "count": 0
                      },
                      {
                        "bin_start": 0.5,
                        "bin_end": 0.6000000000000001,
                        "count": 0
                      },
                      {
                        "bin_start": 0.6000000000000001,
                        "bin_end": 0.7000000000000001,
                        "count": 0
                      },
                      {
                        "bin_start": 0.7000000000000001,
                        "bin_end": 0.8,
                        "count": 0
                      },
                      {
                        "bin_start": 0.8,
                        "bin_end": 0.9,
                        "count": 0
                      },
                      {
                        "bin_start": 0.9,
                        "bin_end": 1,
                        "count": 38
                      }
                    ]
                  }
                },
                {
                  "name": "ca_3",
                  "dtype": "uint8",
                  "stats": {
                    "unique_count": 2,
                    "nan_count": 0,
                    "min": 0,
                    "max": 1,
                    "histogram": [
                      {
                        "bin_start": 0,
                        "bin_end": 0.1,
                        "count": 283
                      },
                      {
                        "bin_start": 0.1,
                        "bin_end": 0.2,
                        "count": 0
                      },
                      {
                        "bin_start": 0.2,
                        "bin_end": 0.30000000000000004,
                        "count": 0
                      },
                      {
                        "bin_start": 0.30000000000000004,
                        "bin_end": 0.4,
                        "count": 0
                      },
                      {
                        "bin_start": 0.4,
                        "bin_end": 0.5,
                        "count": 0
                      },
                      {
                        "bin_start": 0.5,
                        "bin_end": 0.6000000000000001,
                        "count": 0
                      },
                      {
                        "bin_start": 0.6000000000000001,
                        "bin_end": 0.7000000000000001,
                        "count": 0
                      },
                      {
                        "bin_start": 0.7000000000000001,
                        "bin_end": 0.8,
                        "count": 0
                      },
                      {
                        "bin_start": 0.8,
                        "bin_end": 0.9,
                        "count": 0
                      },
                      {
                        "bin_start": 0.9,
                        "bin_end": 1,
                        "count": 20
                      }
                    ]
                  }
                },
                {
                  "name": "ca_4",
                  "dtype": "uint8",
                  "stats": {
                    "unique_count": 2,
                    "nan_count": 0,
                    "min": 0,
                    "max": 1,
                    "histogram": [
                      {
                        "bin_start": 0,
                        "bin_end": 0.1,
                        "count": 298
                      },
                      {
                        "bin_start": 0.1,
                        "bin_end": 0.2,
                        "count": 0
                      },
                      {
                        "bin_start": 0.2,
                        "bin_end": 0.30000000000000004,
                        "count": 0
                      },
                      {
                        "bin_start": 0.30000000000000004,
                        "bin_end": 0.4,
                        "count": 0
                      },
                      {
                        "bin_start": 0.4,
                        "bin_end": 0.5,
                        "count": 0
                      },
                      {
                        "bin_start": 0.5,
                        "bin_end": 0.6000000000000001,
                        "count": 0
                      },
                      {
                        "bin_start": 0.6000000000000001,
                        "bin_end": 0.7000000000000001,
                        "count": 0
                      },
                      {
                        "bin_start": 0.7000000000000001,
                        "bin_end": 0.8,
                        "count": 0
                      },
                      {
                        "bin_start": 0.8,
                        "bin_end": 0.9,
                        "count": 0
                      },
                      {
                        "bin_start": 0.9,
                        "bin_end": 1,
                        "count": 5
                      }
                    ]
                  }
                },
                {
                  "name": "_deepnote_index_column",
                  "dtype": "int64"
                }
              ],
              "rows_top": [
                {
                  "age": 63,
                  "sex": 1,
                  "trestbps": 145,
                  "chol": 233,
                  "fbs": 1,
                  "thalach": 150,
                  "exang": 0,
                  "oldpeak": 2.3,
                  "cp_0": 0,
                  "cp_1": 0,
                  "cp_2": 0,
                  "cp_3": 1,
                  "restecg_0": 1,
                  "restecg_1": 0,
                  "restecg_2": 0,
                  "slope_0": 1,
                  "slope_1": 0,
                  "slope_2": 0,
                  "ca_0": 1,
                  "ca_1": 0,
                  "ca_2": 0,
                  "ca_3": 0,
                  "ca_4": 0,
                  "_deepnote_index_column": 0
                },
                {
                  "age": 37,
                  "sex": 1,
                  "trestbps": 130,
                  "chol": 250,
                  "fbs": 0,
                  "thalach": 187,
                  "exang": 0,
                  "oldpeak": 3.5,
                  "cp_0": 0,
                  "cp_1": 0,
                  "cp_2": 1,
                  "cp_3": 0,
                  "restecg_0": 0,
                  "restecg_1": 1,
                  "restecg_2": 0,
                  "slope_0": 1,
                  "slope_1": 0,
                  "slope_2": 0,
                  "ca_0": 1,
                  "ca_1": 0,
                  "ca_2": 0,
                  "ca_3": 0,
                  "ca_4": 0,
                  "_deepnote_index_column": 1
                },
                {
                  "age": 41,
                  "sex": 0,
                  "trestbps": 130,
                  "chol": 204,
                  "fbs": 0,
                  "thalach": 172,
                  "exang": 0,
                  "oldpeak": 1.4,
                  "cp_0": 0,
                  "cp_1": 1,
                  "cp_2": 0,
                  "cp_3": 0,
                  "restecg_0": 1,
                  "restecg_1": 0,
                  "restecg_2": 0,
                  "slope_0": 0,
                  "slope_1": 0,
                  "slope_2": 1,
                  "ca_0": 1,
                  "ca_1": 0,
                  "ca_2": 0,
                  "ca_3": 0,
                  "ca_4": 0,
                  "_deepnote_index_column": 2
                },
                {
                  "age": 56,
                  "sex": 1,
                  "trestbps": 120,
                  "chol": 236,
                  "fbs": 0,
                  "thalach": 178,
                  "exang": 0,
                  "oldpeak": 0.8,
                  "cp_0": 0,
                  "cp_1": 1,
                  "cp_2": 0,
                  "cp_3": 0,
                  "restecg_0": 0,
                  "restecg_1": 1,
                  "restecg_2": 0,
                  "slope_0": 0,
                  "slope_1": 0,
                  "slope_2": 1,
                  "ca_0": 1,
                  "ca_1": 0,
                  "ca_2": 0,
                  "ca_3": 0,
                  "ca_4": 0,
                  "_deepnote_index_column": 3
                },
                {
                  "age": 57,
                  "sex": 0,
                  "trestbps": 120,
                  "chol": 354,
                  "fbs": 0,
                  "thalach": 163,
                  "exang": 1,
                  "oldpeak": 0.6,
                  "cp_0": 1,
                  "cp_1": 0,
                  "cp_2": 0,
                  "cp_3": 0,
                  "restecg_0": 0,
                  "restecg_1": 1,
                  "restecg_2": 0,
                  "slope_0": 0,
                  "slope_1": 0,
                  "slope_2": 1,
                  "ca_0": 1,
                  "ca_1": 0,
                  "ca_2": 0,
                  "ca_3": 0,
                  "ca_4": 0,
                  "_deepnote_index_column": 4
                },
                {
                  "age": 57,
                  "sex": 1,
                  "trestbps": 140,
                  "chol": 192,
                  "fbs": 0,
                  "thalach": 148,
                  "exang": 0,
                  "oldpeak": 0.4,
                  "cp_0": 1,
                  "cp_1": 0,
                  "cp_2": 0,
                  "cp_3": 0,
                  "restecg_0": 0,
                  "restecg_1": 1,
                  "restecg_2": 0,
                  "slope_0": 0,
                  "slope_1": 1,
                  "slope_2": 0,
                  "ca_0": 1,
                  "ca_1": 0,
                  "ca_2": 0,
                  "ca_3": 0,
                  "ca_4": 0,
                  "_deepnote_index_column": 5
                },
                {
                  "age": 56,
                  "sex": 0,
                  "trestbps": 140,
                  "chol": 294,
                  "fbs": 0,
                  "thalach": 153,
                  "exang": 0,
                  "oldpeak": 1.3,
                  "cp_0": 0,
                  "cp_1": 1,
                  "cp_2": 0,
                  "cp_3": 0,
                  "restecg_0": 1,
                  "restecg_1": 0,
                  "restecg_2": 0,
                  "slope_0": 0,
                  "slope_1": 1,
                  "slope_2": 0,
                  "ca_0": 1,
                  "ca_1": 0,
                  "ca_2": 0,
                  "ca_3": 0,
                  "ca_4": 0,
                  "_deepnote_index_column": 6
                },
                {
                  "age": 44,
                  "sex": 1,
                  "trestbps": 120,
                  "chol": 263,
                  "fbs": 0,
                  "thalach": 173,
                  "exang": 0,
                  "oldpeak": 0,
                  "cp_0": 0,
                  "cp_1": 1,
                  "cp_2": 0,
                  "cp_3": 0,
                  "restecg_0": 0,
                  "restecg_1": 1,
                  "restecg_2": 0,
                  "slope_0": 0,
                  "slope_1": 0,
                  "slope_2": 1,
                  "ca_0": 1,
                  "ca_1": 0,
                  "ca_2": 0,
                  "ca_3": 0,
                  "ca_4": 0,
                  "_deepnote_index_column": 7
                },
                {
                  "age": 52,
                  "sex": 1,
                  "trestbps": 172,
                  "chol": 199,
                  "fbs": 1,
                  "thalach": 162,
                  "exang": 0,
                  "oldpeak": 0.5,
                  "cp_0": 0,
                  "cp_1": 0,
                  "cp_2": 1,
                  "cp_3": 0,
                  "restecg_0": 0,
                  "restecg_1": 1,
                  "restecg_2": 0,
                  "slope_0": 0,
                  "slope_1": 0,
                  "slope_2": 1,
                  "ca_0": 1,
                  "ca_1": 0,
                  "ca_2": 0,
                  "ca_3": 0,
                  "ca_4": 0,
                  "_deepnote_index_column": 8
                },
                {
                  "age": 57,
                  "sex": 1,
                  "trestbps": 150,
                  "chol": 168,
                  "fbs": 0,
                  "thalach": 174,
                  "exang": 0,
                  "oldpeak": 1.6,
                  "cp_0": 0,
                  "cp_1": 0,
                  "cp_2": 1,
                  "cp_3": 0,
                  "restecg_0": 0,
                  "restecg_1": 1,
                  "restecg_2": 0,
                  "slope_0": 0,
                  "slope_1": 0,
                  "slope_2": 1,
                  "ca_0": 1,
                  "ca_1": 0,
                  "ca_2": 0,
                  "ca_3": 0,
                  "ca_4": 0,
                  "_deepnote_index_column": 9
                },
                {
                  "age": 54,
                  "sex": 1,
                  "trestbps": 140,
                  "chol": 239,
                  "fbs": 0,
                  "thalach": 160,
                  "exang": 0,
                  "oldpeak": 1.2,
                  "cp_0": 1,
                  "cp_1": 0,
                  "cp_2": 0,
                  "cp_3": 0,
                  "restecg_0": 0,
                  "restecg_1": 1,
                  "restecg_2": 0,
                  "slope_0": 0,
                  "slope_1": 0,
                  "slope_2": 1,
                  "ca_0": 1,
                  "ca_1": 0,
                  "ca_2": 0,
                  "ca_3": 0,
                  "ca_4": 0,
                  "_deepnote_index_column": 10
                },
                {
                  "age": 48,
                  "sex": 0,
                  "trestbps": 130,
                  "chol": 275,
                  "fbs": 0,
                  "thalach": 139,
                  "exang": 0,
                  "oldpeak": 0.2,
                  "cp_0": 0,
                  "cp_1": 0,
                  "cp_2": 1,
                  "cp_3": 0,
                  "restecg_0": 0,
                  "restecg_1": 1,
                  "restecg_2": 0,
                  "slope_0": 0,
                  "slope_1": 0,
                  "slope_2": 1,
                  "ca_0": 1,
                  "ca_1": 0,
                  "ca_2": 0,
                  "ca_3": 0,
                  "ca_4": 0,
                  "_deepnote_index_column": 11
                },
                {
                  "age": 49,
                  "sex": 1,
                  "trestbps": 130,
                  "chol": 266,
                  "fbs": 0,
                  "thalach": 171,
                  "exang": 0,
                  "oldpeak": 0.6,
                  "cp_0": 0,
                  "cp_1": 1,
                  "cp_2": 0,
                  "cp_3": 0,
                  "restecg_0": 0,
                  "restecg_1": 1,
                  "restecg_2": 0,
                  "slope_0": 0,
                  "slope_1": 0,
                  "slope_2": 1,
                  "ca_0": 1,
                  "ca_1": 0,
                  "ca_2": 0,
                  "ca_3": 0,
                  "ca_4": 0,
                  "_deepnote_index_column": 12
                },
                {
                  "age": 64,
                  "sex": 1,
                  "trestbps": 110,
                  "chol": 211,
                  "fbs": 0,
                  "thalach": 144,
                  "exang": 1,
                  "oldpeak": 1.8,
                  "cp_0": 0,
                  "cp_1": 0,
                  "cp_2": 0,
                  "cp_3": 1,
                  "restecg_0": 1,
                  "restecg_1": 0,
                  "restecg_2": 0,
                  "slope_0": 0,
                  "slope_1": 1,
                  "slope_2": 0,
                  "ca_0": 1,
                  "ca_1": 0,
                  "ca_2": 0,
                  "ca_3": 0,
                  "ca_4": 0,
                  "_deepnote_index_column": 13
                },
                {
                  "age": 58,
                  "sex": 0,
                  "trestbps": 150,
                  "chol": 283,
                  "fbs": 1,
                  "thalach": 162,
                  "exang": 0,
                  "oldpeak": 1,
                  "cp_0": 0,
                  "cp_1": 0,
                  "cp_2": 0,
                  "cp_3": 1,
                  "restecg_0": 1,
                  "restecg_1": 0,
                  "restecg_2": 0,
                  "slope_0": 0,
                  "slope_1": 0,
                  "slope_2": 1,
                  "ca_0": 1,
                  "ca_1": 0,
                  "ca_2": 0,
                  "ca_3": 0,
                  "ca_4": 0,
                  "_deepnote_index_column": 14
                },
                {
                  "age": 50,
                  "sex": 0,
                  "trestbps": 120,
                  "chol": 219,
                  "fbs": 0,
                  "thalach": 158,
                  "exang": 0,
                  "oldpeak": 1.6,
                  "cp_0": 0,
                  "cp_1": 0,
                  "cp_2": 1,
                  "cp_3": 0,
                  "restecg_0": 0,
                  "restecg_1": 1,
                  "restecg_2": 0,
                  "slope_0": 0,
                  "slope_1": 1,
                  "slope_2": 0,
                  "ca_0": 1,
                  "ca_1": 0,
                  "ca_2": 0,
                  "ca_3": 0,
                  "ca_4": 0,
                  "_deepnote_index_column": 15
                },
                {
                  "age": 58,
                  "sex": 0,
                  "trestbps": 120,
                  "chol": 340,
                  "fbs": 0,
                  "thalach": 172,
                  "exang": 0,
                  "oldpeak": 0,
                  "cp_0": 0,
                  "cp_1": 0,
                  "cp_2": 1,
                  "cp_3": 0,
                  "restecg_0": 0,
                  "restecg_1": 1,
                  "restecg_2": 0,
                  "slope_0": 0,
                  "slope_1": 0,
                  "slope_2": 1,
                  "ca_0": 1,
                  "ca_1": 0,
                  "ca_2": 0,
                  "ca_3": 0,
                  "ca_4": 0,
                  "_deepnote_index_column": 16
                },
                {
                  "age": 66,
                  "sex": 0,
                  "trestbps": 150,
                  "chol": 226,
                  "fbs": 0,
                  "thalach": 114,
                  "exang": 0,
                  "oldpeak": 2.6,
                  "cp_0": 0,
                  "cp_1": 0,
                  "cp_2": 0,
                  "cp_3": 1,
                  "restecg_0": 0,
                  "restecg_1": 1,
                  "restecg_2": 0,
                  "slope_0": 1,
                  "slope_1": 0,
                  "slope_2": 0,
                  "ca_0": 1,
                  "ca_1": 0,
                  "ca_2": 0,
                  "ca_3": 0,
                  "ca_4": 0,
                  "_deepnote_index_column": 17
                },
                {
                  "age": 43,
                  "sex": 1,
                  "trestbps": 150,
                  "chol": 247,
                  "fbs": 0,
                  "thalach": 171,
                  "exang": 0,
                  "oldpeak": 1.5,
                  "cp_0": 1,
                  "cp_1": 0,
                  "cp_2": 0,
                  "cp_3": 0,
                  "restecg_0": 0,
                  "restecg_1": 1,
                  "restecg_2": 0,
                  "slope_0": 0,
                  "slope_1": 0,
                  "slope_2": 1,
                  "ca_0": 1,
                  "ca_1": 0,
                  "ca_2": 0,
                  "ca_3": 0,
                  "ca_4": 0,
                  "_deepnote_index_column": 18
                },
                {
                  "age": 69,
                  "sex": 0,
                  "trestbps": 140,
                  "chol": 239,
                  "fbs": 0,
                  "thalach": 151,
                  "exang": 0,
                  "oldpeak": 1.8,
                  "cp_0": 0,
                  "cp_1": 0,
                  "cp_2": 0,
                  "cp_3": 1,
                  "restecg_0": 0,
                  "restecg_1": 1,
                  "restecg_2": 0,
                  "slope_0": 0,
                  "slope_1": 0,
                  "slope_2": 1,
                  "ca_0": 0,
                  "ca_1": 0,
                  "ca_2": 1,
                  "ca_3": 0,
                  "ca_4": 0,
                  "_deepnote_index_column": 19
                },
                {
                  "age": 59,
                  "sex": 1,
                  "trestbps": 135,
                  "chol": 234,
                  "fbs": 0,
                  "thalach": 161,
                  "exang": 0,
                  "oldpeak": 0.5,
                  "cp_0": 1,
                  "cp_1": 0,
                  "cp_2": 0,
                  "cp_3": 0,
                  "restecg_0": 0,
                  "restecg_1": 1,
                  "restecg_2": 0,
                  "slope_0": 0,
                  "slope_1": 1,
                  "slope_2": 0,
                  "ca_0": 1,
                  "ca_1": 0,
                  "ca_2": 0,
                  "ca_3": 0,
                  "ca_4": 0,
                  "_deepnote_index_column": 20
                }
              ],
              "rows_bottom": [
                {
                  "age": 52,
                  "sex": 1,
                  "trestbps": 128,
                  "chol": 204,
                  "fbs": 1,
                  "thalach": 156,
                  "exang": 1,
                  "oldpeak": 1,
                  "cp_0": 1,
                  "cp_1": 0,
                  "cp_2": 0,
                  "cp_3": 0,
                  "restecg_0": 0,
                  "restecg_1": 1,
                  "restecg_2": 0,
                  "slope_0": 0,
                  "slope_1": 1,
                  "slope_2": 0,
                  "ca_0": 1,
                  "ca_1": 0,
                  "ca_2": 0,
                  "ca_3": 0,
                  "ca_4": 0,
                  "_deepnote_index_column": 281
                },
                {
                  "age": 59,
                  "sex": 1,
                  "trestbps": 126,
                  "chol": 218,
                  "fbs": 1,
                  "thalach": 134,
                  "exang": 0,
                  "oldpeak": 2.2,
                  "cp_0": 0,
                  "cp_1": 0,
                  "cp_2": 1,
                  "cp_3": 0,
                  "restecg_0": 0,
                  "restecg_1": 1,
                  "restecg_2": 0,
                  "slope_0": 0,
                  "slope_1": 1,
                  "slope_2": 0,
                  "ca_0": 0,
                  "ca_1": 1,
                  "ca_2": 0,
                  "ca_3": 0,
                  "ca_4": 0,
                  "_deepnote_index_column": 282
                },
                {
                  "age": 40,
                  "sex": 1,
                  "trestbps": 152,
                  "chol": 223,
                  "fbs": 0,
                  "thalach": 181,
                  "exang": 0,
                  "oldpeak": 0,
                  "cp_0": 1,
                  "cp_1": 0,
                  "cp_2": 0,
                  "cp_3": 0,
                  "restecg_0": 0,
                  "restecg_1": 1,
                  "restecg_2": 0,
                  "slope_0": 0,
                  "slope_1": 0,
                  "slope_2": 1,
                  "ca_0": 1,
                  "ca_1": 0,
                  "ca_2": 0,
                  "ca_3": 0,
                  "ca_4": 0,
                  "_deepnote_index_column": 283
                },
                {
                  "age": 61,
                  "sex": 1,
                  "trestbps": 140,
                  "chol": 207,
                  "fbs": 0,
                  "thalach": 138,
                  "exang": 1,
                  "oldpeak": 1.9,
                  "cp_0": 1,
                  "cp_1": 0,
                  "cp_2": 0,
                  "cp_3": 0,
                  "restecg_0": 1,
                  "restecg_1": 0,
                  "restecg_2": 0,
                  "slope_0": 0,
                  "slope_1": 0,
                  "slope_2": 1,
                  "ca_0": 0,
                  "ca_1": 1,
                  "ca_2": 0,
                  "ca_3": 0,
                  "ca_4": 0,
                  "_deepnote_index_column": 284
                },
                {
                  "age": 46,
                  "sex": 1,
                  "trestbps": 140,
                  "chol": 311,
                  "fbs": 0,
                  "thalach": 120,
                  "exang": 1,
                  "oldpeak": 1.8,
                  "cp_0": 1,
                  "cp_1": 0,
                  "cp_2": 0,
                  "cp_3": 0,
                  "restecg_0": 0,
                  "restecg_1": 1,
                  "restecg_2": 0,
                  "slope_0": 0,
                  "slope_1": 1,
                  "slope_2": 0,
                  "ca_0": 0,
                  "ca_1": 0,
                  "ca_2": 1,
                  "ca_3": 0,
                  "ca_4": 0,
                  "_deepnote_index_column": 285
                },
                {
                  "age": 59,
                  "sex": 1,
                  "trestbps": 134,
                  "chol": 204,
                  "fbs": 0,
                  "thalach": 162,
                  "exang": 0,
                  "oldpeak": 0.8,
                  "cp_0": 0,
                  "cp_1": 0,
                  "cp_2": 0,
                  "cp_3": 1,
                  "restecg_0": 0,
                  "restecg_1": 1,
                  "restecg_2": 0,
                  "slope_0": 0,
                  "slope_1": 0,
                  "slope_2": 1,
                  "ca_0": 0,
                  "ca_1": 0,
                  "ca_2": 1,
                  "ca_3": 0,
                  "ca_4": 0,
                  "_deepnote_index_column": 286
                },
                {
                  "age": 57,
                  "sex": 1,
                  "trestbps": 154,
                  "chol": 232,
                  "fbs": 0,
                  "thalach": 164,
                  "exang": 0,
                  "oldpeak": 0,
                  "cp_0": 0,
                  "cp_1": 1,
                  "cp_2": 0,
                  "cp_3": 0,
                  "restecg_0": 1,
                  "restecg_1": 0,
                  "restecg_2": 0,
                  "slope_0": 0,
                  "slope_1": 0,
                  "slope_2": 1,
                  "ca_0": 0,
                  "ca_1": 1,
                  "ca_2": 0,
                  "ca_3": 0,
                  "ca_4": 0,
                  "_deepnote_index_column": 287
                },
                {
                  "age": 57,
                  "sex": 1,
                  "trestbps": 110,
                  "chol": 335,
                  "fbs": 0,
                  "thalach": 143,
                  "exang": 1,
                  "oldpeak": 3,
                  "cp_0": 1,
                  "cp_1": 0,
                  "cp_2": 0,
                  "cp_3": 0,
                  "restecg_0": 0,
                  "restecg_1": 1,
                  "restecg_2": 0,
                  "slope_0": 0,
                  "slope_1": 1,
                  "slope_2": 0,
                  "ca_0": 0,
                  "ca_1": 1,
                  "ca_2": 0,
                  "ca_3": 0,
                  "ca_4": 0,
                  "_deepnote_index_column": 288
                },
                {
                  "age": 55,
                  "sex": 0,
                  "trestbps": 128,
                  "chol": 205,
                  "fbs": 0,
                  "thalach": 130,
                  "exang": 1,
                  "oldpeak": 2,
                  "cp_0": 1,
                  "cp_1": 0,
                  "cp_2": 0,
                  "cp_3": 0,
                  "restecg_0": 0,
                  "restecg_1": 0,
                  "restecg_2": 1,
                  "slope_0": 0,
                  "slope_1": 1,
                  "slope_2": 0,
                  "ca_0": 0,
                  "ca_1": 1,
                  "ca_2": 0,
                  "ca_3": 0,
                  "ca_4": 0,
                  "_deepnote_index_column": 289
                },
                {
                  "age": 61,
                  "sex": 1,
                  "trestbps": 148,
                  "chol": 203,
                  "fbs": 0,
                  "thalach": 161,
                  "exang": 0,
                  "oldpeak": 0,
                  "cp_0": 1,
                  "cp_1": 0,
                  "cp_2": 0,
                  "cp_3": 0,
                  "restecg_0": 0,
                  "restecg_1": 1,
                  "restecg_2": 0,
                  "slope_0": 0,
                  "slope_1": 0,
                  "slope_2": 1,
                  "ca_0": 0,
                  "ca_1": 1,
                  "ca_2": 0,
                  "ca_3": 0,
                  "ca_4": 0,
                  "_deepnote_index_column": 290
                },
                {
                  "age": 58,
                  "sex": 1,
                  "trestbps": 114,
                  "chol": 318,
                  "fbs": 0,
                  "thalach": 140,
                  "exang": 0,
                  "oldpeak": 4.4,
                  "cp_0": 1,
                  "cp_1": 0,
                  "cp_2": 0,
                  "cp_3": 0,
                  "restecg_0": 0,
                  "restecg_1": 0,
                  "restecg_2": 1,
                  "slope_0": 1,
                  "slope_1": 0,
                  "slope_2": 0,
                  "ca_0": 0,
                  "ca_1": 0,
                  "ca_2": 0,
                  "ca_3": 1,
                  "ca_4": 0,
                  "_deepnote_index_column": 291
                },
                {
                  "age": 58,
                  "sex": 0,
                  "trestbps": 170,
                  "chol": 225,
                  "fbs": 1,
                  "thalach": 146,
                  "exang": 1,
                  "oldpeak": 2.8,
                  "cp_0": 1,
                  "cp_1": 0,
                  "cp_2": 0,
                  "cp_3": 0,
                  "restecg_0": 1,
                  "restecg_1": 0,
                  "restecg_2": 0,
                  "slope_0": 0,
                  "slope_1": 1,
                  "slope_2": 0,
                  "ca_0": 0,
                  "ca_1": 0,
                  "ca_2": 1,
                  "ca_3": 0,
                  "ca_4": 0,
                  "_deepnote_index_column": 292
                },
                {
                  "age": 67,
                  "sex": 1,
                  "trestbps": 152,
                  "chol": 212,
                  "fbs": 0,
                  "thalach": 150,
                  "exang": 0,
                  "oldpeak": 0.8,
                  "cp_0": 0,
                  "cp_1": 0,
                  "cp_2": 1,
                  "cp_3": 0,
                  "restecg_0": 1,
                  "restecg_1": 0,
                  "restecg_2": 0,
                  "slope_0": 0,
                  "slope_1": 1,
                  "slope_2": 0,
                  "ca_0": 1,
                  "ca_1": 0,
                  "ca_2": 0,
                  "ca_3": 0,
                  "ca_4": 0,
                  "_deepnote_index_column": 293
                },
                {
                  "age": 44,
                  "sex": 1,
                  "trestbps": 120,
                  "chol": 169,
                  "fbs": 0,
                  "thalach": 144,
                  "exang": 1,
                  "oldpeak": 2.8,
                  "cp_0": 1,
                  "cp_1": 0,
                  "cp_2": 0,
                  "cp_3": 0,
                  "restecg_0": 0,
                  "restecg_1": 1,
                  "restecg_2": 0,
                  "slope_0": 1,
                  "slope_1": 0,
                  "slope_2": 0,
                  "ca_0": 1,
                  "ca_1": 0,
                  "ca_2": 0,
                  "ca_3": 0,
                  "ca_4": 0,
                  "_deepnote_index_column": 294
                },
                {
                  "age": 63,
                  "sex": 1,
                  "trestbps": 140,
                  "chol": 187,
                  "fbs": 0,
                  "thalach": 144,
                  "exang": 1,
                  "oldpeak": 4,
                  "cp_0": 1,
                  "cp_1": 0,
                  "cp_2": 0,
                  "cp_3": 0,
                  "restecg_0": 1,
                  "restecg_1": 0,
                  "restecg_2": 0,
                  "slope_0": 0,
                  "slope_1": 0,
                  "slope_2": 1,
                  "ca_0": 0,
                  "ca_1": 0,
                  "ca_2": 1,
                  "ca_3": 0,
                  "ca_4": 0,
                  "_deepnote_index_column": 295
                },
                {
                  "age": 63,
                  "sex": 0,
                  "trestbps": 124,
                  "chol": 197,
                  "fbs": 0,
                  "thalach": 136,
                  "exang": 1,
                  "oldpeak": 0,
                  "cp_0": 1,
                  "cp_1": 0,
                  "cp_2": 0,
                  "cp_3": 0,
                  "restecg_0": 0,
                  "restecg_1": 1,
                  "restecg_2": 0,
                  "slope_0": 0,
                  "slope_1": 1,
                  "slope_2": 0,
                  "ca_0": 1,
                  "ca_1": 0,
                  "ca_2": 0,
                  "ca_3": 0,
                  "ca_4": 0,
                  "_deepnote_index_column": 296
                },
                {
                  "age": 59,
                  "sex": 1,
                  "trestbps": 164,
                  "chol": 176,
                  "fbs": 1,
                  "thalach": 90,
                  "exang": 0,
                  "oldpeak": 1,
                  "cp_0": 1,
                  "cp_1": 0,
                  "cp_2": 0,
                  "cp_3": 0,
                  "restecg_0": 1,
                  "restecg_1": 0,
                  "restecg_2": 0,
                  "slope_0": 0,
                  "slope_1": 1,
                  "slope_2": 0,
                  "ca_0": 0,
                  "ca_1": 0,
                  "ca_2": 1,
                  "ca_3": 0,
                  "ca_4": 0,
                  "_deepnote_index_column": 297
                },
                {
                  "age": 57,
                  "sex": 0,
                  "trestbps": 140,
                  "chol": 241,
                  "fbs": 0,
                  "thalach": 123,
                  "exang": 1,
                  "oldpeak": 0.2,
                  "cp_0": 1,
                  "cp_1": 0,
                  "cp_2": 0,
                  "cp_3": 0,
                  "restecg_0": 0,
                  "restecg_1": 1,
                  "restecg_2": 0,
                  "slope_0": 0,
                  "slope_1": 1,
                  "slope_2": 0,
                  "ca_0": 1,
                  "ca_1": 0,
                  "ca_2": 0,
                  "ca_3": 0,
                  "ca_4": 0,
                  "_deepnote_index_column": 298
                },
                {
                  "age": 45,
                  "sex": 1,
                  "trestbps": 110,
                  "chol": 264,
                  "fbs": 0,
                  "thalach": 132,
                  "exang": 0,
                  "oldpeak": 1.2,
                  "cp_0": 0,
                  "cp_1": 0,
                  "cp_2": 0,
                  "cp_3": 1,
                  "restecg_0": 0,
                  "restecg_1": 1,
                  "restecg_2": 0,
                  "slope_0": 0,
                  "slope_1": 1,
                  "slope_2": 0,
                  "ca_0": 1,
                  "ca_1": 0,
                  "ca_2": 0,
                  "ca_3": 0,
                  "ca_4": 0,
                  "_deepnote_index_column": 299
                },
                {
                  "age": 68,
                  "sex": 1,
                  "trestbps": 144,
                  "chol": 193,
                  "fbs": 1,
                  "thalach": 141,
                  "exang": 0,
                  "oldpeak": 3.4,
                  "cp_0": 1,
                  "cp_1": 0,
                  "cp_2": 0,
                  "cp_3": 0,
                  "restecg_0": 0,
                  "restecg_1": 1,
                  "restecg_2": 0,
                  "slope_0": 0,
                  "slope_1": 1,
                  "slope_2": 0,
                  "ca_0": 0,
                  "ca_1": 0,
                  "ca_2": 1,
                  "ca_3": 0,
                  "ca_4": 0,
                  "_deepnote_index_column": 300
                },
                {
                  "age": 57,
                  "sex": 1,
                  "trestbps": 130,
                  "chol": 131,
                  "fbs": 0,
                  "thalach": 115,
                  "exang": 1,
                  "oldpeak": 1.2,
                  "cp_0": 1,
                  "cp_1": 0,
                  "cp_2": 0,
                  "cp_3": 0,
                  "restecg_0": 0,
                  "restecg_1": 1,
                  "restecg_2": 0,
                  "slope_0": 0,
                  "slope_1": 1,
                  "slope_2": 0,
                  "ca_0": 0,
                  "ca_1": 1,
                  "ca_2": 0,
                  "ca_3": 0,
                  "ca_4": 0,
                  "_deepnote_index_column": 301
                },
                {
                  "age": 57,
                  "sex": 0,
                  "trestbps": 130,
                  "chol": 236,
                  "fbs": 0,
                  "thalach": 174,
                  "exang": 0,
                  "oldpeak": 0,
                  "cp_0": 0,
                  "cp_1": 1,
                  "cp_2": 0,
                  "cp_3": 0,
                  "restecg_0": 1,
                  "restecg_1": 0,
                  "restecg_2": 0,
                  "slope_0": 0,
                  "slope_1": 1,
                  "slope_2": 0,
                  "ca_0": 0,
                  "ca_1": 1,
                  "ca_2": 0,
                  "ca_3": 0,
                  "ca_4": 0,
                  "_deepnote_index_column": 302
                }
              ]
            },
            "text/plain": "     age  sex  trestbps  chol  fbs  thalach  exang  oldpeak  cp_0  cp_1  ...  \\\n0     63    1       145   233    1      150      0      2.3     0     0  ...   \n1     37    1       130   250    0      187      0      3.5     0     0  ...   \n2     41    0       130   204    0      172      0      1.4     0     1  ...   \n3     56    1       120   236    0      178      0      0.8     0     1  ...   \n4     57    0       120   354    0      163      1      0.6     1     0  ...   \n..   ...  ...       ...   ...  ...      ...    ...      ...   ...   ...  ...   \n298   57    0       140   241    0      123      1      0.2     1     0  ...   \n299   45    1       110   264    0      132      0      1.2     0     0  ...   \n300   68    1       144   193    1      141      0      3.4     1     0  ...   \n301   57    1       130   131    0      115      1      1.2     1     0  ...   \n302   57    0       130   236    0      174      0      0.0     0     1  ...   \n\n     restecg_1  restecg_2  slope_0  slope_1  slope_2  ca_0  ca_1  ca_2  ca_3  \\\n0            0          0        1        0        0     1     0     0     0   \n1            1          0        1        0        0     1     0     0     0   \n2            0          0        0        0        1     1     0     0     0   \n3            1          0        0        0        1     1     0     0     0   \n4            1          0        0        0        1     1     0     0     0   \n..         ...        ...      ...      ...      ...   ...   ...   ...   ...   \n298          1          0        0        1        0     1     0     0     0   \n299          1          0        0        1        0     1     0     0     0   \n300          1          0        0        1        0     0     0     1     0   \n301          1          0        0        1        0     0     1     0     0   \n302          0          0        0        1        0     0     1     0     0   \n\n     ca_4  \n0       0  \n1       0  \n2       0  \n3       0  \n4       0  \n..    ...  \n298     0  \n299     0  \n300     0  \n301     0  \n302     0  \n\n[303 rows x 23 columns]",
            "text/html": "<div>\n<style scoped>\n    .dataframe tbody tr th:only-of-type {\n        vertical-align: middle;\n    }\n\n    .dataframe tbody tr th {\n        vertical-align: top;\n    }\n\n    .dataframe thead th {\n        text-align: right;\n    }\n</style>\n<table border=\"1\" class=\"dataframe\">\n  <thead>\n    <tr style=\"text-align: right;\">\n      <th></th>\n      <th>age</th>\n      <th>sex</th>\n      <th>trestbps</th>\n      <th>chol</th>\n      <th>fbs</th>\n      <th>thalach</th>\n      <th>exang</th>\n      <th>oldpeak</th>\n      <th>cp_0</th>\n      <th>cp_1</th>\n      <th>...</th>\n      <th>restecg_1</th>\n      <th>restecg_2</th>\n      <th>slope_0</th>\n      <th>slope_1</th>\n      <th>slope_2</th>\n      <th>ca_0</th>\n      <th>ca_1</th>\n      <th>ca_2</th>\n      <th>ca_3</th>\n      <th>ca_4</th>\n    </tr>\n  </thead>\n  <tbody>\n    <tr>\n      <th>0</th>\n      <td>63</td>\n      <td>1</td>\n      <td>145</td>\n      <td>233</td>\n      <td>1</td>\n      <td>150</td>\n      <td>0</td>\n      <td>2.3</td>\n      <td>0</td>\n      <td>0</td>\n      <td>...</td>\n      <td>0</td>\n      <td>0</td>\n      <td>1</td>\n      <td>0</td>\n      <td>0</td>\n      <td>1</td>\n      <td>0</td>\n      <td>0</td>\n      <td>0</td>\n      <td>0</td>\n    </tr>\n    <tr>\n      <th>1</th>\n      <td>37</td>\n      <td>1</td>\n      <td>130</td>\n      <td>250</td>\n      <td>0</td>\n      <td>187</td>\n      <td>0</td>\n      <td>3.5</td>\n      <td>0</td>\n      <td>0</td>\n      <td>...</td>\n      <td>1</td>\n      <td>0</td>\n      <td>1</td>\n      <td>0</td>\n      <td>0</td>\n      <td>1</td>\n      <td>0</td>\n      <td>0</td>\n      <td>0</td>\n      <td>0</td>\n    </tr>\n    <tr>\n      <th>2</th>\n      <td>41</td>\n      <td>0</td>\n      <td>130</td>\n      <td>204</td>\n      <td>0</td>\n      <td>172</td>\n      <td>0</td>\n      <td>1.4</td>\n      <td>0</td>\n      <td>1</td>\n      <td>...</td>\n      <td>0</td>\n      <td>0</td>\n      <td>0</td>\n      <td>0</td>\n      <td>1</td>\n      <td>1</td>\n      <td>0</td>\n      <td>0</td>\n      <td>0</td>\n      <td>0</td>\n    </tr>\n    <tr>\n      <th>3</th>\n      <td>56</td>\n      <td>1</td>\n      <td>120</td>\n      <td>236</td>\n      <td>0</td>\n      <td>178</td>\n      <td>0</td>\n      <td>0.8</td>\n      <td>0</td>\n      <td>1</td>\n      <td>...</td>\n      <td>1</td>\n      <td>0</td>\n      <td>0</td>\n      <td>0</td>\n      <td>1</td>\n      <td>1</td>\n      <td>0</td>\n      <td>0</td>\n      <td>0</td>\n      <td>0</td>\n    </tr>\n    <tr>\n      <th>4</th>\n      <td>57</td>\n      <td>0</td>\n      <td>120</td>\n      <td>354</td>\n      <td>0</td>\n      <td>163</td>\n      <td>1</td>\n      <td>0.6</td>\n      <td>1</td>\n      <td>0</td>\n      <td>...</td>\n      <td>1</td>\n      <td>0</td>\n      <td>0</td>\n      <td>0</td>\n      <td>1</td>\n      <td>1</td>\n      <td>0</td>\n      <td>0</td>\n      <td>0</td>\n      <td>0</td>\n    </tr>\n    <tr>\n      <th>...</th>\n      <td>...</td>\n      <td>...</td>\n      <td>...</td>\n      <td>...</td>\n      <td>...</td>\n      <td>...</td>\n      <td>...</td>\n      <td>...</td>\n      <td>...</td>\n      <td>...</td>\n      <td>...</td>\n      <td>...</td>\n      <td>...</td>\n      <td>...</td>\n      <td>...</td>\n      <td>...</td>\n      <td>...</td>\n      <td>...</td>\n      <td>...</td>\n      <td>...</td>\n      <td>...</td>\n    </tr>\n    <tr>\n      <th>298</th>\n      <td>57</td>\n      <td>0</td>\n      <td>140</td>\n      <td>241</td>\n      <td>0</td>\n      <td>123</td>\n      <td>1</td>\n      <td>0.2</td>\n      <td>1</td>\n      <td>0</td>\n      <td>...</td>\n      <td>1</td>\n      <td>0</td>\n      <td>0</td>\n      <td>1</td>\n      <td>0</td>\n      <td>1</td>\n      <td>0</td>\n      <td>0</td>\n      <td>0</td>\n      <td>0</td>\n    </tr>\n    <tr>\n      <th>299</th>\n      <td>45</td>\n      <td>1</td>\n      <td>110</td>\n      <td>264</td>\n      <td>0</td>\n      <td>132</td>\n      <td>0</td>\n      <td>1.2</td>\n      <td>0</td>\n      <td>0</td>\n      <td>...</td>\n      <td>1</td>\n      <td>0</td>\n      <td>0</td>\n      <td>1</td>\n      <td>0</td>\n      <td>1</td>\n      <td>0</td>\n      <td>0</td>\n      <td>0</td>\n      <td>0</td>\n    </tr>\n    <tr>\n      <th>300</th>\n      <td>68</td>\n      <td>1</td>\n      <td>144</td>\n      <td>193</td>\n      <td>1</td>\n      <td>141</td>\n      <td>0</td>\n      <td>3.4</td>\n      <td>1</td>\n      <td>0</td>\n      <td>...</td>\n      <td>1</td>\n      <td>0</td>\n      <td>0</td>\n      <td>1</td>\n      <td>0</td>\n      <td>0</td>\n      <td>0</td>\n      <td>1</td>\n      <td>0</td>\n      <td>0</td>\n    </tr>\n    <tr>\n      <th>301</th>\n      <td>57</td>\n      <td>1</td>\n      <td>130</td>\n      <td>131</td>\n      <td>0</td>\n      <td>115</td>\n      <td>1</td>\n      <td>1.2</td>\n      <td>1</td>\n      <td>0</td>\n      <td>...</td>\n      <td>1</td>\n      <td>0</td>\n      <td>0</td>\n      <td>1</td>\n      <td>0</td>\n      <td>0</td>\n      <td>1</td>\n      <td>0</td>\n      <td>0</td>\n      <td>0</td>\n    </tr>\n    <tr>\n      <th>302</th>\n      <td>57</td>\n      <td>0</td>\n      <td>130</td>\n      <td>236</td>\n      <td>0</td>\n      <td>174</td>\n      <td>0</td>\n      <td>0.0</td>\n      <td>0</td>\n      <td>1</td>\n      <td>...</td>\n      <td>0</td>\n      <td>0</td>\n      <td>0</td>\n      <td>1</td>\n      <td>0</td>\n      <td>0</td>\n      <td>1</td>\n      <td>0</td>\n      <td>0</td>\n      <td>0</td>\n    </tr>\n  </tbody>\n</table>\n<p>303 rows × 23 columns</p>\n</div>"
          },
          "metadata": {}
        }
      ]
    },
    {
      "cell_type": "code",
      "metadata": {
        "tags": [],
        "cell_id": "00053-a7d967ba-4d96-40c2-9e50-0b93f5fecca4",
        "deepnote_to_be_reexecuted": false,
        "source_hash": "ec6afdb8",
        "execution_millis": 55,
        "execution_start": 1615385364874,
        "deepnote_cell_type": "code"
      },
      "source": "col_names.drop('target')",
      "execution_count": null,
      "outputs": [
        {
          "output_type": "error",
          "ename": "KeyError",
          "evalue": "\"['target'] not found in axis\"",
          "traceback": [
            "\u001b[0;31m---------------------------------------------------------------------------\u001b[0m",
            "\u001b[0;31mKeyError\u001b[0m                                  Traceback (most recent call last)",
            "\u001b[0;32m<ipython-input-94-bfec62ea4ec2>\u001b[0m in \u001b[0;36m<module>\u001b[0;34m\u001b[0m\n\u001b[0;32m----> 1\u001b[0;31m \u001b[0mcol_names\u001b[0m\u001b[0;34m.\u001b[0m\u001b[0mdrop\u001b[0m\u001b[0;34m(\u001b[0m\u001b[0;34m'target'\u001b[0m\u001b[0;34m)\u001b[0m\u001b[0;34m\u001b[0m\u001b[0;34m\u001b[0m\u001b[0m\n\u001b[0m",
            "\u001b[0;32m/shared-libs/python3.7/py/lib/python3.7/site-packages/pandas/core/indexes/base.py\u001b[0m in \u001b[0;36mdrop\u001b[0;34m(self, labels, errors)\u001b[0m\n\u001b[1;32m   5589\u001b[0m         \u001b[0;32mif\u001b[0m \u001b[0mmask\u001b[0m\u001b[0;34m.\u001b[0m\u001b[0many\u001b[0m\u001b[0;34m(\u001b[0m\u001b[0;34m)\u001b[0m\u001b[0;34m:\u001b[0m\u001b[0;34m\u001b[0m\u001b[0;34m\u001b[0m\u001b[0m\n\u001b[1;32m   5590\u001b[0m             \u001b[0;32mif\u001b[0m \u001b[0merrors\u001b[0m \u001b[0;34m!=\u001b[0m \u001b[0;34m\"ignore\"\u001b[0m\u001b[0;34m:\u001b[0m\u001b[0;34m\u001b[0m\u001b[0;34m\u001b[0m\u001b[0m\n\u001b[0;32m-> 5591\u001b[0;31m                 \u001b[0;32mraise\u001b[0m \u001b[0mKeyError\u001b[0m\u001b[0;34m(\u001b[0m\u001b[0;34mf\"{labels[mask]} not found in axis\"\u001b[0m\u001b[0;34m)\u001b[0m\u001b[0;34m\u001b[0m\u001b[0;34m\u001b[0m\u001b[0m\n\u001b[0m\u001b[1;32m   5592\u001b[0m             \u001b[0mindexer\u001b[0m \u001b[0;34m=\u001b[0m \u001b[0mindexer\u001b[0m\u001b[0;34m[\u001b[0m\u001b[0;34m~\u001b[0m\u001b[0mmask\u001b[0m\u001b[0;34m]\u001b[0m\u001b[0;34m\u001b[0m\u001b[0;34m\u001b[0m\u001b[0m\n\u001b[1;32m   5593\u001b[0m         \u001b[0;32mreturn\u001b[0m \u001b[0mself\u001b[0m\u001b[0;34m.\u001b[0m\u001b[0mdelete\u001b[0m\u001b[0;34m(\u001b[0m\u001b[0mindexer\u001b[0m\u001b[0;34m)\u001b[0m\u001b[0;34m\u001b[0m\u001b[0;34m\u001b[0m\u001b[0m\n",
            "\u001b[0;31mKeyError\u001b[0m: \"['target'] not found in axis\""
          ]
        }
      ]
    },
    {
      "cell_type": "code",
      "metadata": {
        "tags": [],
        "cell_id": "00054-ca83d0cd-43cb-4a4e-a8c8-fc110b5575fe",
        "deepnote_to_be_reexecuted": false,
        "source_hash": "aa989c72",
        "execution_millis": 8,
        "execution_start": 1615304753205,
        "deepnote_cell_type": "code"
      },
      "source": "#col_names = col_names.drop('target')\nlen(col_names)",
      "execution_count": null,
      "outputs": [
        {
          "output_type": "execute_result",
          "execution_count": 119,
          "data": {
            "text/plain": "27"
          },
          "metadata": {}
        }
      ]
    },
    {
      "cell_type": "code",
      "metadata": {
        "tags": [],
        "cell_id": "00055-1e4fa4d7-cc4b-4204-ab0f-930b1b34e615",
        "deepnote_to_be_reexecuted": false,
        "source_hash": "ee5c0f73",
        "execution_millis": 9,
        "execution_start": 1615387192469,
        "deepnote_cell_type": "code"
      },
      "source": "col_names",
      "execution_count": null,
      "outputs": [
        {
          "output_type": "execute_result",
          "execution_count": 118,
          "data": {
            "text/plain": "Index(['age', 'sex', 'trestbps', 'chol', 'fbs', 'thalach', 'exang', 'oldpeak',\n       'cp_0', 'cp_1', 'cp_2', 'cp_3', 'restecg_0', 'restecg_1', 'restecg_2',\n       'slope_0', 'slope_1', 'slope_2', 'ca_0', 'ca_1', 'ca_2', 'ca_3',\n       'ca_4'],\n      dtype='object')"
          },
          "metadata": {}
        }
      ]
    },
    {
      "cell_type": "code",
      "metadata": {
        "tags": [],
        "cell_id": "00056-1625d101-dd23-4b05-868a-bc477f29e36e",
        "deepnote_to_be_reexecuted": false,
        "source_hash": "1c05cc5c",
        "execution_start": 1615304786134,
        "execution_millis": 6,
        "deepnote_cell_type": "code"
      },
      "source": "X_col_names = X_col_names.drop('target')",
      "execution_count": null,
      "outputs": [
        {
          "output_type": "execute_result",
          "execution_count": 121,
          "data": {
            "text/plain": "Index(['age', 'sex', 'trestbps', 'chol', 'fbs', 'thalach', 'exang', 'oldpeak',\n       'target', 'cp_0', 'cp_1', 'cp_2', 'cp_3', 'restecg_0', 'restecg_1',\n       'restecg_2', 'slope_0', 'slope_1', 'slope_2', 'ca_0', 'ca_1', 'ca_2',\n       'ca_3', 'ca_4', 'thal_1', 'thal_2'],\n      dtype='object')"
          },
          "metadata": {}
        }
      ]
    },
    {
      "cell_type": "code",
      "metadata": {
        "tags": [],
        "cell_id": "00058-4424ae29-47f7-4902-abc6-ed18e19655a9",
        "deepnote_to_be_reexecuted": false,
        "source_hash": "26eea902",
        "execution_millis": 8,
        "execution_start": 1615385765489,
        "deepnote_cell_type": "code"
      },
      "source": "X2.columns",
      "execution_count": null,
      "outputs": [
        {
          "output_type": "execute_result",
          "execution_count": 106,
          "data": {
            "text/plain": "Index(['age', 'sex', 'trestbps', 'chol', 'fbs', 'thalach', 'exang', 'oldpeak',\n       'cp_0', 'cp_1', 'cp_2', 'cp_3', 'restecg_0', 'restecg_1', 'restecg_2',\n       'slope_0', 'slope_1', 'slope_2', 'ca_0', 'ca_1', 'ca_2', 'ca_3',\n       'ca_4'],\n      dtype='object')"
          },
          "metadata": {}
        }
      ]
    },
    {
      "cell_type": "code",
      "metadata": {
        "tags": [],
        "cell_id": "00057-aae9a2d6-40c9-4a8b-a5c7-a8fd5e240205",
        "deepnote_to_be_reexecuted": false,
        "source_hash": "8e3c0c43",
        "execution_millis": 18,
        "execution_start": 1615385865502,
        "deepnote_cell_type": "code"
      },
      "source": "binary_cols = ['sex','ca_0','ca_1','ca_2','ca_3','ca_4','fbs','restecg_0','restecg_1','restecg_2','exang','slope_0','slope_1','slope_2', 'cp_0', 'cp_1', 'cp_2', 'cp_3']\ninteger_cols = []\nfor value in X2.columns:\n    if value not in binary_cols:\n        integer_cols.append(value)\n\n",
      "execution_count": null,
      "outputs": [
        {
          "output_type": "execute_result",
          "execution_count": 109,
          "data": {
            "text/plain": "23"
          },
          "metadata": {}
        }
      ]
    },
    {
      "cell_type": "code",
      "metadata": {
        "tags": [],
        "cell_id": "00060-916f234c-0eca-40f7-960e-70b6e4d738a7",
        "deepnote_to_be_reexecuted": false,
        "source_hash": "c19cfbe1",
        "execution_start": 1615387108057,
        "execution_millis": 39,
        "deepnote_cell_type": "code"
      },
      "source": "X2",
      "execution_count": null,
      "outputs": [
        {
          "output_type": "execute_result",
          "execution_count": 116,
          "data": {
            "application/vnd.deepnote.dataframe.v2+json": {
              "row_count": 303,
              "column_count": 23,
              "columns": [
                {
                  "name": "age",
                  "dtype": "int64",
                  "stats": {
                    "unique_count": 41,
                    "nan_count": 0,
                    "min": 29,
                    "max": 77,
                    "histogram": [
                      {
                        "bin_start": 29,
                        "bin_end": 33.8,
                        "count": 1
                      },
                      {
                        "bin_start": 33.8,
                        "bin_end": 38.6,
                        "count": 11
                      },
                      {
                        "bin_start": 38.6,
                        "bin_end": 43.4,
                        "count": 33
                      },
                      {
                        "bin_start": 43.4,
                        "bin_end": 48.2,
                        "count": 38
                      },
                      {
                        "bin_start": 48.2,
                        "bin_end": 53,
                        "count": 37
                      },
                      {
                        "bin_start": 53,
                        "bin_end": 57.8,
                        "count": 60
                      },
                      {
                        "bin_start": 57.8,
                        "bin_end": 62.6,
                        "count": 63
                      },
                      {
                        "bin_start": 62.6,
                        "bin_end": 67.4,
                        "count": 43
                      },
                      {
                        "bin_start": 67.4,
                        "bin_end": 72.19999999999999,
                        "count": 14
                      },
                      {
                        "bin_start": 72.19999999999999,
                        "bin_end": 77,
                        "count": 3
                      }
                    ]
                  }
                },
                {
                  "name": "sex",
                  "dtype": "int64",
                  "stats": {
                    "unique_count": 2,
                    "nan_count": 0,
                    "min": 0,
                    "max": 1,
                    "histogram": [
                      {
                        "bin_start": 0,
                        "bin_end": 0.1,
                        "count": 96
                      },
                      {
                        "bin_start": 0.1,
                        "bin_end": 0.2,
                        "count": 0
                      },
                      {
                        "bin_start": 0.2,
                        "bin_end": 0.30000000000000004,
                        "count": 0
                      },
                      {
                        "bin_start": 0.30000000000000004,
                        "bin_end": 0.4,
                        "count": 0
                      },
                      {
                        "bin_start": 0.4,
                        "bin_end": 0.5,
                        "count": 0
                      },
                      {
                        "bin_start": 0.5,
                        "bin_end": 0.6000000000000001,
                        "count": 0
                      },
                      {
                        "bin_start": 0.6000000000000001,
                        "bin_end": 0.7000000000000001,
                        "count": 0
                      },
                      {
                        "bin_start": 0.7000000000000001,
                        "bin_end": 0.8,
                        "count": 0
                      },
                      {
                        "bin_start": 0.8,
                        "bin_end": 0.9,
                        "count": 0
                      },
                      {
                        "bin_start": 0.9,
                        "bin_end": 1,
                        "count": 207
                      }
                    ]
                  }
                },
                {
                  "name": "trestbps",
                  "dtype": "int64",
                  "stats": {
                    "unique_count": 49,
                    "nan_count": 0,
                    "min": 94,
                    "max": 200,
                    "histogram": [
                      {
                        "bin_start": 94,
                        "bin_end": 104.6,
                        "count": 10
                      },
                      {
                        "bin_start": 104.6,
                        "bin_end": 115.2,
                        "count": 42
                      },
                      {
                        "bin_start": 115.2,
                        "bin_end": 125.8,
                        "count": 67
                      },
                      {
                        "bin_start": 125.8,
                        "bin_end": 136.4,
                        "count": 74
                      },
                      {
                        "bin_start": 136.4,
                        "bin_end": 147,
                        "count": 57
                      },
                      {
                        "bin_start": 147,
                        "bin_end": 157.6,
                        "count": 27
                      },
                      {
                        "bin_start": 157.6,
                        "bin_end": 168.2,
                        "count": 13
                      },
                      {
                        "bin_start": 168.2,
                        "bin_end": 178.8,
                        "count": 8
                      },
                      {
                        "bin_start": 178.8,
                        "bin_end": 189.39999999999998,
                        "count": 3
                      },
                      {
                        "bin_start": 189.39999999999998,
                        "bin_end": 200,
                        "count": 2
                      }
                    ]
                  }
                },
                {
                  "name": "chol",
                  "dtype": "int64",
                  "stats": {
                    "unique_count": 152,
                    "nan_count": 0,
                    "min": 126,
                    "max": 564,
                    "histogram": [
                      {
                        "bin_start": 126,
                        "bin_end": 169.8,
                        "count": 12
                      },
                      {
                        "bin_start": 169.8,
                        "bin_end": 213.6,
                        "count": 73
                      },
                      {
                        "bin_start": 213.6,
                        "bin_end": 257.4,
                        "count": 106
                      },
                      {
                        "bin_start": 257.4,
                        "bin_end": 301.2,
                        "count": 69
                      },
                      {
                        "bin_start": 301.2,
                        "bin_end": 345,
                        "count": 35
                      },
                      {
                        "bin_start": 345,
                        "bin_end": 388.79999999999995,
                        "count": 3
                      },
                      {
                        "bin_start": 388.79999999999995,
                        "bin_end": 432.59999999999997,
                        "count": 4
                      },
                      {
                        "bin_start": 432.59999999999997,
                        "bin_end": 476.4,
                        "count": 0
                      },
                      {
                        "bin_start": 476.4,
                        "bin_end": 520.2,
                        "count": 0
                      },
                      {
                        "bin_start": 520.2,
                        "bin_end": 564,
                        "count": 1
                      }
                    ]
                  }
                },
                {
                  "name": "fbs",
                  "dtype": "int64",
                  "stats": {
                    "unique_count": 2,
                    "nan_count": 0,
                    "min": 0,
                    "max": 1,
                    "histogram": [
                      {
                        "bin_start": 0,
                        "bin_end": 0.1,
                        "count": 258
                      },
                      {
                        "bin_start": 0.1,
                        "bin_end": 0.2,
                        "count": 0
                      },
                      {
                        "bin_start": 0.2,
                        "bin_end": 0.30000000000000004,
                        "count": 0
                      },
                      {
                        "bin_start": 0.30000000000000004,
                        "bin_end": 0.4,
                        "count": 0
                      },
                      {
                        "bin_start": 0.4,
                        "bin_end": 0.5,
                        "count": 0
                      },
                      {
                        "bin_start": 0.5,
                        "bin_end": 0.6000000000000001,
                        "count": 0
                      },
                      {
                        "bin_start": 0.6000000000000001,
                        "bin_end": 0.7000000000000001,
                        "count": 0
                      },
                      {
                        "bin_start": 0.7000000000000001,
                        "bin_end": 0.8,
                        "count": 0
                      },
                      {
                        "bin_start": 0.8,
                        "bin_end": 0.9,
                        "count": 0
                      },
                      {
                        "bin_start": 0.9,
                        "bin_end": 1,
                        "count": 45
                      }
                    ]
                  }
                },
                {
                  "name": "thalach",
                  "dtype": "int64",
                  "stats": {
                    "unique_count": 91,
                    "nan_count": 0,
                    "min": 71,
                    "max": 202,
                    "histogram": [
                      {
                        "bin_start": 71,
                        "bin_end": 84.1,
                        "count": 1
                      },
                      {
                        "bin_start": 84.1,
                        "bin_end": 97.2,
                        "count": 6
                      },
                      {
                        "bin_start": 97.2,
                        "bin_end": 110.3,
                        "count": 11
                      },
                      {
                        "bin_start": 110.3,
                        "bin_end": 123.4,
                        "count": 26
                      },
                      {
                        "bin_start": 123.4,
                        "bin_end": 136.5,
                        "count": 35
                      },
                      {
                        "bin_start": 136.5,
                        "bin_end": 149.6,
                        "count": 53
                      },
                      {
                        "bin_start": 149.6,
                        "bin_end": 162.7,
                        "count": 77
                      },
                      {
                        "bin_start": 162.7,
                        "bin_end": 175.8,
                        "count": 63
                      },
                      {
                        "bin_start": 175.8,
                        "bin_end": 188.89999999999998,
                        "count": 26
                      },
                      {
                        "bin_start": 188.89999999999998,
                        "bin_end": 202,
                        "count": 5
                      }
                    ]
                  }
                },
                {
                  "name": "exang",
                  "dtype": "int64",
                  "stats": {
                    "unique_count": 2,
                    "nan_count": 0,
                    "min": 0,
                    "max": 1,
                    "histogram": [
                      {
                        "bin_start": 0,
                        "bin_end": 0.1,
                        "count": 204
                      },
                      {
                        "bin_start": 0.1,
                        "bin_end": 0.2,
                        "count": 0
                      },
                      {
                        "bin_start": 0.2,
                        "bin_end": 0.30000000000000004,
                        "count": 0
                      },
                      {
                        "bin_start": 0.30000000000000004,
                        "bin_end": 0.4,
                        "count": 0
                      },
                      {
                        "bin_start": 0.4,
                        "bin_end": 0.5,
                        "count": 0
                      },
                      {
                        "bin_start": 0.5,
                        "bin_end": 0.6000000000000001,
                        "count": 0
                      },
                      {
                        "bin_start": 0.6000000000000001,
                        "bin_end": 0.7000000000000001,
                        "count": 0
                      },
                      {
                        "bin_start": 0.7000000000000001,
                        "bin_end": 0.8,
                        "count": 0
                      },
                      {
                        "bin_start": 0.8,
                        "bin_end": 0.9,
                        "count": 0
                      },
                      {
                        "bin_start": 0.9,
                        "bin_end": 1,
                        "count": 99
                      }
                    ]
                  }
                },
                {
                  "name": "oldpeak",
                  "dtype": "float64",
                  "stats": {
                    "unique_count": 40,
                    "nan_count": 0,
                    "min": 0,
                    "max": 6.2,
                    "histogram": [
                      {
                        "bin_start": 0,
                        "bin_end": 0.62,
                        "count": 149
                      },
                      {
                        "bin_start": 0.62,
                        "bin_end": 1.24,
                        "count": 50
                      },
                      {
                        "bin_start": 1.24,
                        "bin_end": 1.8599999999999999,
                        "count": 40
                      },
                      {
                        "bin_start": 1.8599999999999999,
                        "bin_end": 2.48,
                        "count": 24
                      },
                      {
                        "bin_start": 2.48,
                        "bin_end": 3.1,
                        "count": 20
                      },
                      {
                        "bin_start": 3.1,
                        "bin_end": 3.7199999999999998,
                        "count": 11
                      },
                      {
                        "bin_start": 3.7199999999999998,
                        "bin_end": 4.34,
                        "count": 6
                      },
                      {
                        "bin_start": 4.34,
                        "bin_end": 4.96,
                        "count": 1
                      },
                      {
                        "bin_start": 4.96,
                        "bin_end": 5.58,
                        "count": 0
                      },
                      {
                        "bin_start": 5.58,
                        "bin_end": 6.2,
                        "count": 2
                      }
                    ]
                  }
                },
                {
                  "name": "cp_0",
                  "dtype": "uint8",
                  "stats": {
                    "unique_count": 2,
                    "nan_count": 0,
                    "min": 0,
                    "max": 1,
                    "histogram": [
                      {
                        "bin_start": 0,
                        "bin_end": 0.1,
                        "count": 160
                      },
                      {
                        "bin_start": 0.1,
                        "bin_end": 0.2,
                        "count": 0
                      },
                      {
                        "bin_start": 0.2,
                        "bin_end": 0.30000000000000004,
                        "count": 0
                      },
                      {
                        "bin_start": 0.30000000000000004,
                        "bin_end": 0.4,
                        "count": 0
                      },
                      {
                        "bin_start": 0.4,
                        "bin_end": 0.5,
                        "count": 0
                      },
                      {
                        "bin_start": 0.5,
                        "bin_end": 0.6000000000000001,
                        "count": 0
                      },
                      {
                        "bin_start": 0.6000000000000001,
                        "bin_end": 0.7000000000000001,
                        "count": 0
                      },
                      {
                        "bin_start": 0.7000000000000001,
                        "bin_end": 0.8,
                        "count": 0
                      },
                      {
                        "bin_start": 0.8,
                        "bin_end": 0.9,
                        "count": 0
                      },
                      {
                        "bin_start": 0.9,
                        "bin_end": 1,
                        "count": 143
                      }
                    ]
                  }
                },
                {
                  "name": "cp_1",
                  "dtype": "uint8",
                  "stats": {
                    "unique_count": 2,
                    "nan_count": 0,
                    "min": 0,
                    "max": 1,
                    "histogram": [
                      {
                        "bin_start": 0,
                        "bin_end": 0.1,
                        "count": 253
                      },
                      {
                        "bin_start": 0.1,
                        "bin_end": 0.2,
                        "count": 0
                      },
                      {
                        "bin_start": 0.2,
                        "bin_end": 0.30000000000000004,
                        "count": 0
                      },
                      {
                        "bin_start": 0.30000000000000004,
                        "bin_end": 0.4,
                        "count": 0
                      },
                      {
                        "bin_start": 0.4,
                        "bin_end": 0.5,
                        "count": 0
                      },
                      {
                        "bin_start": 0.5,
                        "bin_end": 0.6000000000000001,
                        "count": 0
                      },
                      {
                        "bin_start": 0.6000000000000001,
                        "bin_end": 0.7000000000000001,
                        "count": 0
                      },
                      {
                        "bin_start": 0.7000000000000001,
                        "bin_end": 0.8,
                        "count": 0
                      },
                      {
                        "bin_start": 0.8,
                        "bin_end": 0.9,
                        "count": 0
                      },
                      {
                        "bin_start": 0.9,
                        "bin_end": 1,
                        "count": 50
                      }
                    ]
                  }
                },
                {
                  "name": "cp_2",
                  "dtype": "uint8",
                  "stats": {
                    "unique_count": 2,
                    "nan_count": 0,
                    "min": 0,
                    "max": 1,
                    "histogram": [
                      {
                        "bin_start": 0,
                        "bin_end": 0.1,
                        "count": 216
                      },
                      {
                        "bin_start": 0.1,
                        "bin_end": 0.2,
                        "count": 0
                      },
                      {
                        "bin_start": 0.2,
                        "bin_end": 0.30000000000000004,
                        "count": 0
                      },
                      {
                        "bin_start": 0.30000000000000004,
                        "bin_end": 0.4,
                        "count": 0
                      },
                      {
                        "bin_start": 0.4,
                        "bin_end": 0.5,
                        "count": 0
                      },
                      {
                        "bin_start": 0.5,
                        "bin_end": 0.6000000000000001,
                        "count": 0
                      },
                      {
                        "bin_start": 0.6000000000000001,
                        "bin_end": 0.7000000000000001,
                        "count": 0
                      },
                      {
                        "bin_start": 0.7000000000000001,
                        "bin_end": 0.8,
                        "count": 0
                      },
                      {
                        "bin_start": 0.8,
                        "bin_end": 0.9,
                        "count": 0
                      },
                      {
                        "bin_start": 0.9,
                        "bin_end": 1,
                        "count": 87
                      }
                    ]
                  }
                },
                {
                  "name": "cp_3",
                  "dtype": "uint8",
                  "stats": {
                    "unique_count": 2,
                    "nan_count": 0,
                    "min": 0,
                    "max": 1,
                    "histogram": [
                      {
                        "bin_start": 0,
                        "bin_end": 0.1,
                        "count": 280
                      },
                      {
                        "bin_start": 0.1,
                        "bin_end": 0.2,
                        "count": 0
                      },
                      {
                        "bin_start": 0.2,
                        "bin_end": 0.30000000000000004,
                        "count": 0
                      },
                      {
                        "bin_start": 0.30000000000000004,
                        "bin_end": 0.4,
                        "count": 0
                      },
                      {
                        "bin_start": 0.4,
                        "bin_end": 0.5,
                        "count": 0
                      },
                      {
                        "bin_start": 0.5,
                        "bin_end": 0.6000000000000001,
                        "count": 0
                      },
                      {
                        "bin_start": 0.6000000000000001,
                        "bin_end": 0.7000000000000001,
                        "count": 0
                      },
                      {
                        "bin_start": 0.7000000000000001,
                        "bin_end": 0.8,
                        "count": 0
                      },
                      {
                        "bin_start": 0.8,
                        "bin_end": 0.9,
                        "count": 0
                      },
                      {
                        "bin_start": 0.9,
                        "bin_end": 1,
                        "count": 23
                      }
                    ]
                  }
                },
                {
                  "name": "restecg_0",
                  "dtype": "uint8",
                  "stats": {
                    "unique_count": 2,
                    "nan_count": 0,
                    "min": 0,
                    "max": 1,
                    "histogram": [
                      {
                        "bin_start": 0,
                        "bin_end": 0.1,
                        "count": 156
                      },
                      {
                        "bin_start": 0.1,
                        "bin_end": 0.2,
                        "count": 0
                      },
                      {
                        "bin_start": 0.2,
                        "bin_end": 0.30000000000000004,
                        "count": 0
                      },
                      {
                        "bin_start": 0.30000000000000004,
                        "bin_end": 0.4,
                        "count": 0
                      },
                      {
                        "bin_start": 0.4,
                        "bin_end": 0.5,
                        "count": 0
                      },
                      {
                        "bin_start": 0.5,
                        "bin_end": 0.6000000000000001,
                        "count": 0
                      },
                      {
                        "bin_start": 0.6000000000000001,
                        "bin_end": 0.7000000000000001,
                        "count": 0
                      },
                      {
                        "bin_start": 0.7000000000000001,
                        "bin_end": 0.8,
                        "count": 0
                      },
                      {
                        "bin_start": 0.8,
                        "bin_end": 0.9,
                        "count": 0
                      },
                      {
                        "bin_start": 0.9,
                        "bin_end": 1,
                        "count": 147
                      }
                    ]
                  }
                },
                {
                  "name": "restecg_1",
                  "dtype": "uint8",
                  "stats": {
                    "unique_count": 2,
                    "nan_count": 0,
                    "min": 0,
                    "max": 1,
                    "histogram": [
                      {
                        "bin_start": 0,
                        "bin_end": 0.1,
                        "count": 151
                      },
                      {
                        "bin_start": 0.1,
                        "bin_end": 0.2,
                        "count": 0
                      },
                      {
                        "bin_start": 0.2,
                        "bin_end": 0.30000000000000004,
                        "count": 0
                      },
                      {
                        "bin_start": 0.30000000000000004,
                        "bin_end": 0.4,
                        "count": 0
                      },
                      {
                        "bin_start": 0.4,
                        "bin_end": 0.5,
                        "count": 0
                      },
                      {
                        "bin_start": 0.5,
                        "bin_end": 0.6000000000000001,
                        "count": 0
                      },
                      {
                        "bin_start": 0.6000000000000001,
                        "bin_end": 0.7000000000000001,
                        "count": 0
                      },
                      {
                        "bin_start": 0.7000000000000001,
                        "bin_end": 0.8,
                        "count": 0
                      },
                      {
                        "bin_start": 0.8,
                        "bin_end": 0.9,
                        "count": 0
                      },
                      {
                        "bin_start": 0.9,
                        "bin_end": 1,
                        "count": 152
                      }
                    ]
                  }
                },
                {
                  "name": "restecg_2",
                  "dtype": "uint8",
                  "stats": {
                    "unique_count": 2,
                    "nan_count": 0,
                    "min": 0,
                    "max": 1,
                    "histogram": [
                      {
                        "bin_start": 0,
                        "bin_end": 0.1,
                        "count": 299
                      },
                      {
                        "bin_start": 0.1,
                        "bin_end": 0.2,
                        "count": 0
                      },
                      {
                        "bin_start": 0.2,
                        "bin_end": 0.30000000000000004,
                        "count": 0
                      },
                      {
                        "bin_start": 0.30000000000000004,
                        "bin_end": 0.4,
                        "count": 0
                      },
                      {
                        "bin_start": 0.4,
                        "bin_end": 0.5,
                        "count": 0
                      },
                      {
                        "bin_start": 0.5,
                        "bin_end": 0.6000000000000001,
                        "count": 0
                      },
                      {
                        "bin_start": 0.6000000000000001,
                        "bin_end": 0.7000000000000001,
                        "count": 0
                      },
                      {
                        "bin_start": 0.7000000000000001,
                        "bin_end": 0.8,
                        "count": 0
                      },
                      {
                        "bin_start": 0.8,
                        "bin_end": 0.9,
                        "count": 0
                      },
                      {
                        "bin_start": 0.9,
                        "bin_end": 1,
                        "count": 4
                      }
                    ]
                  }
                },
                {
                  "name": "slope_0",
                  "dtype": "uint8",
                  "stats": {
                    "unique_count": 2,
                    "nan_count": 0,
                    "min": 0,
                    "max": 1,
                    "histogram": [
                      {
                        "bin_start": 0,
                        "bin_end": 0.1,
                        "count": 282
                      },
                      {
                        "bin_start": 0.1,
                        "bin_end": 0.2,
                        "count": 0
                      },
                      {
                        "bin_start": 0.2,
                        "bin_end": 0.30000000000000004,
                        "count": 0
                      },
                      {
                        "bin_start": 0.30000000000000004,
                        "bin_end": 0.4,
                        "count": 0
                      },
                      {
                        "bin_start": 0.4,
                        "bin_end": 0.5,
                        "count": 0
                      },
                      {
                        "bin_start": 0.5,
                        "bin_end": 0.6000000000000001,
                        "count": 0
                      },
                      {
                        "bin_start": 0.6000000000000001,
                        "bin_end": 0.7000000000000001,
                        "count": 0
                      },
                      {
                        "bin_start": 0.7000000000000001,
                        "bin_end": 0.8,
                        "count": 0
                      },
                      {
                        "bin_start": 0.8,
                        "bin_end": 0.9,
                        "count": 0
                      },
                      {
                        "bin_start": 0.9,
                        "bin_end": 1,
                        "count": 21
                      }
                    ]
                  }
                },
                {
                  "name": "slope_1",
                  "dtype": "uint8",
                  "stats": {
                    "unique_count": 2,
                    "nan_count": 0,
                    "min": 0,
                    "max": 1,
                    "histogram": [
                      {
                        "bin_start": 0,
                        "bin_end": 0.1,
                        "count": 163
                      },
                      {
                        "bin_start": 0.1,
                        "bin_end": 0.2,
                        "count": 0
                      },
                      {
                        "bin_start": 0.2,
                        "bin_end": 0.30000000000000004,
                        "count": 0
                      },
                      {
                        "bin_start": 0.30000000000000004,
                        "bin_end": 0.4,
                        "count": 0
                      },
                      {
                        "bin_start": 0.4,
                        "bin_end": 0.5,
                        "count": 0
                      },
                      {
                        "bin_start": 0.5,
                        "bin_end": 0.6000000000000001,
                        "count": 0
                      },
                      {
                        "bin_start": 0.6000000000000001,
                        "bin_end": 0.7000000000000001,
                        "count": 0
                      },
                      {
                        "bin_start": 0.7000000000000001,
                        "bin_end": 0.8,
                        "count": 0
                      },
                      {
                        "bin_start": 0.8,
                        "bin_end": 0.9,
                        "count": 0
                      },
                      {
                        "bin_start": 0.9,
                        "bin_end": 1,
                        "count": 140
                      }
                    ]
                  }
                },
                {
                  "name": "slope_2",
                  "dtype": "uint8",
                  "stats": {
                    "unique_count": 2,
                    "nan_count": 0,
                    "min": 0,
                    "max": 1,
                    "histogram": [
                      {
                        "bin_start": 0,
                        "bin_end": 0.1,
                        "count": 161
                      },
                      {
                        "bin_start": 0.1,
                        "bin_end": 0.2,
                        "count": 0
                      },
                      {
                        "bin_start": 0.2,
                        "bin_end": 0.30000000000000004,
                        "count": 0
                      },
                      {
                        "bin_start": 0.30000000000000004,
                        "bin_end": 0.4,
                        "count": 0
                      },
                      {
                        "bin_start": 0.4,
                        "bin_end": 0.5,
                        "count": 0
                      },
                      {
                        "bin_start": 0.5,
                        "bin_end": 0.6000000000000001,
                        "count": 0
                      },
                      {
                        "bin_start": 0.6000000000000001,
                        "bin_end": 0.7000000000000001,
                        "count": 0
                      },
                      {
                        "bin_start": 0.7000000000000001,
                        "bin_end": 0.8,
                        "count": 0
                      },
                      {
                        "bin_start": 0.8,
                        "bin_end": 0.9,
                        "count": 0
                      },
                      {
                        "bin_start": 0.9,
                        "bin_end": 1,
                        "count": 142
                      }
                    ]
                  }
                },
                {
                  "name": "ca_0",
                  "dtype": "uint8",
                  "stats": {
                    "unique_count": 2,
                    "nan_count": 0,
                    "min": 0,
                    "max": 1,
                    "histogram": [
                      {
                        "bin_start": 0,
                        "bin_end": 0.1,
                        "count": 128
                      },
                      {
                        "bin_start": 0.1,
                        "bin_end": 0.2,
                        "count": 0
                      },
                      {
                        "bin_start": 0.2,
                        "bin_end": 0.30000000000000004,
                        "count": 0
                      },
                      {
                        "bin_start": 0.30000000000000004,
                        "bin_end": 0.4,
                        "count": 0
                      },
                      {
                        "bin_start": 0.4,
                        "bin_end": 0.5,
                        "count": 0
                      },
                      {
                        "bin_start": 0.5,
                        "bin_end": 0.6000000000000001,
                        "count": 0
                      },
                      {
                        "bin_start": 0.6000000000000001,
                        "bin_end": 0.7000000000000001,
                        "count": 0
                      },
                      {
                        "bin_start": 0.7000000000000001,
                        "bin_end": 0.8,
                        "count": 0
                      },
                      {
                        "bin_start": 0.8,
                        "bin_end": 0.9,
                        "count": 0
                      },
                      {
                        "bin_start": 0.9,
                        "bin_end": 1,
                        "count": 175
                      }
                    ]
                  }
                },
                {
                  "name": "ca_1",
                  "dtype": "uint8",
                  "stats": {
                    "unique_count": 2,
                    "nan_count": 0,
                    "min": 0,
                    "max": 1,
                    "histogram": [
                      {
                        "bin_start": 0,
                        "bin_end": 0.1,
                        "count": 238
                      },
                      {
                        "bin_start": 0.1,
                        "bin_end": 0.2,
                        "count": 0
                      },
                      {
                        "bin_start": 0.2,
                        "bin_end": 0.30000000000000004,
                        "count": 0
                      },
                      {
                        "bin_start": 0.30000000000000004,
                        "bin_end": 0.4,
                        "count": 0
                      },
                      {
                        "bin_start": 0.4,
                        "bin_end": 0.5,
                        "count": 0
                      },
                      {
                        "bin_start": 0.5,
                        "bin_end": 0.6000000000000001,
                        "count": 0
                      },
                      {
                        "bin_start": 0.6000000000000001,
                        "bin_end": 0.7000000000000001,
                        "count": 0
                      },
                      {
                        "bin_start": 0.7000000000000001,
                        "bin_end": 0.8,
                        "count": 0
                      },
                      {
                        "bin_start": 0.8,
                        "bin_end": 0.9,
                        "count": 0
                      },
                      {
                        "bin_start": 0.9,
                        "bin_end": 1,
                        "count": 65
                      }
                    ]
                  }
                },
                {
                  "name": "ca_2",
                  "dtype": "uint8",
                  "stats": {
                    "unique_count": 2,
                    "nan_count": 0,
                    "min": 0,
                    "max": 1,
                    "histogram": [
                      {
                        "bin_start": 0,
                        "bin_end": 0.1,
                        "count": 265
                      },
                      {
                        "bin_start": 0.1,
                        "bin_end": 0.2,
                        "count": 0
                      },
                      {
                        "bin_start": 0.2,
                        "bin_end": 0.30000000000000004,
                        "count": 0
                      },
                      {
                        "bin_start": 0.30000000000000004,
                        "bin_end": 0.4,
                        "count": 0
                      },
                      {
                        "bin_start": 0.4,
                        "bin_end": 0.5,
                        "count": 0
                      },
                      {
                        "bin_start": 0.5,
                        "bin_end": 0.6000000000000001,
                        "count": 0
                      },
                      {
                        "bin_start": 0.6000000000000001,
                        "bin_end": 0.7000000000000001,
                        "count": 0
                      },
                      {
                        "bin_start": 0.7000000000000001,
                        "bin_end": 0.8,
                        "count": 0
                      },
                      {
                        "bin_start": 0.8,
                        "bin_end": 0.9,
                        "count": 0
                      },
                      {
                        "bin_start": 0.9,
                        "bin_end": 1,
                        "count": 38
                      }
                    ]
                  }
                },
                {
                  "name": "ca_3",
                  "dtype": "uint8",
                  "stats": {
                    "unique_count": 2,
                    "nan_count": 0,
                    "min": 0,
                    "max": 1,
                    "histogram": [
                      {
                        "bin_start": 0,
                        "bin_end": 0.1,
                        "count": 283
                      },
                      {
                        "bin_start": 0.1,
                        "bin_end": 0.2,
                        "count": 0
                      },
                      {
                        "bin_start": 0.2,
                        "bin_end": 0.30000000000000004,
                        "count": 0
                      },
                      {
                        "bin_start": 0.30000000000000004,
                        "bin_end": 0.4,
                        "count": 0
                      },
                      {
                        "bin_start": 0.4,
                        "bin_end": 0.5,
                        "count": 0
                      },
                      {
                        "bin_start": 0.5,
                        "bin_end": 0.6000000000000001,
                        "count": 0
                      },
                      {
                        "bin_start": 0.6000000000000001,
                        "bin_end": 0.7000000000000001,
                        "count": 0
                      },
                      {
                        "bin_start": 0.7000000000000001,
                        "bin_end": 0.8,
                        "count": 0
                      },
                      {
                        "bin_start": 0.8,
                        "bin_end": 0.9,
                        "count": 0
                      },
                      {
                        "bin_start": 0.9,
                        "bin_end": 1,
                        "count": 20
                      }
                    ]
                  }
                },
                {
                  "name": "ca_4",
                  "dtype": "uint8",
                  "stats": {
                    "unique_count": 2,
                    "nan_count": 0,
                    "min": 0,
                    "max": 1,
                    "histogram": [
                      {
                        "bin_start": 0,
                        "bin_end": 0.1,
                        "count": 298
                      },
                      {
                        "bin_start": 0.1,
                        "bin_end": 0.2,
                        "count": 0
                      },
                      {
                        "bin_start": 0.2,
                        "bin_end": 0.30000000000000004,
                        "count": 0
                      },
                      {
                        "bin_start": 0.30000000000000004,
                        "bin_end": 0.4,
                        "count": 0
                      },
                      {
                        "bin_start": 0.4,
                        "bin_end": 0.5,
                        "count": 0
                      },
                      {
                        "bin_start": 0.5,
                        "bin_end": 0.6000000000000001,
                        "count": 0
                      },
                      {
                        "bin_start": 0.6000000000000001,
                        "bin_end": 0.7000000000000001,
                        "count": 0
                      },
                      {
                        "bin_start": 0.7000000000000001,
                        "bin_end": 0.8,
                        "count": 0
                      },
                      {
                        "bin_start": 0.8,
                        "bin_end": 0.9,
                        "count": 0
                      },
                      {
                        "bin_start": 0.9,
                        "bin_end": 1,
                        "count": 5
                      }
                    ]
                  }
                },
                {
                  "name": "_deepnote_index_column",
                  "dtype": "int64"
                }
              ],
              "rows_top": [
                {
                  "age": 63,
                  "sex": 1,
                  "trestbps": 145,
                  "chol": 233,
                  "fbs": 1,
                  "thalach": 150,
                  "exang": 0,
                  "oldpeak": 2.3,
                  "cp_0": 0,
                  "cp_1": 0,
                  "cp_2": 0,
                  "cp_3": 1,
                  "restecg_0": 1,
                  "restecg_1": 0,
                  "restecg_2": 0,
                  "slope_0": 1,
                  "slope_1": 0,
                  "slope_2": 0,
                  "ca_0": 1,
                  "ca_1": 0,
                  "ca_2": 0,
                  "ca_3": 0,
                  "ca_4": 0,
                  "_deepnote_index_column": 0
                },
                {
                  "age": 37,
                  "sex": 1,
                  "trestbps": 130,
                  "chol": 250,
                  "fbs": 0,
                  "thalach": 187,
                  "exang": 0,
                  "oldpeak": 3.5,
                  "cp_0": 0,
                  "cp_1": 0,
                  "cp_2": 1,
                  "cp_3": 0,
                  "restecg_0": 0,
                  "restecg_1": 1,
                  "restecg_2": 0,
                  "slope_0": 1,
                  "slope_1": 0,
                  "slope_2": 0,
                  "ca_0": 1,
                  "ca_1": 0,
                  "ca_2": 0,
                  "ca_3": 0,
                  "ca_4": 0,
                  "_deepnote_index_column": 1
                },
                {
                  "age": 41,
                  "sex": 0,
                  "trestbps": 130,
                  "chol": 204,
                  "fbs": 0,
                  "thalach": 172,
                  "exang": 0,
                  "oldpeak": 1.4,
                  "cp_0": 0,
                  "cp_1": 1,
                  "cp_2": 0,
                  "cp_3": 0,
                  "restecg_0": 1,
                  "restecg_1": 0,
                  "restecg_2": 0,
                  "slope_0": 0,
                  "slope_1": 0,
                  "slope_2": 1,
                  "ca_0": 1,
                  "ca_1": 0,
                  "ca_2": 0,
                  "ca_3": 0,
                  "ca_4": 0,
                  "_deepnote_index_column": 2
                },
                {
                  "age": 56,
                  "sex": 1,
                  "trestbps": 120,
                  "chol": 236,
                  "fbs": 0,
                  "thalach": 178,
                  "exang": 0,
                  "oldpeak": 0.8,
                  "cp_0": 0,
                  "cp_1": 1,
                  "cp_2": 0,
                  "cp_3": 0,
                  "restecg_0": 0,
                  "restecg_1": 1,
                  "restecg_2": 0,
                  "slope_0": 0,
                  "slope_1": 0,
                  "slope_2": 1,
                  "ca_0": 1,
                  "ca_1": 0,
                  "ca_2": 0,
                  "ca_3": 0,
                  "ca_4": 0,
                  "_deepnote_index_column": 3
                },
                {
                  "age": 57,
                  "sex": 0,
                  "trestbps": 120,
                  "chol": 354,
                  "fbs": 0,
                  "thalach": 163,
                  "exang": 1,
                  "oldpeak": 0.6,
                  "cp_0": 1,
                  "cp_1": 0,
                  "cp_2": 0,
                  "cp_3": 0,
                  "restecg_0": 0,
                  "restecg_1": 1,
                  "restecg_2": 0,
                  "slope_0": 0,
                  "slope_1": 0,
                  "slope_2": 1,
                  "ca_0": 1,
                  "ca_1": 0,
                  "ca_2": 0,
                  "ca_3": 0,
                  "ca_4": 0,
                  "_deepnote_index_column": 4
                },
                {
                  "age": 57,
                  "sex": 1,
                  "trestbps": 140,
                  "chol": 192,
                  "fbs": 0,
                  "thalach": 148,
                  "exang": 0,
                  "oldpeak": 0.4,
                  "cp_0": 1,
                  "cp_1": 0,
                  "cp_2": 0,
                  "cp_3": 0,
                  "restecg_0": 0,
                  "restecg_1": 1,
                  "restecg_2": 0,
                  "slope_0": 0,
                  "slope_1": 1,
                  "slope_2": 0,
                  "ca_0": 1,
                  "ca_1": 0,
                  "ca_2": 0,
                  "ca_3": 0,
                  "ca_4": 0,
                  "_deepnote_index_column": 5
                },
                {
                  "age": 56,
                  "sex": 0,
                  "trestbps": 140,
                  "chol": 294,
                  "fbs": 0,
                  "thalach": 153,
                  "exang": 0,
                  "oldpeak": 1.3,
                  "cp_0": 0,
                  "cp_1": 1,
                  "cp_2": 0,
                  "cp_3": 0,
                  "restecg_0": 1,
                  "restecg_1": 0,
                  "restecg_2": 0,
                  "slope_0": 0,
                  "slope_1": 1,
                  "slope_2": 0,
                  "ca_0": 1,
                  "ca_1": 0,
                  "ca_2": 0,
                  "ca_3": 0,
                  "ca_4": 0,
                  "_deepnote_index_column": 6
                },
                {
                  "age": 44,
                  "sex": 1,
                  "trestbps": 120,
                  "chol": 263,
                  "fbs": 0,
                  "thalach": 173,
                  "exang": 0,
                  "oldpeak": 0,
                  "cp_0": 0,
                  "cp_1": 1,
                  "cp_2": 0,
                  "cp_3": 0,
                  "restecg_0": 0,
                  "restecg_1": 1,
                  "restecg_2": 0,
                  "slope_0": 0,
                  "slope_1": 0,
                  "slope_2": 1,
                  "ca_0": 1,
                  "ca_1": 0,
                  "ca_2": 0,
                  "ca_3": 0,
                  "ca_4": 0,
                  "_deepnote_index_column": 7
                },
                {
                  "age": 52,
                  "sex": 1,
                  "trestbps": 172,
                  "chol": 199,
                  "fbs": 1,
                  "thalach": 162,
                  "exang": 0,
                  "oldpeak": 0.5,
                  "cp_0": 0,
                  "cp_1": 0,
                  "cp_2": 1,
                  "cp_3": 0,
                  "restecg_0": 0,
                  "restecg_1": 1,
                  "restecg_2": 0,
                  "slope_0": 0,
                  "slope_1": 0,
                  "slope_2": 1,
                  "ca_0": 1,
                  "ca_1": 0,
                  "ca_2": 0,
                  "ca_3": 0,
                  "ca_4": 0,
                  "_deepnote_index_column": 8
                },
                {
                  "age": 57,
                  "sex": 1,
                  "trestbps": 150,
                  "chol": 168,
                  "fbs": 0,
                  "thalach": 174,
                  "exang": 0,
                  "oldpeak": 1.6,
                  "cp_0": 0,
                  "cp_1": 0,
                  "cp_2": 1,
                  "cp_3": 0,
                  "restecg_0": 0,
                  "restecg_1": 1,
                  "restecg_2": 0,
                  "slope_0": 0,
                  "slope_1": 0,
                  "slope_2": 1,
                  "ca_0": 1,
                  "ca_1": 0,
                  "ca_2": 0,
                  "ca_3": 0,
                  "ca_4": 0,
                  "_deepnote_index_column": 9
                },
                {
                  "age": 54,
                  "sex": 1,
                  "trestbps": 140,
                  "chol": 239,
                  "fbs": 0,
                  "thalach": 160,
                  "exang": 0,
                  "oldpeak": 1.2,
                  "cp_0": 1,
                  "cp_1": 0,
                  "cp_2": 0,
                  "cp_3": 0,
                  "restecg_0": 0,
                  "restecg_1": 1,
                  "restecg_2": 0,
                  "slope_0": 0,
                  "slope_1": 0,
                  "slope_2": 1,
                  "ca_0": 1,
                  "ca_1": 0,
                  "ca_2": 0,
                  "ca_3": 0,
                  "ca_4": 0,
                  "_deepnote_index_column": 10
                },
                {
                  "age": 48,
                  "sex": 0,
                  "trestbps": 130,
                  "chol": 275,
                  "fbs": 0,
                  "thalach": 139,
                  "exang": 0,
                  "oldpeak": 0.2,
                  "cp_0": 0,
                  "cp_1": 0,
                  "cp_2": 1,
                  "cp_3": 0,
                  "restecg_0": 0,
                  "restecg_1": 1,
                  "restecg_2": 0,
                  "slope_0": 0,
                  "slope_1": 0,
                  "slope_2": 1,
                  "ca_0": 1,
                  "ca_1": 0,
                  "ca_2": 0,
                  "ca_3": 0,
                  "ca_4": 0,
                  "_deepnote_index_column": 11
                },
                {
                  "age": 49,
                  "sex": 1,
                  "trestbps": 130,
                  "chol": 266,
                  "fbs": 0,
                  "thalach": 171,
                  "exang": 0,
                  "oldpeak": 0.6,
                  "cp_0": 0,
                  "cp_1": 1,
                  "cp_2": 0,
                  "cp_3": 0,
                  "restecg_0": 0,
                  "restecg_1": 1,
                  "restecg_2": 0,
                  "slope_0": 0,
                  "slope_1": 0,
                  "slope_2": 1,
                  "ca_0": 1,
                  "ca_1": 0,
                  "ca_2": 0,
                  "ca_3": 0,
                  "ca_4": 0,
                  "_deepnote_index_column": 12
                },
                {
                  "age": 64,
                  "sex": 1,
                  "trestbps": 110,
                  "chol": 211,
                  "fbs": 0,
                  "thalach": 144,
                  "exang": 1,
                  "oldpeak": 1.8,
                  "cp_0": 0,
                  "cp_1": 0,
                  "cp_2": 0,
                  "cp_3": 1,
                  "restecg_0": 1,
                  "restecg_1": 0,
                  "restecg_2": 0,
                  "slope_0": 0,
                  "slope_1": 1,
                  "slope_2": 0,
                  "ca_0": 1,
                  "ca_1": 0,
                  "ca_2": 0,
                  "ca_3": 0,
                  "ca_4": 0,
                  "_deepnote_index_column": 13
                },
                {
                  "age": 58,
                  "sex": 0,
                  "trestbps": 150,
                  "chol": 283,
                  "fbs": 1,
                  "thalach": 162,
                  "exang": 0,
                  "oldpeak": 1,
                  "cp_0": 0,
                  "cp_1": 0,
                  "cp_2": 0,
                  "cp_3": 1,
                  "restecg_0": 1,
                  "restecg_1": 0,
                  "restecg_2": 0,
                  "slope_0": 0,
                  "slope_1": 0,
                  "slope_2": 1,
                  "ca_0": 1,
                  "ca_1": 0,
                  "ca_2": 0,
                  "ca_3": 0,
                  "ca_4": 0,
                  "_deepnote_index_column": 14
                },
                {
                  "age": 50,
                  "sex": 0,
                  "trestbps": 120,
                  "chol": 219,
                  "fbs": 0,
                  "thalach": 158,
                  "exang": 0,
                  "oldpeak": 1.6,
                  "cp_0": 0,
                  "cp_1": 0,
                  "cp_2": 1,
                  "cp_3": 0,
                  "restecg_0": 0,
                  "restecg_1": 1,
                  "restecg_2": 0,
                  "slope_0": 0,
                  "slope_1": 1,
                  "slope_2": 0,
                  "ca_0": 1,
                  "ca_1": 0,
                  "ca_2": 0,
                  "ca_3": 0,
                  "ca_4": 0,
                  "_deepnote_index_column": 15
                },
                {
                  "age": 58,
                  "sex": 0,
                  "trestbps": 120,
                  "chol": 340,
                  "fbs": 0,
                  "thalach": 172,
                  "exang": 0,
                  "oldpeak": 0,
                  "cp_0": 0,
                  "cp_1": 0,
                  "cp_2": 1,
                  "cp_3": 0,
                  "restecg_0": 0,
                  "restecg_1": 1,
                  "restecg_2": 0,
                  "slope_0": 0,
                  "slope_1": 0,
                  "slope_2": 1,
                  "ca_0": 1,
                  "ca_1": 0,
                  "ca_2": 0,
                  "ca_3": 0,
                  "ca_4": 0,
                  "_deepnote_index_column": 16
                },
                {
                  "age": 66,
                  "sex": 0,
                  "trestbps": 150,
                  "chol": 226,
                  "fbs": 0,
                  "thalach": 114,
                  "exang": 0,
                  "oldpeak": 2.6,
                  "cp_0": 0,
                  "cp_1": 0,
                  "cp_2": 0,
                  "cp_3": 1,
                  "restecg_0": 0,
                  "restecg_1": 1,
                  "restecg_2": 0,
                  "slope_0": 1,
                  "slope_1": 0,
                  "slope_2": 0,
                  "ca_0": 1,
                  "ca_1": 0,
                  "ca_2": 0,
                  "ca_3": 0,
                  "ca_4": 0,
                  "_deepnote_index_column": 17
                },
                {
                  "age": 43,
                  "sex": 1,
                  "trestbps": 150,
                  "chol": 247,
                  "fbs": 0,
                  "thalach": 171,
                  "exang": 0,
                  "oldpeak": 1.5,
                  "cp_0": 1,
                  "cp_1": 0,
                  "cp_2": 0,
                  "cp_3": 0,
                  "restecg_0": 0,
                  "restecg_1": 1,
                  "restecg_2": 0,
                  "slope_0": 0,
                  "slope_1": 0,
                  "slope_2": 1,
                  "ca_0": 1,
                  "ca_1": 0,
                  "ca_2": 0,
                  "ca_3": 0,
                  "ca_4": 0,
                  "_deepnote_index_column": 18
                },
                {
                  "age": 69,
                  "sex": 0,
                  "trestbps": 140,
                  "chol": 239,
                  "fbs": 0,
                  "thalach": 151,
                  "exang": 0,
                  "oldpeak": 1.8,
                  "cp_0": 0,
                  "cp_1": 0,
                  "cp_2": 0,
                  "cp_3": 1,
                  "restecg_0": 0,
                  "restecg_1": 1,
                  "restecg_2": 0,
                  "slope_0": 0,
                  "slope_1": 0,
                  "slope_2": 1,
                  "ca_0": 0,
                  "ca_1": 0,
                  "ca_2": 1,
                  "ca_3": 0,
                  "ca_4": 0,
                  "_deepnote_index_column": 19
                },
                {
                  "age": 59,
                  "sex": 1,
                  "trestbps": 135,
                  "chol": 234,
                  "fbs": 0,
                  "thalach": 161,
                  "exang": 0,
                  "oldpeak": 0.5,
                  "cp_0": 1,
                  "cp_1": 0,
                  "cp_2": 0,
                  "cp_3": 0,
                  "restecg_0": 0,
                  "restecg_1": 1,
                  "restecg_2": 0,
                  "slope_0": 0,
                  "slope_1": 1,
                  "slope_2": 0,
                  "ca_0": 1,
                  "ca_1": 0,
                  "ca_2": 0,
                  "ca_3": 0,
                  "ca_4": 0,
                  "_deepnote_index_column": 20
                }
              ],
              "rows_bottom": [
                {
                  "age": 52,
                  "sex": 1,
                  "trestbps": 128,
                  "chol": 204,
                  "fbs": 1,
                  "thalach": 156,
                  "exang": 1,
                  "oldpeak": 1,
                  "cp_0": 1,
                  "cp_1": 0,
                  "cp_2": 0,
                  "cp_3": 0,
                  "restecg_0": 0,
                  "restecg_1": 1,
                  "restecg_2": 0,
                  "slope_0": 0,
                  "slope_1": 1,
                  "slope_2": 0,
                  "ca_0": 1,
                  "ca_1": 0,
                  "ca_2": 0,
                  "ca_3": 0,
                  "ca_4": 0,
                  "_deepnote_index_column": 281
                },
                {
                  "age": 59,
                  "sex": 1,
                  "trestbps": 126,
                  "chol": 218,
                  "fbs": 1,
                  "thalach": 134,
                  "exang": 0,
                  "oldpeak": 2.2,
                  "cp_0": 0,
                  "cp_1": 0,
                  "cp_2": 1,
                  "cp_3": 0,
                  "restecg_0": 0,
                  "restecg_1": 1,
                  "restecg_2": 0,
                  "slope_0": 0,
                  "slope_1": 1,
                  "slope_2": 0,
                  "ca_0": 0,
                  "ca_1": 1,
                  "ca_2": 0,
                  "ca_3": 0,
                  "ca_4": 0,
                  "_deepnote_index_column": 282
                },
                {
                  "age": 40,
                  "sex": 1,
                  "trestbps": 152,
                  "chol": 223,
                  "fbs": 0,
                  "thalach": 181,
                  "exang": 0,
                  "oldpeak": 0,
                  "cp_0": 1,
                  "cp_1": 0,
                  "cp_2": 0,
                  "cp_3": 0,
                  "restecg_0": 0,
                  "restecg_1": 1,
                  "restecg_2": 0,
                  "slope_0": 0,
                  "slope_1": 0,
                  "slope_2": 1,
                  "ca_0": 1,
                  "ca_1": 0,
                  "ca_2": 0,
                  "ca_3": 0,
                  "ca_4": 0,
                  "_deepnote_index_column": 283
                },
                {
                  "age": 61,
                  "sex": 1,
                  "trestbps": 140,
                  "chol": 207,
                  "fbs": 0,
                  "thalach": 138,
                  "exang": 1,
                  "oldpeak": 1.9,
                  "cp_0": 1,
                  "cp_1": 0,
                  "cp_2": 0,
                  "cp_3": 0,
                  "restecg_0": 1,
                  "restecg_1": 0,
                  "restecg_2": 0,
                  "slope_0": 0,
                  "slope_1": 0,
                  "slope_2": 1,
                  "ca_0": 0,
                  "ca_1": 1,
                  "ca_2": 0,
                  "ca_3": 0,
                  "ca_4": 0,
                  "_deepnote_index_column": 284
                },
                {
                  "age": 46,
                  "sex": 1,
                  "trestbps": 140,
                  "chol": 311,
                  "fbs": 0,
                  "thalach": 120,
                  "exang": 1,
                  "oldpeak": 1.8,
                  "cp_0": 1,
                  "cp_1": 0,
                  "cp_2": 0,
                  "cp_3": 0,
                  "restecg_0": 0,
                  "restecg_1": 1,
                  "restecg_2": 0,
                  "slope_0": 0,
                  "slope_1": 1,
                  "slope_2": 0,
                  "ca_0": 0,
                  "ca_1": 0,
                  "ca_2": 1,
                  "ca_3": 0,
                  "ca_4": 0,
                  "_deepnote_index_column": 285
                },
                {
                  "age": 59,
                  "sex": 1,
                  "trestbps": 134,
                  "chol": 204,
                  "fbs": 0,
                  "thalach": 162,
                  "exang": 0,
                  "oldpeak": 0.8,
                  "cp_0": 0,
                  "cp_1": 0,
                  "cp_2": 0,
                  "cp_3": 1,
                  "restecg_0": 0,
                  "restecg_1": 1,
                  "restecg_2": 0,
                  "slope_0": 0,
                  "slope_1": 0,
                  "slope_2": 1,
                  "ca_0": 0,
                  "ca_1": 0,
                  "ca_2": 1,
                  "ca_3": 0,
                  "ca_4": 0,
                  "_deepnote_index_column": 286
                },
                {
                  "age": 57,
                  "sex": 1,
                  "trestbps": 154,
                  "chol": 232,
                  "fbs": 0,
                  "thalach": 164,
                  "exang": 0,
                  "oldpeak": 0,
                  "cp_0": 0,
                  "cp_1": 1,
                  "cp_2": 0,
                  "cp_3": 0,
                  "restecg_0": 1,
                  "restecg_1": 0,
                  "restecg_2": 0,
                  "slope_0": 0,
                  "slope_1": 0,
                  "slope_2": 1,
                  "ca_0": 0,
                  "ca_1": 1,
                  "ca_2": 0,
                  "ca_3": 0,
                  "ca_4": 0,
                  "_deepnote_index_column": 287
                },
                {
                  "age": 57,
                  "sex": 1,
                  "trestbps": 110,
                  "chol": 335,
                  "fbs": 0,
                  "thalach": 143,
                  "exang": 1,
                  "oldpeak": 3,
                  "cp_0": 1,
                  "cp_1": 0,
                  "cp_2": 0,
                  "cp_3": 0,
                  "restecg_0": 0,
                  "restecg_1": 1,
                  "restecg_2": 0,
                  "slope_0": 0,
                  "slope_1": 1,
                  "slope_2": 0,
                  "ca_0": 0,
                  "ca_1": 1,
                  "ca_2": 0,
                  "ca_3": 0,
                  "ca_4": 0,
                  "_deepnote_index_column": 288
                },
                {
                  "age": 55,
                  "sex": 0,
                  "trestbps": 128,
                  "chol": 205,
                  "fbs": 0,
                  "thalach": 130,
                  "exang": 1,
                  "oldpeak": 2,
                  "cp_0": 1,
                  "cp_1": 0,
                  "cp_2": 0,
                  "cp_3": 0,
                  "restecg_0": 0,
                  "restecg_1": 0,
                  "restecg_2": 1,
                  "slope_0": 0,
                  "slope_1": 1,
                  "slope_2": 0,
                  "ca_0": 0,
                  "ca_1": 1,
                  "ca_2": 0,
                  "ca_3": 0,
                  "ca_4": 0,
                  "_deepnote_index_column": 289
                },
                {
                  "age": 61,
                  "sex": 1,
                  "trestbps": 148,
                  "chol": 203,
                  "fbs": 0,
                  "thalach": 161,
                  "exang": 0,
                  "oldpeak": 0,
                  "cp_0": 1,
                  "cp_1": 0,
                  "cp_2": 0,
                  "cp_3": 0,
                  "restecg_0": 0,
                  "restecg_1": 1,
                  "restecg_2": 0,
                  "slope_0": 0,
                  "slope_1": 0,
                  "slope_2": 1,
                  "ca_0": 0,
                  "ca_1": 1,
                  "ca_2": 0,
                  "ca_3": 0,
                  "ca_4": 0,
                  "_deepnote_index_column": 290
                },
                {
                  "age": 58,
                  "sex": 1,
                  "trestbps": 114,
                  "chol": 318,
                  "fbs": 0,
                  "thalach": 140,
                  "exang": 0,
                  "oldpeak": 4.4,
                  "cp_0": 1,
                  "cp_1": 0,
                  "cp_2": 0,
                  "cp_3": 0,
                  "restecg_0": 0,
                  "restecg_1": 0,
                  "restecg_2": 1,
                  "slope_0": 1,
                  "slope_1": 0,
                  "slope_2": 0,
                  "ca_0": 0,
                  "ca_1": 0,
                  "ca_2": 0,
                  "ca_3": 1,
                  "ca_4": 0,
                  "_deepnote_index_column": 291
                },
                {
                  "age": 58,
                  "sex": 0,
                  "trestbps": 170,
                  "chol": 225,
                  "fbs": 1,
                  "thalach": 146,
                  "exang": 1,
                  "oldpeak": 2.8,
                  "cp_0": 1,
                  "cp_1": 0,
                  "cp_2": 0,
                  "cp_3": 0,
                  "restecg_0": 1,
                  "restecg_1": 0,
                  "restecg_2": 0,
                  "slope_0": 0,
                  "slope_1": 1,
                  "slope_2": 0,
                  "ca_0": 0,
                  "ca_1": 0,
                  "ca_2": 1,
                  "ca_3": 0,
                  "ca_4": 0,
                  "_deepnote_index_column": 292
                },
                {
                  "age": 67,
                  "sex": 1,
                  "trestbps": 152,
                  "chol": 212,
                  "fbs": 0,
                  "thalach": 150,
                  "exang": 0,
                  "oldpeak": 0.8,
                  "cp_0": 0,
                  "cp_1": 0,
                  "cp_2": 1,
                  "cp_3": 0,
                  "restecg_0": 1,
                  "restecg_1": 0,
                  "restecg_2": 0,
                  "slope_0": 0,
                  "slope_1": 1,
                  "slope_2": 0,
                  "ca_0": 1,
                  "ca_1": 0,
                  "ca_2": 0,
                  "ca_3": 0,
                  "ca_4": 0,
                  "_deepnote_index_column": 293
                },
                {
                  "age": 44,
                  "sex": 1,
                  "trestbps": 120,
                  "chol": 169,
                  "fbs": 0,
                  "thalach": 144,
                  "exang": 1,
                  "oldpeak": 2.8,
                  "cp_0": 1,
                  "cp_1": 0,
                  "cp_2": 0,
                  "cp_3": 0,
                  "restecg_0": 0,
                  "restecg_1": 1,
                  "restecg_2": 0,
                  "slope_0": 1,
                  "slope_1": 0,
                  "slope_2": 0,
                  "ca_0": 1,
                  "ca_1": 0,
                  "ca_2": 0,
                  "ca_3": 0,
                  "ca_4": 0,
                  "_deepnote_index_column": 294
                },
                {
                  "age": 63,
                  "sex": 1,
                  "trestbps": 140,
                  "chol": 187,
                  "fbs": 0,
                  "thalach": 144,
                  "exang": 1,
                  "oldpeak": 4,
                  "cp_0": 1,
                  "cp_1": 0,
                  "cp_2": 0,
                  "cp_3": 0,
                  "restecg_0": 1,
                  "restecg_1": 0,
                  "restecg_2": 0,
                  "slope_0": 0,
                  "slope_1": 0,
                  "slope_2": 1,
                  "ca_0": 0,
                  "ca_1": 0,
                  "ca_2": 1,
                  "ca_3": 0,
                  "ca_4": 0,
                  "_deepnote_index_column": 295
                },
                {
                  "age": 63,
                  "sex": 0,
                  "trestbps": 124,
                  "chol": 197,
                  "fbs": 0,
                  "thalach": 136,
                  "exang": 1,
                  "oldpeak": 0,
                  "cp_0": 1,
                  "cp_1": 0,
                  "cp_2": 0,
                  "cp_3": 0,
                  "restecg_0": 0,
                  "restecg_1": 1,
                  "restecg_2": 0,
                  "slope_0": 0,
                  "slope_1": 1,
                  "slope_2": 0,
                  "ca_0": 1,
                  "ca_1": 0,
                  "ca_2": 0,
                  "ca_3": 0,
                  "ca_4": 0,
                  "_deepnote_index_column": 296
                },
                {
                  "age": 59,
                  "sex": 1,
                  "trestbps": 164,
                  "chol": 176,
                  "fbs": 1,
                  "thalach": 90,
                  "exang": 0,
                  "oldpeak": 1,
                  "cp_0": 1,
                  "cp_1": 0,
                  "cp_2": 0,
                  "cp_3": 0,
                  "restecg_0": 1,
                  "restecg_1": 0,
                  "restecg_2": 0,
                  "slope_0": 0,
                  "slope_1": 1,
                  "slope_2": 0,
                  "ca_0": 0,
                  "ca_1": 0,
                  "ca_2": 1,
                  "ca_3": 0,
                  "ca_4": 0,
                  "_deepnote_index_column": 297
                },
                {
                  "age": 57,
                  "sex": 0,
                  "trestbps": 140,
                  "chol": 241,
                  "fbs": 0,
                  "thalach": 123,
                  "exang": 1,
                  "oldpeak": 0.2,
                  "cp_0": 1,
                  "cp_1": 0,
                  "cp_2": 0,
                  "cp_3": 0,
                  "restecg_0": 0,
                  "restecg_1": 1,
                  "restecg_2": 0,
                  "slope_0": 0,
                  "slope_1": 1,
                  "slope_2": 0,
                  "ca_0": 1,
                  "ca_1": 0,
                  "ca_2": 0,
                  "ca_3": 0,
                  "ca_4": 0,
                  "_deepnote_index_column": 298
                },
                {
                  "age": 45,
                  "sex": 1,
                  "trestbps": 110,
                  "chol": 264,
                  "fbs": 0,
                  "thalach": 132,
                  "exang": 0,
                  "oldpeak": 1.2,
                  "cp_0": 0,
                  "cp_1": 0,
                  "cp_2": 0,
                  "cp_3": 1,
                  "restecg_0": 0,
                  "restecg_1": 1,
                  "restecg_2": 0,
                  "slope_0": 0,
                  "slope_1": 1,
                  "slope_2": 0,
                  "ca_0": 1,
                  "ca_1": 0,
                  "ca_2": 0,
                  "ca_3": 0,
                  "ca_4": 0,
                  "_deepnote_index_column": 299
                },
                {
                  "age": 68,
                  "sex": 1,
                  "trestbps": 144,
                  "chol": 193,
                  "fbs": 1,
                  "thalach": 141,
                  "exang": 0,
                  "oldpeak": 3.4,
                  "cp_0": 1,
                  "cp_1": 0,
                  "cp_2": 0,
                  "cp_3": 0,
                  "restecg_0": 0,
                  "restecg_1": 1,
                  "restecg_2": 0,
                  "slope_0": 0,
                  "slope_1": 1,
                  "slope_2": 0,
                  "ca_0": 0,
                  "ca_1": 0,
                  "ca_2": 1,
                  "ca_3": 0,
                  "ca_4": 0,
                  "_deepnote_index_column": 300
                },
                {
                  "age": 57,
                  "sex": 1,
                  "trestbps": 130,
                  "chol": 131,
                  "fbs": 0,
                  "thalach": 115,
                  "exang": 1,
                  "oldpeak": 1.2,
                  "cp_0": 1,
                  "cp_1": 0,
                  "cp_2": 0,
                  "cp_3": 0,
                  "restecg_0": 0,
                  "restecg_1": 1,
                  "restecg_2": 0,
                  "slope_0": 0,
                  "slope_1": 1,
                  "slope_2": 0,
                  "ca_0": 0,
                  "ca_1": 1,
                  "ca_2": 0,
                  "ca_3": 0,
                  "ca_4": 0,
                  "_deepnote_index_column": 301
                },
                {
                  "age": 57,
                  "sex": 0,
                  "trestbps": 130,
                  "chol": 236,
                  "fbs": 0,
                  "thalach": 174,
                  "exang": 0,
                  "oldpeak": 0,
                  "cp_0": 0,
                  "cp_1": 1,
                  "cp_2": 0,
                  "cp_3": 0,
                  "restecg_0": 1,
                  "restecg_1": 0,
                  "restecg_2": 0,
                  "slope_0": 0,
                  "slope_1": 1,
                  "slope_2": 0,
                  "ca_0": 0,
                  "ca_1": 1,
                  "ca_2": 0,
                  "ca_3": 0,
                  "ca_4": 0,
                  "_deepnote_index_column": 302
                }
              ]
            },
            "text/plain": "     age  sex  trestbps  chol  fbs  thalach  exang  oldpeak  cp_0  cp_1  ...  \\\n0     63    1       145   233    1      150      0      2.3     0     0  ...   \n1     37    1       130   250    0      187      0      3.5     0     0  ...   \n2     41    0       130   204    0      172      0      1.4     0     1  ...   \n3     56    1       120   236    0      178      0      0.8     0     1  ...   \n4     57    0       120   354    0      163      1      0.6     1     0  ...   \n..   ...  ...       ...   ...  ...      ...    ...      ...   ...   ...  ...   \n298   57    0       140   241    0      123      1      0.2     1     0  ...   \n299   45    1       110   264    0      132      0      1.2     0     0  ...   \n300   68    1       144   193    1      141      0      3.4     1     0  ...   \n301   57    1       130   131    0      115      1      1.2     1     0  ...   \n302   57    0       130   236    0      174      0      0.0     0     1  ...   \n\n     restecg_1  restecg_2  slope_0  slope_1  slope_2  ca_0  ca_1  ca_2  ca_3  \\\n0            0          0        1        0        0     1     0     0     0   \n1            1          0        1        0        0     1     0     0     0   \n2            0          0        0        0        1     1     0     0     0   \n3            1          0        0        0        1     1     0     0     0   \n4            1          0        0        0        1     1     0     0     0   \n..         ...        ...      ...      ...      ...   ...   ...   ...   ...   \n298          1          0        0        1        0     1     0     0     0   \n299          1          0        0        1        0     1     0     0     0   \n300          1          0        0        1        0     0     0     1     0   \n301          1          0        0        1        0     0     1     0     0   \n302          0          0        0        1        0     0     1     0     0   \n\n     ca_4  \n0       0  \n1       0  \n2       0  \n3       0  \n4       0  \n..    ...  \n298     0  \n299     0  \n300     0  \n301     0  \n302     0  \n\n[303 rows x 23 columns]",
            "text/html": "<div>\n<style scoped>\n    .dataframe tbody tr th:only-of-type {\n        vertical-align: middle;\n    }\n\n    .dataframe tbody tr th {\n        vertical-align: top;\n    }\n\n    .dataframe thead th {\n        text-align: right;\n    }\n</style>\n<table border=\"1\" class=\"dataframe\">\n  <thead>\n    <tr style=\"text-align: right;\">\n      <th></th>\n      <th>age</th>\n      <th>sex</th>\n      <th>trestbps</th>\n      <th>chol</th>\n      <th>fbs</th>\n      <th>thalach</th>\n      <th>exang</th>\n      <th>oldpeak</th>\n      <th>cp_0</th>\n      <th>cp_1</th>\n      <th>...</th>\n      <th>restecg_1</th>\n      <th>restecg_2</th>\n      <th>slope_0</th>\n      <th>slope_1</th>\n      <th>slope_2</th>\n      <th>ca_0</th>\n      <th>ca_1</th>\n      <th>ca_2</th>\n      <th>ca_3</th>\n      <th>ca_4</th>\n    </tr>\n  </thead>\n  <tbody>\n    <tr>\n      <th>0</th>\n      <td>63</td>\n      <td>1</td>\n      <td>145</td>\n      <td>233</td>\n      <td>1</td>\n      <td>150</td>\n      <td>0</td>\n      <td>2.3</td>\n      <td>0</td>\n      <td>0</td>\n      <td>...</td>\n      <td>0</td>\n      <td>0</td>\n      <td>1</td>\n      <td>0</td>\n      <td>0</td>\n      <td>1</td>\n      <td>0</td>\n      <td>0</td>\n      <td>0</td>\n      <td>0</td>\n    </tr>\n    <tr>\n      <th>1</th>\n      <td>37</td>\n      <td>1</td>\n      <td>130</td>\n      <td>250</td>\n      <td>0</td>\n      <td>187</td>\n      <td>0</td>\n      <td>3.5</td>\n      <td>0</td>\n      <td>0</td>\n      <td>...</td>\n      <td>1</td>\n      <td>0</td>\n      <td>1</td>\n      <td>0</td>\n      <td>0</td>\n      <td>1</td>\n      <td>0</td>\n      <td>0</td>\n      <td>0</td>\n      <td>0</td>\n    </tr>\n    <tr>\n      <th>2</th>\n      <td>41</td>\n      <td>0</td>\n      <td>130</td>\n      <td>204</td>\n      <td>0</td>\n      <td>172</td>\n      <td>0</td>\n      <td>1.4</td>\n      <td>0</td>\n      <td>1</td>\n      <td>...</td>\n      <td>0</td>\n      <td>0</td>\n      <td>0</td>\n      <td>0</td>\n      <td>1</td>\n      <td>1</td>\n      <td>0</td>\n      <td>0</td>\n      <td>0</td>\n      <td>0</td>\n    </tr>\n    <tr>\n      <th>3</th>\n      <td>56</td>\n      <td>1</td>\n      <td>120</td>\n      <td>236</td>\n      <td>0</td>\n      <td>178</td>\n      <td>0</td>\n      <td>0.8</td>\n      <td>0</td>\n      <td>1</td>\n      <td>...</td>\n      <td>1</td>\n      <td>0</td>\n      <td>0</td>\n      <td>0</td>\n      <td>1</td>\n      <td>1</td>\n      <td>0</td>\n      <td>0</td>\n      <td>0</td>\n      <td>0</td>\n    </tr>\n    <tr>\n      <th>4</th>\n      <td>57</td>\n      <td>0</td>\n      <td>120</td>\n      <td>354</td>\n      <td>0</td>\n      <td>163</td>\n      <td>1</td>\n      <td>0.6</td>\n      <td>1</td>\n      <td>0</td>\n      <td>...</td>\n      <td>1</td>\n      <td>0</td>\n      <td>0</td>\n      <td>0</td>\n      <td>1</td>\n      <td>1</td>\n      <td>0</td>\n      <td>0</td>\n      <td>0</td>\n      <td>0</td>\n    </tr>\n    <tr>\n      <th>...</th>\n      <td>...</td>\n      <td>...</td>\n      <td>...</td>\n      <td>...</td>\n      <td>...</td>\n      <td>...</td>\n      <td>...</td>\n      <td>...</td>\n      <td>...</td>\n      <td>...</td>\n      <td>...</td>\n      <td>...</td>\n      <td>...</td>\n      <td>...</td>\n      <td>...</td>\n      <td>...</td>\n      <td>...</td>\n      <td>...</td>\n      <td>...</td>\n      <td>...</td>\n      <td>...</td>\n    </tr>\n    <tr>\n      <th>298</th>\n      <td>57</td>\n      <td>0</td>\n      <td>140</td>\n      <td>241</td>\n      <td>0</td>\n      <td>123</td>\n      <td>1</td>\n      <td>0.2</td>\n      <td>1</td>\n      <td>0</td>\n      <td>...</td>\n      <td>1</td>\n      <td>0</td>\n      <td>0</td>\n      <td>1</td>\n      <td>0</td>\n      <td>1</td>\n      <td>0</td>\n      <td>0</td>\n      <td>0</td>\n      <td>0</td>\n    </tr>\n    <tr>\n      <th>299</th>\n      <td>45</td>\n      <td>1</td>\n      <td>110</td>\n      <td>264</td>\n      <td>0</td>\n      <td>132</td>\n      <td>0</td>\n      <td>1.2</td>\n      <td>0</td>\n      <td>0</td>\n      <td>...</td>\n      <td>1</td>\n      <td>0</td>\n      <td>0</td>\n      <td>1</td>\n      <td>0</td>\n      <td>1</td>\n      <td>0</td>\n      <td>0</td>\n      <td>0</td>\n      <td>0</td>\n    </tr>\n    <tr>\n      <th>300</th>\n      <td>68</td>\n      <td>1</td>\n      <td>144</td>\n      <td>193</td>\n      <td>1</td>\n      <td>141</td>\n      <td>0</td>\n      <td>3.4</td>\n      <td>1</td>\n      <td>0</td>\n      <td>...</td>\n      <td>1</td>\n      <td>0</td>\n      <td>0</td>\n      <td>1</td>\n      <td>0</td>\n      <td>0</td>\n      <td>0</td>\n      <td>1</td>\n      <td>0</td>\n      <td>0</td>\n    </tr>\n    <tr>\n      <th>301</th>\n      <td>57</td>\n      <td>1</td>\n      <td>130</td>\n      <td>131</td>\n      <td>0</td>\n      <td>115</td>\n      <td>1</td>\n      <td>1.2</td>\n      <td>1</td>\n      <td>0</td>\n      <td>...</td>\n      <td>1</td>\n      <td>0</td>\n      <td>0</td>\n      <td>1</td>\n      <td>0</td>\n      <td>0</td>\n      <td>1</td>\n      <td>0</td>\n      <td>0</td>\n      <td>0</td>\n    </tr>\n    <tr>\n      <th>302</th>\n      <td>57</td>\n      <td>0</td>\n      <td>130</td>\n      <td>236</td>\n      <td>0</td>\n      <td>174</td>\n      <td>0</td>\n      <td>0.0</td>\n      <td>0</td>\n      <td>1</td>\n      <td>...</td>\n      <td>0</td>\n      <td>0</td>\n      <td>0</td>\n      <td>1</td>\n      <td>0</td>\n      <td>0</td>\n      <td>1</td>\n      <td>0</td>\n      <td>0</td>\n      <td>0</td>\n    </tr>\n  </tbody>\n</table>\n<p>303 rows × 23 columns</p>\n</div>"
          },
          "metadata": {}
        }
      ]
    },
    {
      "cell_type": "code",
      "metadata": {
        "tags": [],
        "cell_id": "00046-a4c52ab9-4e67-41c8-82d6-4f03ec145389",
        "deepnote_to_be_reexecuted": false,
        "source_hash": "87c55539",
        "execution_millis": 508889,
        "execution_start": 1615386115253,
        "deepnote_cell_type": "code"
      },
      "source": "accuracy_measure_names = []\naccuracy_measure_data = []\n\n# Set number of replicate runs\nnumber_of_runs = 1\n\nfor run in range(number_of_runs):\n    \n    # Print progress\n    print (run + 1, end=' ')\n\n    # Make synthetic data\n    X_synthetic, y_synthetic = make_synthetic_data_gan(X2.values, y2.values)\n\n    # Split training and test set\n    X_train, X_test, y_train, y_test = split_into_train_test(X2.values, y2.values)\n\n    # Standardise data (using synthetic data)\n    X_train_std, X_test_std = standardise_data(X_synthetic, X_test)\n\n    # Get accuracy of fitted model\n    accuracy = fit_and_test_logistic_regression_model(\n        X_train_std, X_test_std, y_synthetic, y_test)\n\n    # Get accuracy measure names if not previously done\n    if len(accuracy_measure_names) == 0:\n        for key, value in accuracy.items():\n            accuracy_measure_names.append(key)\n\n    # Get accuracy values\n    run_accuracy_results = []\n    for key, value in accuracy.items():\n            run_accuracy_results.append(value)\n            \n    # Add results to results list\n    accuracy_measure_data.append(run_accuracy_results)\n    \n    # Output accuracy\n    percent_accuracy = accuracy['accuracy'] * 100\n    print(f'Accuracy: {percent_accuracy:3.1f}')\n    \n    # Save synthetic data set\n    # -----------------------\n    \n    # Create a data frame with id\n    synth_df = pd.DataFrame()\n    \n        # Transfer X values to DataFrame\n    synth_df=pd.concat([synth_df, \n                        pd.DataFrame(X_synthetic, columns=col_names)],\n                        axis=1)\n    \n    # Make one hot as necessary\n    for one_hot_list in one_hot_cols:    \n        for index, row in synth_df.iterrows():\n            x = row[one_hot_list]\n            x_one_hot = make_one_hot(x)\n            row[x_one_hot.index]= x_one_hot.values\n            \n    # Make integer as necessary\n    for col in integer_cols:\n        synth_df[col] = synth_df[col].round(0)\n        \n    # Clip binary cols\n    for col in binary_cols:\n        synth_df[col] = np.clip(synth_df[col],0,1)\n\n    # Add a label\n    y_list = list(y_synthetic)\n    synth_df['label'] = y_list\n\n    # Shuffle data\n    synth_df = synth_df.sample(frac=1.0)\n    \n    # Add to synthetic data results list\n    synthetic_data.append(synth_df)\n    \n# Store mean and sem in results DataFrame \naccuracy_array = np.array(accuracy_measure_data)\nresults['gan_mean'] = accuracy_array.mean(axis=0)\nresults['gan_sem'] = accuracy_array.std(axis=0)/np.sqrt(number_of_runs)",
      "execution_count": null,
      "outputs": [
        {
          "name": "stdout",
          "text": "1 Accuracy: 48.7\n",
          "output_type": "stream"
        }
      ]
    },
    {
      "cell_type": "code",
      "metadata": {
        "tags": [],
        "cell_id": "00067-33d7181c-9602-4ece-9fb1-c3c1d61ac73f",
        "deepnote_to_be_reexecuted": false,
        "source_hash": "4a35c05a",
        "execution_millis": 53,
        "execution_start": 1615389096085,
        "deepnote_cell_type": "code"
      },
      "source": "results",
      "execution_count": null,
      "outputs": [
        {
          "output_type": "execute_result",
          "execution_count": 88,
          "data": {
            "application/vnd.deepnote.dataframe.v2+json": {
              "row_count": 303,
              "column_count": 12,
              "columns": [
                {
                  "name": "age",
                  "dtype": "int64",
                  "stats": {
                    "unique_count": 41,
                    "nan_count": 0,
                    "min": 29,
                    "max": 77,
                    "histogram": [
                      {
                        "bin_start": 29,
                        "bin_end": 33.8,
                        "count": 1
                      },
                      {
                        "bin_start": 33.8,
                        "bin_end": 38.6,
                        "count": 11
                      },
                      {
                        "bin_start": 38.6,
                        "bin_end": 43.4,
                        "count": 33
                      },
                      {
                        "bin_start": 43.4,
                        "bin_end": 48.2,
                        "count": 38
                      },
                      {
                        "bin_start": 48.2,
                        "bin_end": 53,
                        "count": 37
                      },
                      {
                        "bin_start": 53,
                        "bin_end": 57.8,
                        "count": 60
                      },
                      {
                        "bin_start": 57.8,
                        "bin_end": 62.6,
                        "count": 63
                      },
                      {
                        "bin_start": 62.6,
                        "bin_end": 67.4,
                        "count": 43
                      },
                      {
                        "bin_start": 67.4,
                        "bin_end": 72.19999999999999,
                        "count": 14
                      },
                      {
                        "bin_start": 72.19999999999999,
                        "bin_end": 77,
                        "count": 3
                      }
                    ]
                  }
                },
                {
                  "name": "sex",
                  "dtype": "int64",
                  "stats": {
                    "unique_count": 2,
                    "nan_count": 0,
                    "min": 0,
                    "max": 1,
                    "histogram": [
                      {
                        "bin_start": 0,
                        "bin_end": 0.1,
                        "count": 96
                      },
                      {
                        "bin_start": 0.1,
                        "bin_end": 0.2,
                        "count": 0
                      },
                      {
                        "bin_start": 0.2,
                        "bin_end": 0.30000000000000004,
                        "count": 0
                      },
                      {
                        "bin_start": 0.30000000000000004,
                        "bin_end": 0.4,
                        "count": 0
                      },
                      {
                        "bin_start": 0.4,
                        "bin_end": 0.5,
                        "count": 0
                      },
                      {
                        "bin_start": 0.5,
                        "bin_end": 0.6000000000000001,
                        "count": 0
                      },
                      {
                        "bin_start": 0.6000000000000001,
                        "bin_end": 0.7000000000000001,
                        "count": 0
                      },
                      {
                        "bin_start": 0.7000000000000001,
                        "bin_end": 0.8,
                        "count": 0
                      },
                      {
                        "bin_start": 0.8,
                        "bin_end": 0.9,
                        "count": 0
                      },
                      {
                        "bin_start": 0.9,
                        "bin_end": 1,
                        "count": 207
                      }
                    ]
                  }
                },
                {
                  "name": "cp",
                  "dtype": "int64",
                  "stats": {
                    "unique_count": 2,
                    "nan_count": 0,
                    "min": 0,
                    "max": 1,
                    "histogram": [
                      {
                        "bin_start": 0,
                        "bin_end": 0.1,
                        "count": 143
                      },
                      {
                        "bin_start": 0.1,
                        "bin_end": 0.2,
                        "count": 0
                      },
                      {
                        "bin_start": 0.2,
                        "bin_end": 0.30000000000000004,
                        "count": 0
                      },
                      {
                        "bin_start": 0.30000000000000004,
                        "bin_end": 0.4,
                        "count": 0
                      },
                      {
                        "bin_start": 0.4,
                        "bin_end": 0.5,
                        "count": 0
                      },
                      {
                        "bin_start": 0.5,
                        "bin_end": 0.6000000000000001,
                        "count": 0
                      },
                      {
                        "bin_start": 0.6000000000000001,
                        "bin_end": 0.7000000000000001,
                        "count": 0
                      },
                      {
                        "bin_start": 0.7000000000000001,
                        "bin_end": 0.8,
                        "count": 0
                      },
                      {
                        "bin_start": 0.8,
                        "bin_end": 0.9,
                        "count": 0
                      },
                      {
                        "bin_start": 0.9,
                        "bin_end": 1,
                        "count": 160
                      }
                    ]
                  }
                },
                {
                  "name": "trestbps",
                  "dtype": "int64",
                  "stats": {
                    "unique_count": 49,
                    "nan_count": 0,
                    "min": 94,
                    "max": 200,
                    "histogram": [
                      {
                        "bin_start": 94,
                        "bin_end": 104.6,
                        "count": 10
                      },
                      {
                        "bin_start": 104.6,
                        "bin_end": 115.2,
                        "count": 42
                      },
                      {
                        "bin_start": 115.2,
                        "bin_end": 125.8,
                        "count": 67
                      },
                      {
                        "bin_start": 125.8,
                        "bin_end": 136.4,
                        "count": 74
                      },
                      {
                        "bin_start": 136.4,
                        "bin_end": 147,
                        "count": 57
                      },
                      {
                        "bin_start": 147,
                        "bin_end": 157.6,
                        "count": 27
                      },
                      {
                        "bin_start": 157.6,
                        "bin_end": 168.2,
                        "count": 13
                      },
                      {
                        "bin_start": 168.2,
                        "bin_end": 178.8,
                        "count": 8
                      },
                      {
                        "bin_start": 178.8,
                        "bin_end": 189.39999999999998,
                        "count": 3
                      },
                      {
                        "bin_start": 189.39999999999998,
                        "bin_end": 200,
                        "count": 2
                      }
                    ]
                  }
                },
                {
                  "name": "chol",
                  "dtype": "int64",
                  "stats": {
                    "unique_count": 152,
                    "nan_count": 0,
                    "min": 126,
                    "max": 564,
                    "histogram": [
                      {
                        "bin_start": 126,
                        "bin_end": 169.8,
                        "count": 12
                      },
                      {
                        "bin_start": 169.8,
                        "bin_end": 213.6,
                        "count": 73
                      },
                      {
                        "bin_start": 213.6,
                        "bin_end": 257.4,
                        "count": 106
                      },
                      {
                        "bin_start": 257.4,
                        "bin_end": 301.2,
                        "count": 69
                      },
                      {
                        "bin_start": 301.2,
                        "bin_end": 345,
                        "count": 35
                      },
                      {
                        "bin_start": 345,
                        "bin_end": 388.79999999999995,
                        "count": 3
                      },
                      {
                        "bin_start": 388.79999999999995,
                        "bin_end": 432.59999999999997,
                        "count": 4
                      },
                      {
                        "bin_start": 432.59999999999997,
                        "bin_end": 476.4,
                        "count": 0
                      },
                      {
                        "bin_start": 476.4,
                        "bin_end": 520.2,
                        "count": 0
                      },
                      {
                        "bin_start": 520.2,
                        "bin_end": 564,
                        "count": 1
                      }
                    ]
                  }
                },
                {
                  "name": "fbs",
                  "dtype": "int64",
                  "stats": {
                    "unique_count": 2,
                    "nan_count": 0,
                    "min": 0,
                    "max": 1,
                    "histogram": [
                      {
                        "bin_start": 0,
                        "bin_end": 0.1,
                        "count": 258
                      },
                      {
                        "bin_start": 0.1,
                        "bin_end": 0.2,
                        "count": 0
                      },
                      {
                        "bin_start": 0.2,
                        "bin_end": 0.30000000000000004,
                        "count": 0
                      },
                      {
                        "bin_start": 0.30000000000000004,
                        "bin_end": 0.4,
                        "count": 0
                      },
                      {
                        "bin_start": 0.4,
                        "bin_end": 0.5,
                        "count": 0
                      },
                      {
                        "bin_start": 0.5,
                        "bin_end": 0.6000000000000001,
                        "count": 0
                      },
                      {
                        "bin_start": 0.6000000000000001,
                        "bin_end": 0.7000000000000001,
                        "count": 0
                      },
                      {
                        "bin_start": 0.7000000000000001,
                        "bin_end": 0.8,
                        "count": 0
                      },
                      {
                        "bin_start": 0.8,
                        "bin_end": 0.9,
                        "count": 0
                      },
                      {
                        "bin_start": 0.9,
                        "bin_end": 1,
                        "count": 45
                      }
                    ]
                  }
                },
                {
                  "name": "restecg",
                  "dtype": "int64",
                  "stats": {
                    "unique_count": 2,
                    "nan_count": 0,
                    "min": 0,
                    "max": 1,
                    "histogram": [
                      {
                        "bin_start": 0,
                        "bin_end": 0.1,
                        "count": 147
                      },
                      {
                        "bin_start": 0.1,
                        "bin_end": 0.2,
                        "count": 0
                      },
                      {
                        "bin_start": 0.2,
                        "bin_end": 0.30000000000000004,
                        "count": 0
                      },
                      {
                        "bin_start": 0.30000000000000004,
                        "bin_end": 0.4,
                        "count": 0
                      },
                      {
                        "bin_start": 0.4,
                        "bin_end": 0.5,
                        "count": 0
                      },
                      {
                        "bin_start": 0.5,
                        "bin_end": 0.6000000000000001,
                        "count": 0
                      },
                      {
                        "bin_start": 0.6000000000000001,
                        "bin_end": 0.7000000000000001,
                        "count": 0
                      },
                      {
                        "bin_start": 0.7000000000000001,
                        "bin_end": 0.8,
                        "count": 0
                      },
                      {
                        "bin_start": 0.8,
                        "bin_end": 0.9,
                        "count": 0
                      },
                      {
                        "bin_start": 0.9,
                        "bin_end": 1,
                        "count": 156
                      }
                    ]
                  }
                },
                {
                  "name": "thalach",
                  "dtype": "int64",
                  "stats": {
                    "unique_count": 91,
                    "nan_count": 0,
                    "min": 71,
                    "max": 202,
                    "histogram": [
                      {
                        "bin_start": 71,
                        "bin_end": 84.1,
                        "count": 1
                      },
                      {
                        "bin_start": 84.1,
                        "bin_end": 97.2,
                        "count": 6
                      },
                      {
                        "bin_start": 97.2,
                        "bin_end": 110.3,
                        "count": 11
                      },
                      {
                        "bin_start": 110.3,
                        "bin_end": 123.4,
                        "count": 26
                      },
                      {
                        "bin_start": 123.4,
                        "bin_end": 136.5,
                        "count": 35
                      },
                      {
                        "bin_start": 136.5,
                        "bin_end": 149.6,
                        "count": 53
                      },
                      {
                        "bin_start": 149.6,
                        "bin_end": 162.7,
                        "count": 77
                      },
                      {
                        "bin_start": 162.7,
                        "bin_end": 175.8,
                        "count": 63
                      },
                      {
                        "bin_start": 175.8,
                        "bin_end": 188.89999999999998,
                        "count": 26
                      },
                      {
                        "bin_start": 188.89999999999998,
                        "bin_end": 202,
                        "count": 5
                      }
                    ]
                  }
                },
                {
                  "name": "exang",
                  "dtype": "int64",
                  "stats": {
                    "unique_count": 2,
                    "nan_count": 0,
                    "min": 0,
                    "max": 1,
                    "histogram": [
                      {
                        "bin_start": 0,
                        "bin_end": 0.1,
                        "count": 204
                      },
                      {
                        "bin_start": 0.1,
                        "bin_end": 0.2,
                        "count": 0
                      },
                      {
                        "bin_start": 0.2,
                        "bin_end": 0.30000000000000004,
                        "count": 0
                      },
                      {
                        "bin_start": 0.30000000000000004,
                        "bin_end": 0.4,
                        "count": 0
                      },
                      {
                        "bin_start": 0.4,
                        "bin_end": 0.5,
                        "count": 0
                      },
                      {
                        "bin_start": 0.5,
                        "bin_end": 0.6000000000000001,
                        "count": 0
                      },
                      {
                        "bin_start": 0.6000000000000001,
                        "bin_end": 0.7000000000000001,
                        "count": 0
                      },
                      {
                        "bin_start": 0.7000000000000001,
                        "bin_end": 0.8,
                        "count": 0
                      },
                      {
                        "bin_start": 0.8,
                        "bin_end": 0.9,
                        "count": 0
                      },
                      {
                        "bin_start": 0.9,
                        "bin_end": 1,
                        "count": 99
                      }
                    ]
                  }
                },
                {
                  "name": "oldpeak",
                  "dtype": "float64",
                  "stats": {
                    "unique_count": 40,
                    "nan_count": 0,
                    "min": 0,
                    "max": 6.2,
                    "histogram": [
                      {
                        "bin_start": 0,
                        "bin_end": 0.62,
                        "count": 149
                      },
                      {
                        "bin_start": 0.62,
                        "bin_end": 1.24,
                        "count": 50
                      },
                      {
                        "bin_start": 1.24,
                        "bin_end": 1.8599999999999999,
                        "count": 40
                      },
                      {
                        "bin_start": 1.8599999999999999,
                        "bin_end": 2.48,
                        "count": 24
                      },
                      {
                        "bin_start": 2.48,
                        "bin_end": 3.1,
                        "count": 20
                      },
                      {
                        "bin_start": 3.1,
                        "bin_end": 3.7199999999999998,
                        "count": 11
                      },
                      {
                        "bin_start": 3.7199999999999998,
                        "bin_end": 4.34,
                        "count": 6
                      },
                      {
                        "bin_start": 4.34,
                        "bin_end": 4.96,
                        "count": 1
                      },
                      {
                        "bin_start": 4.96,
                        "bin_end": 5.58,
                        "count": 0
                      },
                      {
                        "bin_start": 5.58,
                        "bin_end": 6.2,
                        "count": 2
                      }
                    ]
                  }
                },
                {
                  "name": "slope",
                  "dtype": "int64",
                  "stats": {
                    "unique_count": 2,
                    "nan_count": 0,
                    "min": 0,
                    "max": 1,
                    "histogram": [
                      {
                        "bin_start": 0,
                        "bin_end": 0.1,
                        "count": 21
                      },
                      {
                        "bin_start": 0.1,
                        "bin_end": 0.2,
                        "count": 0
                      },
                      {
                        "bin_start": 0.2,
                        "bin_end": 0.30000000000000004,
                        "count": 0
                      },
                      {
                        "bin_start": 0.30000000000000004,
                        "bin_end": 0.4,
                        "count": 0
                      },
                      {
                        "bin_start": 0.4,
                        "bin_end": 0.5,
                        "count": 0
                      },
                      {
                        "bin_start": 0.5,
                        "bin_end": 0.6000000000000001,
                        "count": 0
                      },
                      {
                        "bin_start": 0.6000000000000001,
                        "bin_end": 0.7000000000000001,
                        "count": 0
                      },
                      {
                        "bin_start": 0.7000000000000001,
                        "bin_end": 0.8,
                        "count": 0
                      },
                      {
                        "bin_start": 0.8,
                        "bin_end": 0.9,
                        "count": 0
                      },
                      {
                        "bin_start": 0.9,
                        "bin_end": 1,
                        "count": 282
                      }
                    ]
                  }
                },
                {
                  "name": "ca",
                  "dtype": "int64",
                  "stats": {
                    "unique_count": 2,
                    "nan_count": 0,
                    "min": 0,
                    "max": 1,
                    "histogram": [
                      {
                        "bin_start": 0,
                        "bin_end": 0.1,
                        "count": 175
                      },
                      {
                        "bin_start": 0.1,
                        "bin_end": 0.2,
                        "count": 0
                      },
                      {
                        "bin_start": 0.2,
                        "bin_end": 0.30000000000000004,
                        "count": 0
                      },
                      {
                        "bin_start": 0.30000000000000004,
                        "bin_end": 0.4,
                        "count": 0
                      },
                      {
                        "bin_start": 0.4,
                        "bin_end": 0.5,
                        "count": 0
                      },
                      {
                        "bin_start": 0.5,
                        "bin_end": 0.6000000000000001,
                        "count": 0
                      },
                      {
                        "bin_start": 0.6000000000000001,
                        "bin_end": 0.7000000000000001,
                        "count": 0
                      },
                      {
                        "bin_start": 0.7000000000000001,
                        "bin_end": 0.8,
                        "count": 0
                      },
                      {
                        "bin_start": 0.8,
                        "bin_end": 0.9,
                        "count": 0
                      },
                      {
                        "bin_start": 0.9,
                        "bin_end": 1,
                        "count": 128
                      }
                    ]
                  }
                },
                {
                  "name": "_deepnote_index_column",
                  "dtype": "int64"
                }
              ],
              "rows_top": [
                {
                  "age": 63,
                  "sex": 1,
                  "cp": 1,
                  "trestbps": 145,
                  "chol": 233,
                  "fbs": 1,
                  "restecg": 0,
                  "thalach": 150,
                  "exang": 0,
                  "oldpeak": 2.3,
                  "slope": 0,
                  "ca": 0,
                  "_deepnote_index_column": 0
                },
                {
                  "age": 37,
                  "sex": 1,
                  "cp": 1,
                  "trestbps": 130,
                  "chol": 250,
                  "fbs": 0,
                  "restecg": 1,
                  "thalach": 187,
                  "exang": 0,
                  "oldpeak": 3.5,
                  "slope": 0,
                  "ca": 0,
                  "_deepnote_index_column": 1
                },
                {
                  "age": 41,
                  "sex": 0,
                  "cp": 1,
                  "trestbps": 130,
                  "chol": 204,
                  "fbs": 0,
                  "restecg": 0,
                  "thalach": 172,
                  "exang": 0,
                  "oldpeak": 1.4,
                  "slope": 1,
                  "ca": 0,
                  "_deepnote_index_column": 2
                },
                {
                  "age": 56,
                  "sex": 1,
                  "cp": 1,
                  "trestbps": 120,
                  "chol": 236,
                  "fbs": 0,
                  "restecg": 1,
                  "thalach": 178,
                  "exang": 0,
                  "oldpeak": 0.8,
                  "slope": 1,
                  "ca": 0,
                  "_deepnote_index_column": 3
                },
                {
                  "age": 57,
                  "sex": 0,
                  "cp": 0,
                  "trestbps": 120,
                  "chol": 354,
                  "fbs": 0,
                  "restecg": 1,
                  "thalach": 163,
                  "exang": 1,
                  "oldpeak": 0.6,
                  "slope": 1,
                  "ca": 0,
                  "_deepnote_index_column": 4
                },
                {
                  "age": 57,
                  "sex": 1,
                  "cp": 0,
                  "trestbps": 140,
                  "chol": 192,
                  "fbs": 0,
                  "restecg": 1,
                  "thalach": 148,
                  "exang": 0,
                  "oldpeak": 0.4,
                  "slope": 1,
                  "ca": 0,
                  "_deepnote_index_column": 5
                },
                {
                  "age": 56,
                  "sex": 0,
                  "cp": 1,
                  "trestbps": 140,
                  "chol": 294,
                  "fbs": 0,
                  "restecg": 0,
                  "thalach": 153,
                  "exang": 0,
                  "oldpeak": 1.3,
                  "slope": 1,
                  "ca": 0,
                  "_deepnote_index_column": 6
                },
                {
                  "age": 44,
                  "sex": 1,
                  "cp": 1,
                  "trestbps": 120,
                  "chol": 263,
                  "fbs": 0,
                  "restecg": 1,
                  "thalach": 173,
                  "exang": 0,
                  "oldpeak": 0,
                  "slope": 1,
                  "ca": 0,
                  "_deepnote_index_column": 7
                },
                {
                  "age": 52,
                  "sex": 1,
                  "cp": 1,
                  "trestbps": 172,
                  "chol": 199,
                  "fbs": 1,
                  "restecg": 1,
                  "thalach": 162,
                  "exang": 0,
                  "oldpeak": 0.5,
                  "slope": 1,
                  "ca": 0,
                  "_deepnote_index_column": 8
                },
                {
                  "age": 57,
                  "sex": 1,
                  "cp": 1,
                  "trestbps": 150,
                  "chol": 168,
                  "fbs": 0,
                  "restecg": 1,
                  "thalach": 174,
                  "exang": 0,
                  "oldpeak": 1.6,
                  "slope": 1,
                  "ca": 0,
                  "_deepnote_index_column": 9
                },
                {
                  "age": 54,
                  "sex": 1,
                  "cp": 0,
                  "trestbps": 140,
                  "chol": 239,
                  "fbs": 0,
                  "restecg": 1,
                  "thalach": 160,
                  "exang": 0,
                  "oldpeak": 1.2,
                  "slope": 1,
                  "ca": 0,
                  "_deepnote_index_column": 10
                },
                {
                  "age": 48,
                  "sex": 0,
                  "cp": 1,
                  "trestbps": 130,
                  "chol": 275,
                  "fbs": 0,
                  "restecg": 1,
                  "thalach": 139,
                  "exang": 0,
                  "oldpeak": 0.2,
                  "slope": 1,
                  "ca": 0,
                  "_deepnote_index_column": 11
                },
                {
                  "age": 49,
                  "sex": 1,
                  "cp": 1,
                  "trestbps": 130,
                  "chol": 266,
                  "fbs": 0,
                  "restecg": 1,
                  "thalach": 171,
                  "exang": 0,
                  "oldpeak": 0.6,
                  "slope": 1,
                  "ca": 0,
                  "_deepnote_index_column": 12
                },
                {
                  "age": 64,
                  "sex": 1,
                  "cp": 1,
                  "trestbps": 110,
                  "chol": 211,
                  "fbs": 0,
                  "restecg": 0,
                  "thalach": 144,
                  "exang": 1,
                  "oldpeak": 1.8,
                  "slope": 1,
                  "ca": 0,
                  "_deepnote_index_column": 13
                },
                {
                  "age": 58,
                  "sex": 0,
                  "cp": 1,
                  "trestbps": 150,
                  "chol": 283,
                  "fbs": 1,
                  "restecg": 0,
                  "thalach": 162,
                  "exang": 0,
                  "oldpeak": 1,
                  "slope": 1,
                  "ca": 0,
                  "_deepnote_index_column": 14
                },
                {
                  "age": 50,
                  "sex": 0,
                  "cp": 1,
                  "trestbps": 120,
                  "chol": 219,
                  "fbs": 0,
                  "restecg": 1,
                  "thalach": 158,
                  "exang": 0,
                  "oldpeak": 1.6,
                  "slope": 1,
                  "ca": 0,
                  "_deepnote_index_column": 15
                },
                {
                  "age": 58,
                  "sex": 0,
                  "cp": 1,
                  "trestbps": 120,
                  "chol": 340,
                  "fbs": 0,
                  "restecg": 1,
                  "thalach": 172,
                  "exang": 0,
                  "oldpeak": 0,
                  "slope": 1,
                  "ca": 0,
                  "_deepnote_index_column": 16
                },
                {
                  "age": 66,
                  "sex": 0,
                  "cp": 1,
                  "trestbps": 150,
                  "chol": 226,
                  "fbs": 0,
                  "restecg": 1,
                  "thalach": 114,
                  "exang": 0,
                  "oldpeak": 2.6,
                  "slope": 0,
                  "ca": 0,
                  "_deepnote_index_column": 17
                },
                {
                  "age": 43,
                  "sex": 1,
                  "cp": 0,
                  "trestbps": 150,
                  "chol": 247,
                  "fbs": 0,
                  "restecg": 1,
                  "thalach": 171,
                  "exang": 0,
                  "oldpeak": 1.5,
                  "slope": 1,
                  "ca": 0,
                  "_deepnote_index_column": 18
                },
                {
                  "age": 69,
                  "sex": 0,
                  "cp": 1,
                  "trestbps": 140,
                  "chol": 239,
                  "fbs": 0,
                  "restecg": 1,
                  "thalach": 151,
                  "exang": 0,
                  "oldpeak": 1.8,
                  "slope": 1,
                  "ca": 1,
                  "_deepnote_index_column": 19
                },
                {
                  "age": 59,
                  "sex": 1,
                  "cp": 0,
                  "trestbps": 135,
                  "chol": 234,
                  "fbs": 0,
                  "restecg": 1,
                  "thalach": 161,
                  "exang": 0,
                  "oldpeak": 0.5,
                  "slope": 1,
                  "ca": 0,
                  "_deepnote_index_column": 20
                },
                {
                  "age": 44,
                  "sex": 1,
                  "cp": 1,
                  "trestbps": 130,
                  "chol": 233,
                  "fbs": 0,
                  "restecg": 1,
                  "thalach": 179,
                  "exang": 1,
                  "oldpeak": 0.4,
                  "slope": 1,
                  "ca": 0,
                  "_deepnote_index_column": 21
                },
                {
                  "age": 42,
                  "sex": 1,
                  "cp": 0,
                  "trestbps": 140,
                  "chol": 226,
                  "fbs": 0,
                  "restecg": 1,
                  "thalach": 178,
                  "exang": 0,
                  "oldpeak": 0,
                  "slope": 1,
                  "ca": 0,
                  "_deepnote_index_column": 22
                },
                {
                  "age": 61,
                  "sex": 1,
                  "cp": 1,
                  "trestbps": 150,
                  "chol": 243,
                  "fbs": 1,
                  "restecg": 1,
                  "thalach": 137,
                  "exang": 1,
                  "oldpeak": 1,
                  "slope": 1,
                  "ca": 0,
                  "_deepnote_index_column": 23
                },
                {
                  "age": 40,
                  "sex": 1,
                  "cp": 1,
                  "trestbps": 140,
                  "chol": 199,
                  "fbs": 0,
                  "restecg": 1,
                  "thalach": 178,
                  "exang": 1,
                  "oldpeak": 1.4,
                  "slope": 1,
                  "ca": 0,
                  "_deepnote_index_column": 24
                },
                {
                  "age": 71,
                  "sex": 0,
                  "cp": 1,
                  "trestbps": 160,
                  "chol": 302,
                  "fbs": 0,
                  "restecg": 1,
                  "thalach": 162,
                  "exang": 0,
                  "oldpeak": 0.4,
                  "slope": 1,
                  "ca": 1,
                  "_deepnote_index_column": 25
                },
                {
                  "age": 59,
                  "sex": 1,
                  "cp": 1,
                  "trestbps": 150,
                  "chol": 212,
                  "fbs": 1,
                  "restecg": 1,
                  "thalach": 157,
                  "exang": 0,
                  "oldpeak": 1.6,
                  "slope": 1,
                  "ca": 0,
                  "_deepnote_index_column": 26
                },
                {
                  "age": 51,
                  "sex": 1,
                  "cp": 1,
                  "trestbps": 110,
                  "chol": 175,
                  "fbs": 0,
                  "restecg": 1,
                  "thalach": 123,
                  "exang": 0,
                  "oldpeak": 0.6,
                  "slope": 1,
                  "ca": 0,
                  "_deepnote_index_column": 27
                },
                {
                  "age": 65,
                  "sex": 0,
                  "cp": 1,
                  "trestbps": 140,
                  "chol": 417,
                  "fbs": 1,
                  "restecg": 0,
                  "thalach": 157,
                  "exang": 0,
                  "oldpeak": 0.8,
                  "slope": 1,
                  "ca": 1,
                  "_deepnote_index_column": 28
                },
                {
                  "age": 53,
                  "sex": 1,
                  "cp": 1,
                  "trestbps": 130,
                  "chol": 197,
                  "fbs": 1,
                  "restecg": 0,
                  "thalach": 152,
                  "exang": 0,
                  "oldpeak": 1.2,
                  "slope": 0,
                  "ca": 0,
                  "_deepnote_index_column": 29
                },
                {
                  "age": 41,
                  "sex": 0,
                  "cp": 1,
                  "trestbps": 105,
                  "chol": 198,
                  "fbs": 0,
                  "restecg": 1,
                  "thalach": 168,
                  "exang": 0,
                  "oldpeak": 0,
                  "slope": 1,
                  "ca": 1,
                  "_deepnote_index_column": 30
                },
                {
                  "age": 65,
                  "sex": 1,
                  "cp": 0,
                  "trestbps": 120,
                  "chol": 177,
                  "fbs": 0,
                  "restecg": 1,
                  "thalach": 140,
                  "exang": 0,
                  "oldpeak": 0.4,
                  "slope": 1,
                  "ca": 0,
                  "_deepnote_index_column": 31
                },
                {
                  "age": 44,
                  "sex": 1,
                  "cp": 1,
                  "trestbps": 130,
                  "chol": 219,
                  "fbs": 0,
                  "restecg": 0,
                  "thalach": 188,
                  "exang": 0,
                  "oldpeak": 0,
                  "slope": 1,
                  "ca": 0,
                  "_deepnote_index_column": 32
                },
                {
                  "age": 54,
                  "sex": 1,
                  "cp": 1,
                  "trestbps": 125,
                  "chol": 273,
                  "fbs": 0,
                  "restecg": 0,
                  "thalach": 152,
                  "exang": 0,
                  "oldpeak": 0.5,
                  "slope": 0,
                  "ca": 1,
                  "_deepnote_index_column": 33
                },
                {
                  "age": 51,
                  "sex": 1,
                  "cp": 1,
                  "trestbps": 125,
                  "chol": 213,
                  "fbs": 0,
                  "restecg": 0,
                  "thalach": 125,
                  "exang": 1,
                  "oldpeak": 1.4,
                  "slope": 1,
                  "ca": 1,
                  "_deepnote_index_column": 34
                },
                {
                  "age": 46,
                  "sex": 0,
                  "cp": 1,
                  "trestbps": 142,
                  "chol": 177,
                  "fbs": 0,
                  "restecg": 0,
                  "thalach": 160,
                  "exang": 1,
                  "oldpeak": 1.4,
                  "slope": 0,
                  "ca": 0,
                  "_deepnote_index_column": 35
                },
                {
                  "age": 54,
                  "sex": 0,
                  "cp": 1,
                  "trestbps": 135,
                  "chol": 304,
                  "fbs": 1,
                  "restecg": 1,
                  "thalach": 170,
                  "exang": 0,
                  "oldpeak": 0,
                  "slope": 1,
                  "ca": 0,
                  "_deepnote_index_column": 36
                },
                {
                  "age": 54,
                  "sex": 1,
                  "cp": 1,
                  "trestbps": 150,
                  "chol": 232,
                  "fbs": 0,
                  "restecg": 0,
                  "thalach": 165,
                  "exang": 0,
                  "oldpeak": 1.6,
                  "slope": 1,
                  "ca": 0,
                  "_deepnote_index_column": 37
                },
                {
                  "age": 65,
                  "sex": 0,
                  "cp": 1,
                  "trestbps": 155,
                  "chol": 269,
                  "fbs": 0,
                  "restecg": 1,
                  "thalach": 148,
                  "exang": 0,
                  "oldpeak": 0.8,
                  "slope": 1,
                  "ca": 0,
                  "_deepnote_index_column": 38
                },
                {
                  "age": 65,
                  "sex": 0,
                  "cp": 1,
                  "trestbps": 160,
                  "chol": 360,
                  "fbs": 0,
                  "restecg": 0,
                  "thalach": 151,
                  "exang": 0,
                  "oldpeak": 0.8,
                  "slope": 1,
                  "ca": 0,
                  "_deepnote_index_column": 39
                },
                {
                  "age": 51,
                  "sex": 0,
                  "cp": 1,
                  "trestbps": 140,
                  "chol": 308,
                  "fbs": 0,
                  "restecg": 0,
                  "thalach": 142,
                  "exang": 0,
                  "oldpeak": 1.5,
                  "slope": 1,
                  "ca": 1,
                  "_deepnote_index_column": 40
                }
              ],
              "rows_bottom": [
                {
                  "age": 52,
                  "sex": 1,
                  "cp": 0,
                  "trestbps": 112,
                  "chol": 230,
                  "fbs": 0,
                  "restecg": 1,
                  "thalach": 160,
                  "exang": 0,
                  "oldpeak": 0,
                  "slope": 1,
                  "ca": 1,
                  "_deepnote_index_column": 261
                },
                {
                  "age": 53,
                  "sex": 1,
                  "cp": 0,
                  "trestbps": 123,
                  "chol": 282,
                  "fbs": 0,
                  "restecg": 1,
                  "thalach": 95,
                  "exang": 1,
                  "oldpeak": 2,
                  "slope": 1,
                  "ca": 1,
                  "_deepnote_index_column": 262
                },
                {
                  "age": 63,
                  "sex": 0,
                  "cp": 0,
                  "trestbps": 108,
                  "chol": 269,
                  "fbs": 0,
                  "restecg": 1,
                  "thalach": 169,
                  "exang": 1,
                  "oldpeak": 1.8,
                  "slope": 1,
                  "ca": 1,
                  "_deepnote_index_column": 263
                },
                {
                  "age": 54,
                  "sex": 1,
                  "cp": 0,
                  "trestbps": 110,
                  "chol": 206,
                  "fbs": 0,
                  "restecg": 0,
                  "thalach": 108,
                  "exang": 1,
                  "oldpeak": 0,
                  "slope": 1,
                  "ca": 1,
                  "_deepnote_index_column": 264
                },
                {
                  "age": 66,
                  "sex": 1,
                  "cp": 0,
                  "trestbps": 112,
                  "chol": 212,
                  "fbs": 0,
                  "restecg": 0,
                  "thalach": 132,
                  "exang": 1,
                  "oldpeak": 0.1,
                  "slope": 1,
                  "ca": 1,
                  "_deepnote_index_column": 265
                },
                {
                  "age": 55,
                  "sex": 0,
                  "cp": 0,
                  "trestbps": 180,
                  "chol": 327,
                  "fbs": 0,
                  "restecg": 1,
                  "thalach": 117,
                  "exang": 1,
                  "oldpeak": 3.4,
                  "slope": 1,
                  "ca": 0,
                  "_deepnote_index_column": 266
                },
                {
                  "age": 49,
                  "sex": 1,
                  "cp": 1,
                  "trestbps": 118,
                  "chol": 149,
                  "fbs": 0,
                  "restecg": 0,
                  "thalach": 126,
                  "exang": 0,
                  "oldpeak": 0.8,
                  "slope": 1,
                  "ca": 1,
                  "_deepnote_index_column": 267
                },
                {
                  "age": 54,
                  "sex": 1,
                  "cp": 0,
                  "trestbps": 122,
                  "chol": 286,
                  "fbs": 0,
                  "restecg": 0,
                  "thalach": 116,
                  "exang": 1,
                  "oldpeak": 3.2,
                  "slope": 1,
                  "ca": 1,
                  "_deepnote_index_column": 268
                },
                {
                  "age": 56,
                  "sex": 1,
                  "cp": 0,
                  "trestbps": 130,
                  "chol": 283,
                  "fbs": 1,
                  "restecg": 0,
                  "thalach": 103,
                  "exang": 1,
                  "oldpeak": 1.6,
                  "slope": 0,
                  "ca": 0,
                  "_deepnote_index_column": 269
                },
                {
                  "age": 46,
                  "sex": 1,
                  "cp": 0,
                  "trestbps": 120,
                  "chol": 249,
                  "fbs": 0,
                  "restecg": 0,
                  "thalach": 144,
                  "exang": 0,
                  "oldpeak": 0.8,
                  "slope": 1,
                  "ca": 0,
                  "_deepnote_index_column": 270
                },
                {
                  "age": 61,
                  "sex": 1,
                  "cp": 1,
                  "trestbps": 134,
                  "chol": 234,
                  "fbs": 0,
                  "restecg": 1,
                  "thalach": 145,
                  "exang": 0,
                  "oldpeak": 2.6,
                  "slope": 1,
                  "ca": 1,
                  "_deepnote_index_column": 271
                },
                {
                  "age": 67,
                  "sex": 1,
                  "cp": 0,
                  "trestbps": 120,
                  "chol": 237,
                  "fbs": 0,
                  "restecg": 1,
                  "thalach": 71,
                  "exang": 0,
                  "oldpeak": 1,
                  "slope": 1,
                  "ca": 0,
                  "_deepnote_index_column": 272
                },
                {
                  "age": 58,
                  "sex": 1,
                  "cp": 0,
                  "trestbps": 100,
                  "chol": 234,
                  "fbs": 0,
                  "restecg": 1,
                  "thalach": 156,
                  "exang": 0,
                  "oldpeak": 0.1,
                  "slope": 1,
                  "ca": 1,
                  "_deepnote_index_column": 273
                },
                {
                  "age": 47,
                  "sex": 1,
                  "cp": 0,
                  "trestbps": 110,
                  "chol": 275,
                  "fbs": 0,
                  "restecg": 0,
                  "thalach": 118,
                  "exang": 1,
                  "oldpeak": 1,
                  "slope": 1,
                  "ca": 1,
                  "_deepnote_index_column": 274
                },
                {
                  "age": 52,
                  "sex": 1,
                  "cp": 0,
                  "trestbps": 125,
                  "chol": 212,
                  "fbs": 0,
                  "restecg": 1,
                  "thalach": 168,
                  "exang": 0,
                  "oldpeak": 1,
                  "slope": 1,
                  "ca": 1,
                  "_deepnote_index_column": 275
                },
                {
                  "age": 58,
                  "sex": 1,
                  "cp": 0,
                  "trestbps": 146,
                  "chol": 218,
                  "fbs": 0,
                  "restecg": 1,
                  "thalach": 105,
                  "exang": 0,
                  "oldpeak": 2,
                  "slope": 1,
                  "ca": 1,
                  "_deepnote_index_column": 276
                },
                {
                  "age": 57,
                  "sex": 1,
                  "cp": 1,
                  "trestbps": 124,
                  "chol": 261,
                  "fbs": 0,
                  "restecg": 1,
                  "thalach": 141,
                  "exang": 0,
                  "oldpeak": 0.3,
                  "slope": 1,
                  "ca": 0,
                  "_deepnote_index_column": 277
                },
                {
                  "age": 58,
                  "sex": 0,
                  "cp": 1,
                  "trestbps": 136,
                  "chol": 319,
                  "fbs": 1,
                  "restecg": 0,
                  "thalach": 152,
                  "exang": 0,
                  "oldpeak": 0,
                  "slope": 1,
                  "ca": 1,
                  "_deepnote_index_column": 278
                },
                {
                  "age": 61,
                  "sex": 1,
                  "cp": 0,
                  "trestbps": 138,
                  "chol": 166,
                  "fbs": 0,
                  "restecg": 0,
                  "thalach": 125,
                  "exang": 1,
                  "oldpeak": 3.6,
                  "slope": 1,
                  "ca": 1,
                  "_deepnote_index_column": 279
                },
                {
                  "age": 42,
                  "sex": 1,
                  "cp": 0,
                  "trestbps": 136,
                  "chol": 315,
                  "fbs": 0,
                  "restecg": 1,
                  "thalach": 125,
                  "exang": 1,
                  "oldpeak": 1.8,
                  "slope": 1,
                  "ca": 0,
                  "_deepnote_index_column": 280
                },
                {
                  "age": 52,
                  "sex": 1,
                  "cp": 0,
                  "trestbps": 128,
                  "chol": 204,
                  "fbs": 1,
                  "restecg": 1,
                  "thalach": 156,
                  "exang": 1,
                  "oldpeak": 1,
                  "slope": 1,
                  "ca": 0,
                  "_deepnote_index_column": 281
                },
                {
                  "age": 59,
                  "sex": 1,
                  "cp": 1,
                  "trestbps": 126,
                  "chol": 218,
                  "fbs": 1,
                  "restecg": 1,
                  "thalach": 134,
                  "exang": 0,
                  "oldpeak": 2.2,
                  "slope": 1,
                  "ca": 1,
                  "_deepnote_index_column": 282
                },
                {
                  "age": 40,
                  "sex": 1,
                  "cp": 0,
                  "trestbps": 152,
                  "chol": 223,
                  "fbs": 0,
                  "restecg": 1,
                  "thalach": 181,
                  "exang": 0,
                  "oldpeak": 0,
                  "slope": 1,
                  "ca": 0,
                  "_deepnote_index_column": 283
                },
                {
                  "age": 61,
                  "sex": 1,
                  "cp": 0,
                  "trestbps": 140,
                  "chol": 207,
                  "fbs": 0,
                  "restecg": 0,
                  "thalach": 138,
                  "exang": 1,
                  "oldpeak": 1.9,
                  "slope": 1,
                  "ca": 1,
                  "_deepnote_index_column": 284
                },
                {
                  "age": 46,
                  "sex": 1,
                  "cp": 0,
                  "trestbps": 140,
                  "chol": 311,
                  "fbs": 0,
                  "restecg": 1,
                  "thalach": 120,
                  "exang": 1,
                  "oldpeak": 1.8,
                  "slope": 1,
                  "ca": 1,
                  "_deepnote_index_column": 285
                },
                {
                  "age": 59,
                  "sex": 1,
                  "cp": 1,
                  "trestbps": 134,
                  "chol": 204,
                  "fbs": 0,
                  "restecg": 1,
                  "thalach": 162,
                  "exang": 0,
                  "oldpeak": 0.8,
                  "slope": 1,
                  "ca": 1,
                  "_deepnote_index_column": 286
                },
                {
                  "age": 57,
                  "sex": 1,
                  "cp": 1,
                  "trestbps": 154,
                  "chol": 232,
                  "fbs": 0,
                  "restecg": 0,
                  "thalach": 164,
                  "exang": 0,
                  "oldpeak": 0,
                  "slope": 1,
                  "ca": 1,
                  "_deepnote_index_column": 287
                },
                {
                  "age": 57,
                  "sex": 1,
                  "cp": 0,
                  "trestbps": 110,
                  "chol": 335,
                  "fbs": 0,
                  "restecg": 1,
                  "thalach": 143,
                  "exang": 1,
                  "oldpeak": 3,
                  "slope": 1,
                  "ca": 1,
                  "_deepnote_index_column": 288
                },
                {
                  "age": 55,
                  "sex": 0,
                  "cp": 0,
                  "trestbps": 128,
                  "chol": 205,
                  "fbs": 0,
                  "restecg": 1,
                  "thalach": 130,
                  "exang": 1,
                  "oldpeak": 2,
                  "slope": 1,
                  "ca": 1,
                  "_deepnote_index_column": 289
                },
                {
                  "age": 61,
                  "sex": 1,
                  "cp": 0,
                  "trestbps": 148,
                  "chol": 203,
                  "fbs": 0,
                  "restecg": 1,
                  "thalach": 161,
                  "exang": 0,
                  "oldpeak": 0,
                  "slope": 1,
                  "ca": 1,
                  "_deepnote_index_column": 290
                },
                {
                  "age": 58,
                  "sex": 1,
                  "cp": 0,
                  "trestbps": 114,
                  "chol": 318,
                  "fbs": 0,
                  "restecg": 1,
                  "thalach": 140,
                  "exang": 0,
                  "oldpeak": 4.4,
                  "slope": 0,
                  "ca": 1,
                  "_deepnote_index_column": 291
                },
                {
                  "age": 58,
                  "sex": 0,
                  "cp": 0,
                  "trestbps": 170,
                  "chol": 225,
                  "fbs": 1,
                  "restecg": 0,
                  "thalach": 146,
                  "exang": 1,
                  "oldpeak": 2.8,
                  "slope": 1,
                  "ca": 1,
                  "_deepnote_index_column": 292
                },
                {
                  "age": 67,
                  "sex": 1,
                  "cp": 1,
                  "trestbps": 152,
                  "chol": 212,
                  "fbs": 0,
                  "restecg": 0,
                  "thalach": 150,
                  "exang": 0,
                  "oldpeak": 0.8,
                  "slope": 1,
                  "ca": 0,
                  "_deepnote_index_column": 293
                },
                {
                  "age": 44,
                  "sex": 1,
                  "cp": 0,
                  "trestbps": 120,
                  "chol": 169,
                  "fbs": 0,
                  "restecg": 1,
                  "thalach": 144,
                  "exang": 1,
                  "oldpeak": 2.8,
                  "slope": 0,
                  "ca": 0,
                  "_deepnote_index_column": 294
                },
                {
                  "age": 63,
                  "sex": 1,
                  "cp": 0,
                  "trestbps": 140,
                  "chol": 187,
                  "fbs": 0,
                  "restecg": 0,
                  "thalach": 144,
                  "exang": 1,
                  "oldpeak": 4,
                  "slope": 1,
                  "ca": 1,
                  "_deepnote_index_column": 295
                },
                {
                  "age": 63,
                  "sex": 0,
                  "cp": 0,
                  "trestbps": 124,
                  "chol": 197,
                  "fbs": 0,
                  "restecg": 1,
                  "thalach": 136,
                  "exang": 1,
                  "oldpeak": 0,
                  "slope": 1,
                  "ca": 0,
                  "_deepnote_index_column": 296
                },
                {
                  "age": 59,
                  "sex": 1,
                  "cp": 0,
                  "trestbps": 164,
                  "chol": 176,
                  "fbs": 1,
                  "restecg": 0,
                  "thalach": 90,
                  "exang": 0,
                  "oldpeak": 1,
                  "slope": 1,
                  "ca": 1,
                  "_deepnote_index_column": 297
                },
                {
                  "age": 57,
                  "sex": 0,
                  "cp": 0,
                  "trestbps": 140,
                  "chol": 241,
                  "fbs": 0,
                  "restecg": 1,
                  "thalach": 123,
                  "exang": 1,
                  "oldpeak": 0.2,
                  "slope": 1,
                  "ca": 0,
                  "_deepnote_index_column": 298
                },
                {
                  "age": 45,
                  "sex": 1,
                  "cp": 1,
                  "trestbps": 110,
                  "chol": 264,
                  "fbs": 0,
                  "restecg": 1,
                  "thalach": 132,
                  "exang": 0,
                  "oldpeak": 1.2,
                  "slope": 1,
                  "ca": 0,
                  "_deepnote_index_column": 299
                },
                {
                  "age": 68,
                  "sex": 1,
                  "cp": 0,
                  "trestbps": 144,
                  "chol": 193,
                  "fbs": 1,
                  "restecg": 1,
                  "thalach": 141,
                  "exang": 0,
                  "oldpeak": 3.4,
                  "slope": 1,
                  "ca": 1,
                  "_deepnote_index_column": 300
                },
                {
                  "age": 57,
                  "sex": 1,
                  "cp": 0,
                  "trestbps": 130,
                  "chol": 131,
                  "fbs": 0,
                  "restecg": 1,
                  "thalach": 115,
                  "exang": 1,
                  "oldpeak": 1.2,
                  "slope": 1,
                  "ca": 1,
                  "_deepnote_index_column": 301
                },
                {
                  "age": 57,
                  "sex": 0,
                  "cp": 1,
                  "trestbps": 130,
                  "chol": 236,
                  "fbs": 0,
                  "restecg": 0,
                  "thalach": 174,
                  "exang": 0,
                  "oldpeak": 0,
                  "slope": 1,
                  "ca": 1,
                  "_deepnote_index_column": 302
                }
              ]
            },
            "text/plain": "     age  sex  cp  trestbps  chol  fbs  restecg  thalach  exang  oldpeak  \\\n0     63    1   1       145   233    1        0      150      0      2.3   \n1     37    1   1       130   250    0        1      187      0      3.5   \n2     41    0   1       130   204    0        0      172      0      1.4   \n3     56    1   1       120   236    0        1      178      0      0.8   \n4     57    0   0       120   354    0        1      163      1      0.6   \n..   ...  ...  ..       ...   ...  ...      ...      ...    ...      ...   \n298   57    0   0       140   241    0        1      123      1      0.2   \n299   45    1   1       110   264    0        1      132      0      1.2   \n300   68    1   0       144   193    1        1      141      0      3.4   \n301   57    1   0       130   131    0        1      115      1      1.2   \n302   57    0   1       130   236    0        0      174      0      0.0   \n\n     slope  ca  \n0        0   0  \n1        0   0  \n2        1   0  \n3        1   0  \n4        1   0  \n..     ...  ..  \n298      1   0  \n299      1   0  \n300      1   1  \n301      1   1  \n302      1   1  \n\n[303 rows x 12 columns]",
            "text/html": "<div>\n<style scoped>\n    .dataframe tbody tr th:only-of-type {\n        vertical-align: middle;\n    }\n\n    .dataframe tbody tr th {\n        vertical-align: top;\n    }\n\n    .dataframe thead th {\n        text-align: right;\n    }\n</style>\n<table border=\"1\" class=\"dataframe\">\n  <thead>\n    <tr style=\"text-align: right;\">\n      <th></th>\n      <th>age</th>\n      <th>sex</th>\n      <th>cp</th>\n      <th>trestbps</th>\n      <th>chol</th>\n      <th>fbs</th>\n      <th>restecg</th>\n      <th>thalach</th>\n      <th>exang</th>\n      <th>oldpeak</th>\n      <th>slope</th>\n      <th>ca</th>\n    </tr>\n  </thead>\n  <tbody>\n    <tr>\n      <th>0</th>\n      <td>63</td>\n      <td>1</td>\n      <td>1</td>\n      <td>145</td>\n      <td>233</td>\n      <td>1</td>\n      <td>0</td>\n      <td>150</td>\n      <td>0</td>\n      <td>2.3</td>\n      <td>0</td>\n      <td>0</td>\n    </tr>\n    <tr>\n      <th>1</th>\n      <td>37</td>\n      <td>1</td>\n      <td>1</td>\n      <td>130</td>\n      <td>250</td>\n      <td>0</td>\n      <td>1</td>\n      <td>187</td>\n      <td>0</td>\n      <td>3.5</td>\n      <td>0</td>\n      <td>0</td>\n    </tr>\n    <tr>\n      <th>2</th>\n      <td>41</td>\n      <td>0</td>\n      <td>1</td>\n      <td>130</td>\n      <td>204</td>\n      <td>0</td>\n      <td>0</td>\n      <td>172</td>\n      <td>0</td>\n      <td>1.4</td>\n      <td>1</td>\n      <td>0</td>\n    </tr>\n    <tr>\n      <th>3</th>\n      <td>56</td>\n      <td>1</td>\n      <td>1</td>\n      <td>120</td>\n      <td>236</td>\n      <td>0</td>\n      <td>1</td>\n      <td>178</td>\n      <td>0</td>\n      <td>0.8</td>\n      <td>1</td>\n      <td>0</td>\n    </tr>\n    <tr>\n      <th>4</th>\n      <td>57</td>\n      <td>0</td>\n      <td>0</td>\n      <td>120</td>\n      <td>354</td>\n      <td>0</td>\n      <td>1</td>\n      <td>163</td>\n      <td>1</td>\n      <td>0.6</td>\n      <td>1</td>\n      <td>0</td>\n    </tr>\n    <tr>\n      <th>...</th>\n      <td>...</td>\n      <td>...</td>\n      <td>...</td>\n      <td>...</td>\n      <td>...</td>\n      <td>...</td>\n      <td>...</td>\n      <td>...</td>\n      <td>...</td>\n      <td>...</td>\n      <td>...</td>\n      <td>...</td>\n    </tr>\n    <tr>\n      <th>298</th>\n      <td>57</td>\n      <td>0</td>\n      <td>0</td>\n      <td>140</td>\n      <td>241</td>\n      <td>0</td>\n      <td>1</td>\n      <td>123</td>\n      <td>1</td>\n      <td>0.2</td>\n      <td>1</td>\n      <td>0</td>\n    </tr>\n    <tr>\n      <th>299</th>\n      <td>45</td>\n      <td>1</td>\n      <td>1</td>\n      <td>110</td>\n      <td>264</td>\n      <td>0</td>\n      <td>1</td>\n      <td>132</td>\n      <td>0</td>\n      <td>1.2</td>\n      <td>1</td>\n      <td>0</td>\n    </tr>\n    <tr>\n      <th>300</th>\n      <td>68</td>\n      <td>1</td>\n      <td>0</td>\n      <td>144</td>\n      <td>193</td>\n      <td>1</td>\n      <td>1</td>\n      <td>141</td>\n      <td>0</td>\n      <td>3.4</td>\n      <td>1</td>\n      <td>1</td>\n    </tr>\n    <tr>\n      <th>301</th>\n      <td>57</td>\n      <td>1</td>\n      <td>0</td>\n      <td>130</td>\n      <td>131</td>\n      <td>0</td>\n      <td>1</td>\n      <td>115</td>\n      <td>1</td>\n      <td>1.2</td>\n      <td>1</td>\n      <td>1</td>\n    </tr>\n    <tr>\n      <th>302</th>\n      <td>57</td>\n      <td>0</td>\n      <td>1</td>\n      <td>130</td>\n      <td>236</td>\n      <td>0</td>\n      <td>0</td>\n      <td>174</td>\n      <td>0</td>\n      <td>0.0</td>\n      <td>1</td>\n      <td>1</td>\n    </tr>\n  </tbody>\n</table>\n<p>303 rows × 12 columns</p>\n</div>"
          },
          "metadata": {}
        }
      ]
    },
    {
      "cell_type": "code",
      "metadata": {
        "tags": [],
        "cell_id": "00067-33cd4fe5-68ec-4b5a-a44b-f2c0263aa0b2",
        "deepnote_to_be_reexecuted": false,
        "source_hash": "33151b41",
        "execution_millis": 252510,
        "execution_start": 1615388764367,
        "deepnote_cell_type": "code"
      },
      "source": "accuracy_measure_names = []\naccuracy_measure_data = []\n\n# Set number of replicate runs\nnumber_of_runs = 1\n\nrun = 0\n    \n# Print progress\nprint (run + 1, end=' ')\n\n# Make synthetic data\nX_synthetic, y_synthetic = make_synthetic_data_gan(X2.iloc[0:16].values, y2[0:16].values)",
      "execution_count": null,
      "outputs": [
        {
          "name": "stdout",
          "text": "1 ",
          "output_type": "stream"
        },
        {
          "output_type": "error",
          "ename": "ValueError",
          "evalue": "Using a target size (torch.Size([16, 1])) that is different to the input size (torch.Size([0, 1])) is deprecated. Please ensure they have the same size.",
          "traceback": [
            "\u001b[0;31m---------------------------------------------------------------------------\u001b[0m",
            "\u001b[0;31mValueError\u001b[0m                                Traceback (most recent call last)",
            "\u001b[0;32m<ipython-input-197-fdd70c6fb924>\u001b[0m in \u001b[0;36m<module>\u001b[0;34m\u001b[0m\n\u001b[1;32m     11\u001b[0m \u001b[0;34m\u001b[0m\u001b[0m\n\u001b[1;32m     12\u001b[0m \u001b[0;31m# Make synthetic data\u001b[0m\u001b[0;34m\u001b[0m\u001b[0;34m\u001b[0m\u001b[0;34m\u001b[0m\u001b[0m\n\u001b[0;32m---> 13\u001b[0;31m \u001b[0mX_synthetic\u001b[0m\u001b[0;34m,\u001b[0m \u001b[0my_synthetic\u001b[0m \u001b[0;34m=\u001b[0m \u001b[0mmake_synthetic_data_gan\u001b[0m\u001b[0;34m(\u001b[0m\u001b[0mX2\u001b[0m\u001b[0;34m.\u001b[0m\u001b[0miloc\u001b[0m\u001b[0;34m[\u001b[0m\u001b[0;36m0\u001b[0m\u001b[0;34m:\u001b[0m\u001b[0;36m16\u001b[0m\u001b[0;34m]\u001b[0m\u001b[0;34m.\u001b[0m\u001b[0mvalues\u001b[0m\u001b[0;34m,\u001b[0m \u001b[0my2\u001b[0m\u001b[0;34m[\u001b[0m\u001b[0;36m0\u001b[0m\u001b[0;34m:\u001b[0m\u001b[0;36m16\u001b[0m\u001b[0;34m]\u001b[0m\u001b[0;34m.\u001b[0m\u001b[0mvalues\u001b[0m\u001b[0;34m)\u001b[0m\u001b[0;34m\u001b[0m\u001b[0;34m\u001b[0m\u001b[0m\n\u001b[0m",
            "\u001b[0;32m<ipython-input-19-f1c31f417c7c>\u001b[0m in \u001b[0;36mmake_synthetic_data_gan\u001b[0;34m(X_original, y_original, batch_size, latent_dim, epochs, learning_rate, number_of_samples)\u001b[0m\n\u001b[1;32m     48\u001b[0m         \u001b[0;31m# train model\u001b[0m\u001b[0;34m\u001b[0m\u001b[0;34m\u001b[0m\u001b[0;34m\u001b[0m\u001b[0m\n\u001b[1;32m     49\u001b[0m         train(X_train, y_train, generator, discriminator, latent_dim, epochs, \n\u001b[0;32m---> 50\u001b[0;31m                 batch_size, learning_rate)\n\u001b[0m\u001b[1;32m     51\u001b[0m \u001b[0;34m\u001b[0m\u001b[0m\n\u001b[1;32m     52\u001b[0m         \u001b[0;31m# Use generator to create synthetic samples\u001b[0m\u001b[0;34m\u001b[0m\u001b[0;34m\u001b[0m\u001b[0;34m\u001b[0m\u001b[0m\n",
            "\u001b[0;32m<ipython-input-18-ae218c9c08c5>\u001b[0m in \u001b[0;36mtrain\u001b[0;34m(X, y, g_model, d_model, latent_dim, n_epochs, n_batch, learning_rate)\u001b[0m\n\u001b[1;32m     30\u001b[0m         \u001b[0my_train_tensor\u001b[0m \u001b[0;34m=\u001b[0m \u001b[0mtorch\u001b[0m\u001b[0;34m.\u001b[0m\u001b[0mTensor\u001b[0m\u001b[0;34m(\u001b[0m\u001b[0my_real\u001b[0m\u001b[0;34m)\u001b[0m\u001b[0;34m.\u001b[0m\u001b[0mto\u001b[0m\u001b[0;34m(\u001b[0m\u001b[0mdevice\u001b[0m\u001b[0;34m)\u001b[0m \u001b[0;31m# Convert to GPU tensor\u001b[0m\u001b[0;34m\u001b[0m\u001b[0;34m\u001b[0m\u001b[0m\n\u001b[1;32m     31\u001b[0m         \u001b[0mypred_train\u001b[0m \u001b[0;34m=\u001b[0m \u001b[0md_model\u001b[0m\u001b[0;34m(\u001b[0m\u001b[0mx_train_tensor\u001b[0m\u001b[0;34m)\u001b[0m \u001b[0;31m# predict y\u001b[0m\u001b[0;34m\u001b[0m\u001b[0;34m\u001b[0m\u001b[0m\n\u001b[0;32m---> 32\u001b[0;31m         \u001b[0md_loss\u001b[0m \u001b[0;34m=\u001b[0m \u001b[0mcriterion\u001b[0m\u001b[0;34m(\u001b[0m\u001b[0mypred_train\u001b[0m\u001b[0;34m,\u001b[0m \u001b[0my_train_tensor\u001b[0m\u001b[0;34m)\u001b[0m \u001b[0;31m# Calculate loss\u001b[0m\u001b[0;34m\u001b[0m\u001b[0;34m\u001b[0m\u001b[0m\n\u001b[0m\u001b[1;32m     33\u001b[0m         \u001b[0md_loss\u001b[0m\u001b[0;34m.\u001b[0m\u001b[0mbackward\u001b[0m\u001b[0;34m(\u001b[0m\u001b[0;34m)\u001b[0m \u001b[0;31m# Back propagate loss through network\u001b[0m\u001b[0;34m\u001b[0m\u001b[0;34m\u001b[0m\u001b[0m\n\u001b[1;32m     34\u001b[0m         \u001b[0md_optimizer\u001b[0m\u001b[0;34m.\u001b[0m\u001b[0mstep\u001b[0m\u001b[0;34m(\u001b[0m\u001b[0;34m)\u001b[0m \u001b[0;31m# Update network to reduce loss\u001b[0m\u001b[0;34m\u001b[0m\u001b[0;34m\u001b[0m\u001b[0m\n",
            "\u001b[0;32m/shared-libs/python3.7/py/lib/python3.7/site-packages/torch/nn/modules/module.py\u001b[0m in \u001b[0;36m_call_impl\u001b[0;34m(self, *input, **kwargs)\u001b[0m\n\u001b[1;32m    725\u001b[0m             \u001b[0mresult\u001b[0m \u001b[0;34m=\u001b[0m \u001b[0mself\u001b[0m\u001b[0;34m.\u001b[0m\u001b[0m_slow_forward\u001b[0m\u001b[0;34m(\u001b[0m\u001b[0;34m*\u001b[0m\u001b[0minput\u001b[0m\u001b[0;34m,\u001b[0m \u001b[0;34m**\u001b[0m\u001b[0mkwargs\u001b[0m\u001b[0;34m)\u001b[0m\u001b[0;34m\u001b[0m\u001b[0;34m\u001b[0m\u001b[0m\n\u001b[1;32m    726\u001b[0m         \u001b[0;32melse\u001b[0m\u001b[0;34m:\u001b[0m\u001b[0;34m\u001b[0m\u001b[0;34m\u001b[0m\u001b[0m\n\u001b[0;32m--> 727\u001b[0;31m             \u001b[0mresult\u001b[0m \u001b[0;34m=\u001b[0m \u001b[0mself\u001b[0m\u001b[0;34m.\u001b[0m\u001b[0mforward\u001b[0m\u001b[0;34m(\u001b[0m\u001b[0;34m*\u001b[0m\u001b[0minput\u001b[0m\u001b[0;34m,\u001b[0m \u001b[0;34m**\u001b[0m\u001b[0mkwargs\u001b[0m\u001b[0;34m)\u001b[0m\u001b[0;34m\u001b[0m\u001b[0;34m\u001b[0m\u001b[0m\n\u001b[0m\u001b[1;32m    728\u001b[0m         for hook in itertools.chain(\n\u001b[1;32m    729\u001b[0m                 \u001b[0m_global_forward_hooks\u001b[0m\u001b[0;34m.\u001b[0m\u001b[0mvalues\u001b[0m\u001b[0;34m(\u001b[0m\u001b[0;34m)\u001b[0m\u001b[0;34m,\u001b[0m\u001b[0;34m\u001b[0m\u001b[0;34m\u001b[0m\u001b[0m\n",
            "\u001b[0;32m/shared-libs/python3.7/py/lib/python3.7/site-packages/torch/nn/modules/loss.py\u001b[0m in \u001b[0;36mforward\u001b[0;34m(self, input, target)\u001b[0m\n\u001b[1;32m    528\u001b[0m \u001b[0;34m\u001b[0m\u001b[0m\n\u001b[1;32m    529\u001b[0m     \u001b[0;32mdef\u001b[0m \u001b[0mforward\u001b[0m\u001b[0;34m(\u001b[0m\u001b[0mself\u001b[0m\u001b[0;34m,\u001b[0m \u001b[0minput\u001b[0m\u001b[0;34m:\u001b[0m \u001b[0mTensor\u001b[0m\u001b[0;34m,\u001b[0m \u001b[0mtarget\u001b[0m\u001b[0;34m:\u001b[0m \u001b[0mTensor\u001b[0m\u001b[0;34m)\u001b[0m \u001b[0;34m->\u001b[0m \u001b[0mTensor\u001b[0m\u001b[0;34m:\u001b[0m\u001b[0;34m\u001b[0m\u001b[0;34m\u001b[0m\u001b[0m\n\u001b[0;32m--> 530\u001b[0;31m         \u001b[0;32mreturn\u001b[0m \u001b[0mF\u001b[0m\u001b[0;34m.\u001b[0m\u001b[0mbinary_cross_entropy\u001b[0m\u001b[0;34m(\u001b[0m\u001b[0minput\u001b[0m\u001b[0;34m,\u001b[0m \u001b[0mtarget\u001b[0m\u001b[0;34m,\u001b[0m \u001b[0mweight\u001b[0m\u001b[0;34m=\u001b[0m\u001b[0mself\u001b[0m\u001b[0;34m.\u001b[0m\u001b[0mweight\u001b[0m\u001b[0;34m,\u001b[0m \u001b[0mreduction\u001b[0m\u001b[0;34m=\u001b[0m\u001b[0mself\u001b[0m\u001b[0;34m.\u001b[0m\u001b[0mreduction\u001b[0m\u001b[0;34m)\u001b[0m\u001b[0;34m\u001b[0m\u001b[0;34m\u001b[0m\u001b[0m\n\u001b[0m\u001b[1;32m    531\u001b[0m \u001b[0;34m\u001b[0m\u001b[0m\n\u001b[1;32m    532\u001b[0m \u001b[0;34m\u001b[0m\u001b[0m\n",
            "\u001b[0;32m/shared-libs/python3.7/py/lib/python3.7/site-packages/torch/nn/functional.py\u001b[0m in \u001b[0;36mbinary_cross_entropy\u001b[0;34m(input, target, weight, size_average, reduce, reduction)\u001b[0m\n\u001b[1;32m   2517\u001b[0m     \u001b[0;32mif\u001b[0m \u001b[0mtarget\u001b[0m\u001b[0;34m.\u001b[0m\u001b[0msize\u001b[0m\u001b[0;34m(\u001b[0m\u001b[0;34m)\u001b[0m \u001b[0;34m!=\u001b[0m \u001b[0minput\u001b[0m\u001b[0;34m.\u001b[0m\u001b[0msize\u001b[0m\u001b[0;34m(\u001b[0m\u001b[0;34m)\u001b[0m\u001b[0;34m:\u001b[0m\u001b[0;34m\u001b[0m\u001b[0;34m\u001b[0m\u001b[0m\n\u001b[1;32m   2518\u001b[0m         raise ValueError(\"Using a target size ({}) that is different to the input size ({}) is deprecated. \"\n\u001b[0;32m-> 2519\u001b[0;31m                          \"Please ensure they have the same size.\".format(target.size(), input.size()))\n\u001b[0m\u001b[1;32m   2520\u001b[0m \u001b[0;34m\u001b[0m\u001b[0m\n\u001b[1;32m   2521\u001b[0m     \u001b[0;32mif\u001b[0m \u001b[0mweight\u001b[0m \u001b[0;32mis\u001b[0m \u001b[0;32mnot\u001b[0m \u001b[0;32mNone\u001b[0m\u001b[0;34m:\u001b[0m\u001b[0;34m\u001b[0m\u001b[0;34m\u001b[0m\u001b[0m\n",
            "\u001b[0;31mValueError\u001b[0m: Using a target size (torch.Size([16, 1])) that is different to the input size (torch.Size([0, 1])) is deprecated. Please ensure they have the same size."
          ]
        }
      ]
    },
    {
      "cell_type": "code",
      "metadata": {
        "tags": [],
        "cell_id": "00064-80892431-9565-46b7-aa1c-e9e5c6793c37",
        "deepnote_to_be_reexecuted": false,
        "source_hash": "223d0ab3",
        "execution_millis": 14,
        "execution_start": 1615388750456,
        "deepnote_cell_type": "code"
      },
      "source": "y2[0:16].values.shape",
      "execution_count": null,
      "outputs": [
        {
          "output_type": "execute_result",
          "execution_count": 196,
          "data": {
            "text/plain": "(16,)"
          },
          "metadata": {}
        }
      ]
    },
    {
      "cell_type": "code",
      "metadata": {
        "tags": [],
        "cell_id": "00065-8f250d26-d8bc-43be-aef6-e0c7ad5c0fc7",
        "deepnote_to_be_reexecuted": false,
        "source_hash": "a2489a2d",
        "execution_millis": 15,
        "execution_start": 1615388626213,
        "deepnote_cell_type": "code"
      },
      "source": "np.array(y2.values[23]).reshape(-1,1)",
      "execution_count": null,
      "outputs": [
        {
          "output_type": "execute_result",
          "execution_count": 190,
          "data": {
            "text/plain": "array([[1]])"
          },
          "metadata": {}
        }
      ]
    },
    {
      "cell_type": "code",
      "metadata": {
        "tags": [],
        "cell_id": "00067-4a52044c-4076-4f2a-bf4c-7fdaefdb7464",
        "deepnote_to_be_reexecuted": false,
        "source_hash": "b7bb8820",
        "execution_millis": 8,
        "execution_start": 1615388455930,
        "deepnote_cell_type": "code"
      },
      "source": "for i in range(10):\n    print(':(\\n:D', end = '\\t', sep = ':o')",
      "execution_count": null,
      "outputs": [
        {
          "name": "stdout",
          "text": ":(\n:D\t:(\n:D\t:(\n:D\t:(\n:D\t:(\n:D\t:(\n:D\t:(\n:D\t:(\n:D\t:(\n:D\t:(\n:D\t",
          "output_type": "stream"
        }
      ]
    },
    {
      "cell_type": "code",
      "metadata": {
        "tags": [],
        "cell_id": "00068-0c5adee0-e1e9-49f0-9a8e-f46ffacbaf53",
        "deepnote_to_be_reexecuted": false,
        "source_hash": "7f925de8",
        "execution_start": 1615381699732,
        "execution_millis": 23,
        "deepnote_cell_type": "code"
      },
      "source": "synth_df.columns",
      "execution_count": null,
      "outputs": [
        {
          "output_type": "execute_result",
          "execution_count": 39,
          "data": {
            "text/plain": "Index(['age', 'sex', 'cp', 'trestbps', 'chol', 'fbs', 'restecg', 'thalach',\n       'exang', 'oldpeak', 'slope', 'ca', 'label'],\n      dtype='object')"
          },
          "metadata": {}
        }
      ]
    },
    {
      "cell_type": "code",
      "metadata": {
        "tags": [],
        "cell_id": "00063-263f7020-de15-433a-b2a4-149443c0c1e2",
        "deepnote_to_be_reexecuted": false,
        "source_hash": "fcaceb36",
        "execution_millis": 0,
        "execution_start": 1615383048525,
        "deepnote_cell_type": "code"
      },
      "source": "synth_df.rename(columns = {'label':'target'}, inplace = True)",
      "execution_count": null,
      "outputs": []
    },
    {
      "cell_type": "code",
      "metadata": {
        "tags": [],
        "cell_id": "00070-5dcfeb90-cf19-475e-836e-c0f493ae8b28",
        "deepnote_to_be_reexecuted": false,
        "source_hash": "1ce89a93",
        "execution_start": 1615383248361,
        "execution_millis": 49,
        "deepnote_cell_type": "code"
      },
      "source": "original_data",
      "execution_count": null,
      "outputs": [
        {
          "output_type": "execute_result",
          "execution_count": 60,
          "data": {
            "application/vnd.deepnote.dataframe.v2+json": {
              "row_count": 169,
              "column_count": 1,
              "columns": [
                {
                  "name": "original",
                  "dtype": "float64",
                  "stats": {
                    "unique_count": 79,
                    "nan_count": 0,
                    "min": -0.4301953804507716,
                    "max": 1,
                    "histogram": [
                      {
                        "bin_start": -0.4301953804507716,
                        "bin_end": -0.28717584240569444,
                        "count": 6
                      },
                      {
                        "bin_start": -0.28717584240569444,
                        "bin_end": -0.14415630436061727,
                        "count": 8
                      },
                      {
                        "bin_start": -0.14415630436061727,
                        "bin_end": -0.0011367663155401053,
                        "count": 60
                      },
                      {
                        "bin_start": -0.0011367663155401053,
                        "bin_end": 0.14188277172953706,
                        "count": 70
                      },
                      {
                        "bin_start": 0.14188277172953706,
                        "bin_end": 0.2849023097746142,
                        "count": 10
                      },
                      {
                        "bin_start": 0.2849023097746142,
                        "bin_end": 0.4279218478196914,
                        "count": 2
                      },
                      {
                        "bin_start": 0.4279218478196914,
                        "bin_end": 0.5709413858647685,
                        "count": 0
                      },
                      {
                        "bin_start": 0.5709413858647685,
                        "bin_end": 0.7139609239098457,
                        "count": 0
                      },
                      {
                        "bin_start": 0.7139609239098457,
                        "bin_end": 0.8569804619549228,
                        "count": 0
                      },
                      {
                        "bin_start": 0.8569804619549228,
                        "bin_end": 1,
                        "count": 13
                      }
                    ]
                  }
                },
                {
                  "name": "_deepnote_index_column",
                  "dtype": "int64"
                }
              ],
              "rows_top": [
                {
                  "original": 1,
                  "_deepnote_index_column": 0
                },
                {
                  "original": -0.14113487795674373,
                  "_deepnote_index_column": 1
                },
                {
                  "original": 0.0668814760091629,
                  "_deepnote_index_column": 2
                },
                {
                  "original": 0.24027153019375674,
                  "_deepnote_index_column": 3
                },
                {
                  "original": 0.11260994335710346,
                  "_deepnote_index_column": 4
                },
                {
                  "original": 0.06928811044251708,
                  "_deepnote_index_column": 5
                },
                {
                  "original": -0.10059909778886107,
                  "_deepnote_index_column": 6
                },
                {
                  "original": -0.13275070933174474,
                  "_deepnote_index_column": 7
                },
                {
                  "original": -0.05088488474529371,
                  "_deepnote_index_column": 8
                },
                {
                  "original": 0.10300417414955543,
                  "_deepnote_index_column": 9
                },
                {
                  "original": -0.02522911046084012,
                  "_deepnote_index_column": 10
                },
                {
                  "original": 0.3528092297713504,
                  "_deepnote_index_column": 11
                },
                {
                  "original": -0.10055495799429831,
                  "_deepnote_index_column": 12
                },
                {
                  "original": -0.14113487795674373,
                  "_deepnote_index_column": 13
                },
                {
                  "original": 1,
                  "_deepnote_index_column": 14
                },
                {
                  "original": 0.12924444275239366,
                  "_deepnote_index_column": 15
                },
                {
                  "original": -0.288311858802156,
                  "_deepnote_index_column": 16
                },
                {
                  "original": -0.22228139312197306,
                  "_deepnote_index_column": 17
                },
                {
                  "original": -0.11353319850966206,
                  "_deepnote_index_column": 18
                },
                {
                  "original": -0.028562918045362887,
                  "_deepnote_index_column": 19
                },
                {
                  "original": -0.06755530021697279,
                  "_deepnote_index_column": 20
                },
                {
                  "original": -0.03007897744741353,
                  "_deepnote_index_column": 21
                },
                {
                  "original": -0.09071643333226687,
                  "_deepnote_index_column": 22
                },
                {
                  "original": 0.06194932847291878,
                  "_deepnote_index_column": 23
                },
                {
                  "original": 0.04787504959281432,
                  "_deepnote_index_column": 24
                },
                {
                  "original": 0.02923917237500974,
                  "_deepnote_index_column": 25
                },
                {
                  "original": 0.0668814760091629,
                  "_deepnote_index_column": 26
                },
                {
                  "original": 0.12924444275239366,
                  "_deepnote_index_column": 27
                },
                {
                  "original": 1,
                  "_deepnote_index_column": 28
                },
                {
                  "original": 0.0661872243763358,
                  "_deepnote_index_column": 29
                },
                {
                  "original": -0.030018180534565928,
                  "_deepnote_index_column": 30
                },
                {
                  "original": -0.019307743931649628,
                  "_deepnote_index_column": 31
                },
                {
                  "original": 0.0497571721144291,
                  "_deepnote_index_column": 32
                },
                {
                  "original": 0.23641847139931613,
                  "_deepnote_index_column": 33
                },
                {
                  "original": -0.4301953804507716,
                  "_deepnote_index_column": 34
                },
                {
                  "original": -0.1324875013044628,
                  "_deepnote_index_column": 35
                },
                {
                  "original": 0.11677012373474005,
                  "_deepnote_index_column": 36
                },
                {
                  "original": -0.10450142046307852,
                  "_deepnote_index_column": 37
                },
                {
                  "original": -0.0857325495675663,
                  "_deepnote_index_column": 38
                },
                {
                  "original": 0.24027153019375674,
                  "_deepnote_index_column": 39
                },
                {
                  "original": -0.288311858802156,
                  "_deepnote_index_column": 40
                },
                {
                  "original": 0.0661872243763358,
                  "_deepnote_index_column": 41
                },
                {
                  "original": 1,
                  "_deepnote_index_column": 42
                },
                {
                  "original": 0.13533592565623065,
                  "_deepnote_index_column": 43
                },
                {
                  "original": 0.2134515141790112,
                  "_deepnote_index_column": 44
                },
                {
                  "original": -0.1126416466291634,
                  "_deepnote_index_column": 45
                },
                {
                  "original": 0.005594559851286739,
                  "_deepnote_index_column": 46
                },
                {
                  "original": 0.04114663755291714,
                  "_deepnote_index_column": 47
                },
                {
                  "original": 0.12845037154387814,
                  "_deepnote_index_column": 48
                },
                {
                  "original": -0.10503183815555137,
                  "_deepnote_index_column": 49
                },
                {
                  "original": -0.06549083381798451,
                  "_deepnote_index_column": 50
                },
                {
                  "original": 0.03250166822584979,
                  "_deepnote_index_column": 51
                },
                {
                  "original": 0.11260994335710346,
                  "_deepnote_index_column": 52
                },
                {
                  "original": -0.22228139312197306,
                  "_deepnote_index_column": 53
                },
                {
                  "original": -0.030018180534565928,
                  "_deepnote_index_column": 54
                },
                {
                  "original": 0.13533592565623065,
                  "_deepnote_index_column": 55
                },
                {
                  "original": 1,
                  "_deepnote_index_column": 56
                },
                {
                  "original": 0.04623365382296221,
                  "_deepnote_index_column": 57
                },
                {
                  "original": -0.09724199182855194,
                  "_deepnote_index_column": 58
                },
                {
                  "original": 0.045004519612349705,
                  "_deepnote_index_column": 59
                },
                {
                  "original": 0.07550503477024925,
                  "_deepnote_index_column": 60
                },
                {
                  "original": -0.009355790387895397,
                  "_deepnote_index_column": 61
                },
                {
                  "original": 0.0668273152810005,
                  "_deepnote_index_column": 62
                },
                {
                  "original": 0.011893600984404614,
                  "_deepnote_index_column": 63
                },
                {
                  "original": 0.07123213692913491,
                  "_deepnote_index_column": 64
                },
                {
                  "original": 0.06928811044251708,
                  "_deepnote_index_column": 65
                },
                {
                  "original": -0.11353319850966206,
                  "_deepnote_index_column": 66
                },
                {
                  "original": -0.019307743931649628,
                  "_deepnote_index_column": 67
                },
                {
                  "original": 0.2134515141790112,
                  "_deepnote_index_column": 68
                },
                {
                  "original": 0.04623365382296221,
                  "_deepnote_index_column": 69
                },
                {
                  "original": 1,
                  "_deepnote_index_column": 70
                },
                {
                  "original": -0.09626273513247004,
                  "_deepnote_index_column": 71
                },
                {
                  "original": 0.03408227542525464,
                  "_deepnote_index_column": 72
                },
                {
                  "original": 0.0749773992732176,
                  "_deepnote_index_column": 73
                },
                {
                  "original": -0.008879272548255119,
                  "_deepnote_index_column": 74
                },
                {
                  "original": -0.07636160156232419,
                  "_deepnote_index_column": 75
                },
                {
                  "original": 0.09179799348669979,
                  "_deepnote_index_column": 76
                },
                {
                  "original": -0.14380579810862198,
                  "_deepnote_index_column": 77
                },
                {
                  "original": -0.10059909778886107,
                  "_deepnote_index_column": 78
                },
                {
                  "original": -0.028562918045362887,
                  "_deepnote_index_column": 79
                },
                {
                  "original": 0.0497571721144291,
                  "_deepnote_index_column": 80
                },
                {
                  "original": -0.1126416466291634,
                  "_deepnote_index_column": 81
                },
                {
                  "original": -0.09724199182855194,
                  "_deepnote_index_column": 82
                },
                {
                  "original": -0.09626273513247004,
                  "_deepnote_index_column": 83
                },
                {
                  "original": 1,
                  "_deepnote_index_column": 84
                },
                {
                  "original": -0.04487583387670993,
                  "_deepnote_index_column": 85
                },
                {
                  "original": 0.044383458682675306,
                  "_deepnote_index_column": 86
                },
                {
                  "original": 0.007405804317454729,
                  "_deepnote_index_column": 87
                },
                {
                  "original": 0.006780427210206962,
                  "_deepnote_index_column": 88
                },
                {
                  "original": -0.14875723141795694,
                  "_deepnote_index_column": 89
                },
                {
                  "original": 0.02006830943652244,
                  "_deepnote_index_column": 90
                },
                {
                  "original": -0.13275070933174474,
                  "_deepnote_index_column": 91
                },
                {
                  "original": -0.06755530021697279,
                  "_deepnote_index_column": 92
                },
                {
                  "original": 0.23641847139931613,
                  "_deepnote_index_column": 93
                },
                {
                  "original": 0.005594559851286739,
                  "_deepnote_index_column": 94
                },
                {
                  "original": 0.045004519612349705,
                  "_deepnote_index_column": 95
                },
                {
                  "original": 0.03408227542525464,
                  "_deepnote_index_column": 96
                },
                {
                  "original": -0.04487583387670993,
                  "_deepnote_index_column": 97
                },
                {
                  "original": 1,
                  "_deepnote_index_column": 98
                },
                {
                  "original": -0.2864250874934707,
                  "_deepnote_index_column": 99
                },
                {
                  "original": -0.21326863666759674,
                  "_deepnote_index_column": 100
                },
                {
                  "original": 0.056213019786582434,
                  "_deepnote_index_column": 101
                },
                {
                  "original": -0.06414385681511123,
                  "_deepnote_index_column": 102
                },
                {
                  "original": 0.06952271332391852,
                  "_deepnote_index_column": 103
                },
                {
                  "original": -0.05088488474529371,
                  "_deepnote_index_column": 104
                },
                {
                  "original": -0.03007897744741353,
                  "_deepnote_index_column": 105
                },
                {
                  "original": -0.4301953804507716,
                  "_deepnote_index_column": 106
                },
                {
                  "original": 0.04114663755291714,
                  "_deepnote_index_column": 107
                },
                {
                  "original": 0.07550503477024925,
                  "_deepnote_index_column": 108
                },
                {
                  "original": 0.0749773992732176,
                  "_deepnote_index_column": 109
                },
                {
                  "original": 0.044383458682675306,
                  "_deepnote_index_column": 110
                },
                {
                  "original": -0.2864250874934707,
                  "_deepnote_index_column": 111
                },
                {
                  "original": 1,
                  "_deepnote_index_column": 112
                },
                {
                  "original": 0.16867589255240056,
                  "_deepnote_index_column": 113
                },
                {
                  "original": -0.07193209219325467,
                  "_deepnote_index_column": 114
                },
                {
                  "original": -0.03783196591021768,
                  "_deepnote_index_column": 115
                },
                {
                  "original": 0.0575573683776037,
                  "_deepnote_index_column": 116
                },
                {
                  "original": 0.10300417414955543,
                  "_deepnote_index_column": 117
                },
                {
                  "original": -0.09071643333226687,
                  "_deepnote_index_column": 118
                },
                {
                  "original": -0.1324875013044628,
                  "_deepnote_index_column": 119
                },
                {
                  "original": 0.12845037154387814,
                  "_deepnote_index_column": 120
                },
                {
                  "original": -0.009355790387895397,
                  "_deepnote_index_column": 121
                },
                {
                  "original": -0.008879272548255119,
                  "_deepnote_index_column": 122
                },
                {
                  "original": 0.007405804317454729,
                  "_deepnote_index_column": 123
                },
                {
                  "original": -0.21326863666759674,
                  "_deepnote_index_column": 124
                },
                {
                  "original": 0.16867589255240056,
                  "_deepnote_index_column": 125
                },
                {
                  "original": 1,
                  "_deepnote_index_column": 126
                },
                {
                  "original": -0.4262434658822203,
                  "_deepnote_index_column": 127
                },
                {
                  "original": 0.05545294019041422,
                  "_deepnote_index_column": 128
                },
                {
                  "original": 0.09744369509901656,
                  "_deepnote_index_column": 129
                },
                {
                  "original": -0.02522911046084012,
                  "_deepnote_index_column": 130
                },
                {
                  "original": 0.06194932847291878,
                  "_deepnote_index_column": 131
                },
                {
                  "original": 0.11677012373474005,
                  "_deepnote_index_column": 132
                },
                {
                  "original": -0.10503183815555137,
                  "_deepnote_index_column": 133
                },
                {
                  "original": 0.0668273152810005,
                  "_deepnote_index_column": 134
                },
                {
                  "original": -0.07636160156232419,
                  "_deepnote_index_column": 135
                },
                {
                  "original": 0.006780427210206962,
                  "_deepnote_index_column": 136
                },
                {
                  "original": 0.056213019786582434,
                  "_deepnote_index_column": 137
                },
                {
                  "original": -0.07193209219325467,
                  "_deepnote_index_column": 138
                },
                {
                  "original": -0.4262434658822203,
                  "_deepnote_index_column": 139
                },
                {
                  "original": 1,
                  "_deepnote_index_column": 140
                },
                {
                  "original": 0.16935030079231958,
                  "_deepnote_index_column": 141
                },
                {
                  "original": 0.01966605416055963,
                  "_deepnote_index_column": 142
                },
                {
                  "original": 0.3528092297713504,
                  "_deepnote_index_column": 143
                },
                {
                  "original": 0.04787504959281432,
                  "_deepnote_index_column": 144
                },
                {
                  "original": -0.10450142046307852,
                  "_deepnote_index_column": 145
                },
                {
                  "original": -0.06549083381798451,
                  "_deepnote_index_column": 146
                },
                {
                  "original": 0.011893600984404614,
                  "_deepnote_index_column": 147
                },
                {
                  "original": 0.09179799348669979,
                  "_deepnote_index_column": 148
                },
                {
                  "original": -0.14875723141795694,
                  "_deepnote_index_column": 149
                },
                {
                  "original": -0.06414385681511123,
                  "_deepnote_index_column": 150
                },
                {
                  "original": -0.03783196591021768,
                  "_deepnote_index_column": 151
                },
                {
                  "original": 0.05545294019041422,
                  "_deepnote_index_column": 152
                },
                {
                  "original": 0.16935030079231958,
                  "_deepnote_index_column": 153
                },
                {
                  "original": 1,
                  "_deepnote_index_column": 154
                },
                {
                  "original": -0.03496974796863292,
                  "_deepnote_index_column": 155
                },
                {
                  "original": -0.10055495799429831,
                  "_deepnote_index_column": 156
                },
                {
                  "original": 0.02923917237500974,
                  "_deepnote_index_column": 157
                },
                {
                  "original": -0.0857325495675663,
                  "_deepnote_index_column": 158
                },
                {
                  "original": 0.03250166822584979,
                  "_deepnote_index_column": 159
                },
                {
                  "original": 0.07123213692913491,
                  "_deepnote_index_column": 160
                },
                {
                  "original": -0.14380579810862198,
                  "_deepnote_index_column": 161
                },
                {
                  "original": 0.02006830943652244,
                  "_deepnote_index_column": 162
                },
                {
                  "original": 0.06952271332391852,
                  "_deepnote_index_column": 163
                },
                {
                  "original": 0.0575573683776037,
                  "_deepnote_index_column": 164
                },
                {
                  "original": 0.09744369509901656,
                  "_deepnote_index_column": 165
                },
                {
                  "original": 0.01966605416055963,
                  "_deepnote_index_column": 166
                },
                {
                  "original": -0.03496974796863292,
                  "_deepnote_index_column": 167
                },
                {
                  "original": 1,
                  "_deepnote_index_column": 168
                }
              ],
              "rows_bottom": null
            },
            "text/plain": "     original\n0    1.000000\n1   -0.141135\n2    0.066881\n3    0.240272\n4    0.112610\n..        ...\n164  0.057557\n165  0.097444\n166  0.019666\n167 -0.034970\n168  1.000000\n\n[169 rows x 1 columns]",
            "text/html": "<div>\n<style scoped>\n    .dataframe tbody tr th:only-of-type {\n        vertical-align: middle;\n    }\n\n    .dataframe tbody tr th {\n        vertical-align: top;\n    }\n\n    .dataframe thead th {\n        text-align: right;\n    }\n</style>\n<table border=\"1\" class=\"dataframe\">\n  <thead>\n    <tr style=\"text-align: right;\">\n      <th></th>\n      <th>original</th>\n    </tr>\n  </thead>\n  <tbody>\n    <tr>\n      <th>0</th>\n      <td>1.000000</td>\n    </tr>\n    <tr>\n      <th>1</th>\n      <td>-0.141135</td>\n    </tr>\n    <tr>\n      <th>2</th>\n      <td>0.066881</td>\n    </tr>\n    <tr>\n      <th>3</th>\n      <td>0.240272</td>\n    </tr>\n    <tr>\n      <th>4</th>\n      <td>0.112610</td>\n    </tr>\n    <tr>\n      <th>...</th>\n      <td>...</td>\n    </tr>\n    <tr>\n      <th>164</th>\n      <td>0.057557</td>\n    </tr>\n    <tr>\n      <th>165</th>\n      <td>0.097444</td>\n    </tr>\n    <tr>\n      <th>166</th>\n      <td>0.019666</td>\n    </tr>\n    <tr>\n      <th>167</th>\n      <td>-0.034970</td>\n    </tr>\n    <tr>\n      <th>168</th>\n      <td>1.000000</td>\n    </tr>\n  </tbody>\n</table>\n<p>169 rows × 1 columns</p>\n</div>"
          },
          "metadata": {}
        }
      ]
    },
    {
      "cell_type": "code",
      "metadata": {
        "tags": [],
        "cell_id": "00070-0e73eb4a-39e5-4e78-a9a4-e38c47ff32ea",
        "deepnote_to_be_reexecuted": false,
        "source_hash": "541ff81f",
        "execution_millis": 36,
        "execution_start": 1615383049629,
        "deepnote_cell_type": "code"
      },
      "source": "original_data.drop(columns = 'thal', inplace = True)",
      "execution_count": null,
      "outputs": [
        {
          "output_type": "error",
          "ename": "KeyError",
          "evalue": "\"['thal'] not found in axis\"",
          "traceback": [
            "\u001b[0;31m---------------------------------------------------------------------------\u001b[0m",
            "\u001b[0;31mKeyError\u001b[0m                                  Traceback (most recent call last)",
            "\u001b[0;32m<ipython-input-56-04811de83cb3>\u001b[0m in \u001b[0;36m<module>\u001b[0;34m\u001b[0m\n\u001b[0;32m----> 1\u001b[0;31m \u001b[0moriginal_data\u001b[0m\u001b[0;34m.\u001b[0m\u001b[0mdrop\u001b[0m\u001b[0;34m(\u001b[0m\u001b[0mcolumns\u001b[0m \u001b[0;34m=\u001b[0m \u001b[0;34m'thal'\u001b[0m\u001b[0;34m,\u001b[0m \u001b[0minplace\u001b[0m \u001b[0;34m=\u001b[0m \u001b[0;32mTrue\u001b[0m\u001b[0;34m)\u001b[0m\u001b[0;34m\u001b[0m\u001b[0;34m\u001b[0m\u001b[0m\n\u001b[0m",
            "\u001b[0;32m/shared-libs/python3.7/py/lib/python3.7/site-packages/pandas/core/frame.py\u001b[0m in \u001b[0;36mdrop\u001b[0;34m(self, labels, axis, index, columns, level, inplace, errors)\u001b[0m\n\u001b[1;32m   4313\u001b[0m             \u001b[0mlevel\u001b[0m\u001b[0;34m=\u001b[0m\u001b[0mlevel\u001b[0m\u001b[0;34m,\u001b[0m\u001b[0;34m\u001b[0m\u001b[0;34m\u001b[0m\u001b[0m\n\u001b[1;32m   4314\u001b[0m             \u001b[0minplace\u001b[0m\u001b[0;34m=\u001b[0m\u001b[0minplace\u001b[0m\u001b[0;34m,\u001b[0m\u001b[0;34m\u001b[0m\u001b[0;34m\u001b[0m\u001b[0m\n\u001b[0;32m-> 4315\u001b[0;31m             \u001b[0merrors\u001b[0m\u001b[0;34m=\u001b[0m\u001b[0merrors\u001b[0m\u001b[0;34m,\u001b[0m\u001b[0;34m\u001b[0m\u001b[0;34m\u001b[0m\u001b[0m\n\u001b[0m\u001b[1;32m   4316\u001b[0m         )\n\u001b[1;32m   4317\u001b[0m \u001b[0;34m\u001b[0m\u001b[0m\n",
            "\u001b[0;32m/shared-libs/python3.7/py/lib/python3.7/site-packages/pandas/core/generic.py\u001b[0m in \u001b[0;36mdrop\u001b[0;34m(self, labels, axis, index, columns, level, inplace, errors)\u001b[0m\n\u001b[1;32m   4151\u001b[0m         \u001b[0;32mfor\u001b[0m \u001b[0maxis\u001b[0m\u001b[0;34m,\u001b[0m \u001b[0mlabels\u001b[0m \u001b[0;32min\u001b[0m \u001b[0maxes\u001b[0m\u001b[0;34m.\u001b[0m\u001b[0mitems\u001b[0m\u001b[0;34m(\u001b[0m\u001b[0;34m)\u001b[0m\u001b[0;34m:\u001b[0m\u001b[0;34m\u001b[0m\u001b[0;34m\u001b[0m\u001b[0m\n\u001b[1;32m   4152\u001b[0m             \u001b[0;32mif\u001b[0m \u001b[0mlabels\u001b[0m \u001b[0;32mis\u001b[0m \u001b[0;32mnot\u001b[0m \u001b[0;32mNone\u001b[0m\u001b[0;34m:\u001b[0m\u001b[0;34m\u001b[0m\u001b[0;34m\u001b[0m\u001b[0m\n\u001b[0;32m-> 4153\u001b[0;31m                 \u001b[0mobj\u001b[0m \u001b[0;34m=\u001b[0m \u001b[0mobj\u001b[0m\u001b[0;34m.\u001b[0m\u001b[0m_drop_axis\u001b[0m\u001b[0;34m(\u001b[0m\u001b[0mlabels\u001b[0m\u001b[0;34m,\u001b[0m \u001b[0maxis\u001b[0m\u001b[0;34m,\u001b[0m \u001b[0mlevel\u001b[0m\u001b[0;34m=\u001b[0m\u001b[0mlevel\u001b[0m\u001b[0;34m,\u001b[0m \u001b[0merrors\u001b[0m\u001b[0;34m=\u001b[0m\u001b[0merrors\u001b[0m\u001b[0;34m)\u001b[0m\u001b[0;34m\u001b[0m\u001b[0;34m\u001b[0m\u001b[0m\n\u001b[0m\u001b[1;32m   4154\u001b[0m \u001b[0;34m\u001b[0m\u001b[0m\n\u001b[1;32m   4155\u001b[0m         \u001b[0;32mif\u001b[0m \u001b[0minplace\u001b[0m\u001b[0;34m:\u001b[0m\u001b[0;34m\u001b[0m\u001b[0;34m\u001b[0m\u001b[0m\n",
            "\u001b[0;32m/shared-libs/python3.7/py/lib/python3.7/site-packages/pandas/core/generic.py\u001b[0m in \u001b[0;36m_drop_axis\u001b[0;34m(self, labels, axis, level, errors)\u001b[0m\n\u001b[1;32m   4186\u001b[0m                 \u001b[0mnew_axis\u001b[0m \u001b[0;34m=\u001b[0m \u001b[0maxis\u001b[0m\u001b[0;34m.\u001b[0m\u001b[0mdrop\u001b[0m\u001b[0;34m(\u001b[0m\u001b[0mlabels\u001b[0m\u001b[0;34m,\u001b[0m \u001b[0mlevel\u001b[0m\u001b[0;34m=\u001b[0m\u001b[0mlevel\u001b[0m\u001b[0;34m,\u001b[0m \u001b[0merrors\u001b[0m\u001b[0;34m=\u001b[0m\u001b[0merrors\u001b[0m\u001b[0;34m)\u001b[0m\u001b[0;34m\u001b[0m\u001b[0;34m\u001b[0m\u001b[0m\n\u001b[1;32m   4187\u001b[0m             \u001b[0;32melse\u001b[0m\u001b[0;34m:\u001b[0m\u001b[0;34m\u001b[0m\u001b[0;34m\u001b[0m\u001b[0m\n\u001b[0;32m-> 4188\u001b[0;31m                 \u001b[0mnew_axis\u001b[0m \u001b[0;34m=\u001b[0m \u001b[0maxis\u001b[0m\u001b[0;34m.\u001b[0m\u001b[0mdrop\u001b[0m\u001b[0;34m(\u001b[0m\u001b[0mlabels\u001b[0m\u001b[0;34m,\u001b[0m \u001b[0merrors\u001b[0m\u001b[0;34m=\u001b[0m\u001b[0merrors\u001b[0m\u001b[0;34m)\u001b[0m\u001b[0;34m\u001b[0m\u001b[0;34m\u001b[0m\u001b[0m\n\u001b[0m\u001b[1;32m   4189\u001b[0m             \u001b[0mresult\u001b[0m \u001b[0;34m=\u001b[0m \u001b[0mself\u001b[0m\u001b[0;34m.\u001b[0m\u001b[0mreindex\u001b[0m\u001b[0;34m(\u001b[0m\u001b[0;34m**\u001b[0m\u001b[0;34m{\u001b[0m\u001b[0maxis_name\u001b[0m\u001b[0;34m:\u001b[0m \u001b[0mnew_axis\u001b[0m\u001b[0;34m}\u001b[0m\u001b[0;34m)\u001b[0m\u001b[0;34m\u001b[0m\u001b[0;34m\u001b[0m\u001b[0m\n\u001b[1;32m   4190\u001b[0m \u001b[0;34m\u001b[0m\u001b[0m\n",
            "\u001b[0;32m/shared-libs/python3.7/py/lib/python3.7/site-packages/pandas/core/indexes/base.py\u001b[0m in \u001b[0;36mdrop\u001b[0;34m(self, labels, errors)\u001b[0m\n\u001b[1;32m   5589\u001b[0m         \u001b[0;32mif\u001b[0m \u001b[0mmask\u001b[0m\u001b[0;34m.\u001b[0m\u001b[0many\u001b[0m\u001b[0;34m(\u001b[0m\u001b[0;34m)\u001b[0m\u001b[0;34m:\u001b[0m\u001b[0;34m\u001b[0m\u001b[0;34m\u001b[0m\u001b[0m\n\u001b[1;32m   5590\u001b[0m             \u001b[0;32mif\u001b[0m \u001b[0merrors\u001b[0m \u001b[0;34m!=\u001b[0m \u001b[0;34m\"ignore\"\u001b[0m\u001b[0;34m:\u001b[0m\u001b[0;34m\u001b[0m\u001b[0;34m\u001b[0m\u001b[0m\n\u001b[0;32m-> 5591\u001b[0;31m                 \u001b[0;32mraise\u001b[0m \u001b[0mKeyError\u001b[0m\u001b[0;34m(\u001b[0m\u001b[0;34mf\"{labels[mask]} not found in axis\"\u001b[0m\u001b[0;34m)\u001b[0m\u001b[0;34m\u001b[0m\u001b[0;34m\u001b[0m\u001b[0m\n\u001b[0m\u001b[1;32m   5592\u001b[0m             \u001b[0mindexer\u001b[0m \u001b[0;34m=\u001b[0m \u001b[0mindexer\u001b[0m\u001b[0;34m[\u001b[0m\u001b[0;34m~\u001b[0m\u001b[0mmask\u001b[0m\u001b[0;34m]\u001b[0m\u001b[0;34m\u001b[0m\u001b[0;34m\u001b[0m\u001b[0m\n\u001b[1;32m   5593\u001b[0m         \u001b[0;32mreturn\u001b[0m \u001b[0mself\u001b[0m\u001b[0;34m.\u001b[0m\u001b[0mdelete\u001b[0m\u001b[0;34m(\u001b[0m\u001b[0mindexer\u001b[0m\u001b[0;34m)\u001b[0m\u001b[0;34m\u001b[0m\u001b[0;34m\u001b[0m\u001b[0m\n",
            "\u001b[0;31mKeyError\u001b[0m: \"['thal'] not found in axis\""
          ]
        }
      ]
    },
    {
      "cell_type": "code",
      "metadata": {
        "tags": [],
        "cell_id": "00071-a40de998-75ed-4db3-bdbc-0655bd860c9e",
        "deepnote_to_be_reexecuted": false,
        "source_hash": "590c2ad1",
        "execution_millis": 9,
        "execution_start": 1615383540230,
        "deepnote_cell_type": "code"
      },
      "source": "original_data = df.copy()\n",
      "execution_count": null,
      "outputs": []
    },
    {
      "cell_type": "code",
      "metadata": {
        "tags": [],
        "cell_id": "00073-da9af26e-6f08-445a-8711-9e616645ced1",
        "deepnote_to_be_reexecuted": false,
        "source_hash": "25a1b843",
        "execution_millis": 1,
        "execution_start": 1615383560216,
        "deepnote_cell_type": "code"
      },
      "source": "df = df.drop(columns = ['thal'])",
      "execution_count": null,
      "outputs": []
    },
    {
      "cell_type": "code",
      "metadata": {
        "tags": [],
        "cell_id": "00052-ab143ba5-b680-48e3-bffe-d08b6459f1aa",
        "deepnote_to_be_reexecuted": false,
        "source_hash": "66b3f783",
        "execution_millis": 26,
        "execution_start": 1615386698223,
        "deepnote_cell_type": "code"
      },
      "source": "descriptive_stats_all_runs = []\noriginal_data = df.copy()\nfor run in range(number_of_runs):\n    \n    synth_df = synthetic_data[run]\n    synth_df.rename(columns = {'label':'target'}, inplace = True)\n  \n    descriptive_stats = pd.DataFrame()\n\n    descriptive_stats['Original pos_label mean'] = \\\n        original_data[original_data['target'] == 1].mean()\n\n    descriptive_stats['Synthetic pos_label mean'] = \\\n        synth_df[synth_df['target'] == 1].mean()\n\n    descriptive_stats['Original neg_label mean'] = \\\n        original_data[original_data['target'] == 0].mean()\n\n    descriptive_stats['Synthetic neg_label mean'] = \\\n        synth_df[synth_df['target'] == 0].mean()\n\n    descriptive_stats['Original pos_label std'] = \\\n        original_data[original_data['target'] == 1].std()\n\n    descriptive_stats['Synthetic pos_label std'] = \\\n        synth_df[synth_df['target'] == 1].std()\n\n    descriptive_stats['Original neg_label std'] = \\\n        original_data[original_data['target'] == 0].std()\n\n    descriptive_stats['Synthetic neg_label std'] = \\\n        synth_df[synth_df['target'] == 0].std()\n    \n    descriptive_stats_all_runs.append(descriptive_stats)",
      "execution_count": null,
      "outputs": []
    },
    {
      "cell_type": "code",
      "metadata": {
        "tags": [],
        "cell_id": "00072-1088e294-269e-40be-a99a-15d4ec0fded1",
        "deepnote_to_be_reexecuted": false,
        "source_hash": "ee5c0f73",
        "execution_start": 1615387156925,
        "execution_millis": 26,
        "deepnote_cell_type": "code"
      },
      "source": "col_names",
      "execution_count": null,
      "outputs": [
        {
          "output_type": "execute_result",
          "execution_count": 117,
          "data": {
            "text/plain": "Index(['age', 'sex', 'trestbps', 'chol', 'fbs', 'thalach', 'exang', 'oldpeak',\n       'cp_0', 'cp_1', 'cp_2', 'cp_3', 'restecg_0', 'restecg_1', 'restecg_2',\n       'slope_0', 'slope_1', 'slope_2', 'ca_0', 'ca_1', 'ca_2', 'ca_3',\n       'ca_4'],\n      dtype='object')"
          },
          "metadata": {}
        }
      ]
    },
    {
      "cell_type": "code",
      "metadata": {
        "tags": [],
        "cell_id": "00054-cdbd68ba-64f7-497c-b7e7-ef89c1f96eb7",
        "deepnote_to_be_reexecuted": false,
        "source_hash": "204222ad",
        "execution_millis": 4452,
        "execution_start": 1615386699892,
        "deepnote_cell_type": "code"
      },
      "source": "colours = ['k', 'b', 'g', 'r', 'y', 'c', 'm']\n\nfig = plt.figure(figsize=(10,10))\n\n# Note: Set x and y limits to avoid plotting values that are very close to zero\n\n# Negative mean\nax1 = fig.add_subplot(221)\nfor run in range(number_of_runs):\n    x = descriptive_stats_all_runs[0]['Original neg_label mean'].copy()\n    y = descriptive_stats_all_runs[run]['Synthetic neg_label mean'].copy()\n    x.drop(labels ='target', inplace=True)\n    y.drop(labels ='target', inplace=True)\n    colour = colours[run % 7] # Cycle through 7 colours\n    ax1.scatter(x,y, color=colour, alpha=0.5)\nax1.set_xlabel('Original data')\nax1.set_ylabel('Synthetic data')\nax1.set_xlim(1e-3, 1e2)\nax1.set_ylim(1e-3, 1e2)\nax1.set_title('Negative label samples mean')\nax1.set_xscale('log')\nax1.set_yscale('log')\nax1.grid()\n\n# Positive mean\nax2 = fig.add_subplot(222)\nfor run in range(number_of_runs):\n    x = descriptive_stats_all_runs[0]['Original pos_label mean'].copy()\n    y = descriptive_stats_all_runs[run]['Synthetic pos_label mean'].copy()\n    x.drop(labels ='target', inplace=True)\n    y.drop(labels ='target', inplace=True)\n    colour = colours[run % 7] # Cycle through 7 colours\n    ax2.scatter(x,y, color=colour, alpha=0.5)\nax2.set_xlabel('Original data')\nax2.set_ylabel('Synthetic data')\nax2.set_title('Positive label samples mean')\nax2.set_xlim(1e-3, 1e2)\nax2.set_ylim(1e-3, 1e2)\nax2.set_xscale('log')\nax2.set_yscale('log')\nax2.grid()\n\n# Negative standard deviation\nax3 = fig.add_subplot(223)\nfor run in range(number_of_runs):\n    x = descriptive_stats_all_runs[0]['Original neg_label std'].copy()\n    y = descriptive_stats_all_runs[run]['Synthetic neg_label std'].copy()\n    x.drop(labels ='target', inplace=True)\n    y.drop(labels ='target', inplace=True)\n    colour = colours[run % 7] # Cycle through 7 colours\n    ax3.scatter(x,y, color=colour, alpha=0.5)\nax3.set_xlabel('Original data')\nax3.set_ylabel('Synthetic data')\nax3.set_title('Negative label standard deviation')\nax3.set_xlim(1e-2, 1e2)\nax3.set_ylim(1e-2, 1e2)\nax3.set_xscale('log')\nax3.set_yscale('log')\nax3.grid()\n\n# Positive standard deviation\nax4 = fig.add_subplot(224)\nfor run in range(number_of_runs):\n    x = descriptive_stats_all_runs[0]['Original pos_label std'].copy()\n    y = descriptive_stats_all_runs[run]['Synthetic pos_label std'].copy()\n    x.drop(labels ='target', inplace=True)\n    y.drop(labels ='target', inplace=True)\n    colour = colours[run % 7] # Cycle through 7 colours\n    ax4.scatter(x,y, color=colour, alpha=0.5)\nax4.set_xlabel('Original data')\nax4.set_ylabel('Synthetic data')\nax4.set_title('Positive label standard deviation')\nax4.set_xlim(1e-2, 1e2)\nax4.set_ylim(1e-2, 1e2)\nax4.set_xscale('log')\nax4.set_yscale('log')\nax4.grid()\n\nplt.tight_layout(pad=2)\nplt.savefig('gan.png', facecolor='w', dpi=300)\n\nplt.show()",
      "execution_count": null,
      "outputs": [
        {
          "data": {
            "text/plain": "<Figure size 720x720 with 4 Axes>",
            "image/png": "[encoded data removed]"
          },
          "metadata": {
            "needs_background": "light"
          },
          "output_type": "display_data"
        }
      ]
    },
    {
      "cell_type": "code",
      "metadata": {
        "tags": [],
        "cell_id": "00072-d6b3df85-1cc3-49da-8534-21b1b5ad8855",
        "deepnote_to_be_reexecuted": false,
        "source_hash": "759c68ba",
        "execution_start": 1615386862839,
        "execution_millis": 50,
        "deepnote_cell_type": "code"
      },
      "source": "descriptive_stats_all_runs[0]",
      "execution_count": null,
      "outputs": [
        {
          "output_type": "execute_result",
          "execution_count": 115,
          "data": {
            "application/vnd.deepnote.dataframe.v2+json": {
              "row_count": 25,
              "column_count": 8,
              "columns": [
                {
                  "name": "Original pos_label mean",
                  "dtype": "float64",
                  "stats": {
                    "unique_count": 24,
                    "nan_count": 0,
                    "min": 0.006060606060606061,
                    "max": 242.23030303030302,
                    "histogram": [
                      {
                        "bin_start": 0.006060606060606061,
                        "bin_end": 24.22848484848485,
                        "count": 21
                      },
                      {
                        "bin_start": 24.22848484848485,
                        "bin_end": 48.45090909090909,
                        "count": 0
                      },
                      {
                        "bin_start": 48.45090909090909,
                        "bin_end": 72.67333333333333,
                        "count": 1
                      },
                      {
                        "bin_start": 72.67333333333333,
                        "bin_end": 96.89575757575757,
                        "count": 0
                      },
                      {
                        "bin_start": 96.89575757575757,
                        "bin_end": 121.11818181818181,
                        "count": 0
                      },
                      {
                        "bin_start": 121.11818181818181,
                        "bin_end": 145.34060606060606,
                        "count": 1
                      },
                      {
                        "bin_start": 145.34060606060606,
                        "bin_end": 169.5630303030303,
                        "count": 1
                      },
                      {
                        "bin_start": 169.5630303030303,
                        "bin_end": 193.78545454545454,
                        "count": 0
                      },
                      {
                        "bin_start": 193.78545454545454,
                        "bin_end": 218.00787878787878,
                        "count": 0
                      },
                      {
                        "bin_start": 218.00787878787878,
                        "bin_end": 242.23030303030302,
                        "count": 1
                      }
                    ]
                  }
                },
                {
                  "name": "Synthetic pos_label mean",
                  "dtype": "float64",
                  "stats": {
                    "unique_count": 9,
                    "nan_count": 16,
                    "min": 0.0927714369930327,
                    "max": 237.562,
                    "histogram": [
                      {
                        "bin_start": 0.0927714369930327,
                        "bin_end": 23.839694293293732,
                        "count": 5
                      },
                      {
                        "bin_start": 23.839694293293732,
                        "bin_end": 47.58661714959443,
                        "count": 0
                      },
                      {
                        "bin_start": 47.58661714959443,
                        "bin_end": 71.33354000589513,
                        "count": 1
                      },
                      {
                        "bin_start": 71.33354000589513,
                        "bin_end": 95.08046286219583,
                        "count": 0
                      },
                      {
                        "bin_start": 95.08046286219583,
                        "bin_end": 118.82738571849653,
                        "count": 0
                      },
                      {
                        "bin_start": 118.82738571849653,
                        "bin_end": 142.57430857479721,
                        "count": 1
                      },
                      {
                        "bin_start": 142.57430857479721,
                        "bin_end": 166.3212314310979,
                        "count": 0
                      },
                      {
                        "bin_start": 166.3212314310979,
                        "bin_end": 190.0681542873986,
                        "count": 1
                      },
                      {
                        "bin_start": 190.0681542873986,
                        "bin_end": 213.8150771436993,
                        "count": 0
                      },
                      {
                        "bin_start": 213.8150771436993,
                        "bin_end": 237.562,
                        "count": 1
                      }
                    ]
                  }
                },
                {
                  "name": "Original neg_label mean",
                  "dtype": "float64",
                  "stats": {
                    "unique_count": 25,
                    "nan_count": 0,
                    "min": 0,
                    "max": 251.08695652173913,
                    "histogram": [
                      {
                        "bin_start": 0,
                        "bin_end": 25.108695652173914,
                        "count": 21
                      },
                      {
                        "bin_start": 25.108695652173914,
                        "bin_end": 50.21739130434783,
                        "count": 0
                      },
                      {
                        "bin_start": 50.21739130434783,
                        "bin_end": 75.32608695652175,
                        "count": 1
                      },
                      {
                        "bin_start": 75.32608695652175,
                        "bin_end": 100.43478260869566,
                        "count": 0
                      },
                      {
                        "bin_start": 100.43478260869566,
                        "bin_end": 125.54347826086956,
                        "count": 0
                      },
                      {
                        "bin_start": 125.54347826086956,
                        "bin_end": 150.6521739130435,
                        "count": 2
                      },
                      {
                        "bin_start": 150.6521739130435,
                        "bin_end": 175.7608695652174,
                        "count": 0
                      },
                      {
                        "bin_start": 175.7608695652174,
                        "bin_end": 200.8695652173913,
                        "count": 0
                      },
                      {
                        "bin_start": 200.8695652173913,
                        "bin_end": 225.97826086956522,
                        "count": 0
                      },
                      {
                        "bin_start": 225.97826086956522,
                        "bin_end": 251.08695652173913,
                        "count": 1
                      }
                    ]
                  }
                },
                {
                  "name": "Synthetic neg_label mean",
                  "dtype": "float64",
                  "stats": {
                    "unique_count": 9,
                    "nan_count": 16,
                    "min": -1.482,
                    "max": 276.978,
                    "histogram": [
                      {
                        "bin_start": -1.482,
                        "bin_end": 26.364000000000004,
                        "count": 5
                      },
                      {
                        "bin_start": 26.364000000000004,
                        "bin_end": 54.21000000000001,
                        "count": 0
                      },
                      {
                        "bin_start": 54.21000000000001,
                        "bin_end": 82.05600000000001,
                        "count": 1
                      },
                      {
                        "bin_start": 82.05600000000001,
                        "bin_end": 109.90200000000002,
                        "count": 0
                      },
                      {
                        "bin_start": 109.90200000000002,
                        "bin_end": 137.74800000000002,
                        "count": 0
                      },
                      {
                        "bin_start": 137.74800000000002,
                        "bin_end": 165.59400000000002,
                        "count": 1
                      },
                      {
                        "bin_start": 165.59400000000002,
                        "bin_end": 193.44000000000003,
                        "count": 1
                      },
                      {
                        "bin_start": 193.44000000000003,
                        "bin_end": 221.28600000000003,
                        "count": 0
                      },
                      {
                        "bin_start": 221.28600000000003,
                        "bin_end": 249.13200000000003,
                        "count": 0
                      },
                      {
                        "bin_start": 249.13200000000003,
                        "bin_end": 276.978,
                        "count": 1
                      }
                    ]
                  }
                },
                {
                  "name": "Original pos_label std",
                  "dtype": "float64",
                  "stats": {
                    "unique_count": 24,
                    "nan_count": 0,
                    "min": 0,
                    "max": 53.55287155453833,
                    "histogram": [
                      {
                        "bin_start": 0,
                        "bin_end": 5.355287155453833,
                        "count": 21
                      },
                      {
                        "bin_start": 5.355287155453833,
                        "bin_end": 10.710574310907665,
                        "count": 1
                      },
                      {
                        "bin_start": 10.710574310907665,
                        "bin_end": 16.065861466361497,
                        "count": 0
                      },
                      {
                        "bin_start": 16.065861466361497,
                        "bin_end": 21.42114862181533,
                        "count": 2
                      },
                      {
                        "bin_start": 21.42114862181533,
                        "bin_end": 26.776435777269164,
                        "count": 0
                      },
                      {
                        "bin_start": 26.776435777269164,
                        "bin_end": 32.131722932722994,
                        "count": 0
                      },
                      {
                        "bin_start": 32.131722932722994,
                        "bin_end": 37.48701008817683,
                        "count": 0
                      },
                      {
                        "bin_start": 37.48701008817683,
                        "bin_end": 42.84229724363066,
                        "count": 0
                      },
                      {
                        "bin_start": 42.84229724363066,
                        "bin_end": 48.19758439908449,
                        "count": 0
                      },
                      {
                        "bin_start": 48.19758439908449,
                        "bin_end": 53.55287155453833,
                        "count": 1
                      }
                    ]
                  }
                },
                {
                  "name": "Synthetic pos_label std",
                  "dtype": "float64",
                  "stats": {
                    "unique_count": 9,
                    "nan_count": 16,
                    "min": 0,
                    "max": 41.01121890502739,
                    "histogram": [
                      {
                        "bin_start": 0,
                        "bin_end": 4.101121890502739,
                        "count": 5
                      },
                      {
                        "bin_start": 4.101121890502739,
                        "bin_end": 8.202243781005478,
                        "count": 0
                      },
                      {
                        "bin_start": 8.202243781005478,
                        "bin_end": 12.303365671508217,
                        "count": 1
                      },
                      {
                        "bin_start": 12.303365671508217,
                        "bin_end": 16.404487562010956,
                        "count": 0
                      },
                      {
                        "bin_start": 16.404487562010956,
                        "bin_end": 20.505609452513696,
                        "count": 0
                      },
                      {
                        "bin_start": 20.505609452513696,
                        "bin_end": 24.606731343016435,
                        "count": 1
                      },
                      {
                        "bin_start": 24.606731343016435,
                        "bin_end": 28.707853233519174,
                        "count": 0
                      },
                      {
                        "bin_start": 28.707853233519174,
                        "bin_end": 32.80897512402191,
                        "count": 1
                      },
                      {
                        "bin_start": 32.80897512402191,
                        "bin_end": 36.91009701452465,
                        "count": 0
                      },
                      {
                        "bin_start": 36.91009701452465,
                        "bin_end": 41.01121890502739,
                        "count": 1
                      }
                    ]
                  }
                },
                {
                  "name": "Original neg_label std",
                  "dtype": "float64",
                  "stats": {
                    "unique_count": 25,
                    "nan_count": 0,
                    "min": 0,
                    "max": 49.45461360407159,
                    "histogram": [
                      {
                        "bin_start": 0,
                        "bin_end": 4.945461360407159,
                        "count": 21
                      },
                      {
                        "bin_start": 4.945461360407159,
                        "bin_end": 9.890922720814318,
                        "count": 1
                      },
                      {
                        "bin_start": 9.890922720814318,
                        "bin_end": 14.836384081221478,
                        "count": 0
                      },
                      {
                        "bin_start": 14.836384081221478,
                        "bin_end": 19.781845441628636,
                        "count": 1
                      },
                      {
                        "bin_start": 19.781845441628636,
                        "bin_end": 24.727306802035795,
                        "count": 1
                      },
                      {
                        "bin_start": 24.727306802035795,
                        "bin_end": 29.672768162442956,
                        "count": 0
                      },
                      {
                        "bin_start": 29.672768162442956,
                        "bin_end": 34.618229522850115,
                        "count": 0
                      },
                      {
                        "bin_start": 34.618229522850115,
                        "bin_end": 39.56369088325727,
                        "count": 0
                      },
                      {
                        "bin_start": 39.56369088325727,
                        "bin_end": 44.50915224366443,
                        "count": 0
                      },
                      {
                        "bin_start": 44.50915224366443,
                        "bin_end": 49.45461360407159,
                        "count": 1
                      }
                    ]
                  }
                },
                {
                  "name": "Synthetic neg_label std",
                  "dtype": "float64",
                  "stats": {
                    "unique_count": 9,
                    "nan_count": 16,
                    "min": 0,
                    "max": 59.93088708860588,
                    "histogram": [
                      {
                        "bin_start": 0,
                        "bin_end": 5.993088708860588,
                        "count": 5
                      },
                      {
                        "bin_start": 5.993088708860588,
                        "bin_end": 11.986177417721176,
                        "count": 0
                      },
                      {
                        "bin_start": 11.986177417721176,
                        "bin_end": 17.979266126581763,
                        "count": 1
                      },
                      {
                        "bin_start": 17.979266126581763,
                        "bin_end": 23.972354835442353,
                        "count": 0
                      },
                      {
                        "bin_start": 23.972354835442353,
                        "bin_end": 29.965443544302943,
                        "count": 0
                      },
                      {
                        "bin_start": 29.965443544302943,
                        "bin_end": 35.958532253163526,
                        "count": 1
                      },
                      {
                        "bin_start": 35.958532253163526,
                        "bin_end": 41.951620962024116,
                        "count": 1
                      },
                      {
                        "bin_start": 41.951620962024116,
                        "bin_end": 47.944709670884706,
                        "count": 0
                      },
                      {
                        "bin_start": 47.944709670884706,
                        "bin_end": 53.937798379745296,
                        "count": 0
                      },
                      {
                        "bin_start": 53.937798379745296,
                        "bin_end": 59.93088708860588,
                        "count": 1
                      }
                    ]
                  }
                },
                {
                  "name": "_deepnote_index_column",
                  "dtype": "object"
                }
              ],
              "rows_top": [
                {
                  "Original pos_label mean": 52.4969696969697,
                  "Synthetic pos_label mean": "55.418",
                  "Original neg_label mean": 56.60144927536232,
                  "Synthetic neg_label mean": "71.022",
                  "Original pos_label std": 9.550650751946774,
                  "Synthetic pos_label std": "9.122526870143847",
                  "Original neg_label std": 7.96208153750117,
                  "Synthetic neg_label std": "15.535084642667861",
                  "_deepnote_index_column": "age"
                },
                {
                  "Original pos_label mean": 0.5636363636363636,
                  "Synthetic pos_label mean": "0.0927714369930327",
                  "Original neg_label mean": 0.8260869565217391,
                  "Synthetic neg_label mean": "0.1398667258247733",
                  "Original pos_label std": 0.49744357555882157,
                  "Synthetic pos_label std": "0.20512802443256153",
                  "Original neg_label std": 0.38041551386121214,
                  "Synthetic neg_label std": "0.2632549493034534",
                  "_deepnote_index_column": "sex"
                },
                {
                  "Original pos_label mean": 129.3030303030303,
                  "Synthetic pos_label mean": "138.303",
                  "Original neg_label mean": 134.3985507246377,
                  "Synthetic neg_label mean": "143.081",
                  "Original pos_label std": 16.169613266874865,
                  "Synthetic pos_label std": "22.880049993120373",
                  "Original neg_label std": 18.72994396158135,
                  "Synthetic neg_label std": "30.759495860393837",
                  "_deepnote_index_column": "trestbps"
                },
                {
                  "Original pos_label mean": 242.23030303030302,
                  "Synthetic pos_label mean": "237.562",
                  "Original neg_label mean": 251.08695652173913,
                  "Synthetic neg_label mean": "276.978",
                  "Original pos_label std": 53.55287155453833,
                  "Synthetic pos_label std": "41.01121890502739",
                  "Original neg_label std": 49.45461360407159,
                  "Synthetic neg_label std": "59.93088708860588",
                  "_deepnote_index_column": "chol"
                },
                {
                  "Original pos_label mean": 0.1393939393939394,
                  "Synthetic pos_label mean": "0.9893734621703625",
                  "Original neg_label mean": 0.15942028985507245,
                  "Synthetic neg_label mean": "9.29233431816101e-06",
                  "Original pos_label std": 0.34741150297891615,
                  "Synthetic pos_label std": "0.06262929188017481",
                  "Original neg_label std": 0.3674011473702368,
                  "Synthetic neg_label std": "0.00029384941225136526",
                  "_deepnote_index_column": "fbs"
                },
                {
                  "Original pos_label mean": 158.46666666666667,
                  "Synthetic pos_label mean": "177.136",
                  "Original neg_label mean": 139.1014492753623,
                  "Synthetic neg_label mean": "171.72",
                  "Original pos_label std": 19.174275619393168,
                  "Synthetic pos_label std": "30.205229015186426",
                  "Original neg_label std": 22.598782298785906,
                  "Synthetic neg_label std": "37.96913556107454",
                  "_deepnote_index_column": "thalach"
                },
                {
                  "Original pos_label mean": 0.1393939393939394,
                  "Synthetic pos_label mean": "0.5962780662365258",
                  "Original neg_label mean": 0.5507246376811594,
                  "Synthetic neg_label mean": "0.7714987516254187",
                  "Original pos_label std": 0.34741150297891615,
                  "Synthetic pos_label std": "0.35463960842408343",
                  "Original neg_label std": 0.4992324585899055,
                  "Synthetic neg_label std": "0.3455490303643614",
                  "_deepnote_index_column": "exang"
                },
                {
                  "Original pos_label mean": 0.583030303030303,
                  "Synthetic pos_label mean": "1.772",
                  "Original neg_label mean": 1.5855072463768116,
                  "Synthetic neg_label mean": "-1.482",
                  "Original pos_label std": 0.7806832719018298,
                  "Synthetic pos_label std": "0.6815280481979303",
                  "Original neg_label std": 1.300339693105365,
                  "Synthetic neg_label std": "0.5966841979070939",
                  "_deepnote_index_column": "oldpeak"
                },
                {
                  "Original pos_label mean": 2.121212121212121,
                  "Synthetic pos_label mean": "nan",
                  "Original neg_label mean": 2.5434782608695654,
                  "Synthetic neg_label mean": "nan",
                  "Original pos_label std": 0.46575245686060807,
                  "Synthetic pos_label std": "nan",
                  "Original neg_label std": 0.6847618288848198,
                  "Synthetic neg_label std": "nan",
                  "_deepnote_index_column": "thal"
                },
                {
                  "Original pos_label mean": 1,
                  "Synthetic pos_label mean": "1.0",
                  "Original neg_label mean": 0,
                  "Synthetic neg_label mean": "0.0",
                  "Original pos_label std": 0,
                  "Synthetic pos_label std": "0.0",
                  "Original neg_label std": 0,
                  "Synthetic neg_label std": "0.0",
                  "_deepnote_index_column": "target"
                },
                {
                  "Original pos_label mean": 0.23636363636363636,
                  "Synthetic pos_label mean": "nan",
                  "Original neg_label mean": 0.7536231884057971,
                  "Synthetic neg_label mean": "nan",
                  "Original pos_label std": 0.42614135252068613,
                  "Synthetic pos_label std": "nan",
                  "Original neg_label std": 0.4324703137847595,
                  "Synthetic neg_label std": "nan",
                  "_deepnote_index_column": "cp_0"
                },
                {
                  "Original pos_label mean": 0.24848484848484848,
                  "Synthetic pos_label mean": "nan",
                  "Original neg_label mean": 0.06521739130434782,
                  "Synthetic neg_label mean": "nan",
                  "Original pos_label std": 0.4334498677803327,
                  "Synthetic pos_label std": "nan",
                  "Original neg_label std": 0.2478085480439607,
                  "Synthetic neg_label std": "nan",
                  "_deepnote_index_column": "cp_1"
                },
                {
                  "Original pos_label mean": 0.41818181818181815,
                  "Synthetic pos_label mean": "nan",
                  "Original neg_label mean": 0.13043478260869565,
                  "Synthetic neg_label mean": "nan",
                  "Original pos_label std": 0.4947619194971243,
                  "Synthetic pos_label std": "nan",
                  "Original neg_label std": 0.3380080540767562,
                  "Synthetic neg_label std": "nan",
                  "_deepnote_index_column": "cp_2"
                },
                {
                  "Original pos_label mean": 0.09696969696969697,
                  "Synthetic pos_label mean": "nan",
                  "Original neg_label mean": 0.050724637681159424,
                  "Synthetic neg_label mean": "nan",
                  "Original pos_label std": 0.2968173131217417,
                  "Synthetic pos_label std": "nan",
                  "Original neg_label std": 0.2202342405313545,
                  "Synthetic neg_label std": "nan",
                  "_deepnote_index_column": "cp_3"
                },
                {
                  "Original pos_label mean": 0.4121212121212121,
                  "Synthetic pos_label mean": "nan",
                  "Original neg_label mean": 0.572463768115942,
                  "Synthetic neg_label mean": "nan",
                  "Original pos_label std": 0.4937151196432772,
                  "Synthetic pos_label std": "nan",
                  "Original neg_label std": 0.49652340466326295,
                  "Synthetic neg_label std": "nan",
                  "_deepnote_index_column": "restecg_0"
                },
                {
                  "Original pos_label mean": 0.5818181818181818,
                  "Synthetic pos_label mean": "nan",
                  "Original neg_label mean": 0.4057971014492754,
                  "Synthetic neg_label mean": "nan",
                  "Original pos_label std": 0.4947619194971244,
                  "Synthetic pos_label std": "nan",
                  "Original neg_label std": 0.4928345121254213,
                  "Synthetic neg_label std": "nan",
                  "_deepnote_index_column": "restecg_1"
                },
                {
                  "Original pos_label mean": 0.006060606060606061,
                  "Synthetic pos_label mean": "nan",
                  "Original neg_label mean": 0.021739130434782608,
                  "Synthetic neg_label mean": "nan",
                  "Original pos_label std": 0.0778498944161523,
                  "Synthetic pos_label std": "nan",
                  "Original neg_label std": 0.14636178075710754,
                  "Synthetic neg_label std": "nan",
                  "_deepnote_index_column": "restecg_2"
                },
                {
                  "Original pos_label mean": 0.05454545454545454,
                  "Synthetic pos_label mean": "nan",
                  "Original neg_label mean": 0.08695652173913043,
                  "Synthetic neg_label mean": "nan",
                  "Original pos_label std": 0.2277821342098376,
                  "Synthetic pos_label std": "nan",
                  "Original neg_label std": 0.2827978274925901,
                  "Synthetic neg_label std": "nan",
                  "_deepnote_index_column": "slope_0"
                },
                {
                  "Original pos_label mean": 0.296969696969697,
                  "Synthetic pos_label mean": "nan",
                  "Original neg_label mean": 0.6594202898550725,
                  "Synthetic neg_label mean": "nan",
                  "Original pos_label std": 0.45831401558429913,
                  "Synthetic pos_label std": "nan",
                  "Original neg_label std": 0.4756306119262881,
                  "Synthetic neg_label std": "nan",
                  "_deepnote_index_column": "slope_1"
                },
                {
                  "Original pos_label mean": 0.6484848484848484,
                  "Synthetic pos_label mean": "nan",
                  "Original neg_label mean": 0.2536231884057971,
                  "Synthetic neg_label mean": "nan",
                  "Original pos_label std": 0.4788968599948576,
                  "Synthetic pos_label std": "nan",
                  "Original neg_label std": 0.4366694486010954,
                  "Synthetic neg_label std": "nan",
                  "_deepnote_index_column": "slope_2"
                },
                {
                  "Original pos_label mean": 0.7878787878787878,
                  "Synthetic pos_label mean": "nan",
                  "Original neg_label mean": 0.32608695652173914,
                  "Synthetic neg_label mean": "nan",
                  "Original pos_label std": 0.4100547076510822,
                  "Synthetic pos_label std": "nan",
                  "Original neg_label std": 0.47048729945952145,
                  "Synthetic neg_label std": "nan",
                  "_deepnote_index_column": "ca_0"
                },
                {
                  "Original pos_label mean": 0.12727272727272726,
                  "Synthetic pos_label mean": "nan",
                  "Original neg_label mean": 0.3188405797101449,
                  "Synthetic neg_label mean": "nan",
                  "Original pos_label std": 0.33429278031566156,
                  "Synthetic pos_label std": "nan",
                  "Original neg_label std": 0.46772484341136616,
                  "Synthetic neg_label std": "nan",
                  "_deepnote_index_column": "ca_1"
                },
                {
                  "Original pos_label mean": 0.04242424242424243,
                  "Synthetic pos_label mean": "nan",
                  "Original neg_label mean": 0.2246376811594203,
                  "Synthetic neg_label mean": "nan",
                  "Original pos_label std": 0.20216858310352578,
                  "Synthetic pos_label std": "nan",
                  "Original neg_label std": 0.4188638777202175,
                  "Synthetic neg_label std": "nan",
                  "_deepnote_index_column": "ca_2"
                },
                {
                  "Original pos_label mean": 0.01818181818181818,
                  "Synthetic pos_label mean": "nan",
                  "Original neg_label mean": 0.12318840579710146,
                  "Synthetic neg_label mean": "nan",
                  "Original pos_label std": 0.13401525544428144,
                  "Synthetic pos_label std": "nan",
                  "Original neg_label std": 0.32985063088723965,
                  "Synthetic neg_label std": "nan",
                  "_deepnote_index_column": "ca_3"
                },
                {
                  "Original pos_label mean": 0.024242424242424242,
                  "Synthetic pos_label mean": "nan",
                  "Original neg_label mean": 0.007246376811594203,
                  "Synthetic neg_label mean": "nan",
                  "Original pos_label std": 0.15426913256507246,
                  "Synthetic pos_label std": "nan",
                  "Original neg_label std": 0.08512565307587487,
                  "Synthetic neg_label std": "nan",
                  "_deepnote_index_column": "ca_4"
                }
              ],
              "rows_bottom": null
            },
            "text/plain": "           Original pos_label mean  Synthetic pos_label mean  \\\nage                      52.496970                 55.418000   \nsex                       0.563636                  0.092771   \ntrestbps                129.303030                138.303000   \nchol                    242.230303                237.562000   \nfbs                       0.139394                  0.989373   \nthalach                 158.466667                177.136000   \nexang                     0.139394                  0.596278   \noldpeak                   0.583030                  1.772000   \nthal                      2.121212                       NaN   \ntarget                    1.000000                  1.000000   \ncp_0                      0.236364                       NaN   \ncp_1                      0.248485                       NaN   \ncp_2                      0.418182                       NaN   \ncp_3                      0.096970                       NaN   \nrestecg_0                 0.412121                       NaN   \nrestecg_1                 0.581818                       NaN   \nrestecg_2                 0.006061                       NaN   \nslope_0                   0.054545                       NaN   \nslope_1                   0.296970                       NaN   \nslope_2                   0.648485                       NaN   \nca_0                      0.787879                       NaN   \nca_1                      0.127273                       NaN   \nca_2                      0.042424                       NaN   \nca_3                      0.018182                       NaN   \nca_4                      0.024242                       NaN   \n\n           Original neg_label mean  Synthetic neg_label mean  \\\nage                      56.601449                 71.022000   \nsex                       0.826087                  0.139867   \ntrestbps                134.398551                143.081000   \nchol                    251.086957                276.978000   \nfbs                       0.159420                  0.000009   \nthalach                 139.101449                171.720000   \nexang                     0.550725                  0.771499   \noldpeak                   1.585507                 -1.482000   \nthal                      2.543478                       NaN   \ntarget                    0.000000                  0.000000   \ncp_0                      0.753623                       NaN   \ncp_1                      0.065217                       NaN   \ncp_2                      0.130435                       NaN   \ncp_3                      0.050725                       NaN   \nrestecg_0                 0.572464                       NaN   \nrestecg_1                 0.405797                       NaN   \nrestecg_2                 0.021739                       NaN   \nslope_0                   0.086957                       NaN   \nslope_1                   0.659420                       NaN   \nslope_2                   0.253623                       NaN   \nca_0                      0.326087                       NaN   \nca_1                      0.318841                       NaN   \nca_2                      0.224638                       NaN   \nca_3                      0.123188                       NaN   \nca_4                      0.007246                       NaN   \n\n           Original pos_label std  Synthetic pos_label std  \\\nage                      9.550651                 9.122527   \nsex                      0.497444                 0.205128   \ntrestbps                16.169613                22.880050   \nchol                    53.552872                41.011219   \nfbs                      0.347412                 0.062629   \nthalach                 19.174276                30.205229   \nexang                    0.347412                 0.354640   \noldpeak                  0.780683                 0.681528   \nthal                     0.465752                      NaN   \ntarget                   0.000000                 0.000000   \ncp_0                     0.426141                      NaN   \ncp_1                     0.433450                      NaN   \ncp_2                     0.494762                      NaN   \ncp_3                     0.296817                      NaN   \nrestecg_0                0.493715                      NaN   \nrestecg_1                0.494762                      NaN   \nrestecg_2                0.077850                      NaN   \nslope_0                  0.227782                      NaN   \nslope_1                  0.458314                      NaN   \nslope_2                  0.478897                      NaN   \nca_0                     0.410055                      NaN   \nca_1                     0.334293                      NaN   \nca_2                     0.202169                      NaN   \nca_3                     0.134015                      NaN   \nca_4                     0.154269                      NaN   \n\n           Original neg_label std  Synthetic neg_label std  \nage                      7.962082                15.535085  \nsex                      0.380416                 0.263255  \ntrestbps                18.729944                30.759496  \nchol                    49.454614                59.930887  \nfbs                      0.367401                 0.000294  \nthalach                 22.598782                37.969136  \nexang                    0.499232                 0.345549  \noldpeak                  1.300340                 0.596684  \nthal                     0.684762                      NaN  \ntarget                   0.000000                 0.000000  \ncp_0                     0.432470                      NaN  \ncp_1                     0.247809                      NaN  \ncp_2                     0.338008                      NaN  \ncp_3                     0.220234                      NaN  \nrestecg_0                0.496523                      NaN  \nrestecg_1                0.492835                      NaN  \nrestecg_2                0.146362                      NaN  \nslope_0                  0.282798                      NaN  \nslope_1                  0.475631                      NaN  \nslope_2                  0.436669                      NaN  \nca_0                     0.470487                      NaN  \nca_1                     0.467725                      NaN  \nca_2                     0.418864                      NaN  \nca_3                     0.329851                      NaN  \nca_4                     0.085126                      NaN  ",
            "text/html": "<div>\n<style scoped>\n    .dataframe tbody tr th:only-of-type {\n        vertical-align: middle;\n    }\n\n    .dataframe tbody tr th {\n        vertical-align: top;\n    }\n\n    .dataframe thead th {\n        text-align: right;\n    }\n</style>\n<table border=\"1\" class=\"dataframe\">\n  <thead>\n    <tr style=\"text-align: right;\">\n      <th></th>\n      <th>Original pos_label mean</th>\n      <th>Synthetic pos_label mean</th>\n      <th>Original neg_label mean</th>\n      <th>Synthetic neg_label mean</th>\n      <th>Original pos_label std</th>\n      <th>Synthetic pos_label std</th>\n      <th>Original neg_label std</th>\n      <th>Synthetic neg_label std</th>\n    </tr>\n  </thead>\n  <tbody>\n    <tr>\n      <th>age</th>\n      <td>52.496970</td>\n      <td>55.418000</td>\n      <td>56.601449</td>\n      <td>71.022000</td>\n      <td>9.550651</td>\n      <td>9.122527</td>\n      <td>7.962082</td>\n      <td>15.535085</td>\n    </tr>\n    <tr>\n      <th>sex</th>\n      <td>0.563636</td>\n      <td>0.092771</td>\n      <td>0.826087</td>\n      <td>0.139867</td>\n      <td>0.497444</td>\n      <td>0.205128</td>\n      <td>0.380416</td>\n      <td>0.263255</td>\n    </tr>\n    <tr>\n      <th>trestbps</th>\n      <td>129.303030</td>\n      <td>138.303000</td>\n      <td>134.398551</td>\n      <td>143.081000</td>\n      <td>16.169613</td>\n      <td>22.880050</td>\n      <td>18.729944</td>\n      <td>30.759496</td>\n    </tr>\n    <tr>\n      <th>chol</th>\n      <td>242.230303</td>\n      <td>237.562000</td>\n      <td>251.086957</td>\n      <td>276.978000</td>\n      <td>53.552872</td>\n      <td>41.011219</td>\n      <td>49.454614</td>\n      <td>59.930887</td>\n    </tr>\n    <tr>\n      <th>fbs</th>\n      <td>0.139394</td>\n      <td>0.989373</td>\n      <td>0.159420</td>\n      <td>0.000009</td>\n      <td>0.347412</td>\n      <td>0.062629</td>\n      <td>0.367401</td>\n      <td>0.000294</td>\n    </tr>\n    <tr>\n      <th>thalach</th>\n      <td>158.466667</td>\n      <td>177.136000</td>\n      <td>139.101449</td>\n      <td>171.720000</td>\n      <td>19.174276</td>\n      <td>30.205229</td>\n      <td>22.598782</td>\n      <td>37.969136</td>\n    </tr>\n    <tr>\n      <th>exang</th>\n      <td>0.139394</td>\n      <td>0.596278</td>\n      <td>0.550725</td>\n      <td>0.771499</td>\n      <td>0.347412</td>\n      <td>0.354640</td>\n      <td>0.499232</td>\n      <td>0.345549</td>\n    </tr>\n    <tr>\n      <th>oldpeak</th>\n      <td>0.583030</td>\n      <td>1.772000</td>\n      <td>1.585507</td>\n      <td>-1.482000</td>\n      <td>0.780683</td>\n      <td>0.681528</td>\n      <td>1.300340</td>\n      <td>0.596684</td>\n    </tr>\n    <tr>\n      <th>thal</th>\n      <td>2.121212</td>\n      <td>NaN</td>\n      <td>2.543478</td>\n      <td>NaN</td>\n      <td>0.465752</td>\n      <td>NaN</td>\n      <td>0.684762</td>\n      <td>NaN</td>\n    </tr>\n    <tr>\n      <th>target</th>\n      <td>1.000000</td>\n      <td>1.000000</td>\n      <td>0.000000</td>\n      <td>0.000000</td>\n      <td>0.000000</td>\n      <td>0.000000</td>\n      <td>0.000000</td>\n      <td>0.000000</td>\n    </tr>\n    <tr>\n      <th>cp_0</th>\n      <td>0.236364</td>\n      <td>NaN</td>\n      <td>0.753623</td>\n      <td>NaN</td>\n      <td>0.426141</td>\n      <td>NaN</td>\n      <td>0.432470</td>\n      <td>NaN</td>\n    </tr>\n    <tr>\n      <th>cp_1</th>\n      <td>0.248485</td>\n      <td>NaN</td>\n      <td>0.065217</td>\n      <td>NaN</td>\n      <td>0.433450</td>\n      <td>NaN</td>\n      <td>0.247809</td>\n      <td>NaN</td>\n    </tr>\n    <tr>\n      <th>cp_2</th>\n      <td>0.418182</td>\n      <td>NaN</td>\n      <td>0.130435</td>\n      <td>NaN</td>\n      <td>0.494762</td>\n      <td>NaN</td>\n      <td>0.338008</td>\n      <td>NaN</td>\n    </tr>\n    <tr>\n      <th>cp_3</th>\n      <td>0.096970</td>\n      <td>NaN</td>\n      <td>0.050725</td>\n      <td>NaN</td>\n      <td>0.296817</td>\n      <td>NaN</td>\n      <td>0.220234</td>\n      <td>NaN</td>\n    </tr>\n    <tr>\n      <th>restecg_0</th>\n      <td>0.412121</td>\n      <td>NaN</td>\n      <td>0.572464</td>\n      <td>NaN</td>\n      <td>0.493715</td>\n      <td>NaN</td>\n      <td>0.496523</td>\n      <td>NaN</td>\n    </tr>\n    <tr>\n      <th>restecg_1</th>\n      <td>0.581818</td>\n      <td>NaN</td>\n      <td>0.405797</td>\n      <td>NaN</td>\n      <td>0.494762</td>\n      <td>NaN</td>\n      <td>0.492835</td>\n      <td>NaN</td>\n    </tr>\n    <tr>\n      <th>restecg_2</th>\n      <td>0.006061</td>\n      <td>NaN</td>\n      <td>0.021739</td>\n      <td>NaN</td>\n      <td>0.077850</td>\n      <td>NaN</td>\n      <td>0.146362</td>\n      <td>NaN</td>\n    </tr>\n    <tr>\n      <th>slope_0</th>\n      <td>0.054545</td>\n      <td>NaN</td>\n      <td>0.086957</td>\n      <td>NaN</td>\n      <td>0.227782</td>\n      <td>NaN</td>\n      <td>0.282798</td>\n      <td>NaN</td>\n    </tr>\n    <tr>\n      <th>slope_1</th>\n      <td>0.296970</td>\n      <td>NaN</td>\n      <td>0.659420</td>\n      <td>NaN</td>\n      <td>0.458314</td>\n      <td>NaN</td>\n      <td>0.475631</td>\n      <td>NaN</td>\n    </tr>\n    <tr>\n      <th>slope_2</th>\n      <td>0.648485</td>\n      <td>NaN</td>\n      <td>0.253623</td>\n      <td>NaN</td>\n      <td>0.478897</td>\n      <td>NaN</td>\n      <td>0.436669</td>\n      <td>NaN</td>\n    </tr>\n    <tr>\n      <th>ca_0</th>\n      <td>0.787879</td>\n      <td>NaN</td>\n      <td>0.326087</td>\n      <td>NaN</td>\n      <td>0.410055</td>\n      <td>NaN</td>\n      <td>0.470487</td>\n      <td>NaN</td>\n    </tr>\n    <tr>\n      <th>ca_1</th>\n      <td>0.127273</td>\n      <td>NaN</td>\n      <td>0.318841</td>\n      <td>NaN</td>\n      <td>0.334293</td>\n      <td>NaN</td>\n      <td>0.467725</td>\n      <td>NaN</td>\n    </tr>\n    <tr>\n      <th>ca_2</th>\n      <td>0.042424</td>\n      <td>NaN</td>\n      <td>0.224638</td>\n      <td>NaN</td>\n      <td>0.202169</td>\n      <td>NaN</td>\n      <td>0.418864</td>\n      <td>NaN</td>\n    </tr>\n    <tr>\n      <th>ca_3</th>\n      <td>0.018182</td>\n      <td>NaN</td>\n      <td>0.123188</td>\n      <td>NaN</td>\n      <td>0.134015</td>\n      <td>NaN</td>\n      <td>0.329851</td>\n      <td>NaN</td>\n    </tr>\n    <tr>\n      <th>ca_4</th>\n      <td>0.024242</td>\n      <td>NaN</td>\n      <td>0.007246</td>\n      <td>NaN</td>\n      <td>0.154269</td>\n      <td>NaN</td>\n      <td>0.085126</td>\n      <td>NaN</td>\n    </tr>\n  </tbody>\n</table>\n</div>"
          },
          "metadata": {}
        }
      ]
    },
    {
      "cell_type": "code",
      "metadata": {
        "tags": [],
        "cell_id": "00055-75a423ed-280e-4e1e-ba2c-178163324076",
        "deepnote_to_be_reexecuted": false,
        "source_hash": "65b67c3a",
        "execution_millis": 51,
        "execution_start": 1615386704305,
        "deepnote_cell_type": "code"
      },
      "source": "correl_mean_neg = []\ncorrel_std_neg = []\ncorrel_mean_pos = []\ncorrel_std_pos = []\n\nfor run in range(number_of_runs):\n    # Get correlation of means\n    x = descriptive_stats_all_runs[run]['Original neg_label mean']\n    y = descriptive_stats_all_runs[run]['Synthetic neg_label mean']\n    correl_mean_neg.append(np.corrcoef(x,y)[0,1])\n    x = descriptive_stats_all_runs[run]['Original pos_label mean']\n    y = descriptive_stats_all_runs[run]['Synthetic pos_label mean']\n    correl_mean_pos.append(np.corrcoef(x,y)[0,1])\n    \n    # Get correlation of standard deviations\n    x = descriptive_stats_all_runs[run]['Original neg_label std']\n    y = descriptive_stats_all_runs[run]['Synthetic neg_label std']\n    correl_std_neg.append(np.corrcoef(x,y)[0,1])\n    x = descriptive_stats_all_runs[run]['Original pos_label std']\n    y = descriptive_stats_all_runs[run]['Synthetic pos_label std']\n    correl_std_pos.append(np.corrcoef(x,y)[0,1])\n\n# Get correlation of means\nmean_r_square_mean_neg = np.mean(np.square(correl_mean_neg))\nmean_r_square_mean_pos = np.mean(np.square(correl_mean_pos))\nsem_square_mean_neg = np.std(np.square(correl_mean_neg))/np.sqrt(number_of_runs)\nsem_square_mean_pos = np.std(np.square(correl_mean_pos))/np.sqrt(number_of_runs)\n\nprint ('R-square of means (negative), mean (std): ', end='')\nprint (f'{mean_r_square_mean_neg:0.3f} ({sem_square_mean_neg:0.3f})')\nprint ('R-square of means (positive), mean (std): ', end='')\nprint (f'{mean_r_square_mean_pos:0.3f} ({sem_square_mean_pos:0.3f})')\n\n# Get correlation of standard deviations\nmean_r_square_sd_neg = np.mean(np.square(correl_std_neg))\nmean_r_square_sd_pos = np.mean(np.square(correl_std_pos))\nsem_square_sd_neg = np.std(np.square(correl_std_neg))/np.sqrt(number_of_runs)\nsem_square_sd_pos = np.std(np.square(correl_std_pos))/np.sqrt(number_of_runs)\n\nprint ('R-square of standard deviations (negative), mean (sem): ', end='')\nprint (f'{mean_r_square_sd_neg:0.3f} ({sem_square_sd_neg:0.3f})')\nprint ('R-square of standard deviations (positive), mean (sem): ', end='')\nprint (f'{mean_r_square_sd_pos:0.3f} ({sem_square_sd_pos:0.3f})')",
      "execution_count": null,
      "outputs": [
        {
          "name": "stdout",
          "text": "R-square of means (negative), mean (std): nan (nan)\nR-square of means (positive), mean (std): nan (nan)\nR-square of standard deviations (negative), mean (sem): nan (nan)\nR-square of standard deviations (positive), mean (sem): nan (nan)\n",
          "output_type": "stream"
        }
      ]
    },
    {
      "cell_type": "markdown",
      "source": "Single run example",
      "metadata": {
        "tags": [],
        "cell_id": "00069-e468d202-de1a-4346-8c27-d4df6b9a3f33",
        "deepnote_cell_type": "markdown"
      }
    },
    {
      "cell_type": "code",
      "metadata": {
        "tags": [],
        "cell_id": "00069-60eae44f-e545-447f-91fa-58064fb18863",
        "deepnote_to_be_reexecuted": false,
        "source_hash": "e202fad",
        "execution_millis": 184,
        "execution_start": 1615382907475,
        "deepnote_cell_type": "code"
      },
      "source": "descriptive_stats_all_runs[0]\n",
      "execution_count": null,
      "outputs": [
        {
          "output_type": "execute_result",
          "execution_count": 49,
          "data": {
            "application/vnd.deepnote.dataframe.v2+json": {
              "row_count": 14,
              "column_count": 8,
              "columns": [
                {
                  "name": "Original pos_label mean",
                  "dtype": "float64",
                  "stats": {
                    "unique_count": 13,
                    "nan_count": 0,
                    "min": 0.1393939393939394,
                    "max": 242.23030303030302,
                    "histogram": [
                      {
                        "bin_start": 0.1393939393939394,
                        "bin_end": 24.34848484848485,
                        "count": 10
                      },
                      {
                        "bin_start": 24.34848484848485,
                        "bin_end": 48.55757575757576,
                        "count": 0
                      },
                      {
                        "bin_start": 48.55757575757576,
                        "bin_end": 72.76666666666667,
                        "count": 1
                      },
                      {
                        "bin_start": 72.76666666666667,
                        "bin_end": 96.97575757575758,
                        "count": 0
                      },
                      {
                        "bin_start": 96.97575757575758,
                        "bin_end": 121.1848484848485,
                        "count": 0
                      },
                      {
                        "bin_start": 121.1848484848485,
                        "bin_end": 145.39393939393938,
                        "count": 1
                      },
                      {
                        "bin_start": 145.39393939393938,
                        "bin_end": 169.6030303030303,
                        "count": 1
                      },
                      {
                        "bin_start": 169.6030303030303,
                        "bin_end": 193.8121212121212,
                        "count": 0
                      },
                      {
                        "bin_start": 193.8121212121212,
                        "bin_end": 218.02121212121213,
                        "count": 0
                      },
                      {
                        "bin_start": 218.02121212121213,
                        "bin_end": 242.23030303030302,
                        "count": 1
                      }
                    ]
                  }
                },
                {
                  "name": "Synthetic pos_label mean",
                  "dtype": "float64",
                  "stats": {
                    "unique_count": 13,
                    "nan_count": 1,
                    "min": 0.003508501736447215,
                    "max": 237.562,
                    "histogram": [
                      {
                        "bin_start": 0.003508501736447215,
                        "bin_end": 23.759357651562805,
                        "count": 9
                      },
                      {
                        "bin_start": 23.759357651562805,
                        "bin_end": 47.51520680138916,
                        "count": 0
                      },
                      {
                        "bin_start": 47.51520680138916,
                        "bin_end": 71.27105595121552,
                        "count": 1
                      },
                      {
                        "bin_start": 71.27105595121552,
                        "bin_end": 95.02690510104188,
                        "count": 0
                      },
                      {
                        "bin_start": 95.02690510104188,
                        "bin_end": 118.78275425086824,
                        "count": 0
                      },
                      {
                        "bin_start": 118.78275425086824,
                        "bin_end": 142.53860340069457,
                        "count": 1
                      },
                      {
                        "bin_start": 142.53860340069457,
                        "bin_end": 166.29445255052093,
                        "count": 0
                      },
                      {
                        "bin_start": 166.29445255052093,
                        "bin_end": 190.0503017003473,
                        "count": 1
                      },
                      {
                        "bin_start": 190.0503017003473,
                        "bin_end": 213.80615085017365,
                        "count": 0
                      },
                      {
                        "bin_start": 213.80615085017365,
                        "bin_end": 237.562,
                        "count": 1
                      }
                    ]
                  }
                },
                {
                  "name": "Original neg_label mean",
                  "dtype": "float64",
                  "stats": {
                    "unique_count": 14,
                    "nan_count": 0,
                    "min": 0,
                    "max": 251.08695652173913,
                    "histogram": [
                      {
                        "bin_start": 0,
                        "bin_end": 25.108695652173914,
                        "count": 10
                      },
                      {
                        "bin_start": 25.108695652173914,
                        "bin_end": 50.21739130434783,
                        "count": 0
                      },
                      {
                        "bin_start": 50.21739130434783,
                        "bin_end": 75.32608695652175,
                        "count": 1
                      },
                      {
                        "bin_start": 75.32608695652175,
                        "bin_end": 100.43478260869566,
                        "count": 0
                      },
                      {
                        "bin_start": 100.43478260869566,
                        "bin_end": 125.54347826086956,
                        "count": 0
                      },
                      {
                        "bin_start": 125.54347826086956,
                        "bin_end": 150.6521739130435,
                        "count": 2
                      },
                      {
                        "bin_start": 150.6521739130435,
                        "bin_end": 175.7608695652174,
                        "count": 0
                      },
                      {
                        "bin_start": 175.7608695652174,
                        "bin_end": 200.8695652173913,
                        "count": 0
                      },
                      {
                        "bin_start": 200.8695652173913,
                        "bin_end": 225.97826086956522,
                        "count": 0
                      },
                      {
                        "bin_start": 225.97826086956522,
                        "bin_end": 251.08695652173913,
                        "count": 1
                      }
                    ]
                  }
                },
                {
                  "name": "Synthetic neg_label mean",
                  "dtype": "float64",
                  "stats": {
                    "unique_count": 13,
                    "nan_count": 1,
                    "min": -1.482,
                    "max": 276.978,
                    "histogram": [
                      {
                        "bin_start": -1.482,
                        "bin_end": 26.364000000000004,
                        "count": 9
                      },
                      {
                        "bin_start": 26.364000000000004,
                        "bin_end": 54.21000000000001,
                        "count": 0
                      },
                      {
                        "bin_start": 54.21000000000001,
                        "bin_end": 82.05600000000001,
                        "count": 1
                      },
                      {
                        "bin_start": 82.05600000000001,
                        "bin_end": 109.90200000000002,
                        "count": 0
                      },
                      {
                        "bin_start": 109.90200000000002,
                        "bin_end": 137.74800000000002,
                        "count": 0
                      },
                      {
                        "bin_start": 137.74800000000002,
                        "bin_end": 165.59400000000002,
                        "count": 1
                      },
                      {
                        "bin_start": 165.59400000000002,
                        "bin_end": 193.44000000000003,
                        "count": 1
                      },
                      {
                        "bin_start": 193.44000000000003,
                        "bin_end": 221.28600000000003,
                        "count": 0
                      },
                      {
                        "bin_start": 221.28600000000003,
                        "bin_end": 249.13200000000003,
                        "count": 0
                      },
                      {
                        "bin_start": 249.13200000000003,
                        "bin_end": 276.978,
                        "count": 1
                      }
                    ]
                  }
                },
                {
                  "name": "Original pos_label std",
                  "dtype": "float64",
                  "stats": {
                    "unique_count": 13,
                    "nan_count": 0,
                    "min": 0,
                    "max": 53.55287155453833,
                    "histogram": [
                      {
                        "bin_start": 0,
                        "bin_end": 5.355287155453833,
                        "count": 10
                      },
                      {
                        "bin_start": 5.355287155453833,
                        "bin_end": 10.710574310907665,
                        "count": 1
                      },
                      {
                        "bin_start": 10.710574310907665,
                        "bin_end": 16.065861466361497,
                        "count": 0
                      },
                      {
                        "bin_start": 16.065861466361497,
                        "bin_end": 21.42114862181533,
                        "count": 2
                      },
                      {
                        "bin_start": 21.42114862181533,
                        "bin_end": 26.776435777269164,
                        "count": 0
                      },
                      {
                        "bin_start": 26.776435777269164,
                        "bin_end": 32.131722932722994,
                        "count": 0
                      },
                      {
                        "bin_start": 32.131722932722994,
                        "bin_end": 37.48701008817683,
                        "count": 0
                      },
                      {
                        "bin_start": 37.48701008817683,
                        "bin_end": 42.84229724363066,
                        "count": 0
                      },
                      {
                        "bin_start": 42.84229724363066,
                        "bin_end": 48.19758439908449,
                        "count": 0
                      },
                      {
                        "bin_start": 48.19758439908449,
                        "bin_end": 53.55287155453833,
                        "count": 1
                      }
                    ]
                  }
                },
                {
                  "name": "Synthetic pos_label std",
                  "dtype": "float64",
                  "stats": {
                    "unique_count": 13,
                    "nan_count": 1,
                    "min": 0,
                    "max": 41.01121890502739,
                    "histogram": [
                      {
                        "bin_start": 0,
                        "bin_end": 4.101121890502739,
                        "count": 9
                      },
                      {
                        "bin_start": 4.101121890502739,
                        "bin_end": 8.202243781005478,
                        "count": 0
                      },
                      {
                        "bin_start": 8.202243781005478,
                        "bin_end": 12.303365671508217,
                        "count": 1
                      },
                      {
                        "bin_start": 12.303365671508217,
                        "bin_end": 16.404487562010956,
                        "count": 0
                      },
                      {
                        "bin_start": 16.404487562010956,
                        "bin_end": 20.505609452513696,
                        "count": 0
                      },
                      {
                        "bin_start": 20.505609452513696,
                        "bin_end": 24.606731343016435,
                        "count": 1
                      },
                      {
                        "bin_start": 24.606731343016435,
                        "bin_end": 28.707853233519174,
                        "count": 0
                      },
                      {
                        "bin_start": 28.707853233519174,
                        "bin_end": 32.80897512402191,
                        "count": 1
                      },
                      {
                        "bin_start": 32.80897512402191,
                        "bin_end": 36.91009701452465,
                        "count": 0
                      },
                      {
                        "bin_start": 36.91009701452465,
                        "bin_end": 41.01121890502739,
                        "count": 1
                      }
                    ]
                  }
                },
                {
                  "name": "Original neg_label std",
                  "dtype": "float64",
                  "stats": {
                    "unique_count": 14,
                    "nan_count": 0,
                    "min": 0,
                    "max": 49.45461360407159,
                    "histogram": [
                      {
                        "bin_start": 0,
                        "bin_end": 4.945461360407159,
                        "count": 10
                      },
                      {
                        "bin_start": 4.945461360407159,
                        "bin_end": 9.890922720814318,
                        "count": 1
                      },
                      {
                        "bin_start": 9.890922720814318,
                        "bin_end": 14.836384081221478,
                        "count": 0
                      },
                      {
                        "bin_start": 14.836384081221478,
                        "bin_end": 19.781845441628636,
                        "count": 1
                      },
                      {
                        "bin_start": 19.781845441628636,
                        "bin_end": 24.727306802035795,
                        "count": 1
                      },
                      {
                        "bin_start": 24.727306802035795,
                        "bin_end": 29.672768162442956,
                        "count": 0
                      },
                      {
                        "bin_start": 29.672768162442956,
                        "bin_end": 34.618229522850115,
                        "count": 0
                      },
                      {
                        "bin_start": 34.618229522850115,
                        "bin_end": 39.56369088325727,
                        "count": 0
                      },
                      {
                        "bin_start": 39.56369088325727,
                        "bin_end": 44.50915224366443,
                        "count": 0
                      },
                      {
                        "bin_start": 44.50915224366443,
                        "bin_end": 49.45461360407159,
                        "count": 1
                      }
                    ]
                  }
                },
                {
                  "name": "Synthetic neg_label std",
                  "dtype": "float64",
                  "stats": {
                    "unique_count": 13,
                    "nan_count": 1,
                    "min": 0,
                    "max": 59.93088708860588,
                    "histogram": [
                      {
                        "bin_start": 0,
                        "bin_end": 5.993088708860588,
                        "count": 9
                      },
                      {
                        "bin_start": 5.993088708860588,
                        "bin_end": 11.986177417721176,
                        "count": 0
                      },
                      {
                        "bin_start": 11.986177417721176,
                        "bin_end": 17.979266126581763,
                        "count": 1
                      },
                      {
                        "bin_start": 17.979266126581763,
                        "bin_end": 23.972354835442353,
                        "count": 0
                      },
                      {
                        "bin_start": 23.972354835442353,
                        "bin_end": 29.965443544302943,
                        "count": 0
                      },
                      {
                        "bin_start": 29.965443544302943,
                        "bin_end": 35.958532253163526,
                        "count": 1
                      },
                      {
                        "bin_start": 35.958532253163526,
                        "bin_end": 41.951620962024116,
                        "count": 1
                      },
                      {
                        "bin_start": 41.951620962024116,
                        "bin_end": 47.944709670884706,
                        "count": 0
                      },
                      {
                        "bin_start": 47.944709670884706,
                        "bin_end": 53.937798379745296,
                        "count": 0
                      },
                      {
                        "bin_start": 53.937798379745296,
                        "bin_end": 59.93088708860588,
                        "count": 1
                      }
                    ]
                  }
                },
                {
                  "name": "_deepnote_index_column",
                  "dtype": "object"
                }
              ],
              "rows_top": [
                {
                  "Original pos_label mean": 52.4969696969697,
                  "Synthetic pos_label mean": "55.418",
                  "Original neg_label mean": 56.60144927536232,
                  "Synthetic neg_label mean": "71.022",
                  "Original pos_label std": 9.550650751946774,
                  "Synthetic pos_label std": "9.122526870143847",
                  "Original neg_label std": 7.96208153750117,
                  "Synthetic neg_label std": "15.535084642667861",
                  "_deepnote_index_column": "age"
                },
                {
                  "Original pos_label mean": 0.5636363636363636,
                  "Synthetic pos_label mean": "0.0927714369930327",
                  "Original neg_label mean": 0.8260869565217391,
                  "Synthetic neg_label mean": "0.1398667258247733",
                  "Original pos_label std": 0.49744357555882157,
                  "Synthetic pos_label std": "0.20512802443256153",
                  "Original neg_label std": 0.38041551386121214,
                  "Synthetic neg_label std": "0.2632549493034534",
                  "_deepnote_index_column": "sex"
                },
                {
                  "Original pos_label mean": 0.7636363636363637,
                  "Synthetic pos_label mean": "0.003508501736447215",
                  "Original neg_label mean": 0.2463768115942029,
                  "Synthetic neg_label mean": "0.7621227945536375",
                  "Original pos_label std": 0.42614135252068613,
                  "Synthetic pos_label std": "0.04202279117343332",
                  "Original neg_label std": 0.4324703137847595,
                  "Synthetic neg_label std": "0.3421471633662001",
                  "_deepnote_index_column": "cp"
                },
                {
                  "Original pos_label mean": 129.3030303030303,
                  "Synthetic pos_label mean": "138.303",
                  "Original neg_label mean": 134.3985507246377,
                  "Synthetic neg_label mean": "143.081",
                  "Original pos_label std": 16.169613266874865,
                  "Synthetic pos_label std": "22.880049993120373",
                  "Original neg_label std": 18.72994396158135,
                  "Synthetic neg_label std": "30.759495860393837",
                  "_deepnote_index_column": "trestbps"
                },
                {
                  "Original pos_label mean": 242.23030303030302,
                  "Synthetic pos_label mean": "237.562",
                  "Original neg_label mean": 251.08695652173913,
                  "Synthetic neg_label mean": "276.978",
                  "Original pos_label std": 53.55287155453833,
                  "Synthetic pos_label std": "41.01121890502739",
                  "Original neg_label std": 49.45461360407159,
                  "Synthetic neg_label std": "59.93088708860588",
                  "_deepnote_index_column": "chol"
                },
                {
                  "Original pos_label mean": 0.1393939393939394,
                  "Synthetic pos_label mean": "0.9893734621703625",
                  "Original neg_label mean": 0.15942028985507245,
                  "Synthetic neg_label mean": "9.29233431816101e-06",
                  "Original pos_label std": 0.34741150297891615,
                  "Synthetic pos_label std": "0.06262929188017481",
                  "Original neg_label std": 0.3674011473702368,
                  "Synthetic neg_label std": "0.00029384941225136526",
                  "_deepnote_index_column": "fbs"
                },
                {
                  "Original pos_label mean": 0.5878787878787879,
                  "Synthetic pos_label mean": "0.9471302720978856",
                  "Original neg_label mean": 0.427536231884058,
                  "Synthetic neg_label mean": "0.04187322622537613",
                  "Original pos_label std": 0.4937151196432772,
                  "Synthetic pos_label std": "0.12344927330149062",
                  "Original neg_label std": 0.49652340466326295,
                  "Synthetic neg_label std": "0.12407009874391371",
                  "_deepnote_index_column": "restecg"
                },
                {
                  "Original pos_label mean": 158.46666666666667,
                  "Synthetic pos_label mean": "177.136",
                  "Original neg_label mean": 139.1014492753623,
                  "Synthetic neg_label mean": "171.72",
                  "Original pos_label std": 19.174275619393168,
                  "Synthetic pos_label std": "30.205229015186426",
                  "Original neg_label std": 22.598782298785906,
                  "Synthetic neg_label std": "37.96913556107454",
                  "_deepnote_index_column": "thalach"
                },
                {
                  "Original pos_label mean": 0.1393939393939394,
                  "Synthetic pos_label mean": "0.5962780662365258",
                  "Original neg_label mean": 0.5507246376811594,
                  "Synthetic neg_label mean": "0.7714987516254187",
                  "Original pos_label std": 0.34741150297891615,
                  "Synthetic pos_label std": "0.35463960842408343",
                  "Original neg_label std": 0.4992324585899055,
                  "Synthetic neg_label std": "0.3455490303643614",
                  "_deepnote_index_column": "exang"
                },
                {
                  "Original pos_label mean": 0.583030303030303,
                  "Synthetic pos_label mean": "1.772",
                  "Original neg_label mean": 1.5855072463768116,
                  "Synthetic neg_label mean": "-1.482",
                  "Original pos_label std": 0.7806832719018298,
                  "Synthetic pos_label std": "0.6815280481979303",
                  "Original neg_label std": 1.300339693105365,
                  "Synthetic neg_label std": "0.5966841979070939",
                  "_deepnote_index_column": "oldpeak"
                },
                {
                  "Original pos_label mean": 0.9454545454545454,
                  "Synthetic pos_label mean": "0.23793623115867377",
                  "Original neg_label mean": 0.9130434782608695,
                  "Synthetic neg_label mean": "0.1984112467765808",
                  "Original pos_label std": 0.2277821342098376,
                  "Synthetic pos_label std": "0.2876495619529852",
                  "Original neg_label std": 0.28279782749259,
                  "Synthetic neg_label std": "0.30548829511609404",
                  "_deepnote_index_column": "slope"
                },
                {
                  "Original pos_label mean": 0.21212121212121213,
                  "Synthetic pos_label mean": "1.902",
                  "Original neg_label mean": 0.6739130434782609,
                  "Synthetic neg_label mean": "-1.066",
                  "Original pos_label std": 0.4100547076510822,
                  "Synthetic pos_label std": "0.5820092222076337",
                  "Original neg_label std": 0.47048729945952145,
                  "Synthetic neg_label std": "0.7417507628537999",
                  "_deepnote_index_column": "ca"
                },
                {
                  "Original pos_label mean": 2.121212121212121,
                  "Synthetic pos_label mean": "nan",
                  "Original neg_label mean": 2.5434782608695654,
                  "Synthetic neg_label mean": "nan",
                  "Original pos_label std": 0.46575245686060807,
                  "Synthetic pos_label std": "nan",
                  "Original neg_label std": 0.6847618288848198,
                  "Synthetic neg_label std": "nan",
                  "_deepnote_index_column": "thal"
                },
                {
                  "Original pos_label mean": 1,
                  "Synthetic pos_label mean": "1.0",
                  "Original neg_label mean": 0,
                  "Synthetic neg_label mean": "0.0",
                  "Original pos_label std": 0,
                  "Synthetic pos_label std": "0.0",
                  "Original neg_label std": 0,
                  "Synthetic neg_label std": "0.0",
                  "_deepnote_index_column": "target"
                }
              ],
              "rows_bottom": null
            },
            "text/plain": "          Original pos_label mean  Synthetic pos_label mean  \\\nage                     52.496970                 55.418000   \nsex                      0.563636                  0.092771   \ncp                       0.763636                  0.003509   \ntrestbps               129.303030                138.303000   \nchol                   242.230303                237.562000   \nfbs                      0.139394                  0.989373   \nrestecg                  0.587879                  0.947130   \nthalach                158.466667                177.136000   \nexang                    0.139394                  0.596278   \noldpeak                  0.583030                  1.772000   \nslope                    0.945455                  0.237936   \nca                       0.212121                  1.902000   \nthal                     2.121212                       NaN   \ntarget                   1.000000                  1.000000   \n\n          Original neg_label mean  Synthetic neg_label mean  \\\nage                     56.601449                 71.022000   \nsex                      0.826087                  0.139867   \ncp                       0.246377                  0.762123   \ntrestbps               134.398551                143.081000   \nchol                   251.086957                276.978000   \nfbs                      0.159420                  0.000009   \nrestecg                  0.427536                  0.041873   \nthalach                139.101449                171.720000   \nexang                    0.550725                  0.771499   \noldpeak                  1.585507                 -1.482000   \nslope                    0.913043                  0.198411   \nca                       0.673913                 -1.066000   \nthal                     2.543478                       NaN   \ntarget                   0.000000                  0.000000   \n\n          Original pos_label std  Synthetic pos_label std  \\\nage                     9.550651                 9.122527   \nsex                     0.497444                 0.205128   \ncp                      0.426141                 0.042023   \ntrestbps               16.169613                22.880050   \nchol                   53.552872                41.011219   \nfbs                     0.347412                 0.062629   \nrestecg                 0.493715                 0.123449   \nthalach                19.174276                30.205229   \nexang                   0.347412                 0.354640   \noldpeak                 0.780683                 0.681528   \nslope                   0.227782                 0.287650   \nca                      0.410055                 0.582009   \nthal                    0.465752                      NaN   \ntarget                  0.000000                 0.000000   \n\n          Original neg_label std  Synthetic neg_label std  \nage                     7.962082                15.535085  \nsex                     0.380416                 0.263255  \ncp                      0.432470                 0.342147  \ntrestbps               18.729944                30.759496  \nchol                   49.454614                59.930887  \nfbs                     0.367401                 0.000294  \nrestecg                 0.496523                 0.124070  \nthalach                22.598782                37.969136  \nexang                   0.499232                 0.345549  \noldpeak                 1.300340                 0.596684  \nslope                   0.282798                 0.305488  \nca                      0.470487                 0.741751  \nthal                    0.684762                      NaN  \ntarget                  0.000000                 0.000000  ",
            "text/html": "<div>\n<style scoped>\n    .dataframe tbody tr th:only-of-type {\n        vertical-align: middle;\n    }\n\n    .dataframe tbody tr th {\n        vertical-align: top;\n    }\n\n    .dataframe thead th {\n        text-align: right;\n    }\n</style>\n<table border=\"1\" class=\"dataframe\">\n  <thead>\n    <tr style=\"text-align: right;\">\n      <th></th>\n      <th>Original pos_label mean</th>\n      <th>Synthetic pos_label mean</th>\n      <th>Original neg_label mean</th>\n      <th>Synthetic neg_label mean</th>\n      <th>Original pos_label std</th>\n      <th>Synthetic pos_label std</th>\n      <th>Original neg_label std</th>\n      <th>Synthetic neg_label std</th>\n    </tr>\n  </thead>\n  <tbody>\n    <tr>\n      <th>age</th>\n      <td>52.496970</td>\n      <td>55.418000</td>\n      <td>56.601449</td>\n      <td>71.022000</td>\n      <td>9.550651</td>\n      <td>9.122527</td>\n      <td>7.962082</td>\n      <td>15.535085</td>\n    </tr>\n    <tr>\n      <th>sex</th>\n      <td>0.563636</td>\n      <td>0.092771</td>\n      <td>0.826087</td>\n      <td>0.139867</td>\n      <td>0.497444</td>\n      <td>0.205128</td>\n      <td>0.380416</td>\n      <td>0.263255</td>\n    </tr>\n    <tr>\n      <th>cp</th>\n      <td>0.763636</td>\n      <td>0.003509</td>\n      <td>0.246377</td>\n      <td>0.762123</td>\n      <td>0.426141</td>\n      <td>0.042023</td>\n      <td>0.432470</td>\n      <td>0.342147</td>\n    </tr>\n    <tr>\n      <th>trestbps</th>\n      <td>129.303030</td>\n      <td>138.303000</td>\n      <td>134.398551</td>\n      <td>143.081000</td>\n      <td>16.169613</td>\n      <td>22.880050</td>\n      <td>18.729944</td>\n      <td>30.759496</td>\n    </tr>\n    <tr>\n      <th>chol</th>\n      <td>242.230303</td>\n      <td>237.562000</td>\n      <td>251.086957</td>\n      <td>276.978000</td>\n      <td>53.552872</td>\n      <td>41.011219</td>\n      <td>49.454614</td>\n      <td>59.930887</td>\n    </tr>\n    <tr>\n      <th>fbs</th>\n      <td>0.139394</td>\n      <td>0.989373</td>\n      <td>0.159420</td>\n      <td>0.000009</td>\n      <td>0.347412</td>\n      <td>0.062629</td>\n      <td>0.367401</td>\n      <td>0.000294</td>\n    </tr>\n    <tr>\n      <th>restecg</th>\n      <td>0.587879</td>\n      <td>0.947130</td>\n      <td>0.427536</td>\n      <td>0.041873</td>\n      <td>0.493715</td>\n      <td>0.123449</td>\n      <td>0.496523</td>\n      <td>0.124070</td>\n    </tr>\n    <tr>\n      <th>thalach</th>\n      <td>158.466667</td>\n      <td>177.136000</td>\n      <td>139.101449</td>\n      <td>171.720000</td>\n      <td>19.174276</td>\n      <td>30.205229</td>\n      <td>22.598782</td>\n      <td>37.969136</td>\n    </tr>\n    <tr>\n      <th>exang</th>\n      <td>0.139394</td>\n      <td>0.596278</td>\n      <td>0.550725</td>\n      <td>0.771499</td>\n      <td>0.347412</td>\n      <td>0.354640</td>\n      <td>0.499232</td>\n      <td>0.345549</td>\n    </tr>\n    <tr>\n      <th>oldpeak</th>\n      <td>0.583030</td>\n      <td>1.772000</td>\n      <td>1.585507</td>\n      <td>-1.482000</td>\n      <td>0.780683</td>\n      <td>0.681528</td>\n      <td>1.300340</td>\n      <td>0.596684</td>\n    </tr>\n    <tr>\n      <th>slope</th>\n      <td>0.945455</td>\n      <td>0.237936</td>\n      <td>0.913043</td>\n      <td>0.198411</td>\n      <td>0.227782</td>\n      <td>0.287650</td>\n      <td>0.282798</td>\n      <td>0.305488</td>\n    </tr>\n    <tr>\n      <th>ca</th>\n      <td>0.212121</td>\n      <td>1.902000</td>\n      <td>0.673913</td>\n      <td>-1.066000</td>\n      <td>0.410055</td>\n      <td>0.582009</td>\n      <td>0.470487</td>\n      <td>0.741751</td>\n    </tr>\n    <tr>\n      <th>thal</th>\n      <td>2.121212</td>\n      <td>NaN</td>\n      <td>2.543478</td>\n      <td>NaN</td>\n      <td>0.465752</td>\n      <td>NaN</td>\n      <td>0.684762</td>\n      <td>NaN</td>\n    </tr>\n    <tr>\n      <th>target</th>\n      <td>1.000000</td>\n      <td>1.000000</td>\n      <td>0.000000</td>\n      <td>0.000000</td>\n      <td>0.000000</td>\n      <td>0.000000</td>\n      <td>0.000000</td>\n      <td>0.000000</td>\n    </tr>\n  </tbody>\n</table>\n</div>"
          },
          "metadata": {}
        }
      ]
    },
    {
      "cell_type": "code",
      "metadata": {
        "tags": [],
        "cell_id": "00075-ba2e8703-8725-4ea5-bfdd-0f8b96113b1e",
        "deepnote_to_be_reexecuted": false,
        "source_hash": "a8a61c24",
        "execution_millis": 13,
        "execution_start": 1615381810029,
        "deepnote_cell_type": "code"
      },
      "source": "corr_neg_s.shape",
      "execution_count": null,
      "outputs": [
        {
          "output_type": "execute_result",
          "execution_count": 48,
          "data": {
            "text/plain": "(144,)"
          },
          "metadata": {}
        }
      ]
    },
    {
      "cell_type": "code",
      "metadata": {
        "tags": [],
        "cell_id": "00070-e307705b-cc84-4bf2-b1e7-623b977cc9f3",
        "deepnote_to_be_reexecuted": false,
        "source_hash": "9e1c1b5b",
        "execution_millis": 15,
        "execution_start": 1615383596342,
        "deepnote_cell_type": "code"
      },
      "source": "neg_correlation_original = []\nneg_correlation_synthetic = []\npos_correlation_original = []\npos_correlation_synthetic = []\n\ncorrel_coeff_neg = []\ncorrel_coeff_pos= []\n\n# Original data\nmask = original_data['target'] == 0\nneg_o = original_data[mask].copy()\nneg_o.drop('target', axis=1, inplace=True)\nneg_correlation_original = neg_o.corr().values.flatten()\n\nmask = original_data['target'] == 1\npos_o = original_data[mask].copy()\npos_o.drop('target', axis=1, inplace=True)\npos_correlation_original = pos_o.corr().values.flatten()\n\n# Synthetic data\nfor i in range (number_of_runs):\n    data_s = synthetic_data[i]\n    \n    mask = data_s['target'] == 0\n    neg_s = data_s[mask].copy()\n    neg_s.drop('target', axis=1, inplace=True)\n    corr_neg_s = neg_s.corr().values.flatten()\n    neg_correlation_synthetic.append(corr_neg_s)\n    \n    mask = data_s['target'] == 1\n    pos_s = data_s[mask].copy()\n    pos_s.drop('target', axis=1, inplace=True)\n    corr_pos_s = pos_s.corr().values.flatten()\n    pos_correlation_synthetic.append(corr_pos_s)\n\n    # Get correlation coefficients\n    df = pd.DataFrame()\n    df['original'] = neg_correlation_original\n    df['synthetic'] = corr_neg_s    \n    correl_coeff_neg.append(df.corr().loc['original']['synthetic'])    \n    \n    df = pd.DataFrame()\n    df['original'] = pos_correlation_original\n    df['synthetic'] = corr_pos_s\n    correl_coeff_pos.append(df.corr().loc['original']['synthetic'])",
      "execution_count": null,
      "outputs": []
    },
    {
      "cell_type": "code",
      "metadata": {
        "tags": [],
        "cell_id": "00072-d2140e9c-244f-43c1-b059-3ecc5cae7bc1",
        "deepnote_to_be_reexecuted": false,
        "source_hash": "41b155ab",
        "execution_millis": 1515,
        "execution_start": 1615384184037,
        "deepnote_cell_type": "code"
      },
      "source": "colours = ['k', 'b', 'g', 'r', 'y', 'c', 'm']\nfig = plt.figure(figsize=(10,5))\n\nax1 = fig.add_subplot(121)\nfor run in range(number_of_runs):\n    colour = colours[run % 7] # Cycle through 7 colours\n    ax1.scatter(\n        neg_correlation_original,\n        neg_correlation_synthetic[run],\n        color=colour,\n        alpha=0.25)\nax1.grid()\nax1.set_xlabel('Original data correlation')\nax1.set_ylabel('Synthetic data correlation')\nax1.set_title('Negative label samples correlation of features')\n\nax2 = fig.add_subplot(122)\nfor run in range(number_of_runs):\n    colour = colours[run % 7] # Cycle through 7 colours\n    ax2.scatter(\n        pos_correlation_original,\n        pos_correlation_synthetic[run],\n        color=colour,\n        alpha=0.25)\nax2.grid()\nax2.set_xlabel('Original data correlation')\nax2.set_ylabel('Synthetic data correlation')\nax2.set_title('Positive label samples correlation of features')\n\nplt.tight_layout(pad=2)\nplt.savefig('gan2.png', facecolor='w', dpi=300)\nplt.show()",
      "execution_count": null,
      "outputs": [
        {
          "data": {
            "text/plain": "<Figure size 720x360 with 2 Axes>",
            "image/png": "[encoded data removed]"
          },
          "metadata": {
            "needs_background": "light"
          },
          "output_type": "display_data"
        }
      ]
    },
    {
      "cell_type": "code",
      "metadata": {
        "tags": [],
        "cell_id": "00073-51bc562c-cd99-4d5d-86c8-60c3eeaed69c",
        "deepnote_to_be_reexecuted": false,
        "source_hash": "8c00aa5b",
        "execution_start": 1615312041366,
        "execution_millis": 12,
        "deepnote_cell_type": "code"
      },
      "source": "r_square_neg_mean = np.mean(np.square(correl_coeff_neg))\nr_square_pos_mean = np.mean(np.square(correl_coeff_pos))\nr_square_neg_sem = np.std(np.square(correl_coeff_neg))/np.sqrt(number_of_runs)\nr_square_pos_sem = np.std(np.square(correl_coeff_pos))/np.sqrt(number_of_runs)\n\nprint ('Corrleation of correlations (negative), mean (sem): ', end='')\nprint (f'{r_square_neg_mean:0.3f} ({r_square_neg_sem:0.3f})')\nprint ('Corrleation of correlations (positive), mean (sem): ', end = '')\nprint (f'{r_square_pos_mean:0.3f} ({r_square_pos_sem:0.3f})')",
      "execution_count": null,
      "outputs": [
        {
          "name": "stdout",
          "text": "Corrleation of correlations (negative), mean (sem): 0.431 (0.051)\nCorrleation of correlations (positive), mean (sem): 0.325 (0.015)\n",
          "output_type": "stream"
        }
      ]
    },
    {
      "cell_type": "code",
      "metadata": {
        "tags": [],
        "cell_id": "00074-31bcbfb6-db9b-4d1e-93db-9bb2e45d27c1",
        "deepnote_to_be_reexecuted": false,
        "source_hash": "b2696ff6",
        "execution_start": 1615376955667,
        "execution_millis": 163,
        "deepnote_cell_type": "code"
      },
      "source": "X",
      "execution_count": null,
      "outputs": [
        {
          "output_type": "error",
          "ename": "NameError",
          "evalue": "name 'X' is not defined",
          "traceback": [
            "\u001b[0;31m---------------------------------------------------------------------------\u001b[0m",
            "\u001b[0;31mNameError\u001b[0m                                 Traceback (most recent call last)",
            "\u001b[0;32m<ipython-input-1-b5fec669aca1>\u001b[0m in \u001b[0;36m<module>\u001b[0;34m\u001b[0m\n\u001b[0;32m----> 1\u001b[0;31m \u001b[0mX\u001b[0m\u001b[0;34m\u001b[0m\u001b[0;34m\u001b[0m\u001b[0m\n\u001b[0m",
            "\u001b[0;31mNameError\u001b[0m: name 'X' is not defined"
          ]
        }
      ]
    },
    {
      "cell_type": "markdown",
      "source": "<a style='text-decoration:none;line-height:16px;display:flex;color:#5B5B62;padding:10px;justify-content:end;' href='https://deepnote.com?utm_source=created-in-deepnote-cell&projectId=5fc01772-88f7-4232-9b22-2c02e22f550b' target=\"_blank\">\n<img alt='Created in deepnote.com' style='display:inline;max-height:16px;margin:0px;margin-right:7.5px;' src='data:image/svg+xml;base64,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' > </img>\nCreated in <span style='font-weight:600;margin-left:4px;'>Deepnote</span></a>",
      "metadata": {
        "tags": [],
        "created_in_deepnote_cell": true,
        "deepnote_cell_type": "markdown"
      }
    }
  ],
  "nbformat": 4,
  "nbformat_minor": 2,
  "metadata": {
    "orig_nbformat": 2,
    "deepnote_notebook_id": "f8bdb93d-0b5a-4313-af71-49e25dbea385",
    "deepnote": {
      "is_reactive": false
    },
    "deepnote_execution_queue": []
  }
}